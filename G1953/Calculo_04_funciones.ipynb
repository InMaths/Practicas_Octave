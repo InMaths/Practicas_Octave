{
 "cells": [
  {
   "cell_type": "markdown",
   "metadata": {},
   "source": [
    "<img src=\"../figs/logoIC.png\" width=\"585\" alt=\"image_0.png\">\n",
    "\n",
    "# Cálculo (G1953) - Grado en Ingeniería Civil\n",
    "\n",
    "#### Guión original en MatLab de Vera Egorova* (<vera.egorova@unican.es>)\n",
    "#### Adaptado para Octave por Joaquín Bedia*  <a href=\"https://orcid.org/0000-0001-6219-4312\" target=\"orcid.widget\" rel=\"noopener noreferrer\" style=\"vertical-align:top;\"><img src=\"https://orcid.org/sites/default/files/images/orcid_16x16.png\" style=\"width:1em;margin-right:.5em;\" alt=\"ORCID iD\"></a> (<bediaj@unican.es>)\n",
    "\n",
    "##### *Universidad de Cantabria, Dpto. Matemática Aplicada y Ciencias de la Computación)\n",
    "\n",
    "<!--\n",
    "<a name=\"T_55FB4C11\"></a>\n",
    "-->\n",
    "\n",
    "***\n",
    "\n",
    "# <span style=\"color:rgb(213,80,0)\"><b>Funciones de una variable</b></span>\n",
    "\n",
    "<p style=\"text-align:left\">\n",
    "   <img src=\"https://upload.wikimedia.org/wikipedia/commons/thumb/6/6a/Gnu-octave-logo.svg/240px-Gnu-octave-logo.svg.png\" width=\"75\">\n",
    "</p>\n",
    "\n",
    "***\n",
    "\n",
    "\n",
    "<a name=\"beginToc\"></a>\n",
    "\n",
    "# Contenido\n",
    "&emsp;&emsp;[**Funciones**](#funciones)\n",
    "\n",
    "&emsp;&emsp;[**Gráficos**](#gráficos)\n",
    "\n",
    "&emsp;&emsp;[**Variables y funciones simbólicas**](#sym)\n",
    "\n",
    "&emsp;&emsp;&emsp;[Variables simbólicas](#symvars)\n",
    "\n",
    "&emsp;&emsp;&emsp;[Funciones simbólicas](#symfuncs)\n",
    "\n",
    "&emsp;&emsp;&emsp;[Funciones implícitas](#implicit)\n",
    "\n",
    "&emsp;&emsp;[**Ejercicios propuestos**](#ejercicios)\n",
    "\n",
    "&emsp;&emsp;[**Resumen**](#resumen)\n",
    "\n",
    "&emsp;&emsp;[**Soluciones**](#soluciones)\n",
    "\n",
    "<a name=\"endToc\"></a>\n",
    "\n",
    "***\n"
   ]
  },
  {
   "cell_type": "markdown",
   "metadata": {},
   "source": [
    "\n",
    "<a name=#funciones></a>\n",
    "\n",
    "# Funciones\n",
    "\n",
    "Una **función**  es un programa con una interfaz de comunicación con el exterior mediante argumentos de entrada y de salida. Las funciones deben guardarse en un fichero con el mismo nombre que la propia función y extensión <samp>.m</samp>. Las funciones en OCTAVE tienen la siguiente estructura:\n",
    "\n",
    "<pre>\n",
    "function [argumentos de salida] = nombre_funcion(argumentos de entrada)\n",
    "% comentarios\n",
    "instrucciones\n",
    "end\n",
    "</pre>\n",
    "\n",
    "Para crear una nueva función: File \\-> New \\-> New Function\n",
    "\n",
    "\n",
    "***\n",
    "**Ejemplo**: Función que halla el área ( $A$ ) de un círculo:\n",
    "\n",
    "<pre>\n",
    "function [A] = area_circ(r)\n",
    "    A = pi*r^2;\n",
    "end\n",
    "</pre>\n",
    "***\n",
    "\n",
    "Para que Octave reconozca la función que acabamos de crear tenemos dos opciones:\n",
    "\n",
    " * Situarnos en la misma ruta (directorio) en la que hayamos guardado la función. Esta opción sólo será válida mientras permanezcamos en el mismo directorio.\n",
    " * Utilizar la orden <samp>addpath</samp> para incluir en memoria la ruta (directorio) en la que hayamos guardado la función.\n",
    "<pre>\n",
    "addpath directorio_donde_has_guardado_la_funcion\n",
    "</pre>\n",
    " * Una vez hecho esto, podremos volver a movernos libremente por el árbol de directorios del equipo.\n",
    "\n",
    "A partir de este momento, podremos llamar a la función desde la línea de comandos:\n",
    "\n",
    "<pre>\n",
    "area_circ(5)  % area de un circulo de radio = 5 unidades\n",
    "</pre>\n",
    " \n",
    " * Como ya hemos visto anteriormente, funciones tan sencillas como la que acabamos de crear (que devuelven el resultado de una única orden) se definen directamente en la línea de comandos o incluso en mitad de un script **funciones anónimas**  o **<samp>function handle</samp>**). La forma de hacerlo es la siguiente:\n",
    "\n",
    "<pre>\n",
    "nombre_funcion = @(argumentos de entrada) instruccion\n",
    "</pre>\n",
    "\n",
    "**Ejemplo:** Función que eleva un número dado al cuadrado:"
   ]
  },
  {
   "cell_type": "code",
   "execution_count": 1,
   "metadata": {},
   "outputs": [
    {
     "name": "stdout",
     "output_type": "stream",
     "text": [
      "ans = function_handle\n",
      "x = 16\n"
     ]
    }
   ],
   "source": [
    "parabola = @(x)  x^2;  % defino funcion\n",
    "class(parabola)  % funcion tipo 'handle'\n",
    "x = parabola(4)  % elevo 4 al cuadrado\n"
   ]
  },
  {
   "cell_type": "markdown",
   "metadata": {},
   "source": [
    "\n",
    "A partir de este momento ya podremos definir en OCTAVE funciones de una variable real fácilmente, como _funciones anónimas_.\n",
    "\n",
    "\n",
    "Ejercicio: Define la función $f(x)=x^2 +2$ como una función anónima:\n"
   ]
  },
  {
   "cell_type": "code",
   "execution_count": 117,
   "metadata": {},
   "outputs": [],
   "source": [
    "% escribe aquí el código:\n",
    "\n"
   ]
  },
  {
   "cell_type": "markdown",
   "metadata": {},
   "source": [
    "\n",
    "Solución:\n"
   ]
  },
  {
   "cell_type": "code",
   "execution_count": 118,
   "metadata": {},
   "outputs": [],
   "source": [
    "f = @(x)  x^2 + 2;"
   ]
  },
  {
   "cell_type": "markdown",
   "metadata": {},
   "source": [
    "\n",
    "Para evaluar dicha función en un determinado $x$ sólo tendremos que darle el valor deseado al argumento de entrada $x$ . Por ejemplo, para evaluar $f$ en el punto $x=-\\pi /2$ bastaría con hacer lo siguiente:\n"
   ]
  },
  {
   "cell_type": "code",
   "execution_count": 119,
   "metadata": {},
   "outputs": [
    {
     "name": "stdout",
     "output_type": "stream",
     "text": [
      "ans = 4.4674\n"
     ]
    }
   ],
   "source": [
    "f(-pi/2)"
   ]
  },
  {
   "cell_type": "markdown",
   "metadata": {},
   "source": [
    "\n",
    "Si quisiéramos evaluar $f$ en varios puntos a la vez bastaría con utilizar como argumento de entrada un vector (en lugar de un único número). Sin embargo, fíjate que para poder operar con vectores, debemos modificar ligeramente la función $f$ antes:\n"
   ]
  },
  {
   "cell_type": "code",
   "execution_count": 120,
   "metadata": {},
   "outputs": [
    {
     "name": "stdout",
     "output_type": "stream",
     "text": [
      "ans =\n",
      "\n",
      " Columns 1 through 13:\n",
      "\n",
      "   102    83    66    51    38    27    18    11     6     3     2     3     6\n",
      "\n",
      " Columns 14 through 21:\n",
      "\n",
      "    11    18    27    38    51    66    83   102\n",
      "\n"
     ]
    }
   ],
   "source": [
    "f_vec = @(x)  x.^2 + 2;     % redefino la funcion para que opere con vectores (aplica la función 'elemento a elemento' del vector de entrada)\n",
    "f_vec(-10:10)               % evaluo la funcion en {-10,-9,-8,...,8,9,10}"
   ]
  },
  {
   "cell_type": "markdown",
   "metadata": {},
   "source": [
    "***\n",
    "\n",
    "<a name=#graficos></a>\n",
    "# Gráficos\n",
    "\n",
    "Llegados a este punto podemos ya **graficar** funciones de una variable real. La función básica de dibujo en OCTAVE es **<samp>plot</samp>**, que permite representar pares de puntos $(x,y)$ como ya hemos visto anteriormente en el [notebook sobre gráficos](https://github.com/InMaths/Practicas_Octave/blob/master/G1953/Calculo_03_graficos.ipynb).\n"
   ]
  },
  {
   "cell_type": "code",
   "execution_count": 121,
   "metadata": {},
   "outputs": [],
   "source": [
    "x = -10:10;\n",
    "y = x;\n",
    "plot(x, y)  % recta y=x en el intervalo x=[-10,10]"
   ]
  },
  {
   "cell_type": "markdown",
   "metadata": {},
   "source": [
    "\n",
    "Si le pasamos un único argumento de entrada, la función <samp>plot</samp> entiende que nos referimos al eje de ordenadas, y asigna valores naturales (comenzando en 1) al eje de abscisas.\n"
   ]
  },
  {
   "cell_type": "code",
   "execution_count": 122,
   "metadata": {},
   "outputs": [],
   "source": [
    "plot(y)"
   ]
  },
  {
   "cell_type": "markdown",
   "metadata": {},
   "source": [
    "\n",
    "Para etiquetar los ejes se utilizan los comandos `xlabel` ('Eje x') y `ylabel` ('Eje y'). Para agregar un título a la figura, se usa el comando <samp>title('Título')</samp>. Para mostrar la cuadrícula en la gráfica, se emplea el comando <samp>grid on</samp>.\n",
    "\n",
    "<pre>\n",
    "plot(x,y)\n",
    "xlabel('x')\n",
    "ylabel('y')\n",
    "title('Título')\n",
    "grid on\n",
    "</pre>\n",
    "\n",
    "**Ejercicio**: Representa en rojo la parábola $f(x)=x^2 -50$ en el intervalo $[-20,15]$ . Etiqueta el eje de abscisas como \"x\", el de ordenadas como \"y\" y pon un título al gráfico. Dibuja una cuadrícula en el fondo.\n"
   ]
  },
  {
   "cell_type": "code",
   "execution_count": 123,
   "metadata": {},
   "outputs": [],
   "source": [
    "% escribe aquí el código:\n"
   ]
  },
  {
   "cell_type": "markdown",
   "metadata": {},
   "source": [
    "\n",
    "Solución:\n"
   ]
  },
  {
   "cell_type": "code",
   "execution_count": 124,
   "metadata": {},
   "outputs": [],
   "source": [
    "f = @(x)  x.^2 -50;\n",
    "plot(-20:15, f(-20:15), 'r')\n",
    "xlabel('x')  % etiqueta eje x\n",
    "ylabel('y')  % etiqueta eje y\n",
    "title('Parabola')  % titulo figura\n",
    "grid on  % cuadricula en el fondo"
   ]
  },
  {
   "cell_type": "markdown",
   "metadata": {},
   "source": [
    "\n",
    "Como ya hemos visto,  `hold on` se utiliza para seguir dibujando en la última ventana gráfica que esté activa. Esto nos permitirá superponer la gráfica de dos o más funciones en una única figura. Con el comando `legend` podremos además añadir una leyenda, que siempre resulta muy útil.\n",
    "\n",
    "<pre>\n",
    "plot(x1,y1,'b')\n",
    "xlabel('x')\n",
    "ylabel('y')\n",
    "title('Título')\n",
    "grid on\n",
    "hold on\n",
    "plot(x2,y2,'r')\n",
    "legend('y_1(x)', 'y_2(x)')\n",
    "</pre>\n",
    "\n",
    "Ejemplo: Representa en azul la función $f(x)=\\frac{x^2 }{4}$ y en rojo la función $g(x)=\\sqrt{|x^3|}$ en el intervalo $[-10,10]$ . Dibuja una leyenda que identifique apropiadamente ambas funciones. Etiqueta los ejes y pon un título al gráfico. Por último, dibuja una cuadrícula en el fondo.\n"
   ]
  },
  {
   "cell_type": "code",
   "execution_count": 125,
   "metadata": {},
   "outputs": [],
   "source": [
    "f = @(x)  x.^2/4;  % defino f\n",
    "g = @(x)  sqrt(abs(x.^3));  % defino g\n",
    "\n",
    "x = -10:10;  % defino dominio\n",
    "\n",
    "plot(x, f(x), 'b')\n",
    "hold on  % permanezco en la misma ventana grafica\n",
    "plot(x, g(x), 'r')\n",
    "\n",
    "legend('y=x^2/4', 'y=sqrt(|x^3|)', 'Location', 'north')  % defino leyenda\n",
    "\n",
    "xlabel('eje x'), ylabel('eje y'), title('Dos funciones')\n",
    "grid on  % rejilla de fondo\n",
    "hold off"
   ]
  },
  {
   "cell_type": "markdown",
   "metadata": {},
   "source": [
    "***\n",
    "\n",
    "<a name=#sym></a>\n",
    "\n",
    "# Variables y funciones simbólicas\n",
    "\n",
    "<a name=#symvars></a>\n",
    "\n",
    "## Variables simbólicas\n",
    "\n",
    "OCTAVE permite trabajar con variables  simbólicas, es decir, variables genéricas que, en principio, no tienen porqué tomar un valor concreto (piensa en las incógnitas de cualquier ecuación). Como ya hemos visto en el notebook de Sucesiones y Series Numéricas, debemos instalar el paquete `symbolic` de Octave. Los detalles sobre este paquete y su instalación se pueden encontrar en el [notebook de sucesiones y series numéricas](https://github.com/InMaths/Practicas_Octave/blob/master/G1953/Calculo_02_series.ipynb).\n",
    "\n",
    "Para crear una variable simbólica se utiliza el comando syms:\n",
    "\n",
    "<pre>\n",
    "syms x  % defino la variable x como simbolica\n",
    "</pre>\n",
    "\n",
    "Una vez definida, podemos crear expresiones simbólicas que dependen de <samp>x</samp>.\n",
    "\n",
    "Lo primero es instalar el paquete symbolic **si aún no lo hemos instalado** (de lo contrario no es necesario volver a hacerlo).\n"
   ]
  },
  {
   "cell_type": "code",
   "execution_count": null,
   "metadata": {},
   "outputs": [],
   "source": [
    "pkg install \"https://downloads.sourceforge.net/project/octave/Octave%20Forge%20Packages/Individual%20Package%20Releases/symbolic-3.2.1.tar.gz\""
   ]
  },
  {
   "cell_type": "code",
   "execution_count": 126,
   "metadata": {},
   "outputs": [],
   "source": [
    "clearvars % limpiamos la memoria\n",
    "pkg load symbolic % cargamos el paquete symbolic (previamente instalado)\n",
    "syms x\n",
    "eq = x^2 + 5;  % ecuacion que depende de x"
   ]
  },
  {
   "cell_type": "markdown",
   "metadata": {},
   "source": [
    "Consultamos las variables definidas (también podemos verlas en el panel 'Workspace' de la GUI de Octave):\n"
   ]
  },
  {
   "cell_type": "code",
   "execution_count": 127,
   "metadata": {},
   "outputs": [
    {
     "name": "stdout",
     "output_type": "stream",
     "text": [
      "Variables visible from the current scope:\n",
      "\n",
      "variables in scope: top scope\n",
      "\n",
      "  Attr   Name        Size                     Bytes  Class\n",
      "  ====   ====        ====                     =====  ===== \n",
      "         eq          1x1                         95  sym\n",
      "         x           1x1                         30  sym\n",
      "\n",
      "Total is 2 elements using 125 bytes\n",
      "\n"
     ]
    }
   ],
   "source": [
    "whos"
   ]
  },
  {
   "cell_type": "markdown",
   "metadata": {},
   "source": [
    "\n",
    "ni `x` ni `eq` tienen valores numéricos asignados. La forma de obligar a que una variable simbólica tome un determinado valor es la siguiente:\n",
    "\n",
    "<pre>\n",
    "snew = subs(expresion, old, new) % sustituye en expresion todas las ocurrencias de old por new.\n",
    "</pre>\n"
   ]
  },
  {
   "cell_type": "code",
   "execution_count": 128,
   "metadata": {},
   "outputs": [
    {
     "name": "stdout",
     "output_type": "stream",
     "text": [
      "v = (sym) 14\n"
     ]
    }
   ],
   "source": [
    "v = subs(eq, x, 3)  % forzamos a que x tome el valor 3 en la expresion 'eq'"
   ]
  },
  {
   "cell_type": "markdown",
   "metadata": {},
   "source": [
    "\n",
    "Aunque <samp>v</samp> puede parecer un número, en realidad es una variable simbólica a la que se le ha asignado un valor numérico.\n"
   ]
  },
  {
   "cell_type": "code",
   "execution_count": 129,
   "metadata": {},
   "outputs": [
    {
     "name": "stdout",
     "output_type": "stream",
     "text": [
      "ans = sym\n"
     ]
    }
   ],
   "source": [
    "class(v)"
   ]
  },
  {
   "cell_type": "markdown",
   "metadata": {},
   "source": [
    "\n",
    "Para convertir una variable simbólica a un número real, se utiliza el comando <samp>double:</samp>\n"
   ]
  },
  {
   "cell_type": "code",
   "execution_count": 130,
   "metadata": {},
   "outputs": [
    {
     "name": "stdout",
     "output_type": "stream",
     "text": [
      "v_num = 14\n"
     ]
    }
   ],
   "source": [
    "v_num = double(v)"
   ]
  },
  {
   "cell_type": "markdown",
   "metadata": {},
   "source": [
    "\n",
    "Ahora en el espacio de trabajo tenemos:\n",
    "\n"
   ]
  },
  {
   "cell_type": "code",
   "execution_count": 131,
   "metadata": {},
   "outputs": [
    {
     "name": "stdout",
     "output_type": "stream",
     "text": [
      "Variables visible from the current scope:\n",
      "\n",
      "variables in scope: top scope\n",
      "\n",
      "  Attr   Name        Size                     Bytes  Class\n",
      "  ====   ====        ====                     =====  ===== \n",
      "         ans         1x3                          3  char\n",
      "         eq          1x1                         95  sym\n",
      "         v           1x1                         33  sym\n",
      "         v_num       1x1                          8  double\n",
      "         x           1x1                         30  sym\n",
      "\n",
      "Total is 7 elements using 169 bytes\n",
      "\n"
     ]
    }
   ],
   "source": [
    "whos"
   ]
  },
  {
   "cell_type": "markdown",
   "metadata": {},
   "source": [
    "\n",
    "La variable `v_num` tiene un valor (14); es un número (Class double) para OCTAVE.\n",
    "\n",
    "<a name=#symfuncs></a>\n",
    "\n",
    "\n",
    "## Funciones simbólicas\n",
    "\n",
    "Para definir una función de variable simbólica:\n",
    "\n",
    "<pre>\n",
    "syms f(x)  % definimos f(x) como simbolica (x ya esta definida)\n",
    "</pre>"
   ]
  },
  {
   "cell_type": "code",
   "execution_count": 132,
   "metadata": {},
   "outputs": [
    {
     "name": "stdout",
     "output_type": "stream",
     "text": [
      "ans = symfun\n"
     ]
    }
   ],
   "source": [
    "clearvars % limpiamos la memoria\n",
    "syms x\n",
    "f(x) =  x^2+5; % definimos f(x)\n",
    "class(f)"
   ]
  },
  {
   "cell_type": "markdown",
   "metadata": {},
   "source": [
    "\n",
    "Hemos definido $f(x)$ como una función simbólica, <samp>symfun</samp>. Esto nos permite evaluar la función en cualquier punto directamente, sin necesidad de usar el comando <samp>subs</samp>.\n"
   ]
  },
  {
   "cell_type": "code",
   "execution_count": 133,
   "metadata": {},
   "outputs": [
    {
     "name": "stdout",
     "output_type": "stream",
     "text": [
      "ans = (sym) 14\n",
      "ans = (sym) [6  9  14  21  30  41  54  69  86  105]  (1×10 matrix)\n"
     ]
    }
   ],
   "source": [
    "f(3) % valor de la funcion f en x=3\n",
    "f(1:10) % vector de valores simbólicos"
   ]
  },
  {
   "cell_type": "markdown",
   "metadata": {},
   "source": [
    "\n",
    "Se pueden definir varias variables simbólicas a la vez, así como el tipo exacto de variable con la que queremos trabajar:\n",
    "\n",
    "<pre>\n",
    "syms x y real  % forzamos a que x e y solo puedan tomar valores reales\n",
    "</pre>\n",
    "\n",
    "De este modo resulta muy fácil definir, en modo simbólico, funciones de una variable real en OCTAVE. Para representar gráficamente este tipo de funciones se utiliza el comando **<samp>fplot</samp>**.\n",
    "\n",
    "<pre>\n",
    "fplot(f,[x_inicial, x_final])\n",
    "</pre>\n",
    "\n",
    "**Ejemplo**: Representa la función $f(x)=sen(x)+3x+\\frac{8}{x+1}$ en el intervalo $[-4,4]$ .\n"
   ]
  },
  {
   "cell_type": "code",
   "execution_count": 134,
   "metadata": {},
   "outputs": [],
   "source": [
    "syms x real  % defino 'x' como variable simbolica real\n",
    "fx = sin(x) + 3*x + 8/(x+1) ; % defino f(x)\n",
    "fplot(fx, [-4, 4], 'r')  % represento f(x) en [-4, 4]\n",
    "grid on"
   ]
  },
  {
   "cell_type": "markdown",
   "metadata": {},
   "source": [
    "***\n",
    "\n",
    "<a name=#implicit></a>\n",
    "\n",
    "# Funciones implícitas\n",
    "\n",
    "Una **función implícita** describe una relación entre variables que no está resuelta explícitamente para una de las variables. Por ejemplo, la ecuación de un círculo $x^2 +y^2 -1=0$ define una relación implícita entre $x$ e $y$ (aunque como hemos visto en clase, no es una función).\n",
    "\n",
    "\n",
    "OCTAVE permite graficar funciones implícitas utilizando la función `ezplot`."
   ]
  },
  {
   "cell_type": "markdown",
   "metadata": {},
   "source": [
    "\n",
    "Definimos la ecuación implícita como una función anónima:\n"
   ]
  },
  {
   "cell_type": "code",
   "execution_count": 135,
   "metadata": {},
   "outputs": [],
   "source": [
    "ecuacion = @(x,y) x.^2 + y.^2 - 1;"
   ]
  },
  {
   "cell_type": "markdown",
   "metadata": {},
   "source": [
    "\n",
    "Utilizamos `ezplot` para graficar la ecuación implícita:\n"
   ]
  },
  {
   "cell_type": "code",
   "execution_count": 136,
   "metadata": {},
   "outputs": [],
   "source": [
    "ezplot(ecuacion, [-2,2]); grid on\n",
    "title('Círculo de radio 1')\n",
    "xlabel('x')\n",
    "ylabel('y')\n",
    "grid on"
   ]
  },
  {
   "cell_type": "markdown",
   "metadata": {},
   "source": [
    "\n",
    "En este caso, el gráfico del círculo parece una elipse. Para igualar la relación de aspecto de los ejes:\n"
   ]
  },
  {
   "cell_type": "code",
   "execution_count": 137,
   "metadata": {},
   "outputs": [],
   "source": [
    "axis equal"
   ]
  },
  {
   "cell_type": "markdown",
   "metadata": {},
   "source": [
    "***\n",
    "<a name=#ejercicios></a>\n",
    "\n",
    "# Ejercicios propuestos\n",
    "\n",
    "1. Define las siguientes funciones (como funciones simbólicas) de una variable y halla el valor (numérico) en el punto $x=\\pi$ .\n",
    "\n",
    "-  $\\displaystyle f(x)=\\frac{x}{1+|x|}$\n",
    "-  $\\displaystyle f(x)=\\frac{e^x +e^{-x} }{2}\\;$\n",
    "-  $\\displaystyle f(x)=senh(x)$\n",
    "-  $\\displaystyle \\;g_1 (x)=f_1 (f_2 (x))\\;\\textrm{y}\\;\\;g_2 (x)=f_2 (f_1 (x))\\textrm{,}\\;\\textrm{con}\\;f_1 (x)=x^2 +1\\;\\textrm{y}\\;\\;f_2 (x)=\\frac{2}{x}$"
   ]
  },
  {
   "cell_type": "code",
   "execution_count": 138,
   "metadata": {},
   "outputs": [],
   "source": [
    "% escribe aquí el código:\n",
    "\n"
   ]
  },
  {
   "cell_type": "markdown",
   "metadata": {},
   "source": [
    "\n",
    "Solución:\n"
   ]
  },
  {
   "cell_type": "code",
   "execution_count": 147,
   "metadata": {},
   "outputs": [
    {
     "name": "stdout",
     "output_type": "stream",
     "text": [
      "Ejercicio 1:\n",
      " f(x) = (symfun)\n",
      "\n",
      "     x   \n",
      "  ───────\n",
      "  │x│ + 1\n",
      "\n",
      "f1 = 0.7585\n",
      "f(x) = (symfun)\n",
      "\n",
      "   x    -x\n",
      "  ℯ    ℯ  \n",
      "  ── + ───\n",
      "  2     2 \n",
      "\n",
      "f2 = 11.592\n",
      "f(x) = (symfun) sinh(x)\n",
      "f3 = 11.549\n",
      "g_1(x) = (symfun)\n",
      "\n",
      "      4 \n",
      "  1 + ──\n",
      "       2\n",
      "      x \n",
      "\n",
      "g1 = 1.4053\n",
      "g_2(x) = (symfun)\n",
      "\n",
      "    2   \n",
      "  ──────\n",
      "   2    \n",
      "  x  + 1\n",
      "\n",
      "g2 = 0.1840\n"
     ]
    }
   ],
   "source": [
    "soluciones(1)"
   ]
  },
  {
   "cell_type": "markdown",
   "metadata": {},
   "source": [
    "\n",
    "\n",
    "2. Halla, gráficamente, el punto en el que se cortan las funciones $f(x)=\\frac{2}{x}$ y $g(x)=\\sqrt{x^2 -3}$ . Para ello, representa en una única figura $f$ (en negro) y $g$ (en rojo). Elige el intervalo adecuado.  Pon una leyenda que identifique cada curva y un título a la figura.\n"
   ]
  },
  {
   "cell_type": "code",
   "execution_count": 148,
   "metadata": {},
   "outputs": [],
   "source": [
    "% escribe aquí el código:\n",
    "\n"
   ]
  },
  {
   "cell_type": "markdown",
   "metadata": {},
   "source": [
    "\n",
    "Solución:\n"
   ]
  },
  {
   "cell_type": "code",
   "execution_count": 150,
   "metadata": {},
   "outputs": [
    {
     "name": "stdout",
     "output_type": "stream",
     "text": [
      "Ejercicio 2:\n",
      "f(x) = (symfun)\n",
      "\n",
      "  2\n",
      "  ─\n",
      "  x\n",
      "\n",
      "g(x) = (symfun)\n",
      "\n",
      "     ________\n",
      "    ╱  2     \n",
      "  ╲╱  x  - 3 \n",
      "\n",
      "warning: FIXME: symfun! does that need special treatment?\n",
      "warning: called from\n",
      "    codegen>codegen_input_parser at line 187 column 7\n",
      "    codegen at line 21 column 40\n",
      "    function_handle at line 95 column 14\n",
      "    fplot at line 92 column 17\n",
      "    soluciones at line 26 column 9\n",
      "\n",
      "warning: FIXME: symfun! does that need special treatment?\n",
      "warning: called from\n",
      "    codegen>codegen_input_parser at line 187 column 7\n",
      "    codegen at line 21 column 40\n",
      "    function_handle at line 95 column 14\n",
      "    fplot at line 92 column 17\n",
      "    soluciones at line 28 column 9\n",
      "\n",
      "Observando la figura, concluimos que el punto de corte es (2, 1)."
     ]
    }
   ],
   "source": [
    "soluciones(2)"
   ]
  },
  {
   "cell_type": "markdown",
   "metadata": {},
   "source": [
    "\n",
    "3. Dibuja, en una misma gráfica y en color azul, las circunferencias  $x^2 +y^2 -4x=1$ (con línea continua) y $x^2 +y^2 +2y=9$ (con línea discontinua). Pon una leyenda adecuada.\n"
   ]
  },
  {
   "cell_type": "code",
   "execution_count": 142,
   "metadata": {},
   "outputs": [],
   "source": [
    "% escribe aquí el código:\n",
    "\n"
   ]
  },
  {
   "cell_type": "markdown",
   "metadata": {},
   "source": [
    "\n",
    "Solución:\n"
   ]
  },
  {
   "cell_type": "code",
   "execution_count": 151,
   "metadata": {},
   "outputs": [
    {
     "name": "stdout",
     "output_type": "stream",
     "text": [
      "Ejercicio 3:\n"
     ]
    }
   ],
   "source": [
    "soluciones(3)"
   ]
  },
  {
   "cell_type": "markdown",
   "metadata": {},
   "source": [
    "4. A partir de los gráficos necesarios, estudia el dominio, imagen y el carácter par/impar de las siguientes funciones:\n",
    "\n",
    "-  $\\displaystyle \\cos (x^2 )$\n",
    "-  $\\displaystyle \\cos^2 (x)$\n",
    "-  $\\displaystyle \\cos^2 (x^2 )$\n",
    "-  $\\displaystyle \\sqrt{x^3 }\\;$"
   ]
  },
  {
   "cell_type": "code",
   "execution_count": 144,
   "metadata": {},
   "outputs": [],
   "source": [
    "% escribe aquí el código:\n",
    "\n"
   ]
  },
  {
   "cell_type": "markdown",
   "metadata": {},
   "source": [
    "\n",
    "Solución:\n"
   ]
  },
  {
   "cell_type": "code",
   "execution_count": 152,
   "metadata": {},
   "outputs": [
    {
     "name": "stdout",
     "output_type": "stream",
     "text": [
      "Ejercicio 4:\n",
      "f1(x) = (symfun)\n",
      "\n",
      "     ⎛ 2⎞\n",
      "  cos⎝x ⎠\n",
      "\n",
      "warning: FIXME: symfun! does that need special treatment?\n",
      "warning: called from\n",
      "    codegen>codegen_input_parser at line 187 column 7\n",
      "    codegen at line 21 column 40\n",
      "    function_handle at line 95 column 14\n",
      "    fplot at line 92 column 17\n",
      "    soluciones at line 58 column 9\n",
      "\n",
      "Dominio: R; Imagen: [-1, 1]; Simetría: par\n",
      "------------------------------\n",
      "f2(x) = (symfun)\n",
      "\n",
      "     2   \n",
      "  cos (x)\n",
      "\n",
      "warning: FIXME: symfun! does that need special treatment?\n",
      "warning: called from\n",
      "    codegen>codegen_input_parser at line 187 column 7\n",
      "    codegen at line 21 column 40\n",
      "    function_handle at line 95 column 14\n",
      "    fplot at line 92 column 17\n",
      "    soluciones at line 62 column 9\n",
      "\n",
      "Dominio: R; Imagen: [0, 1]; Simetría: par\n",
      "------------------------------\n",
      "f3(x) = (symfun)\n",
      "\n",
      "     2⎛ 2⎞\n",
      "  cos ⎝x ⎠\n",
      "\n",
      "warning: FIXME: symfun! does that need special treatment?\n",
      "warning: called from\n",
      "    codegen>codegen_input_parser at line 187 column 7\n",
      "    codegen at line 21 column 40\n",
      "    function_handle at line 95 column 14\n",
      "    fplot at line 92 column 17\n",
      "    soluciones at line 66 column 9\n",
      "\n",
      "Dominio: R; Imagen: [0, 1]; Simetría: par\n",
      "------------------------------\n",
      "f4(x) = (symfun)\n",
      "\n",
      "     ____\n",
      "    ╱  3 \n",
      "  ╲╱  x  \n",
      "\n",
      "warning: FIXME: symfun! does that need special treatment?\n",
      "warning: called from\n",
      "    codegen>codegen_input_parser at line 187 column 7\n",
      "    codegen at line 21 column 40\n",
      "    function_handle at line 95 column 14\n",
      "    fplot at line 92 column 17\n",
      "    soluciones at line 70 column 9\n",
      "\n",
      "Dominio: [0, Inf); Imagen: [0, Inf]; Simetría: no tiene\n"
     ]
    }
   ],
   "source": [
    "soluciones(4)"
   ]
  },
  {
   "cell_type": "markdown",
   "metadata": {},
   "source": [
    "\n",
    "<a name=#resumen></a>\n",
    "\n",
    "# Resumen\n",
    "-  **Definir una función (M\\-function)**\n",
    "<pre>\n",
    "function [salida] = nombre_funcion(entrada)\n",
    "% comentarios\n",
    "instrucciones\n",
    "end\n",
    "</pre>\n",
    "-  **Función anónima**:\n",
    "<pre>\n",
    "nombre_funcion = @(entrada) instruccion\n",
    "</pre>\n",
    "-  **Definir variable simbólica**:\n",
    "<pre>\n",
    "syms x real\n",
    "</pre>\n",
    "-   <samp>subs:</samp> Sustituir en expresión\n",
    "-   <samp>double:</samp> Convertir variable simbólica a número real\n",
    "-  **Definir función simbólica**:\n",
    "<pre>\n",
    "syms x\n",
    "f(x) = expresion;\n",
    "resultado = f(valor); % Evaluar función simbólica\n",
    "</pre>\n",
    "\n",
    "**Gráficos**\n",
    "\n",
    "-   <samp>plot(x, y):</samp> graficar y(x), siendo x e y \\- dos vectores\n",
    "-   <samp>fplot(f(x),[x1 x2])</samp>: graficar $f(x)$ en el intervalo \\[x1, x2\\], $f(x)$ puede ser una función simbólica o anónima.\n",
    "-   <samp>ezplot(f):</samp> graficar $f(x,y)=0$ (función implícita)\n",
    "-   <samp>xlabel('Eje x'), ylabel('Eje y'):</samp> etiquetar los ejes.\n",
    "-   <samp>title('Título'):</samp> añadir título\n",
    "-   <samp>grid on:</samp> activa la rejilla en el fondo\n",
    "-   <samp>legend('Descripción 1', 'Descripción 2'):</samp> agregar leyenda\n",
    "-   <samp>axis equal:</samp> Establecer la misma longitud para las unidades de cada eje.\n",
    "\n"
   ]
  },
  {
   "cell_type": "markdown",
   "metadata": {},
   "source": [
    "<a name=#soluciones></a>\n",
    "# Soluciones"
   ]
  },
  {
   "cell_type": "code",
   "execution_count": 146,
   "metadata": {},
   "outputs": [],
   "source": [
    "function [] = soluciones(n)\n",
    "switch n\n",
    "    case 1\n",
    "        % Ejercicio 1:\n",
    "        fprintf(\"Ejercicio 1:\\n \");\n",
    "        syms x real\n",
    "        f(x) = x/(1+abs(x))\n",
    "        f1 = double(f(pi))\n",
    "        f(x) = (exp(x) + exp(-x))/2\n",
    "        f2 = double(f(pi))\n",
    "        f(x) = sinh(x)\n",
    "        f3 = double(f(pi))\n",
    "        f_1(x) = x^2+1;\n",
    "        f_2(x) = 2/x;\n",
    "        g_1(x) = f_1(  f_2 (x) )\n",
    "        g1 = double(g_1(pi))\n",
    "        g_2(x) = f_2(  f_1 (x) )\n",
    "        g2 = double(g_2(pi))\n",
    "\n",
    "    case 2\n",
    "        % Ejercicio 2:\n",
    "        fprintf(\"Ejercicio 2:\\n\");\n",
    "        syms x real\n",
    "        f(x) = 2/x\n",
    "        g(x) = sqrt(x^2-3)\n",
    "        fplot(f,[1.5,3],'k')\n",
    "        hold on\n",
    "        fplot(g,[1.5,3],'r')\n",
    "        grid on\n",
    "        hold off\n",
    "        legend('f(x)','g(x)')\n",
    "        title('Ejercicio 2')\n",
    "        fprintf(\"Observando la figura, concluimos que el punto de corte es (2, 1).\");\n",
    "    case 3\n",
    "        fprintf(\"Ejercicio 3:\\n\");\n",
    "        syms x y real\n",
    "        eq1 = (x - 2)^2 + (y - 3)^2 - 4;\n",
    "        eq2 = (x - 5)^2 + (y - 1)^2 - 9;\n",
    "        h1 = ezplot(eq1, [-2,8]);\n",
    "        hold on\n",
    "        set(h1, 'Color', 'b');\n",
    "        h2 = ezplot(eq2, [-2,8]);\n",
    "        set(h2, 'Color', 'b', 'linestyle','--');\n",
    "        xlabel('x');\n",
    "        ylabel('y');\n",
    "        title('Ejercicio 3');\n",
    "        legend('Circunferencia 1', 'Circunferencia 2');\n",
    "        axis equal;\n",
    "        grid on;\n",
    "        hold off;\n",
    "    case 4\n",
    "        fprintf(\"Ejercicio 4:\\n\");\n",
    "        clearvars\n",
    "        close all\n",
    "        pkg load symbolic\n",
    "        syms x real\n",
    "        f1(x) = cos(x^2)\n",
    "        fplot(f1,'b-')\n",
    "        fprintf(\"Dominio: R; Imagen: [-1, 1]; Simetría: par\\n------------------------------\\n\");\n",
    "        f2(x) = cos(x)^2\n",
    "        figure,\n",
    "        fplot(f2,'r-')\n",
    "        fprintf(\"Dominio: R; Imagen: [0, 1]; Simetría: par\\n------------------------------\\n\");\n",
    "        f3(x) = cos(x^2)^2\n",
    "        figure,\n",
    "        fplot(f3,'g-')\n",
    "        fprintf(\"Dominio: R; Imagen: [0, 1]; Simetría: par\\n------------------------------\\n\");\n",
    "        f4(x) = sqrt(x^3)\n",
    "        figure,\n",
    "        fplot(f4,'k-')\n",
    "        fprintf(\"Dominio: [0, Inf); Imagen: [0, Inf]; Simetría: no tiene\\n\");\n",
    "    end\n",
    "end"
   ]
  },
  {
   "cell_type": "code",
   "execution_count": null,
   "metadata": {},
   "outputs": [],
   "source": []
  }
 ],
 "metadata": {
  "kernelspec": {
   "display_name": "Octave",
   "language": "octave",
   "name": "octave"
  },
  "language_info": {
   "file_extension": ".m",
   "help_links": [
    {
     "text": "GNU Octave",
     "url": "https://www.gnu.org/software/octave/support.html"
    },
    {
     "text": "Octave Kernel",
     "url": "https://github.com/Calysto/octave_kernel"
    },
    {
     "text": "MetaKernel Magics",
     "url": "https://metakernel.readthedocs.io/en/latest/source/README.html"
    }
   ],
   "mimetype": "text/x-octave",
   "name": "octave",
   "version": "7.1.0"
  }
 },
 "nbformat": 4,
 "nbformat_minor": 4
}
