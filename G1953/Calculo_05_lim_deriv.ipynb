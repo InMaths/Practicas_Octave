{
 "cells": [
  {
   "cell_type": "markdown",
   "metadata": {},
   "source": [
    "<img src=\"../figs/logoIC.png\" width=\"585\" alt=\"image_0.png\">\n",
    "\n",
    "# Cálculo (G1953) - Grado en Ingeniería Civil\n",
    "\n",
    "#### Guión original en MatLab de Vera Egorova* (<vera.egorova@unican.es>)\n",
    "#### Adaptado para Octave por Joaquín Bedia*  <a href=\"https://orcid.org/0000-0001-6219-4312\" target=\"orcid.widget\" rel=\"noopener noreferrer\" style=\"vertical-align:top;\"><img src=\"https://orcid.org/sites/default/files/images/orcid_16x16.png\" style=\"width:1em;margin-right:.5em;\" alt=\"ORCID iD\"></a> (<bediaj@unican.es>)\n",
    "\n",
    "##### *Universidad de Cantabria, Dpto. Matemática Aplicada y Ciencias de la Computación)\n",
    "\n",
    "\n",
    "***\n",
    "\n",
    "# <span style=\"color:rgb(213,80,0)\"><b>Límites y derivadas</b></span>\n",
    "\n",
    "<p style=\"text-align:left\">\n",
    "   <img src=\"https://upload.wikimedia.org/wikipedia/commons/thumb/6/6a/Gnu-octave-logo.svg/240px-Gnu-octave-logo.svg.png\" width=\"75\">\n",
    "</p>\n",
    "\n",
    "***\n",
    "\n",
    "<a name=\"beginToc\"></a>\n",
    "\n",
    "## Contenido\n",
    "&emsp;[**Límites**](#limite)\n",
    "\n",
    "&emsp;&emsp;[Límites laterales](#limites_laterales)\n",
    "\n",
    "&emsp;&emsp;[Continuidad](#continuidad)\n",
    "\n",
    "&emsp;[**Derivación**](#derivacion)\n",
    "\n",
    "&emsp;&emsp;[Definición](#definicion)\n",
    "\n",
    "&emsp;&emsp;[Comando <samp>diff</samp>](#comando-texttt-diff-)\n",
    "\n",
    "&emsp;&emsp;[Derivadas de orden superior](#derivadas-de-orden-superior)\n",
    "\n",
    "&emsp;&emsp;[Recta tangente](#recta-tangente)\n",
    "\n",
    "&emsp;[**Ejercicios propuestos**](#ejercicios-propuestos)\n",
    "\n",
    "&emsp;[**Resumen**](#resumen)\n",
    "\n",
    "&emsp;[**Soluciones**](#soluciones)\n",
    "\n",
    "<a name=\"endToc\"></a>\n",
    "\n",
    "***\n"
   ]
  },
  {
   "cell_type": "markdown",
   "metadata": {},
   "source": [
    "Al igual que en anteriores notebooks, se empleará el paquete `symbolic`. Si se está ejecutando este código localmente y ya lo tienes instalado, no hace falta repetir este paso de instalación:"
   ]
  },
  {
   "cell_type": "code",
   "execution_count": null,
   "metadata": {},
   "outputs": [],
   "source": [
    "pkg install \"https://downloads.sourceforge.net/project/octave/Octave%20Forge%20Packages/Individual%20Package%20Releases/symbolic-3.2.1.tar.gz\""
   ]
  },
  {
   "cell_type": "markdown",
   "metadata": {},
   "source": [
    "\n",
    "<a name=#limite></a>\n",
    "# Límite\n",
    "\n",
    "El comando **`limit`** permite calcular directamente el límite de una función, ya sea esta anónima o simbólica.\n",
    "\n",
    "<pre>\n",
    "limit(f, var, a)             % límite de f cuando var -> a\n",
    "</pre>\n",
    "\n",
    "**Ejemplo:** Calculamos los siguientes límites:\n",
    "\n",
    "\n",
    "a) $\\displaystyle\\lim_{x\\to \\infty } \\dfrac{x^4 -x^3 +5}{3x^4 +x^2 -4x}$\n"
   ]
  },
  {
   "cell_type": "code",
   "execution_count": null,
   "metadata": {},
   "outputs": [],
   "source": [
    "pkg load symbolic\n",
    "clearvars\n",
    "syms x real                                       % defino x como variable simbolica real\n",
    "f = @(x)  (x^4 - x^3 + 5) / (3*x^4 + x^2 - 4*x);  % funcion anonima\n",
    "L = limit(f(x), x, inf)"
   ]
  },
  {
   "cell_type": "markdown",
   "metadata": {},
   "source": [
    "\n",
    "\n",
    "Para pasar a formato decimal podemos recurrir al comando <samp>double</samp>:\n"
   ]
  },
  {
   "cell_type": "code",
   "execution_count": null,
   "metadata": {},
   "outputs": [],
   "source": [
    "Lnum = double(L)"
   ]
  },
  {
   "cell_type": "markdown",
   "metadata": {},
   "source": [
    "\n",
    "b) $\\displaystyle\\lim_{x\\to 0} \\frac{(1-\\cos x)^2 }{2\\sin^4 x-\\sin^5 x}$\n",
    "\n",
    "\n",
    "Podemos definir $f(x)$ como una función anónima\n",
    "\n"
   ]
  },
  {
   "cell_type": "code",
   "execution_count": null,
   "metadata": {},
   "outputs": [],
   "source": [
    "f = @(x)  (1-cos(x))^2 / (2*sin(x)^4 - sin(x)^5);\n",
    "L = limit(f(x), x, 0)"
   ]
  },
  {
   "cell_type": "markdown",
   "metadata": {},
   "source": [
    "<a name=#limites_laterales></a>\n",
    "## Límites laterales\n",
    "\n",
    "Los límites laterales:\n",
    "\n",
    "-  por la derecha: $\\displaystyle\\lim_{x\\to a+} f(x)=\\lim_{h\\to 0} f(a+h)\\textrm{,}\\;h>0$\n",
    "-  por la izquierda: $\\displaystyle\\lim_{x\\to a-} f(x)=\\lim_{h\\to 0} f(a-h)\\textrm{,}\\;h>0$\n",
    "\n",
    "Recuerda que **el límite de una función en un punto existe si, y sólo si, existen los dos límites laterales en dicho punto y ambos coinciden:**\n",
    "\n",
    "\n",
    "$$\\lim_{x\\to a} f(x)=\\ell \\Leftrightarrow \\lim_{x\\to a+} f(x)=\\lim_{x\\to a-} f(x)=\\ell$$\n",
    "<pre>\n",
    "limit(f, var, a, \"right\")    % límite lateral (por la derecha)\n",
    "limit(f, var, a, \"left\")     % límite lateral (por la izquierda)\n",
    "</pre>\n",
    "\n",
    "\n",
    " **Ejemplo:** $\\displaystyle\\lim_{x\\to 0} \\frac{\\sin|x| }{x}$\n",
    "\n"
   ]
  },
  {
   "cell_type": "code",
   "execution_count": null,
   "metadata": {},
   "outputs": [],
   "source": [
    "clearvars\n",
    "syms x real\n",
    "f(x) = sin(abs(x)) / x;"
   ]
  },
  {
   "cell_type": "markdown",
   "metadata": {},
   "source": [
    "\n",
    "1. Calculamos límite por la derecha:\n"
   ]
  },
  {
   "cell_type": "code",
   "execution_count": null,
   "metadata": {},
   "outputs": [],
   "source": [
    "L_der = limit(f(x), x, 0, '+') ## limit(f(x), x, 0, 'right') is also accepted"
   ]
  },
  {
   "cell_type": "markdown",
   "metadata": {},
   "source": [
    "\n",
    "2. Calculamos límite por la izquierda:\n"
   ]
  },
  {
   "cell_type": "code",
   "execution_count": null,
   "metadata": {},
   "outputs": [],
   "source": [
    "L_izq = limit(f, x, 0, '-') ## limit(f(x), x, 0, 'left') is also accepted"
   ]
  },
  {
   "cell_type": "markdown",
   "metadata": {},
   "source": [
    "\n",
    "Ambos existen, pero no coinciden. Por lo tanto, el límite $\\displaystyle\\lim_{x\\to 0} \\frac{\\sin |x| }{x}$ no existe.\n"
   ]
  },
  {
   "cell_type": "code",
   "execution_count": null,
   "metadata": {},
   "outputs": [],
   "source": [
    "L_der == L_izq"
   ]
  },
  {
   "cell_type": "markdown",
   "metadata": {},
   "source": [
    "***\n",
    "\n",
    "<a name=#continuidad></a>\n",
    "\n",
    "## Continuidad\n",
    "\n",
    "A partir del cálculo de límites podemos estudiar la continuidad de una función. Para ello será conveniente conocer el comando **`solve`**, que permite resolver sistemas de ecuaciones. En el caso de una sola ecuación con una única incógnita, su sintaxis es la siguiente:\n",
    "\n",
    "<pre>\n",
    "S = solve(eqn)\n",
    "</pre>\n",
    "\n",
    "\n",
    "***\n",
    " **Ejemplo:** Resolvemos la ecuación $x^2 -5x-6=0$\n"
   ]
  },
  {
   "cell_type": "code",
   "execution_count": null,
   "metadata": {},
   "outputs": [],
   "source": [
    "syms x real\n",
    "raices1 = solve(x^2 - 5*x - 6 == 0)   % raices ecuacion segundo grado --> x = {-1,6}\n",
    "raices2 = solve(x^2 - 5*x - 6)        % equivalente a la orden anterior (por defecto se iguala a cero)"
   ]
  },
  {
   "cell_type": "markdown",
   "metadata": {},
   "source": [
    "\n",
    "El comando <samp>solve</samp> está diseñado para trabajar con expresiones simbólicas. Por tanto, en el caso de funciones anónimas, habría que convertirlas antes al tipo simbólico con ayuda del comando <samp>sym</samp>:\n"
   ]
  },
  {
   "cell_type": "code",
   "execution_count": null,
   "metadata": {},
   "outputs": [],
   "source": [
    "f = @(x)  x^2 - 5*x - 6;\n",
    "% raices = solve(f)       % no permitido --> error\n",
    "raices = solve(sym(f))    % permitido --> x = {0, 1/4}"
   ]
  },
  {
   "cell_type": "markdown",
   "metadata": {},
   "source": [
    "\n",
    "\n",
    "El resultado devuelto por `solve` también es una expresión simbólica:\n",
    "\n"
   ]
  },
  {
   "cell_type": "code",
   "execution_count": null,
   "metadata": {},
   "outputs": [],
   "source": [
    "class(raices)"
   ]
  },
  {
   "cell_type": "markdown",
   "metadata": {},
   "source": [
    "Para pasar a representación decimal:"
   ]
  },
  {
   "cell_type": "code",
   "execution_count": null,
   "metadata": {},
   "outputs": [],
   "source": [
    "R = double(raices)  % paso a decimal"
   ]
  },
  {
   "cell_type": "markdown",
   "metadata": {},
   "source": [
    "***\n",
    "\n",
    "**Ejemplo**: Estudia la continuidad de la función $f(x)=\\frac{x}{x^2 -x}$\n",
    "\n",
    "\n",
    "1. Definimos la función:\n",
    "\n"
   ]
  },
  {
   "cell_type": "code",
   "execution_count": null,
   "metadata": {},
   "outputs": [],
   "source": [
    "clearvars\n",
    "syms x real\n",
    "f(x) =  x / (x^2 - x)"
   ]
  },
  {
   "cell_type": "markdown",
   "metadata": {},
   "source": [
    "\n",
    "2. Hallamos los puntos de discontinuidad: $f(x)$ no esta definida en los puntos en los que el denominador se anule:\n"
   ]
  },
  {
   "cell_type": "code",
   "execution_count": null,
   "metadata": {},
   "outputs": [],
   "source": [
    "puntos_discontinuidad = double(solve(x^2 - x))"
   ]
  },
  {
   "cell_type": "markdown",
   "metadata": {},
   "source": [
    "\n",
    "\n",
    "3. Para estudiar si la discontinuidad es evitable o no, calculamos los límites:\n",
    "\n",
    "-  en $x=0:$\n"
   ]
  },
  {
   "cell_type": "code",
   "execution_count": null,
   "metadata": {},
   "outputs": [],
   "source": [
    "L1 = limit(f, x, puntos_discontinuidad(1))"
   ]
  },
  {
   "cell_type": "markdown",
   "metadata": {},
   "source": [
    "\n",
    "El límite existe, por lo tanto es una discontinuidad evitable.\n",
    "\n",
    "-  en $x=1$ :\n"
   ]
  },
  {
   "cell_type": "code",
   "execution_count": null,
   "metadata": {},
   "outputs": [],
   "source": [
    "L2 = limit(f, x, puntos_discontinuidad(2))"
   ]
  },
  {
   "cell_type": "markdown",
   "metadata": {},
   "source": [
    "\n",
    "El límite no existe, entonces en $x=1$ la función tiene una discontinuidad de primera especie de salto infinito. Podemos precisar más analizando los límites laterales:"
   ]
  },
  {
   "cell_type": "code",
   "execution_count": null,
   "metadata": {},
   "outputs": [],
   "source": [
    "L2_r = limit(f, x, puntos_discontinuidad(2), 'right')"
   ]
  },
  {
   "cell_type": "code",
   "execution_count": null,
   "metadata": {},
   "outputs": [],
   "source": [
    "L2_l = limit(f, x, puntos_discontinuidad(2), 'left')"
   ]
  },
  {
   "cell_type": "markdown",
   "metadata": {},
   "source": [
    "4. Representamos gráficamente la función y marcamos el punto de discontinuidad evitable:"
   ]
  },
  {
   "cell_type": "code",
   "execution_count": null,
   "metadata": {},
   "outputs": [],
   "source": [
    "xvals = linspace(-3,5,100);\n",
    "yvals = xvals ./ (xvals .^ 2 - xvals);\n",
    "plot(xvals,yvals); hold on\n",
    "plot([1,1], [-30,30], 'r--'); ## Asíntota vertical (rojo punteado)\n",
    "plot([-4,6], [0,0], 'k'); ## Eje x\n",
    "plot(puntos_discontinuidad(1), double(L1),'ro','markersize', 10) # Punto discontinuidad evitable\n",
    "grid on\n",
    "hold off"
   ]
  },
  {
   "cell_type": "markdown",
   "metadata": {},
   "source": [
    "En el punto de discontinuidad no evitable, la función presenta una asíntota vertical."
   ]
  },
  {
   "cell_type": "markdown",
   "metadata": {},
   "source": [
    "\n",
    "\n",
    "***\n",
    "\n",
    "# Derivación\n",
    "## Definición\n",
    "\n",
    "La derivada de una función $f(x)$ en punto $a\\;$ viene dada por el coviente diferencial: $~~\\displaystyle f^{\\prime } (a)=\\lim_{\\Delta x\\to 0} \\frac{f(a+\\Delta x)-f(a)}{\\Delta x}$\n",
    "\n",
    "Así, podemos calcular la derivada por la definición:\n",
    "\n",
    "<pre>\n",
    "syms x f(x) dx real\n",
    "df(x) = limit ((f(x+dx)-f(x))/dx, dx, 0)\n",
    "</pre>\n",
    "\n",
    "\n",
    "***\n",
    "\n",
    "## Comando `diff`\n",
    "\n",
    "Pero también podemos utilizar la función <samp>diff</samp>. Al igual que <samp>limit, diff</samp> acepta tanto funciones anónimas como simbólicas:\n",
    "\n",
    "<pre>\n",
    "syms x f(x) dx real\n",
    "df(x) = diff(f,x)\n",
    "</pre>\n",
    "\n",
    "**Ejemplo**: Calculamos $f^{\\prime } (x)\\;$ siendo $f(x)=x^4 -x^3 +5$ usando ambos comandos:\n",
    "\n",
    "\n",
    "1. Definimos la función:\n",
    "\n"
   ]
  },
  {
   "cell_type": "code",
   "execution_count": null,
   "metadata": {},
   "outputs": [],
   "source": [
    "clearvars\n",
    "syms x real\n",
    "f(x) = (x^4 - x^3 + 5)   % funcion simbólica"
   ]
  },
  {
   "cell_type": "markdown",
   "metadata": {},
   "source": [
    "\n",
    "2. Calculamos la derivada por la definición:\n"
   ]
  },
  {
   "cell_type": "code",
   "execution_count": null,
   "metadata": {},
   "outputs": [],
   "source": [
    "syms dx\n",
    "df1(x) = limit ((f(x+dx) - f(x))/dx, dx, 0)"
   ]
  },
  {
   "cell_type": "markdown",
   "metadata": {},
   "source": [
    "\n",
    "3. Calculamos la derivada utilizando el comando <samp>diff</samp>:\n"
   ]
  },
  {
   "cell_type": "code",
   "execution_count": null,
   "metadata": {},
   "outputs": [],
   "source": [
    "df2(x) = diff(f)"
   ]
  },
  {
   "cell_type": "markdown",
   "metadata": {},
   "source": [
    "Ambas opciones dan mismo resultado. Para evaluar la derivada en un punto dado, por ejemplo $f'(a)$ en $a=4$:"
   ]
  },
  {
   "cell_type": "code",
   "execution_count": null,
   "metadata": {
    "tags": []
   },
   "outputs": [],
   "source": [
    "%% Evaluamos f'(a):\n",
    "a=4;\n",
    "subs(df1(x),x,a)"
   ]
  },
  {
   "cell_type": "markdown",
   "metadata": {},
   "source": [
    "o bien:"
   ]
  },
  {
   "cell_type": "code",
   "execution_count": null,
   "metadata": {},
   "outputs": [],
   "source": [
    "df1(a)"
   ]
  },
  {
   "cell_type": "markdown",
   "metadata": {},
   "source": [
    "\n",
    "***\n",
    "\n",
    "## Derivadas de orden superior\n",
    "\n",
    "Las **derivadas de orden superior** se refieren a la derivación repetida de una función. Para calcular la derivada de orden superior:\n",
    "\n",
    "<pre>\n",
    "df(x) = diff (f, x, orden)\n",
    "</pre>\n",
    "\n",
    "Por ejemplo, para la segunda derivada:\n"
   ]
  },
  {
   "cell_type": "code",
   "execution_count": null,
   "metadata": {},
   "outputs": [],
   "source": [
    "d2f(x) = diff(f, x, 2)"
   ]
  },
  {
   "cell_type": "markdown",
   "metadata": {},
   "source": [
    "\n",
    "**Ejercicio**: Calcula las derivadas de la función  $f(x)=\\sin(x)$ hasta el cuarto orden. Comprueba que $f^{(4} (x)=f(x)$ .\n"
   ]
  },
  {
   "cell_type": "code",
   "execution_count": null,
   "metadata": {},
   "outputs": [],
   "source": [
    "% escribe aquí el código:\n",
    "\n"
   ]
  },
  {
   "cell_type": "markdown",
   "metadata": {},
   "source": [
    "\n",
    "\n",
    "Solución:\n"
   ]
  },
  {
   "cell_type": "code",
   "execution_count": null,
   "metadata": {},
   "outputs": [],
   "source": [
    "clearvars\n",
    "syms x real\n",
    "f(x) = sin(x);\n",
    "df(x) = diff(f)\n",
    "d2f(x) = diff(f, x, 2) % que es equivalente a d2f(x) = diff(df)\n",
    "d3f(x) = diff(f,x,3)\n",
    "d4f(x) = diff(f,x,4)"
   ]
  },
  {
   "cell_type": "markdown",
   "metadata": {},
   "source": [
    "\n",
    "\n",
    " **Ejemplo:** Siendo $\\displaystyle f(x)=\\frac{\\sin(x)^4 }{x^2 +e^x }$ , calcula $f^{\\prime } (\\pi )$ y $f^{\\prime \\prime } (-4)$ :\n",
    "\n"
   ]
  },
  {
   "cell_type": "code",
   "execution_count": null,
   "metadata": {},
   "outputs": [],
   "source": [
    "clearvars\n",
    "syms x real\n",
    "\n",
    "f(x) =  sin(x)^4 / (x^2 + exp(x));  % funcion simbólica\n",
    "f_prima(x) = diff(f, x, 1);  % derivada de orden 1\n",
    "f_prima2(x) = diff(f, x, 2);  % derivada de orden 2\n",
    "\n",
    "f_prima_pi = double(f_prima(pi))  % f'(x=pi)\n",
    "f_prima2_4 = double(f_prima2(-4))  % f''(x=-4)"
   ]
  },
  {
   "cell_type": "markdown",
   "metadata": {},
   "source": [
    "***\n",
    "\n",
    "## Rectas tangente y normal\n",
    "\n",
    "Con lo que hemos visto ahora podríamos calcular (y dibujar) las rectas tangentes y normales a una curva dada.\n",
    "\n",
    "-  Recta tangente: $\\displaystyle y-f(a)=f^{\\prime } (a)(x-a)$\n",
    "-  Recta normal (perpendicular a la recta tangente): $\\displaystyle y-f(a)=-\\frac{1}{f^{\\prime } (a)}(x-a)$\n",
    "\n",
    "***\n",
    "**Ejemplo:** Calculamos las tangentes a $f(x)=x^3 -3x$ que sean paralelas a la recta $y=6x+10$ . Representa en una misma figura $f(x)$ (en rojo) y las tangentes halladas (con línea discontinua) en el dominio $[-5,5]$ . Pon un título y una leyenda adecuada.\n",
    "\n"
   ]
  },
  {
   "cell_type": "code",
   "execution_count": null,
   "metadata": {},
   "outputs": [],
   "source": [
    "clearvars\n",
    "syms x real\n",
    "f(x) = x^3 - 3*x;"
   ]
  },
  {
   "cell_type": "markdown",
   "metadata": {},
   "source": [
    "\n",
    "Calculamos la primera derivada:\n"
   ]
  },
  {
   "cell_type": "code",
   "execution_count": null,
   "metadata": {},
   "outputs": [],
   "source": [
    "df(x) = diff(f, x)  % derivada de orden 1"
   ]
  },
  {
   "cell_type": "markdown",
   "metadata": {},
   "source": [
    "\n",
    "Para encontrar una recta tangente a $f(x)$ que sea paralela a la recta  $y=6x+10$ ,  debemos hallar el punto en el cual la derivada  $f^{\\prime } (x)$  es igual a 6, ya que la pendiente de la tangente debe coincidir con la pendiente de la recta dada para que sean paralelas.\n"
   ]
  },
  {
   "cell_type": "code",
   "execution_count": null,
   "metadata": {},
   "outputs": [],
   "source": [
    "a = double(solve(df == 6))"
   ]
  },
  {
   "cell_type": "markdown",
   "metadata": {},
   "source": [
    "\n",
    "Son dos puntos. Hallamos las rectas tangentes en cada una:\n"
   ]
  },
  {
   "cell_type": "code",
   "execution_count": null,
   "metadata": {},
   "outputs": [],
   "source": [
    "rt1 = df(a(1))*(x-a(1)) + subs(f, a(1))  % eq. RT en x = a(1)\n",
    "rt2 = df(a(2))*(x-a(2)) + subs(f, a(2))  % eq. RT en x = a(1)\n",
    "fplot(f,[-5,5],'r');  hold on % dibujo f\n",
    "fplot(rt1,'k--');  % dibujo recta tangente en x = a(1)\n",
    "fplot(rt2,'b--');  % dibujo recta tangente en x = a(2)\n",
    "grid on\n",
    "legend('f(x)', 'RT1', 'RT2')\n",
    "xlabel('eje x'), ylabel('eje y')\n",
    "title('Rectas tangentes')\n",
    "hold off"
   ]
  },
  {
   "cell_type": "markdown",
   "metadata": {},
   "source": [
    "***\n",
    "\n",
    "# Ejercicios propuestos\n",
    "\n",
    "1. Utiliza la expresión $\\displaystyle \\frac{f(x+\\Delta x)-f(x)}{\\Delta x}$ para calcular un valor aproximado de $\\displaystyle \\frac{d}{dx}\\left(\\frac{\\ln (1+x^2 )}{\\sin^2 x}\\right)$ en $x_0 =1$ tomando $\\Delta x=\\lbrace 0.1;0.05;0.0025\\rbrace \\textrm{.}$\n",
    "\n",
    "\n",
    " A continuación, calcula el valor exacto de la derivada usando los comandos <samp>limit</samp> y <samp>diff</samp>. Compara las aproximaciones obtenidas con el valor exacto en términos de error porcentual $\\displaystyle\\left(\\left|\\frac{valor_{aprox} -valor_{exacto} }{valor_{exacto} }\\right|\\cdot 100\\%\\right)$ .\n"
   ]
  },
  {
   "cell_type": "code",
   "execution_count": null,
   "metadata": {},
   "outputs": [],
   "source": [
    "% escribe aquí el código:\n",
    "\n"
   ]
  },
  {
   "cell_type": "markdown",
   "metadata": {},
   "source": [
    "\n",
    "Solución:\n"
   ]
  },
  {
   "cell_type": "code",
   "execution_count": null,
   "metadata": {},
   "outputs": [],
   "source": [
    "soluciones(1)"
   ]
  },
  {
   "cell_type": "markdown",
   "metadata": {},
   "source": [
    "\n",
    "\n",
    "2. Halla el punto $P$ donde se cortan las funciones $\\displaystyle f(x)=\\frac{2}{x}$ y $g(x)=\\sqrt{x^2 -3}$ . Representa en una misma figura $f$ (en rojo) y $g\\;$ (en azul) en $[0,5]\\times [0,3]$ . Pon una leyenda que identifique cada curva y un título. Halla la ecuación de la tangente a cada curva en $P$ , dibuja ambas rectas (en el mismo color que la curva correspondiente pero en línea discontinua) y comprueba que son perpendiculares.\n"
   ]
  },
  {
   "cell_type": "code",
   "execution_count": null,
   "metadata": {},
   "outputs": [],
   "source": [
    "% escribe aquí el código:\n",
    "\n"
   ]
  },
  {
   "cell_type": "markdown",
   "metadata": {},
   "source": [
    "\n",
    "Solución:\n"
   ]
  },
  {
   "cell_type": "code",
   "execution_count": null,
   "metadata": {},
   "outputs": [],
   "source": [
    "soluciones(2)"
   ]
  },
  {
   "cell_type": "markdown",
   "metadata": {},
   "source": [
    "\n",
    "\n",
    "\n",
    "\n",
    "3. Representa la gráfica de la circunferencia $x^2 +y^2 +2y=9$ en color negro y con una línea gruesa. Halla todas las rectas tangentes y normales a la circunferencia en el punto $x_0 =2$ y represéntalas en línea discontinua en el dominio $[-6,6]\\times [-8,8]$ . Pon un título.\n"
   ]
  },
  {
   "cell_type": "code",
   "execution_count": null,
   "metadata": {},
   "outputs": [],
   "source": [
    "% escribe aquí el código:\n",
    "\n"
   ]
  },
  {
   "cell_type": "markdown",
   "metadata": {},
   "source": [
    "\n",
    "Solución:\n"
   ]
  },
  {
   "cell_type": "code",
   "execution_count": null,
   "metadata": {},
   "outputs": [],
   "source": [
    "soluciones(3)"
   ]
  },
  {
   "cell_type": "markdown",
   "metadata": {},
   "source": [
    "***\n",
    "# Resumen\n",
    "\n",
    "## Límite\n",
    "\n",
    "-  [**<samp>limit</samp>**](https://octave.sourceforge.io/symbolic/function/@sym/limit.html)**:** Se utiliza para calcular el límite (y los límites laterales) de una función, ya sea anónima o simbólica.\n",
    "-  [**<samp>solve</samp>**](https://octave.sourceforge.io/symbolic/function/@sym/solve.html)**:** Se emplea para resolver ecuaciones simbólicas (por ejemplo, para encontrar puntos de discontinuidad en la función).\n",
    "\n",
    "## Derivación\n",
    "\n",
    "-  [**<samp>diff</samp>**](https://octave.sourceforge.io/symbolic/function/@sym/diff.html)**:** Calcula la derivada de una función de manera simbólica. También permite calcular derivadas de orden superior.\n",
    "\n",
    "\n",
    "***\n",
    "# Soluciones"
   ]
  },
  {
   "cell_type": "code",
   "execution_count": null,
   "metadata": {},
   "outputs": [],
   "source": [
    "function [] = soluciones(n)\n",
    "switch n\n",
    "    case 1\n",
    "        % Ejercicio 1:\n",
    "        fprintf(\"Ejercicio 1:\\n\");\n",
    "        syms x real\n",
    "        f(x) = log(1+x^2)/sin(x)^2;\n",
    "\n",
    "        x0 = 1;\n",
    "        df(x) = diff(f);\n",
    "        df_exacto = double(df(x0));\n",
    "        for dx = [0.1, 0.05, 0.0025]\n",
    "            df_aprox = double(( f(x0+dx) - f(x0))/dx);\n",
    "\n",
    "            error = abs( (df_aprox - df_exacto)/df_exacto)*100;\n",
    "            fprintf(\"dx = %.4f: df_aprox(1) = %.4f, error = %.2f %%\\n\",dx,df_aprox,error)\n",
    "        end\n",
    "\n",
    "    case 2\n",
    "        % Ejercicio 2:\n",
    "        fprintf(\"Ejercicio 2:\\n\");\n",
    "        syms x real\n",
    "        f(x) = 2/x;\n",
    "        g(x) = sqrt(x^2-3);\n",
    "        fplot(f,[0 5],'r')\n",
    "        hold on\n",
    "        fplot(g,[0,5],'b')\n",
    "\n",
    "        df(x) = diff(f);\n",
    "        dg(x) = diff(g);\n",
    "        P = solve(f-g);\n",
    "        rt1(x) = df(P)*(x-P) + f(P);\n",
    "        rt2(x) = dg(P)*(x-P) + g(P);\n",
    "\n",
    "        fplot(rt1,[0 5],'r--')\n",
    "        fplot(rt2,[0,5],'b--')\n",
    "\n",
    "        axis equal\n",
    "        ylim ([0 3])\n",
    "        grid on\n",
    "        legend('f(x)','g(x)','RT(f)','RT(g)')\n",
    "        hold off\n",
    "    case 3\n",
    "        syms x y\n",
    "        f(x,y) = x^2 + y^2 +2*y-9;\n",
    "        h = ezplot(f,[-6 6 -8 8]);\n",
    "        %,'k','LineWidth',2\n",
    "        axis equal\n",
    "        grid on\n",
    "        hold on\n",
    "        y = solve(f,y); % despejamos y\n",
    "        y1(x) = y(1);\n",
    "        y2(x) = y(2);\n",
    "        dy1 = diff(y1);\n",
    "        dy2 = diff(y2);\n",
    "        x0 = 2;\n",
    "        rt1(x) = dy1(x0)*(x-x0) + y1(x0);\n",
    "        rt2(x) = dy2(x0)*(x-x0) + y2(x0);\n",
    "        rn1(x) = -1/dy1(x0)*(x-x0) + y1(x0);\n",
    "        rn2(x) = -1/dy2(x0)*(x-x0) + y2(x0);\n",
    "        fplot(rt1,'r--')\n",
    "        fplot(rt2,'b--')\n",
    "        fplot(rn1,'r-')\n",
    "        fplot(rn2,'b-')\n",
    "        title('Ejercicio 3')\n",
    "        hold off\n",
    "    end\n",
    "end"
   ]
  },
  {
   "cell_type": "code",
   "execution_count": null,
   "metadata": {},
   "outputs": [],
   "source": []
  }
 ],
 "metadata": {
  "kernelspec": {
   "display_name": "Octave",
   "language": "octave",
   "name": "octave"
  },
  "language_info": {
   "file_extension": ".m",
   "help_links": [
    {
     "text": "GNU Octave",
     "url": "https://www.gnu.org/software/octave/support.html"
    },
    {
     "text": "Octave Kernel",
     "url": "https://github.com/Calysto/octave_kernel"
    },
    {
     "text": "MetaKernel Magics",
     "url": "https://metakernel.readthedocs.io/en/latest/source/README.html"
    }
   ],
   "mimetype": "text/x-octave",
   "name": "octave",
   "version": "7.1.0"
  }
 },
 "nbformat": 4,
 "nbformat_minor": 4
}
