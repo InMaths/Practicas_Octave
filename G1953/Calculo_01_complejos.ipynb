{
 "cells": [
  {
   "cell_type": "markdown",
   "metadata": {},
   "source": [
    "<img src=\"../figs/logoIC.png\" width=\"585\" alt=\"image_0.png\">\n",
    "\n",
    "# Cálculo (G1953) - Grado en Ingeniería Civil\n",
    "\n",
    "#### Guión original en MatLab de Vera Egorova* (<vera.egorova@unican.es>)\n",
    "#### Adaptado para Octave por Joaquín Bedia* (<bediaj@unican.es>)\n",
    "\n",
    "##### *Universidad de Cantabria, Dpto. Matemática Aplicada y Ciencias de la Computación)\n",
    "\n",
    "<!--\n",
    "<a name=\"T_55FB4C11\"></a>\n",
    "-->\n",
    "\n",
    "***\n",
    "\n",
    "# <span style=\"color:rgb(213,80,0)\">**Números complejos**</span>\n",
    "\n",
    "<p style=\"text-align:left\">\n",
    "   <img src=\"https://upload.wikimedia.org/wikipedia/commons/thumb/6/6a/Gnu-octave-logo.svg/240px-Gnu-octave-logo.svg.png\" width=\"75\">\n",
    "</p>\n"
   ]
  },
  {
   "cell_type": "markdown",
   "metadata": {},
   "source": [
    "***\n",
    "\n",
    "<a name=\"beginToc\"></a>\n",
    "\n",
    "## Contenido\n",
    "&emsp;[Definición de números complejos](#H_1B532CAA)\n",
    "\n",
    "&emsp;[Operaciones con números complejos](#H_ED9FC4E2)\n",
    "\n",
    "&emsp;[Ejercicios propuestos](#H_E8F5131F)\n",
    "\n",
    "&emsp;[Resumen](#H_EB3EA3A6)\n",
    "\n",
    "&emsp;[Soluciones ](#H_AC6B0A09)\n",
    "\n",
    "<a name=\"endToc\"></a>\n",
    "<a name=\"H_1B532CAA\"></a>\n",
    "\n",
    "***"
   ]
  },
  {
   "cell_type": "markdown",
   "metadata": {},
   "source": [
    "\n",
    "### Definición de números complejos\n",
    "\n",
    "Ejecuta el siguiente código (Pulsa \"Run Section\"):"
   ]
  },
  {
   "cell_type": "code",
   "execution_count": null,
   "metadata": {},
   "outputs": [],
   "source": [
    "z = sqrt(-4)"
   ]
  },
  {
   "cell_type": "markdown",
   "metadata": {},
   "source": [
    "<a name=\"H_E46307B6\"></a>\n",
    "\n",
    "OCTAVE devolverá como resultado un número complejo.\n",
    "\n",
    "<a name=\"H_C7097561\"></a>\n",
    "\n",
    "La unidad imaginaria en OCTAVE se representa mediante la variable <samp>i</samp> (o <samp>j</samp>). Por tanto, para definir la forma binómica del número complejo $2+3i$ bastaría con hacer lo siguiente:\n",
    "\n",
    "<a name=\"H_50AA7117\"></a>"
   ]
  },
  {
   "cell_type": "code",
   "execution_count": null,
   "metadata": {},
   "outputs": [],
   "source": [
    "% todas estas definiciones son equivalentes\n",
    "z = 2+3i % recomendable\n",
    "z = 2+3*i\n",
    "z = 2+3j\n",
    "z = 2+3*j"
   ]
  },
  {
   "cell_type": "markdown",
   "metadata": {},
   "source": [
    "\n",
    "OCTAVE recomienda usar <samp>1i</samp> en lugar de <samp>i</samp> (como en la primera opción).\n",
    "\n",
    "<a name=\"H_BC0C3441\"></a>\n",
    "\n",
    "También podemos trabajar con números complejos expresados en forma exponencial $z=re^{i\\alpha}$:\n",
    "\n",
    "<pre>\n",
    "z = modulo * exp(1i * argumento)\n",
    "</pre>\n",
    "\n",
    "Por ejemplo,\n",
    "\n",
    "<a name=\"H_5A0AAB73\"></a>"
   ]
  },
  {
   "cell_type": "code",
   "execution_count": null,
   "metadata": {},
   "outputs": [],
   "source": [
    "z = 2*exp(1i*pi/6)  % forma exponencial"
   ]
  },
  {
   "cell_type": "markdown",
   "metadata": {},
   "source": [
    "<a name=\"H_ED9FC4E2\"></a>\n",
    "\n",
    "### Operaciones con números complejos\n",
    "<a name=\"H_A5EFEB38\"></a>\n",
    "\n",
    "En cualquier caso, podemos llevar a cabo las operaciones básicas (suma, producto, potenciación) mediante los operadores habituales:\n",
    "\n",
    "<a name=\"H_D445EA44\"></a>"
   ]
  },
  {
   "cell_type": "code",
   "execution_count": null,
   "metadata": {},
   "outputs": [],
   "source": [
    "z1 = 5-8j\n",
    "z2 = exp(1i*pi/4)\n",
    "suma = z1 + z2\n",
    "resta = z1 - z2\n",
    "producto = z1*z2\n",
    "potencia = z1^2"
   ]
  },
  {
   "cell_type": "markdown",
   "metadata": {},
   "source": [
    "<a name=\"H_1987F434\"></a>\n",
    "\n",
    "El comando <samp>real</samp> devuelve la parte real del número complejo, y el comando <samp>imag</samp> la parte imaginaria:\n",
    "\n",
    "<a name=\"H_391803C0\"></a>"
   ]
  },
  {
   "cell_type": "code",
   "execution_count": null,
   "metadata": {},
   "outputs": [],
   "source": [
    "z = -6-4i\n",
    "Rz = real(z)  % parte real de z\n",
    "Iz = imag(z)  % parte imaginaria de z"
   ]
  },
  {
   "cell_type": "markdown",
   "metadata": {},
   "source": [
    "<a name=\"H_E3E13A15\"></a>\n",
    "\n",
    "Por su parte, <samp>conj</samp> devuelve el conjugado:\n",
    "\n",
    "<a name=\"H_4FE2448A\"></a>"
   ]
  },
  {
   "cell_type": "code",
   "execution_count": null,
   "metadata": {},
   "outputs": [],
   "source": [
    "z = -3-9i\n",
    "Cz = conj(z)  % conjugado de z"
   ]
  },
  {
   "cell_type": "markdown",
   "metadata": {},
   "source": [
    "<a name=\"H_23D1F7FA\"></a>\n",
    "\n",
    "El comando <samp>abs</samp> permite obtener el valor absoluto de un número real o el módulo de un número complejo:\n",
    "\n",
    "<a name=\"H_31DBB0D2\"></a>"
   ]
  },
  {
   "cell_type": "code",
   "execution_count": null,
   "metadata": {},
   "outputs": [],
   "source": [
    "z = -5-2i\n",
    "mz = abs(z)  % módulo de z"
   ]
  },
  {
   "cell_type": "markdown",
   "metadata": {},
   "source": [
    "<a name=\"H_9EFE24F7\"></a>\n",
    "\n",
    " **Ejercicio:** Comprueba, para $3+4i$ , que el producto de un número complejo por su correspondiente conjugado es igual al cuadrado del módulo:\n"
   ]
  },
  {
   "cell_type": "code",
   "execution_count": null,
   "metadata": {},
   "outputs": [],
   "source": [
    "% Escribe aquí el código:\n",
    "\n"
   ]
  },
  {
   "cell_type": "markdown",
   "metadata": {},
   "source": [
    "\n",
    "Solución:\n",
    "\n",
    "<a name=\"H_82BEBDAC\"></a>"
   ]
  },
  {
   "cell_type": "code",
   "execution_count": null,
   "metadata": {},
   "outputs": [],
   "source": [
    "z = 3+4*1i;                          % definimos el número\n",
    "z_conj = conj(z);                   % calculamos el conjugado\n",
    "es_igual = (z*z_conj == abs(z)^2)   % comprobacion ( 1 - verdadero, 0 - falso)"
   ]
  },
  {
   "cell_type": "markdown",
   "metadata": {},
   "source": [
    "<a name=\"H_B6CFF68C\"></a>\n",
    "\n",
    "El comando <samp>angle</samp> devuelve el argumento, expresado en radianes:\n",
    "\n",
    "<a name=\"H_DC93E3E8\"></a>"
   ]
  },
  {
   "cell_type": "code",
   "execution_count": null,
   "metadata": {},
   "outputs": [],
   "source": [
    "z = pi+i;\n",
    "argumento = angle(z)  % argumento de z"
   ]
  },
  {
   "cell_type": "markdown",
   "metadata": {},
   "source": [
    "<a name=\"H_E3B89C98\"></a>\n",
    "\n",
    "Para pasar de radianes a grados se puede usar el comando <samp>rad2deg</samp>:\n",
    "\n",
    "<a name=\"H_6B157249\"></a>"
   ]
  },
  {
   "cell_type": "code",
   "execution_count": null,
   "metadata": {},
   "outputs": [],
   "source": [
    "z = exp(1)-7i;\n",
    "argumento = angle(z);  % argumento de z, en radianes\n",
    "argumento_grados = rad2deg(angle(z))  % argumento de z, en grados"
   ]
  },
  {
   "cell_type": "markdown",
   "metadata": {},
   "source": [
    "<a name=\"H_B55C2803\"></a>\n",
    "\n",
    "Todos los comandos vistos hasta el momento operan no sólo a nivel de un único número complejo, sino también sobre vectores (o matrices).\n",
    "\n",
    "\n",
    "Ejercicio: Obtén la parte real, la imaginaria, el conjugado, el módulo y el argumento de los siguientes números complejos: $2+i\\textrm{,}\\;\\frac{1}{3}-7i\\;\\textrm{y}\\;-6+4i$\n"
   ]
  },
  {
   "cell_type": "code",
   "execution_count": null,
   "metadata": {},
   "outputs": [],
   "source": [
    "% Escribe aquí el código:\n",
    "\n"
   ]
  },
  {
   "cell_type": "markdown",
   "metadata": {},
   "source": [
    "\n",
    "Solución:\n",
    "\n",
    "<a name=\"H_2C3BFA33\"></a>"
   ]
  },
  {
   "cell_type": "code",
   "execution_count": null,
   "metadata": {},
   "outputs": [],
   "source": [
    "% Creamos los números complejos:\n",
    "z1 = 2+1i;\n",
    "z2 = (1/3)-7i;\n",
    "z3 = -6+4j;\n",
    "\n",
    "% Los organizamos en un vector:\n",
    "z = [z1, z2, z3];\n",
    "\n",
    "% Calculamos:\n",
    "\n",
    "Rz = real(z)  % parte real\n",
    "Iz = imag([z1 z2 z3])  % parte imaginaria (sin crear el vector z)\n",
    "Cz = conj(z)  % conjugado\n",
    "Az = abs(z)  % modulo\n",
    "Mz = angle(z)  % argumento"
   ]
  },
  {
   "cell_type": "markdown",
   "metadata": {},
   "source": [
    "<a name=\"H_B39C25FE\"></a>\n",
    "\n",
    "### **Graficado de números complejos**\n",
    "<a name=\"H_F52D2D43\"></a>\n",
    "\n",
    "El comando <samp>compass</samp> nos permite representar gráficamente un número complejo (o un vector de números complejos) en el plano complejo por medio de una flecha que tiene su origen en el punto $(0,0)$ :\n",
    "\n",
    "<pre>\n",
    "compass(z)\n",
    "</pre>\n",
    "\n",
    "Por ejemplo,\n"
   ]
  },
  {
   "cell_type": "code",
   "execution_count": null,
   "metadata": {},
   "outputs": [],
   "source": [
    "compass(3+2j)\n",
    "compass(3, 2)       % definicion equivalente a la anterior (forma cartesiana)\n",
    "compass([3+2j 1i])  % representar un vector de los números complejos"
   ]
  },
  {
   "cell_type": "markdown",
   "metadata": {},
   "source": [
    "<a name=\"H_6FF3DBE2\"></a>\n",
    "\n",
    "Se puede cambiar el color de la flecha fácilmente:\n",
    "\n",
    "<a name=\"H_B82FF38A\"></a>"
   ]
  },
  {
   "cell_type": "code",
   "execution_count": null,
   "metadata": {},
   "outputs": [],
   "source": [
    "compass(3+2j, 'r')  % rojo\n",
    "hold on\n",
    "compass(3-2j, 'g')  % verde\n",
    "hold off"
   ]
  },
  {
   "cell_type": "markdown",
   "metadata": {},
   "source": [
    "***\n",
    "**Nota sobre parámetros gráficos**\n",
    "***"
   ]
  },
  {
   "cell_type": "markdown",
   "metadata": {},
   "source": [
    "<a name=\"H_4B6E9B20\"></a>\n",
    "\n",
    "Aquí, el comando <samp>hold on</samp>  permite seguir dibujando en la misma ventana gráfica.\n",
    "\n",
    "<a name=\"H_223B35D4\"></a>\n",
    "\n",
    "Para desactivar el efecto de  <samp>hold on</samp> se utiliza el comando <samp>hold off</samp>.\n",
    "\n",
    "\n",
    "Tabla de colores:\n",
    "\n",
    "<p style=\"text-align:left\">\n",
    "   <img src=\"data:image/png;base64,iVBORw0KGgoAAAANSUhEUgAAAiQAAAFUCAYAAAAUOScsAABMpklEQVR4Ae19QagduZnuXQScxYB3DgRiODzSZPEMgQSySZOB5yHQ95JFPFkMfoEQsgjO4mIPs2iyiAlDaAYGk8XQMTfgQKCzePTbBBwI7ncheB4EOpCFFwNexFxDLzwzy8eDhIeepJJUqr+k0q86pVOqo++a20dVpZJ+fd////pKqnP7ROAHCAABIAAEgAAQAAIrI3Cycv/oHggAASAABIAAEAACAoIETgAEgAAQAAJAAAisjgAEyeoUwAAgAASAABAAAkAAggQ+AASAABAAAkAACKyOwEiQfPzxxwK/wAA+AB+AD8AH4APwgdI+4KugoCB58+aNwG9dGCinACd1cWL5ADd18mL5WfMTvgHfWNP/au9bxYf/A0GyEfGFxFZvYgM39XKzdkKGb8A31vbBmvuHINmIAKFOhMRWb2IDN/VyQ+Po0MfwDfjGoX1uS/1BkECQYOtnYR/ApINJJzYJwDfgGzHfwPk3+n1VbNksPCEdwrGQ2OpNbOCmXm4OEZtTfcA34BtT/tH6NRUf/g/eIdmIOEFiqzexgZt6uVk74cM34Btr+2DN/UOQbESAUCdCYqs3sYGbermhcXToY/gGfOPQPrel/iBIIEjwDsnCPoBJB5NObBKAb8A3Yr6B83iHZLOTMRJbvYkN3NTLzdpJH74B31jbB2vuX8WH/4N3SBZ+Wi5FPhJbvYkN3NTLTal45LYL34BvcH2lxXoQJBsRINQ5kdjqTWzgpl5uaBwd+hi+Ad84tM9tqb9KBMkH4s7JiTg5uSM+2KhAODTpSGz1JrZj5ub1yxfi5Wsu9ohrmheO2TfoWHHMjRPUs76yiCB5+euH4nR3TQoKJSpOxPUv3hHv/fplxvsZZRLXxz96q7Pp+l3xwZ980m1/b4mHv/fPb6fMSWwvf/2euPPF646Xa7u3xb2ffyxeG9H3wbc6vu78co1xWw5OxK0fD/+/PI63b32Q4UNrjCHc5zQ3/bhtvKhPzc0vXgzH+8lL8fQnd8St6x1PJyfXxI0v3hVPfv+6r/f7h+ItE3d9e6qejMHfBGIwWN+2332+9aMhHzZZvPnNPXFd9XX9nnjKenCwY8WDhsVw2jc8f3I83RD3f+udZ+GO+hZvfG7LF/YWJC9++nY/4d24IW645Hld3PllICEGA6pM4nITm0yiN88/6pP4G9vf8QqSl7+8000earJTvHy2FyZWAJQUJA77qKiwHKhJ8LZ4/2UfOOl7+7o1JpzpSacfd8eLHzMn4vbPbMy8FB98q+fs+mf9erfEw381GLiJSz4IqDrq95oVGDfF/d8RrP7wnrht63k+4WyR127/U0SQ/P498eVPyba/9J74OBjHpC8XZ3xBsnXuU/447Rs9fs///mafV7/zoZe7+jqpvnAdWG3NB/YTJH96X5zqp7Oh+Hj509tdMH3uvnheKHFxgHbJTdvoiw87KfjntuW804nthXj01W5SeuuHz10ye/kzw8u17+on3HoEiRRNUrjYlRvHW1TM1M3VNDch33stnn7/RhczX30kXqiY+Z/fFde033ri442s9wMzUb3zfoeXEyTepP/Jc/HuFzr+rfgMx0vIliWxte17tiXywda5D+PcYzrtG7bec3H/c1ZUyk8Zrx9+Yq/hM4Uxrm/XR/YTJL+40yXRG/fFR36i+dMTcVc/hd0Wj/7YgfPyV/fF23Zb51PXxa1vPRLP3V50IHG9fi4efeuWuK6eyNRTvtxuuP8r+/T4Rj49dufv/PCRuH1Dlr/wcPTU5pKbTuyyjk327snNEyT/9lQ8fOct19/J9VvirltC/1g81An+LXHvp3J76rNd3yefvSPe/+ML8eTbt8zkcU3c+v6H4qXF4pPuWj+GU/Ewaysr7ljTia0XJDd/8NRN9G/+9Fx8+PMn4snPP9KTno9hP6ZT8cg+fatxTPLg4fKTe+ItxZUUEbbdfgshNCFZzg2WJ9fFd3/djdfxZgXJ6481xu7J/9pNcfqjpw5n29+dn0i/+69m6/Dal8W7v30hnv7oVNwwPnTjHelzXmJ/+Rtvq1H55LefiI+dT8axTyW8aW7suD3fUzjbWDJ+/PR7ZhwWA+tTf/xI8ic5/B/Po4Lk9Yv3xR29SnJd3PvN1DgitrwJ8/rGih8ba3IVTnP8lTse7n7c2PY9/idiwvI47TdT46n/2rRvGPt/e1/cUDnrC/fF/a938THYVk3hbnm6cVvcfccI3U/dGMSM8uFJ/+fG3CD/vhYf//yuuHXDbt9fEzffeSie2tVPa/c33hXvvXMznDPfyG1KGbM37SrftVvizk+Nr6sYmPCfVFzi+jbiY/bXft3E8c0n7ik8RPrrX9112wd6Wdk62xetiKCJSybEL5qJ6ppahrZL19fF3V91++ej5GWTpE3c8rO3Twa2fuK4JreR1P22Pzsp9E8kN//bXXH327fFTS1i7CRpE7SySe7PS7FlRYZOngMbr5mJtRcFJ/r6DROAchl9gT3hVGLzt2xOPn9b3P+nD8XzwXs0vaizY3ITvlvZSvHg42L4khPoR/98V5xaYfC5tyWej4aCVXPUc3Dv3KzcGA4db3oyfi3ef6dr+/qX5MT37Tviy2Zb8O1/7t658H1h4F+KQyk0FF/dasOJsPe8+fV3hz5ptxq//r4TOiFf5pyb5qYft3t/SSb/98yK1jW9PN/jHn2fw/q5nXys6Haf18Xpz8g7KfYe9xmwRV8L8xoVJKrP6zJO3URk48a2bwXJdEzw/Kb+pDrlI9O+0Y3tw+90E7ri/rVd1bQrYoofO7HHcPd9YpCbuP6fF3M6B8rY/d8/O+0E6vUvizvfvivufMnkbfsgSO12ed3mzDfi+Y9udW2QuD39mcrb0/4zhTuubSNuVHz4P1l/h2Q4ccQG3DvR7Z+aFY5PPnICoXsqJolLThZ6ArkhX54zT7Ruu8E4t52Ern1dPvW+lM76uhMqvuMN7LMT0HW5XfGJ7c8KkrHtH513TxbdhNAn6Du/MHVtcHk2PvlmN3Hqe353vxM1cnL/yI7BbGVd+97TSQHnjyFW5iQ29bKxXj1yk5RawflAvDT2WAwdL3IL7rau+7Z49EKOM8lDj8tbP/hQvJCC57XhYYC9mwB9nH0Oeh9RgiF1r0vSZvXAjsNtT7mELFfozNPZ8x+aF5yJyHHvbHzyVNxTK20nZuxBm3374+Vpbuy4O1/pVwPk8Q358rW218PVvmBq/c1yaQW4G+tN8bacBO6q36+bsX7qy+K9yZe2rS00Drz+fV5tX7Zva9Pn33Vbs3Yy7Xzctm8ECSMmUtzH4mEr56d9Q/rUJx+K7+oHNvP+z4tH4m3N+al43z5QpHC3PMlvLT4xsf7iJ1/uJnqdP3vBwfX/WMxN5d83Lp8Y/gN225yptxa9vPyuWaV1eV899DL8Zyt+ADvD+fMAgsQmpWHSc5OITri2Tue4waTkBZn6avDw/sjg7Lds9CT0Ujz5pnny+OG75mvGnk1/fCLufdUuI/aTxUiQ2G+kWHtsciY2vfjn/mXfwaSjkouZSPdxymRicxPqa/Hydx+Ih3L7y64SXDeCyGLYLwdbHjpc0jz0E1ffRsdF8F5nk6oz7OvNv77bfVvk2h3x7g988SDrvnwq3vO27xyeVJDYydu1bZ/MvdUyfc9Tk/R7nl2bJ55PDOwN+1iIw2lu7Ljpy8ZSCP2b7UPialYIO/+T5//Xo05sfM28Q2L9zvoh+cr8UBjYdumntYWOOcKr7cv2bScYe6zwsuf06qdtv+OBExNpv6Fj2NbxtG94+Llt8KFY1/5mMY7hbnnyfcKdk6L3DcP/s2NO8UC/FWbjiwgSz26bg7SfOxv7uPXji+M/fn2UtxUbiq+9BInb9/aekLQTDN4hsUlpmPQGjkgmkGBSIs46vD8M/KidP9qnDRso1ib5dKyX7K+Lt//+A/H8hXz34LybFOcKko9/bJYev3hPvK/2/P1f+W7DvsEymdhefCDe1U/L77nVGdWf2jrrRIlKSr2o68XEkKsRfmrCGfAQmbiUYw3EYIifYV/Kvqffs1tzhh8tHmRC/lp3fPPv5NbPH16IF/9iloZnC5IPxF391Cm3NX5MuPn5eGsrl6tJbpyvW9/rJxz/m2DRd0joZDTgo8c5jb+qO+agG2uEV9uXnVCoLco/7LswAUHCiQme3f04c7lZu/60b/QrF71AtrlKfspvN+kXnlO4W558QWIF/4mK/ZT/z4m5N8J943J3Vzz67cfihXyXqfvSwzKChOM/a/OL/veLzf0ESeRbNm4fUP+9gj7h9suDzC0bf7vD7qWSLRv3BKmSIfkNJTe3dK8nJDMpBAL46Q8iWzbMFRK33SG/0to/+b4UH/xUbpkQO6ndnOPJxOaWPuU7M7/oXwRWf0dCvyxnEpUVdTFB4sYQ5SEyccnxhbAfjiswGb58Yl7G9AXJuJ77FtdsQdL75OCl39++L973X+idydMkNyER4L5R43392W4xntwS7/6u3458/XMjxqwoCPjuG/n3Sx6ZlyFvDL7uTmNkjG3HUYRX25ft206M3gPJcGXGtm8mJLsFOBETab+hY9jW8aRvuHxqV8/M17jduxZyC059SSCFu+VJxnl4yybl/5Y3K5rlC7D2m5PRmOsfcFxOfim/cKDzLFOQuLxlxqni79fyZXn1BYlvy2/hMfxnmGO25Ruwfd8VEjXx2JUA6Xj6bxnYlwPltybs3yEp+VKrc/7A5BFMbvJdge86G03AuX3bE3FDfmPgzlfNm+lyTF1CDyRoG/Q2Ocv+7QTf2dQHvX2x0v6Nltv/4omEgN0cx5xMbIQX+/cp3JbN33VfsbX2RgWJ+rbF5MvFAVzseORqTPeUp14Cvi3e+wNNDuOkp8Y9WJY1KyTvfckIFPly7t2v91tPJ/IFVPVVYTuO3hds2/3S78gX3ITfJ3/73tLgG2N2PBmf09xY2/pkr17Ws2PsV0mkeKV/h8RNTBKPr5mvB1s/lL5qeXYvJ0sx416cDdofskXxFOHV9mV93k6MatIZvNRqX9y27VseGDGR9BvqR9s6nvIN956G266xY+v9Q/t4CnfLk+KFvNTqHgon/b/vT70Qz4s5Gbv2PZVPvSVuyy8G3LJfXlB/Z0i9/2Lttv4TiF33MEteau3sZvhP0M8tjvjkzC1r1lHx4f9kvdRqDX/xi3v9V3pVYgz8pdZSX/vtJ6Gxs40mIeOsr2VgdJNzPynor8C5r/OeivvfMS+B6UkvkKBt0E8El/6K2vffHn6F7Sf911UtfnM+pxKbbY/+pVb1VeY7qn/yUmtckEhMWV/7PZHik+Av/xbGI/uVwxP5xMMUJP5k6N61ke/39F/nvSXunRv+TOKeJUikL7z8zfAv2d746j3xxHxN3WI453OaGztJ976n+nhtv6Ew+CNx9GuUMrY+L7+15HHYb6EZ0aYmIRuDob/UOkjYYVt8Dga8Up+3E4z/9VL5Nc3+6/K2fStIpI+or21OxUTSb4ifDcZT/7W4b/QiILSq5SZ79Q24FO6WJxl3d+yfJAh+7XfC/7NjznBr+5PfRrz1/ftmxdP8tVlr91TOpF/7VX9+wfvr0kn/2Zg/zMkvx3zPIoLkmAGqdWzxxFZ/Uq4V06XsaoabwASzFIbH2s4ivpHC3QkSTwhioh5t6R+rj215XBAkGw3URRLbRsdee8A1w01qYoR/jSbBRXwjhTsEyQj32nMG7OsepCFINpo0F0lsGx177cHbDDepiRH+NZoYF/GNFO4QJCPca88ZsA+CZNNOu0hiw4RRxAfADbYNYxMMfAO+EfMNnF/gWzYAcZ0AQ2JbB3eOv4Obernh8FeyDnwDvlHSv7betooP/2fWt2y2DsIW7UdiqzexgZt6uVk71uEb8I21fbDm/iFINrptgcRWb2IDN/Vys3Yyhm/AN9b2wZr7hyCBICnyHkXNTl/aNkw6mHRiPgbfgG/EfAPn8Q7JZidjJLZ6Exu4qZebtZM+fAO+sbYP1ty/ig//B++QbGTFBImt3sQGburlZu1kDN+Ab6ztgzX3D0GyEQFCnQiJrd7EBm7q5YbG0aGP4RvwjUP73Jb6gyCBINnstlWtgYZJB5NOzDfhG/CNmG/gPN4h2exkjMRWb2IDN/Vys3bSh2/AN9b2wZr7V/Hh/wTfIVGV8AsM4APwAfgAfAA+AB8o6QNJQeJXQLkOBJRD4KdOBMBNnbzUYBV8owYWYEOtCND4CK6Q1Gp8y3ZR4lrGoraxg5vaGKnHHvhGPVzAkvoQoPEBQVIfR0GLKHHBSji5CgLgZhXYN9EpfGMTNMHIlRCg8QFBshIRud1S4nLvR/1yCICbcthuvWX4xtYZhP0lEaDxAUFSEu0F26bELdg0mtoTAXCzJ4BHfDt844jJxdD2RoDGBwTJ3pAepgFK3GF6RS8cBMANB6U268A32uQdo+YhQOMDgoSH2+q1KHGrGwQDHALgxkGBAkGghG/85zf+WvzH33wFv8DgYD6gfK7ED40PCJISKBdokxJXoAs0ORMBcDMTuAZuK+Eb//72LfHmS/8Fv8DgYD6gfK7ED40PCJISKBdokxJXoAs0ORMBDjdXj8/Ebrczv2fi4tXMzla87RjGcGj4OL6RaxMECcTYoQVpvYLk2blOqufPZBj55dyoYte/EhenO3H2+Kq/w+/XL/c1jq6UTmwdTrvTC3El/ynMunIGFD6WfjmjiRarprkRQk/mmps4QnbCH/h6vPrwyqsLceYED4mXYc3o0eUDK5jU57m4jNXUfW1TVMWGVOo8xzdy+4YggSCBILFRoycqk4z8sr2++GdMkBzShsUHld1gOrEZEfLgUrbtlzO68vn0yxlNtFg1zU1KkFgfvxDnUlTkC5JLfZ9+SFAEGHHijhmkUMGkxUlMQEGQMBDtqnB8g92YqQhBAkECQWKjxk9GftleX/zTJmtvhcTv1y8v3nc9DXISm55EtCARwi+zR+Fj6ZfZDbRZkcMNnfB9pNS1Tjx0wiJXkITanhQUfue6TASNOqf53xm7yA3wDQJI/JDjG/G7w1cgSCBIIEjCsTE6q5OjmhT1E7ZZAjaTpKvsX5NPhKMnOZMM+z33OU+NrrejKOyf2NSko1aVzOqJXt7HsvsSzsHhJiQaxn3PESQxwZ7YdvE71/E43KLRgia2WgNB4qM3Web4xmQDgYsQJBAkECSBwAid0olXT3Y2wZGnL7oVQJ/E6LHZfsh9agzZtuVz+ye2jgcl8iyWvElyy6gdxnYONzys5wsSK+q7+JOxlyMaVEy67ZnehugqW07bh6Gg2l44vpFrPAQJBAkECTNqXEJ09YdPcCrJ2QnRVvETn75/sKIyvN/e09rn/omtn2gcdoEnY3cNBTYCHG7KCxKz8mVjR4sG+1CQGIoVJORhIRSruiUIkgSg/WWOb/S1eSUIEggSCBJerCS+TWCSpl5B8d/ol2WTSH1x0nUJQaJw2D+xdYLEPkkz6UQ1BgIcbkoLErXyNeA2R2zqujIG3SqJGvRE3EGQMLyiq8LxDXZjpiIECQQJBAkzalKJN/rUZdqHIAkDvX9igyAJI7v/WQ43qbjorAisYjHMC7Wtz9nVkmQbId9Q5yLvGEGQJBG1FTi+YetyPyFIIEggSJjREkqOg1vJsvDgmjoYPNn1Kyp0m2d035Gf2D+xhSadIwftQMPjcJOMC23rPEFivxHjYkQLBrJiksBCPwh4f3tEHw9WTLwGIEg8MKaLHN+YbmF8FYIEggSCZBwXwTOsxGuXiL2tG3+5uUuO3ZaOSrLq2CXbYK/Hf3L/xAZBUspLONxMxkUgHvQ3zNgrHHJkRoTYb6b58cQdtx93w+0b0gIECQEkfsjxjfjd4SsQJBAkECTh2MDZAyFQIrEdyPSj74bDzaQg2RpCECRsxji+wW7MVIQggSCBIMmNGtRfFIESiW1RAxtujMMNBEmbDsLxjVxkIEggSCBIcqMG9RdFoERiW9TAhhvjcKMFiduijLwsWjmGxzCGQ0PM8Y1cmyBIIEggSHKjBvUXRaBEYlvUwIYbAzcNk58YegnfgCCBIIEgSQQeLpdFoERiK2txO62Dm3a4zh1pCd+AIIEggSDJjUTUXxSBEoltUQMbbgzcNEx+YuglfAOCBIIEgiQReLhcFoESia2sxe20Dm7a4Tp3pCV8A4IEggSCJDcSUX9RBEoktkUNbLgxcNMw+Ymhl/ANCBIIEgiSRODhclkESiS2sha30zq4aYfr3JGW8A0IEggSCJLcSET9RREokdgWNbDhxsBNw+Qnhl7CNyBIIEggSBKBh8tlESiR2Mpa3E7r4KYdrnNHWsI3/vMbfy3+42++gl9gcDAfUD5X4ofGxwnthFag13G8DgLgZR3cOb2CGw5KbdaBb7TJO0bNQ4DGBwQJD7fVa1HiVjcIBjgEwI2DAgWCAHyDAIJDIOAhQOMDgsQDp+YiJa5mW1uzDdy0xjh/vPANPlao2R4CND4gSDbiA5S4jZjdhJngpgmaZw0SvjELNtzUCAI0PiBINkI8JW4jZjdhJrhpguZZg4RvzIINNzWCAI2PoCBRlfALDOAD8AH4AHwAPgAfKOkDvvYKChK/Asp1IKAcAj91IgBu6uSlBqvgGzWwABtqRYDGBwRJrUwRuyhx5DIOV0QA3KwIfuVdwzcqJwjmrYoAjQ8IklXp4HdOiePfiZqlEQA3pRHebvvwje1yB8vLI0DjA4KkPOaL9ECJW6RRNLIIAuBmERiPshH4xlHSikEthACNDwiShYAt3QwlrnR/aJ+PALjhY9VaTfhGa4xjvDkI0PiAIMlBb8W6lLgVTUHXBAFwQwDBoUMAvuGgQAEIjBCg8QFBMoKozhOUuDqtbNMqcNMm75xRl/CNH/7lb8U//OUMv8DgYD6gfK7ED40PCJISKBdokxJXoAs0ORMBcDMTuAZuK+EbECQQY4cWpBAkDSSrnCGWSGw5/aNuHAEON1ePz8RutzO/Z+LiVby9Wq8cwxgOjS3HN3JtgiCBIIEgsVHz7Fwn1fNn8oRftte38PnqQpzJyeHs8ZUQfrli29OJ7UpcnMoJ7/RCXMl/fTljUD6ffjmjiRarprkRQk/mmpsIQgZvK1p0fEWqRk/bNh5cRqtMXbh8YAWT+jwX0VZ0zGxTVE2Nv8Q1jm/k9gtBAkECQWKjRic9k4z8sr2+hU8jQnTS98sV255ObEaE6MnIL2cMyufTL2c00WLVNDcJQUIn+BnYazHx4KITojMECRVMur2YgKL2tkg6c8wc32A25apBkECQQJDYcPCTkV+21zfxeSnO5QpJ9xTql+s1npPYuknpUg/CL7NH5fPpl9kNtFmRww2d8H2kxlxlCkopYPRqn10ZyxYkgRjQ/NsY8a2VZfgGASR+yPGN+N3hKxAkECQQJOHYCJw1ydTtl5tlYJskdTJTy8FdEuyWqMnysEmGdvm6S7Z+V6SPwZOcalet4Pjtb395eZHEpp+8/WV5Vd4+Nr5nrFHmcBMXJAExYHka+DVnZJlCxjap+xvGoBZJdlvT1rOfECQWieQnxzeSjZAKECQQJBAkJChihzqReYl09PTniQ27Tz6oY67ba8IIl16UjJPusE8rRPqJdng9Znnd5/dObBRXTCqLEc7hZlqQBHw1IBLSBo9jI32PrKH6cjHbxY+Kt0Fc+g3Bd3w0Jssc35hsIHARggSCBIIkEBjjU11C7MWErDFIdvKYTozylJ+sddmuppgO/Ovd/cOnueEScuyJk9xj2t7Kx96JjfJglvcHXG0FjMrs5HAz8OGB/cpflSDphYC+POJrcFPkYE9Bovr0VsyUIOkfBLwuIUg8MKaLHN+YbmF8FYIEggSCZBwXwTPD1YhAgkwkM30/3e5Rx/YJTidNuu3gbz1AkASJoUKQTD7Be3CShQBn0pkWJL7/dl3G60+ZFIi3qer2mo0pG2P6fNcWBIkFad4nxzdyW4YggSCBIGFGzUhQDJKcbCQhSHQiJiskg671/VOrHRAkA7zsgREk9r0c9YnVEQvOfp+cSWdKYOiYIT6vzgXFwKSpMwWJ2RYd+oNduQl0mIjhwB3NnuL4Ri44ECQQJBAkrKiZSGL2/lQyMxPnMDnam9VnKulCkPho2XJS6NmK+MxGgDPpTAmS0d/zmb16lYqN+NC6B4le6Otj+jBhb0/FsK2HT8HxjVyYIEggSCBImFGjE+9oy6VPdKkVEt2NESX+0/zwadEkXr8flzwhSMJUdbj4mKryENfwnTg7jQBn0pkUJKp5u22ifbp/yXW6Z3M1EC+aZxcTrFa6l1htTE3dC0HCA1TW4vgGuzFTEYIEggSChBM1wUQ1/6mN02UrdfZNbKFtgW4SzJz8WgE8Y5wcbpKCJKO/1asG43x1q6o0gOMbuYZDkECQQJBwoia41Nw9meNJnANgvM5+iS0sCrvVLG/1Kt49rkwgwOEGgmQCwCO+xPGN3OFDkECQQJAwo6ab5IbfgoEYYYI3UW3/xBbasoEYmYCcfYnDzTAutrkqdQxjYJO6UEWOb+R2BUECQQJBkhs1qL8oAiUS26IGNtwYuGmY/MTQS/gGBAkECQRJIvBwuSwCJRJbWYvbaR3ctMN17khL+AYECQQJBEluJKL+ogiUSGyLGthwY+CmYfITQy/hGxAkECQQJInAw+WyCJRIbGUtbqd1cNMO17kjLeEbECQQJBAkuZGI+osiUCKxLWpgw42Bm4bJTwy9hG9AkECQQJAkAg+XyyJQIrGVtbid1sFNO1znjrSEb0CQQJBAkORGIuovikCJxLaogQ03Bm4aJj8x9BK+AUECQQJBkgg8XC6LQInEVtbidloHN+1wnTtS+EYuYqjfEgI0Pk7o4GkFeh3H6yAAXtbBndMruOGg1GYd+EabvGPUPARofECQ8HBbvRYlbnWDYIBDANw4KFAgCMA3CCA4BAIeAjQ+IEg8cGouUuJqtrU128BNa4zzxwvf4GOFmu0hQOMDgmQjPkCJ24jZTZgJbpqgedYg4RuzYMNNjSBA4wOCZCPEU+I2YnYTZoKbJmieNUj4xizYcFMjCND4CAoSVQm/wAA+AB+AD8AH4APwgZI+4GuvoCDxK6BcBwLKIfBTJwLgpk5earAKvlEDC7ChVgRofECQ1MoUsYsSRy7jcEUEwM2K4FfeNXyjcoJg3qoI0PiAIFmVDn7nlDj+nahZGgFwUxrh7bYP39gud7C8PAI0PiBIymO+SA+UuEUaRSOLIABuFoHxKBuBbxwlrRjUQgjQ+IAgWQjY0s1Q4kr3h/b5CIAbPlat1YRvtMY4xpuDAI0PCJIc9FasS4lb0RR0TRAANwQQHDoE4BsOChSAwAgBGh8QJCOI6jxBiavTyjatAjdt8s4ZdQnf+Ku/+j/i5AS/wOBwPqB8rsQPjQ8IkhIoF2iTElegCzQ5EwFwMxO4Bm4r4RsQJIebiCF6OqwhSBpIVjlDLJHYcvpH3TgCHG6uHp+J3W5nfs/Exat4e7VeOYYxHBpbjm/k2gRBAkFyaKFUryB5dq6T6vkzGUZ+WUfVlbg43Ymzx1fxGHt1Ic5cYt4J3U689rwrvl1+eV5rVdyVTmwd9rvTC3El/ykeurIxX+NwLi6nRuNj5Zen7sE1/VeNUzDoyVxzE6lp8LaiJTsuSFxNxmDEBGH9ZpcQTLqvRJ1oH21dSMdtPh4QJBAkECQ2bnTiNMnIL+vrDEFi25FT47kUJtmJ190/UfDt8ssTt9R+KZ3YjAh5cCmH4pfNyDQOHEES47Z2hNazL82NZEStkMQECZ3gs32WxJIRJ1mxZW14rB44EmLD1t3gKs+hvYTjG7k2QZBAkECQ2Kjxk5Ff1tcrESS+XX7ZjmGDn5zEdvlAropoQSKEX9bD5QgSHyu/vEG8Dmkyh5spQTLiKiQoJwYUalu3GRNAo7ZU3BqxyhFD8I0RgrETHN+I3Rs7D0ECQQJBEouOwXkrSC67LQOzNRNePiZPdbadwMQZTdh264edeG0n2/vcO7FZXPWnfZchsWKyPZhWsZjDTUg0dMYG4sByxPJrG3PeNqkWDIrjGfzqvrFCspQjcXwjty8IEggSCBJW1HTJUe2Du+XiaIILJGLVh64/TKRDQWL6MCsB6pa8p0F1x/Z+9k5so0lujOP2UKnDYg4304KkFwDOlwNxEB5tx6ONN92PEiJzVzGi8er1Prdtr4lWihzfyMUCggSCBIKEFTVdchyuiAwTZt/MTEGik+FQsIgGEuTeiS00walzrKfwnjWUxghwuEkLki4eXOywubHx1X3aLbsuJkicjE0fn4EgGWOyxxmOb+Q2D0ECQQJBwoqauCBxida1M1OQ6IRptxz8z/4p03VxRIW9E5vGjUxQoXNHhNmhhsLhZlqQKD8e+m+8Ph2VESL+qqSqMpdbfd/QFtpjCw8AozHPPMHxjdymIUggSCBIWFETEiQR4RH7lk0gkQ62bEIrJCzbtl1p78QWwJU/6W0bu9LWc7iZwnrg38ZYdW4s4sMjCbWtz3nbmuE7A2chSAKgzD/F8Y3c1iFIIEggSFhRMxYkOjEGX66LCBWy/dLdL58gXXI1T4TumGXY5ivtndhGgoRsEWweofUGwOEmJBqcxZobzntX7o5hQceMJ2DMsX2vZFg5cQRBkgAo7zLHN/JaFAKCBIIEgoQZNfppz377RX2SdxScwPDryLL/NDhoQwoPfc9AgPTL1PYPSdF+mOZuptreic1MUg4vifmsCWsziB3OUA43k4JEmWpEScdPYsskNDTCby63g5jzYjPYju5rho0hu4/8HMc3ciGAIIEggSDJjRrUXxSBEoltUQMbbozDTVKQbAk/CBI2WxzfYDdmKkKQQJBAkORGDeovikCJxLaogQ03xuEGgqRNB+H4Ri4yECQQJBAkuVGD+osiUCKxLWpgw41xuNGCxG2FbHO74xjGcGg35fhGrk0QJBAkECS5UYP6iyJQIrEtamDDjYGbhslPDL2Eb0CQQJBAkCQCD5fLIlAisZW1uJ3WwU07XOeOtIRvQJBAkECQ5EYi6i+KQInEtqiBDTcGbhomPzH0Er4BQQJBAkGSCDxcLotAicRW1uJ2Wgc37XCdO9ISvgFBAkECQZIbiai/KAIlEtuiBjbcGLhpmPzE0Ev4BgQJBAkESSLwcLksAiUSW1mL22kd3LTDde5IS/gGBAkECQRJbiSi/qIIlEhsixrYcGPgpmHyE0Mv4RsQJBAkECSJwMPlsgiUSGxlLW6ndXDTDte5I4Vv5CKG+i0hQOPjhA6eVqDXcbwOAuBlHdw5vYIbDkpt1oFvtMk7Rs1DgMYHBAkPt9VrUeJWNwgGOATAjYMCBYIAfIMAgkMg4CFA4wOCxAOn5iIlrmZbW7MN3LTGOH+88A0+VqjZHgI0PiBINuIDlLiNmN2EmeCmCZpnDRK+MQs23NQIAjQ+IEg2QjwlbiNmN2EmuGmC5lmDhG/Mgg03NYIAjY+gIFGV8AsM4APwAfgAfAA+AB8o6QO+9goKEr8CynUgoBwCP3UiAG7q5KUGq+AbNbAAG2pFgMYHBEmtTBG7KHHkMg5XRADcrAh+5V3DNyonCOatigCNDwiSVengd06J49+JmqURADelEd5u+/CN7XIHy8sjQOMDgqQ85ov0QIlbpFE0sggC4GYRGI+yEfjGUdKKQS2EAI0PCJKFgC3dDCWudH9on48AuOFj1VpN+EZrjGO8OQjQ+IAgyUFvxbqUuBVNQdcEAXBDAMGhQwC+4aBAAQiMEKDxAUEygqjOE5S4Oq1s0ypw0ybvnFGX8I0f/uX/iX/ALzA4oA8onyvxQ+MDgqQEygXapMQV6AJNzkQA3MwEroHbSvgGBAkE2aEFKQRJA8kqZ4glEltO/6gbR4DDzdXjM7Hb7czvmbh4FW+v1ivHMIZDY8vxjVybIEggSCBIbNQ8O9dJ9fyZPOGX7fUaPn27/HINts20IZ3YrsTFqZzwTi/ElfzXlzM69LHyyxlNtFg1zY0QejLX3EQQMnhb0aLjK1I1etq28eAyWmX6gvGbXUIwvboQZ6k60x01c5XjG7lgQJBAkECQ2KjRSc8kLL9sr9fw6dvll2uwbaYN6cRmJhM9GfnljA59rPxyRhMtVk1zkxAkdIKfgf3lAylGH1x0QnSOILE2PFYPHBAkS/kxxzdy+4IggSCBILFRYxOXWnL2y/Z6DZ++XX65Bttm2sBJbN2kdKl78MvsLn2s/DK7gTYrcriZWiEZc5UpKKWAOXt8JcHPvM/Rpe47F5fqmCOG4BsOuVSB4xupNuh1CBIIEggSGhVTxzph2f1y9WmSnUx553IfvUuefQOjZE3vHyx1qzbUE1zXVrfEnXii67vabGmpxKYnP/cuw5iLzQK0ouEcbkY+7uzt/HiwRaNFgd1+cxUZhbmCxGsagsQDY/8ixzdye4EggSCBIOFGjRETgwTr3TtOzDQhy6Qql57V8173013vRYwVIr0I0ZPsQLTYe4/nc4nE1gJOazDO4Wbs99ZS5c8BX9bCwAp5Wzf1CUGSQujQ1zm+kWsTBAkECQQJM2rGy8/kRrrcy0i8wzapgJHtM9ogVmzucO/ERnHfHAL1GszhJi1IiPBWPp0tsiFIavMSjm/k2gxBAkECQcKKmi4h9qsZ4ZuUwLB1/LKtrZO3t62gt2Xci3oQJBanrM8GRFsWHgtW5kw604JEbWv2qyTKtHj9KcMhSKbQWeMaxzdy7YIggSCBIGFGzXA1I3KTe/pT4oIsS+uJc5ich21CkERQnT6NFZJpfPa4ypl0pgTG0L87Q0JCPW0iBEkao8PW4PhGrkUQJBAkECTcqNGCYidi75B0zZiVlNMzt1Jim+9WRzyRYtrbYYXEQjTz00xW2dsAM7tr6DbOpDMlSEZ/zycgynlwQpDwcDpcLY5v5FoDQQJBAkGSEzVWRLhtF09gmHY64TFcCekumaRq75UT6KX6K5cQJDkMROoSbCXGdusscgNOMxDgTDqTgkT1MYiZUFxMGGJeJLd/VM19ZohPvUpjY877DD5YYLVtgozhJY5vDO9IH0GQQJBAkKTjJKtGMkFntXb8lUsktuNH7TAj5HBzVP4OQcJ2LI5vsBszFSFIIEggSHKjZqo+EtoUOsFrJRJbsCOczEaAww0ESTasR3EDxzdyBwpBAkECQZIbNaH63rJ0cCk4dA/OaQRKJDZAuwwCHG60IHFbIZlbMsuYuXcrxzCGvUHIbIDjG5lNCggSCBIIktyoQf1FESiR2BY1sOHGwE3D5CeGXsI3IEggSCBIEoGHy2URKJHYylrcTuvgph2uc0dawjcgSCBIIEhyIxH1F0WgRGJb1MCGGwM3DZOfGHoJ34AggSCBIEkEHi6XRaBEYitrcTutg5t2uM4daQnfgCCBIIEgyY1E1F8UgRKJbVEDG24M3DRMfmLoJXwDggSCBIIkEXi4XBaBEomtrMXttA5u2uE6d6QlfAOCBIIEgiQ3ElF/UQRKJLZFDWy4MXDTMPmJoZfwDQgSCBIIkkTg4XJZBEoktrIWt9M6uGmH69yRwjdyEUP9lhCg8XFCB08r0Os4XgcB8LIO7pxewQ0HpTbrwDfa5B2j5iFA4wOChIfb6rUocasbBAMcAuDGQYECQQC+QQDBIRDwEKDxAUHigVNzkRJXs62t2QZuWmOcP174Bh8r1GwPARofECQb8QFK3EbMbsJMcNMEzbMGCd+YBRtuagQBGh8QJBshnhK3EbObMBPcNEHzrEHCN2bBhpsaQYDGR1CQqEr4BQbwAfgAfAA+AB+AD5T0AV97BQWJXwHlOhBQDoGfOhEAN3XyUoNV8I0aWIANtSJA4wOCpFamiF2UOHIZhysiAG5WBL/yruEblRME81ZFgMYHBMmqdPA7p8Tx70TN0giAm9IIb7d9+MZ2uYPl5RGg8QFBUh7zRXqgxC3SKBpZBAFwswiMR9kIfOMoacWgFkKAxgcEyULAlm6GEle6P7TPRwDc8LFqrSZ8ozXGMd4cBGh8QJDkoLdiXUrciqaga4IAuCGA4NAhAN9wUKAABEYI0PiAIBlBVOcJSlydVrZpFbhpk3fOqEv4xr+//X/Fmy/hFxgczgeUz5X4ofEBQVIC5QJtUuIKdIEmZyIAbmYC18BtJXwDguRwEzFET4c1BEkDySpniCUSW07/qBtHgMPN1eMzsdvtzO+ZuHgVb6/WK8cwhkNjy/GNXJsgSCBIDi2U6hUkz851Uj1/JsPIL+dG1cbrXz5Qk8u5uJTj8MulhpVObFfi4lTadHohruS/vpxhkc+nX85oosWqaW6E0JO55iaOkJ3wzx5fxSvFrry6EGdO8OzErDas3+wSgkn3lagTs7Ox8xzfyIUEggSCBILERo2eqEwy8sv2+kY+ORPE1FC0CDETjF+eumefa+nEZkTIg0vZjV/O6NXn0y9nNNFi1TQ3KUHS8XX2+EKcS1GRLyYu9X36IUERYMSJO+aQYkXGY/XAkRAbtu4GV3k4UCxZh+Mbuf1BkECQQJDYqPGTkV+21zfyua8g8e/3y6WGz0lsWhhpQWJWbUyZbZPPp19mN9BmRQ43Uz6irnXioRMWuYIk1HaeSFaCqFvt61Y9IUiW8mSOb+T2BUECQQJBwoka9VQtVw0u9HaGetK77LYO5FPf4GlNP33b/XT5SSdOel0vRftJ0qwA2CXqwVK4Suqqbpfcu337/l6dvO19g8++jh4qtYHayMFjwTr7JbYOr3P5BN4t68vJx45vgN2CBjfUFIebkGgYQzRHkNjVFW+bR4vJfktx3M/EGe0XJBZodYhVikj0mOMb0ZsjFyBIIEggSCLBMThtJjn1hGcnfiVE/Cd3eSTO/cndJE8nWILHfoI0YsRrY/g0aIVIf8/wemfx9ASRsHEw6MMc7JfYrIBTT8EGHyVEMLEsQh6Hm2l/s2Z03OStkBixqd7pkj9d3Eme53ILQdIBudB/Ob6R2xUECQQJBAknanQy65Z+/QSsy56AGDZFnvBUG4On9mHC7fbHuz5cO4Pk2yV1J3BUJc8ue49vnz0X/yQ2xisWu7JfYvPt9/FR5V64FTP+yBvmcMPzt30EScexW23UMUHihMMDBAkHJXYdjm+wGzMVIUggSCBIOFHjTfx+AqaCRK9YDLZLvBf5dCL1tnhogtTH3naPa8dOrP6Ea4z27LLD8O2z5/zPSRv9igcq75fYIEhK0sThJuVvnX3zBYnamkyJcBYGNN5CNw0eAEIVcM4iwPENW5f7CUECQQJBwokWb+L3E7AvSHTZfF22a9KfLOUZI0j6v9lAEm3yyW9/QZK0kYPFwnX2S2w+xj4+qmyF3MIGN9Qchxs/HuLQzBEk4W/w+DEX7y9wBYIkAMr8UxzfyG0dggSCBIKEEzUMQULf5+gm/36FJJ1IydL0yC5/wjUXPbtc9YnEm7LRtXHAwn6JDYKkJFUcbkoKEivi3bsndJUxZ/ATceGawQqJgyJV4PhGqg16HYIEggSChEZF6Nib+P0EPBQZnWBwKyDy3RIlAFwytS9duq2Ybnumv646NqLEr+PeO2EKEtnKcFvGXylI2RgafNlz+yU2CJKS7HC48eNhZIuOm8A2ZPS9q1ELo5XFwfZNoDo9NYyF3pZgOxAkFL7oMcc3ojdHLkCQQJBAkESCY+nTOjHSRMx5alvakMraK5HYKhviZs3hcDMpSLY2cggSNmMc32A3ZipCkECQQJDkRs2s+uHtGJ3MB++dzGp80zeVSGybBqQi4zncQJBURNgBTeH4Rq45ECQQJBAkuVEzuz7ZLtHbMjO+vji7/zpvLJHY6hzp9qzicNOJarsV4m8Pbme8xzCGQ6PN8Y1cmyBIIEggSHKjBvUXRaBEYlvUwIYbAzcNk58YegnfgCCBIIEgSQQeLpdFoERiK2txO62Dm3a4zh1pCd+AIIEggSDJjUTUXxSBEoltUQMbbgzcNEx+YuglfAOCBIIEgiQReLhcFoESia2sxe20Dm7a4Tp3pCV8A4IEggSCJDcSUX9RBEoktkUNbLgxcNMw+Ymhl/ANCBIIEgiSRODhclkESiS2sha30zq4aYfr3JGW8A0IEggSCJLcSET9RREokdgWNbDhxsBNw+Qnhl7CNyBIIEggSBKBh8tlESiR2Mpa3E7r4KYdrnNHCt/IRQz1W0KAxscJHTytQK/jeB0EwMs6uHN6BTcclNqsA99ok3eMmocAjQ8IEh5uq9eixK1uEAxwCIAbBwUKBAH4BgEEh0DAQ4DGBwSJB07NRUpczba2Zhu4aY1x/njhG3ysULM9BGh8QJBsxAcocRsxuwkzwU0TNM8aJHxjFmy4qREEaHxAkGyEeErcRsxuwkxw0wTNswYJ35gFG25qBAEaH0FBoirhFxjAB+AD8AH4AHwAPlDSB3ztFRQkfgWU60BAOQR+6kQA3NTJSw1WwTdqYAE21IoAjQ8IklqZInZR4shlHK6IALhZEfzKu4ZvVE4QzFsVARofECSr0sHvnBLHvxM1SyMAbkojvN324Rvb5Q6Wl0eAxgcESXnMF+mBErdIo2hkEQTAzSIwHmUj8I2jpBWDWggBGh8QJAsBW7oZSlzp/tA+HwFww8eqtZrwjdYYx3hzEKDxAUGSg96KdSlxK5qCrgkC4IYAgkOHAHzDQYECEBghQOMDgmQEUZ0nKHF1WtmmVeCmTd45oy7jG/9ddv23+AUGB/QB5XPL/9D4gCBZHuMiLVLiinSCRmchAG5mwdbETWV8A4IEguzQghSCpImExR1kmcTG7R31phDgcHP1+EzsdjvzeyYuXk21WOe1YxjDoZHl+Ea+TRAkECQQJF3cPDvXSfX8mTz0y/lRFbnjUpy7xL0TZ4+vRvUuH9jELj9PL8S4xuiWzBNX4uLUtu2XM5tZsHo6sfl2+uUMI3w+/XJGEy1WTXMjhJ7ME75qJ/yQz7NwNZztHlyyqtNKg7janYtoK68uxNlum6KKjrn0Mcc38m2AIIEggSDp4kYnPZOM/HJ+VCXu6CbVqeTMSfKJTiKXzYSuE7tfjlQ/wOl0YvPt9MsZxvl8+uWMJlqsmuYmJUg6vs4eX2gxPuXzMXy1mHhw0QnpGYKExpJuLyagIEhiNIzOc3xjdFPyBAQJBAkESRcmfjLyy8kgyq1gk3R8/YMm0dwepup3Cf5SV/HLU/eUvMZJbL6dfpltl8+nX2Y30GZFDjdTvqqu6RVHuSahVgezBYkUj909M4Wo6bezwXCo+d8Zuwiv8A0CSPyQ4xvxu2NXIEggSCBIYtHRnw8+VQeEha7Xb7sMEqFrLXCfu9YV4kl+uO2z85afoxO1sin2REj6XeNwv8QWmag0DxNL82sMdIN9criJ+6o/4JmCxDUR4dldjxQCfqDjJCaOIEgiQI5Pc3xjfFfqDAQJBAkESSpK5PWAiKDJTh97+8/RJ7FAW8SCcJIfJ3Vdz4gSXQ4sacfOky5XO9w7sVEeQlytNrptd8zhJuyrdNxj36U1po/3ECROjPc2RMU7BMk0Dd5Vjm941ZlFCBIIEggSVrDQxEuTmjqmS9K0TtfRTEEymnhVa12SdS/imuTrixC/zBrogSvtn9g8DJTtmFQWY5DDDY2LcOe9GAhfT53dU5CQh4VQrGoL4DspItx1jm+4yuwCBAkECQQJM1xUUrUrIH5Z3W4SpvctGvdVyNGqxTxBEk78Xls6maptCnXuTJyddlsW0eTLHHXpakskNl90+eXSth97+xxuwn5JkVlRkKiYdKskyi4vZqiZECQUkegxxzeiN0cvQJBAkECQRMODXnCTu3riIkLDXaM3jY4nEqKpG0zyqRUSvVoiRYhKqtI21cb5s66v8LssI8NWObFIYiNibIt/C2MV8BOdcrgJ+uqo3ZUEib+C6GyiDxPuAlbXPChSRY5vpNoYX4cggSCBIBnHReyMeYI6kysQo0mPLAvHmph8QjM3hZP8OKkrEdQ//XUrI+cPzDcbtDBRX5cM2Bo37uBXlkpsWhDKsVKhePABHVGHHG7CvkpBGPsurTF93AnrOdzqGKEvfw9WTLyeTXyPYturgmKHAMc38rGCIIEggSDJiBuTGGMJTYuS/ls2atvGrU4ErultHbfS0iVtt9Xjtn+8b4vohOm1T+wYJl9jq5eMMwZ6sKqLJTaDr8P7YCM43o443EwKkqTPJ7Cj/m5jgvh9ohXRxYWJm6l7IUhSULrrHN9wldkFCBIIEggSdrhwVjcyGkNVicBiiU1Pfp54A7p7I8DhZlKQ7G3BgRuAIGEDzvENdmOuIgQJBAkEiQuHVOGokm9qsAe6vkxi61aXsDqyLGkcbo4qJiBI2A7E8Q12Y64iBAkECQSJC4dYoV/yxRN4DKO55/dKbN6SPv3K9Vx7cF+PAIcbLUjsVor7FlrfxhZKxzCGQ+PM8Y18myBIIEggSPLjBncshkCZxLaYeU03BG6apn9y8GV8A4IEggSCZDLwcLEsAmUSW1mbW2kd3LTCdP44y/gGBAkECQRJfjTijsUQKJPYFjOv6YbATdP0Tw6+jG9AkECQQJBMBh4ulkWgTGIra3MrrYObVpjOH2cZ34AggSCBIMmPRtyxGAJlEtti5jXdELhpmv7JwZfxDQgSCBIIksnAw8WyCJRJbGVtbqV1cNMK0/njLOMbECQQJBAk+dGIOxZDoExiW8y8phsCN03TPzn4Mr4BQQJBAkEyGXi4WBaBMomtrM2ttA5uWmE6f5zwjXzMcEc7CND4OKFDpxXodRyvgwB4WQd3Tq/ghoNSm3XgG23yjlHzEKDxAUHCw231WpS41Q2CAQ4BcOOgQIEgAN8ggOAQCHgI0PiAIPHAqblIiavZ1tZsAzetMc4fL3yDjxVqtocAjQ8Iko34ACVuI2Y3YSa4aYLmWYOEb8yCDTc1ggCNDwiSjRBPiduI2U2YCW6aoHnWIOEbs2DDTY0gQOMjKEhUJfwCA/gAfAA+AB+AD8AHSvqAr72CgsSvgHIdCCiHwE+dCICbOnmpwSr4Rg0swIZaEaDxAUFSK1PELkocuYzDFREANyuCX3nX8I3KCYJ5qyJA4wOCZFU6+J1T4vh3omZpBMBNaYS32z58Y7vcwfLyCND4gCApj/kiPVDiFmkUjSyCALhZBMajbAS+cZS0YlALIUDjA4JkIWBLN0OJK90f2ucjAG74WLVWE77RGuMYbw4CND4gSHLQW7EuJW5FU9A1QQDcEEBw6BAo4Rs3b94Un/nMZ/ALDA7mA8rnSvzQ+IAgKYFygTYpcQW6QJMzEQA3M4Fr4LYSvvHpT39anJyc4BcYHMwHlM+V+KHxAUFSAuUCbVLiCnSBJmciwOHm6vGZ2O125vdMXLya2dmKtx3DGA4NH8c3cm2CIIEYO7QgrVeQPDvXSfX8mQwjv6yj6kpcnO7E2eOreIy9uhBnLjHvhG4nXnvGFb4N2k5jz6TNM6xY+pZ0YuvGvTu9EFfyn+KhKxtL9DgTE6HPp19eejBH1l6aGyH0ZK65iQze4G1FS3ZckLia48+XD6xgUp/n4jJiquD4Uuzexs5zfCMXEggSCBIIEhs1OnGaic0v6+sMMWDbkenuXAqT7MTr7o8VGDaY5K379suxJis4n05sRoQ8uJTW+mVjPGcS8fn0yxWMv2YT0twkBAnlJht7EkszfJoKJi1OYgKK2lszOSvbxvGNXBMhSCBIIEhs1PjJyC/r6wwxYNtZU5AM+ibJ3NlXV4GT2PQkogWJEH5Zj2TEVWB8fh2/HKiKUz0CHG7ohN/fHeAqJCj9G0g51PakoCD3SwvGDwea/8gDA3xjhGDsBMc3YvfGzkOQQJBAkMSiY3DeCpLLbsvAbM2El48DSdC2ZZKhXb4ebD3YOvop0ltidk9z1ga7bWRWC3aJ7QrbbqWfeyc2OolYjB1ulQ58A2ZxuAmJhm5ogTiwvs3ihvq7bNVyO7Xt4uOq+xtu0WhBI+M3GLvUl/y2UB4gwPGNwQ2MAwgSCBIIEkaguK0CfysmuvwcSMS6D5lgH6j3IOxPV2+QGKNtqnv8BG3EiFk1sC1u8XPvxOZPImbCWn67bIvI7m8zh5tpQdKLZbeyERAJYUs7H7dc6n6UEPH5Dt/Yn1V9OfHTx9tolc3ekdO2vafRT45v5EIDQQJBAkHCihpfDNgbhgnTng0uE/cXB6VhYgz14Ve31y/0MvTuCMSIGt3eic1OIo+9l5J92FCejQCHm7Qg6YWANmQgEqZMs/HVfTp/13wPVz2irdi+tAgaiqPBg4BtwPrSBr8pZIdwqE+Ob+TaAkECQQJBwooaKwb69Y3hioXfSGyFxLwAaLZ73LaNExbx+7rWTWLW9/fJ1e95i+W9E5ueRMwWl3sa3iIS9dnM4WZakChehr4ar0/H3/u7XSXRNbS4yBAkKl4GfhGKZdM3BAklIXrM8Y3ozZELECQQJBAkkeAYng4lsZiAiJwnT2mq/XkrJFIUBdoa2rudo70TmzeJuG2B7Qy/aks53EwJjKF/d0NV54KrEwEkQm3rc07EB24anArFojo3FEnuFs+X3DkUgghwfCN448RJCBIIEgiSiQDpL40FiU6MwZfrQknQro54T3ZaVMinNy+5dm1GkuXgHRLbXqxub3ntpb0T22ASMU/Vgyfi2hGo1z4ONyHR4EZkfNytcOQKac2tJ2DMsWvPdRQvaFHkxemkaB34UrxNXFlgqzUAIgQJBAkESSAwQqe6xGa2BkbLwFYgeNfN1kz/NGgmS3NeLSNfqr9y6QkS1W8nSrx23OQ6FkXWpr6PkOV1n+NMepMjGE0inSCkWwWTbeBiEAEON5OCRLVqhbf2+xkC2ogQu8WZI0bsoGyc6DZcPNmr3ufIl7xrKA4Q4PjG4AbGAQQJBAkECSNQUKUcAiUSWzlr22qZw01SkGwJMggSNlsc32A3ZipCkECQQJDkRg3qL4pAicS2qIENN8bhBoKkTQfh+EYuMhAkECQQJLlRg/qLIlAisS1qYMONcbgZbjHO2JKpAN9jGMOhYeT4Rq5NECQQJBAkuVGD+osiUCKxLWpgw42Bm4bJTwy9hG9AkECQQJAkAg+XyyJQIrGVtbid1sFNO1znjrSEb0CQQJBAkORGIuovikCJxLaogQ03Bm4aJj8x9BK+AUECQQJBkgg8XC6LQInEVtbidloHN+1wnTvSEr4BQQJBAkGSG4movygCJRLbogY23Bi4aZj8xNBL+AYECQQJBEki8HC5LAIlEltZi9tpHdy0w3XuSEv4BgQJBAkESW4kov6iCJRIbIsa2HBj4KZh8hNDL+EbECQQJBAkicDD5bIIlEhsZS1up3Vw0w7XuSMt4Rs3b94Un/nMZ/ALDA7mA8rnSvzQ+DihndAK9DqO10EAvKyDO6dXcMNBqc068I02eceoeQjQ+IAg4eG2ei1K3OoGwQCHALhxUKBAEIBvEEBwCAQ8BGh8QJB44NRcpMTVbGtrtoGb1hjnjxe+wccKNdtDgMYHBMlGfIAStxGzmzAT3DRB86xBwjdmwYabGkGAxgcEyUaIp8RtxOwmzAQ3TdA8a5DwjVmw4aZGEKDxERQkqhJ+gQF8AD4AH4APwAfgAyV9wNdeQUHiV0C5DgSUQ+CnTgTATZ281GAVfKMGFmBDrQjQ+IAgqZUpYhcljlzG4YoIgJsVwa+8a/hG5QTBvFURoPEBQbIqHfzOKXH8O1GzNALgpjTC220fvrFd7mB5eQRofECQlMd8kR4ocYs0ikYWQQDcLALjUTYC3zhKWjGohRCg8QFBshCwpZuhxJXuD+3zEQA3fKxaqwnfaI1xjDcHARofECQ56K1YlxK3oinomiAAbgggOHQIwDccFCgAgRECND4gSEYQ1XmCElenlW1aBW7a5J0z6hK+8Y//+I/i4cOH+AUGB/MB5XMlfmh8QJCUQLlAm5S4Al2gyZkIgJuZwDVwWwnfUJPDn//85wbQwxBrQED5GgRJDUxUZEOJxFbR8DZtCoebq8dnYrfbmd8zcfFqe0M+hjEcGnWOb+TaBEGSixjq74NA3YLk2blOqufP5BD9MnPEOqmdXoirVP1XF+JMJvCzx8maqZbG1/22/fK4ZjVn0ontSlycyglPY+uXM4bg8+mXM5posWqaGyE4fm8n/Nk+bzjbPbicSYPxm11CMOmYSdSZacGx3cbxjdwxQ5DkIob6+yCwAUFikpFOgHmJiZOYNXgJoXD5QE6+cxOvaVuLKr+8D2uF700nNjOZaEz8coZhPp9+OaOJFqumuUkJko6vs8cX4nymCO/i4aITpXPiwoqMx+qBIxHTtu4GV3kO7Z8c38i1CYIkFzHU3weBugWJn4z8MnPEbEGSaG8vQSIudeLXgmRQTnS64mVOYvMx8ctss30+/TK7gTYrcriZ8nt1zffF7BUSKR67e2YKUbleeXF6LiNB/nCEKHyD7egc32A3ZipCkOQihvr7IFC3IJkYWXQSVEnObNPYxHzp76kPnug6sWD322ly1n24vXi7J68+TULV9pnEbOtxtogmxlXDpb0SW3QC6XDqJsMaRrlNGzjcWL+f3oDsfJ/6PB+VuYLE6wGCxANj/yLHN3J7gSDJRQz190Fgs4JEJ92BuOhg8M/rshIKtp6eLHfmCdGHrUuuseQcFT/6ac9rXzap625clOyX2NREF1qGj533eUA5hQCHGwiSFIrHeZ3jG7kjhyDJRQz190Fgs4JEL/f6KyFGdIwEyUAcxIRH7HwHbVSQaIHjr5bI+tEVgn1oOuy9+yW2Dst+W8CKEwiSJVjkcANBsgTS22uD4xu5o4IgyUUM9fdBYLuCxIkBNQGeiTOzL63Eg13pGCfmmPCIne+gjQoSveTsb+XYsp2E96FmvXv3TWyOA4nPmeJGfXvJ8bXeuI6hZw43Y78PjRxbNiFUtnyO4xu544MgyUUM9fdBYLuCRL8gKlcn1EQnV0dUEj5/5j+dh75tEBMesfMdtFFBcqST7L6JTXGhRMjlAyXM5MSnVqm8d3v2cdjW7+VwA0HSppdwfCMXGQiSXMRQfx8ENixIlIiQIkROenp7QAsT9VXEfnVinJhjwiN2voNWtzN4kdVC3t3n3lGxpzf+uXdiU+LjwXknRCQWWpior3jad3k2js+a5nO4Gft9yGKskIRQ2fI5jm/kjg+CJBcx1N8HgQ0LEvMCqRMKRhy4Y8YKSWzLZTRx2rbtloz/3gi9JusM3lvZh5517t07semVo37rzP5RO7uVts6ojqNXDjeTgoTt8xG8DLf2m2nuM8Pn9Yqj/Vaa9xn8Bpbur3/IiFiF0xIBjm/kAgVBkosY6u+DwKYFyT4Dx71xBEoktnhvuJKDAIebSUGS01kNdSFI2CxwfIPdmKkIQZKLGOrvgwAEyT7oHem9JRLbkUJ18GFxuIEgOTgtVXTI8Y1cQyFIchFD/X0QgCDZB70jvbdEYjtSqA4+LA43WpC4rZBtbnccwxgO7Rwc38i1CYIkFzHU3wcBCJJ90DvSe0sktiOF6uDDAjcHh3wzHZbwDQiSzdB/FIZCkBwFjcsOokRiW9bCdlsDN+1ynxp5Cd+AIEmhjutLIgBBsiSaR9JWicR2JNCsPgxwszoF1RpQwjcgSKql+ygNgyA5Slr3G1SJxLafRbjbIgBuLBL4pAiU8A0IEooyjksiAEFSEt2Ntl0isW0UiurMBjfVUVKNQSV8A4KkGnqbMASCpAma8wZZIrHlWYDaMQTATQwZnC/hGxAk8KtDIgBBcki0N9JXicS2kaFXbya4qZ6i1Qws4RsQJKvR2WTHECRN0j496BKJbbpHXOUiAG64SLVXr4RvKEHy8OFD/AKDg/mA8rkSPzQ+TmgntAK9juN1EAAv6+DO6RXccFBqsw58o03eMWoeAjQ+IEh4uK1eixK3ukEwwCEAbhwUKBAE4BsEEBwCAQ8BGh8QJB44NRcpcTXb2ppt4KY1xvnjhW/wsULN9hCg8QFBshEfoMRtxOwmzAQ3TdA8a5DwjVmw4aZGEKDxAUGyEeIpcRsxuwkzwU0TNM8aJHxjFmy4qREEaHxAkGyEeErcRsxuwkxw0wTNswYJ35gFG25qBAEaH0FBoirhFxjAB+AD8AH4AHwAPlDSB3ztNRIk/kWUgQAQAAJAAAgAASBwCAQgSA6BMvoAAkAACAABIAAEJhGAIJmEBxeBABAAAkAACACBQyAAQXIIlNEHEAACQAAIAAEgMIkABMkkPLgIBIAAEAACQAAIHAIBCJJDoIw+gAAQAAJAAAgAgUkEIEgm4cFFIAAEgAAQAAJA4BAIQJAcAmX0AQSAABAAAkAACEwiAEEyCQ8uAgEgAASAABAAAodA4P8DFTRxxKs9dEQAAAAASUVORK5CYII=\" width=\"450\" alt=\"image_1.png\">\n",
    "</p>\n"
   ]
  },
  {
   "cell_type": "markdown",
   "metadata": {},
   "source": [
    "<a name=\"H_E8F5131F\"></a>\n",
    "\n",
    "### Ejercicios propuestos\n",
    "\n",
    "1. Dados $z=-1+2i\\textrm{,}\\;w=\\sqrt{2}+3i\\;\\textrm{y}\\;s=-i$ , escribe en forma binómica los números complejos resutantes de las siguientes operaciones:\n",
    "\n",
    "<a name=\"H_13AE125A\"></a>\n",
    "-   $\\displaystyle c_1 =\\frac{1}{2}z-\\frac{3}{5}\\overline{w} Im(s)+szw$\n",
    "-  $\\displaystyle c_2 =2zw-s^{1023} z$\n",
    "-   $\\displaystyle c_3 =s^{1023} +s^{1024} +s^{1025} +s^{1026}$\n",
    "-  $\\displaystyle c_4 =\\overline{zw} -\\overline{z} \\;\\overline{w}$\n",
    "-  $\\displaystyle c_5 =\\overline{z+w} -\\overline{z} -\\overline{w}$\n",
    "<a name=\"H_1BA9D7B7\"></a>"
   ]
  },
  {
   "cell_type": "code",
   "execution_count": null,
   "metadata": {},
   "outputs": [],
   "source": [
    "% Escribe aquí el código:\n",
    "\n",
    "\n"
   ]
  },
  {
   "cell_type": "markdown",
   "metadata": {},
   "source": [
    "<a name=\"H_C29511A8\"></a>\n",
    "\n",
    "Soluciones (para verlas, debe ejecutarse primero la función `soluciones`, definida al final del notebook):\n"
   ]
  },
  {
   "cell_type": "code",
   "execution_count": null,
   "metadata": {},
   "outputs": [],
   "source": [
    "soluciones(1)"
   ]
  },
  {
   "cell_type": "markdown",
   "metadata": {},
   "source": [
    "<a name=\"H_4F106ECD\"></a>\n",
    "\n",
    "2.  Dados $z_1 =2-2i\\;\\textrm{y}\\;z_2 =\\sqrt{2}e^{i\\frac{\\pi }{4}}$ :\n",
    "\n",
    "<a name=\"H_9B767C92\"></a>\n",
    "-  Comprueba que  $|z_1 |=2|z_2 |$ , $2\\bar{z_2 } =z_1$ .\n",
    "-  Calcula el producto $z_1 z_2 \\;$ , calcula su parte real y comprueba que $Re(z_1 z_2 )=z_1 z_2$ .\n",
    "-  Representa en un mismo gráfico $z_1$ (en azul) y $z_2$ (en rojo) sobre el plano complejo.\n",
    "<a name=\"H_1BA9D7B7\"></a>"
   ]
  },
  {
   "cell_type": "code",
   "execution_count": null,
   "metadata": {},
   "outputs": [],
   "source": [
    "% Escribe aquí el código:\n",
    "\n",
    "\n"
   ]
  },
  {
   "cell_type": "markdown",
   "metadata": {},
   "source": [
    "<a name=\"H_C29511A8\"></a>\n",
    "\n",
    "Soluciones:\n"
   ]
  },
  {
   "cell_type": "code",
   "execution_count": null,
   "metadata": {},
   "outputs": [],
   "source": [
    "soluciones(2)"
   ]
  },
  {
   "cell_type": "markdown",
   "metadata": {},
   "source": [
    "<a name=\"H_EB3EA3A6\"></a>\n",
    "\n",
    "### Resumen\n",
    "\n",
    "**Definición de números complejos**\n",
    "\n",
    "-  Crear números complejos usando <samp>i</samp> o <samp>j</samp>.\n",
    "-  Forma exponencial: ``exp(1i * argumento)``.\n",
    "\n",
    " **Funciones específicas para números complejos**\n",
    "\n",
    "Se incluyen enlaces a la documentación online de los comandos en MatLab, que son equivalentes:\n",
    "\n",
    "-  [**<samp>real</samp>**](https://es.mathworks.com/help/matlab/ref/real)**:** Obtener la parte real del número complejo.\n",
    "-  [**<samp>imag</samp>**](https://es.mathworks.com/help/matlab/ref/imag.html)**:** Obtener la parte imaginaria del número complejo.\n",
    "-  [**<samp>conj</samp>**](https://es.mathworks.com/help/matlab/ref/conj.html)**:** Obtener el conjugado de un número complejo.\n",
    "-  [**<samp>abs</samp>**](https://es.mathworks.com/help/matlab/ref/abs.html)**:** Obtener el módulo o valor absoluto de un número complejo.\n",
    "-  [**<samp>angle</samp>**](https://es.mathworks.com/help/matlab/ref/angle.html)**:** Obtener el argumento del número complejo en radianes.\n",
    "\n",
    "**Graficado de Números Complejos**\n",
    "\n",
    "-  [**<samp>compass</samp>**](https://es.mathworks.com/help/matlab/ref/compass.html)**:** Representar números complejos en el plano complejo.\n",
    "<a name=\"H_AC6B0A09\"></a>\n",
    "\n",
    "### Soluciones"
   ]
  },
  {
   "cell_type": "code",
   "execution_count": null,
   "metadata": {},
   "outputs": [],
   "source": [
    "function [] = soluciones(n)\n",
    "if n==1\n",
    "    % Ejercicio 1:\n",
    "    z = -1+2i;\n",
    "    w = sqrt(2)+3i;\n",
    "    s = -i;\n",
    "    fprintf(\"Ejercicio 1:\\n \");\n",
    "    c1 = 0.5*z-0.6*conj(w)*imag(s)+s*z*w\n",
    "    c2 = 2*z*w-s^1023*z\n",
    "    c3 = s^1023+s^1024+s^1025+s^1026\n",
    "    c4 = conj(z*w) - conj(z) * conj(w)\n",
    "    c5 = conj(z+w) - conj(z) - conj(w)\n",
    "else\n",
    "    % Ejercicio 2:\n",
    "    fprintf(\"Ejercicio 2:\\n\");\n",
    "    z1 = 2-2i\n",
    "    z2 = sqrt(2)*exp(1i*pi/4)\n",
    "    Mz1 = abs(z1);\n",
    "    Mz2 = abs(z2);\n",
    "    Cz2 = 2*conj(z2);\n",
    "    fprintf(\"Módulo de z1: %f,\",Mz1)\n",
    "    fprintf(\" Módulo de z2: %f,\\n\",Mz2)\n",
    "    fprintf(\"|z1| = 2|z2| = %f \\n\",(2*Mz2))\n",
    "    fprintf(\"\\n2conj(z2) = %f  %fi, que es z1\\n\",real(Cz2),imag(Cz2))\n",
    "    producto = z1*z2;\n",
    "    Reprod =real(producto);\n",
    "    fprintf(\"Producto: z1 * z2 = %d, Re(z1*z2) = %d\\n\",producto, Reprod)\n",
    "    compass(z1,'b')\n",
    "    hold on\n",
    "    compass(z2,'r')\n",
    "end\n",
    "end"
   ]
  }
 ],
 "metadata": {
  "kernelspec": {
   "display_name": "Octave",
   "language": "octave",
   "name": "octave"
  },
  "language_info": {
   "file_extension": ".m",
   "help_links": [
    {
     "text": "GNU Octave",
     "url": "https://www.gnu.org/software/octave/support.html"
    },
    {
     "text": "Octave Kernel",
     "url": "https://github.com/Calysto/octave_kernel"
    },
    {
     "text": "MetaKernel Magics",
     "url": "https://metakernel.readthedocs.io/en/latest/source/README.html"
    }
   ],
   "mimetype": "text/x-octave",
   "name": "octave",
   "version": "7.1.0"
  }
 },
 "nbformat": 4,
 "nbformat_minor": 4
}
