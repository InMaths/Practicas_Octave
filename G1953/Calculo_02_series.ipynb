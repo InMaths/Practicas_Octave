{
 "cells": [
  {
   "cell_type": "markdown",
   "metadata": {},
   "source": [
    "<img src=\"../figs/logoIC.png\" width=\"585\" alt=\"image_0.png\">\n",
    "\n",
    "# Cálculo (G1953) - Grado en Ingeniería Civil\n",
    "\n",
    "#### Guión original en MatLab de Vera Egorova* (<vera.egorova@unican.es>)\n",
    "#### Adaptado para Octave por Joaquín Bedia* (<bediaj@unican.es>)\n",
    "\n",
    "##### *Universidad de Cantabria, Dpto. Matemática Aplicada y Ciencias de la Computación)\n",
    "\n",
    "<!--\n",
    "<a name=\"T_55FB4C11\"></a>\n",
    "-->\n",
    "\n",
    "***\n",
    "\n",
    "# <span style=\"color:rgb(213,80,0)\">**Series numéricas**</span>\n",
    "<p style=\"text-align:left\">\n",
    "   <img src=\"https://upload.wikimedia.org/wikipedia/commons/thumb/6/6a/Gnu-octave-logo.svg/240px-Gnu-octave-logo.svg.png\" width=\"75\">\n",
    "</p>\n",
    "\n",
    "***\n",
    "\n",
    "<a name=\"beginToc\"></a>\n",
    "\n",
    "## Contenido\n",
    "\n",
    "&emsp;[Variables simbólicas (instalación del paquete `symbolic`)](#H_2B2BD077)\n",
    "\n",
    "&emsp;[Series numéricas](#H_2B2BD059)\n",
    "\n",
    "&emsp;&emsp;[Sumas (parciales y totales) ](#H_B7B36911)\n",
    "\n",
    "&emsp;&emsp;[Término general](#H_15F814DD)\n",
    "\n",
    "&emsp;[Ejercicios propuestos](#H_D5059269)\n",
    "\n",
    "&emsp;[Resumen](#H_DF9B7CFB)\n",
    "\n",
    "&emsp;[Soluciones ](#H_AC6B0A09)\n",
    "\n",
    "<a name=\"endToc\"></a>\n",
    "\n",
    "\n",
    "***\n",
    "\n",
    "<a name=#H_2B2BD077></a>\n",
    "\n",
    "### **Variables simbólicas** (instalación del paquete `symbolic`)\n",
    "\n",
    "OCTAVE permite trabajar con variables  simbólicas, es decir, variables genéricas que, en principio, no tienen porqué tomar un valor concreto (piensa en las incógnitas de cualquier ecuación). Para ello, tenemos que tener instalado el paquete \"Symbolic\". Para instalarlo localmente, basta acudir al [repositorio central de paquetes de OCTAVE](https://gnu-octave.github.io/packages/), donde pueden encontrarse las últimas versiones de los diferentes paquetes creados en OCTAVE, y buscar el paquete [symbolic](https://gnu-octave.github.io/packages/symbolic/).\n",
    "\n",
    "\n",
    "<p style=\"text-align:left\">\n",
    "   <img src=\"../figs/symbolic_pkg.png\" width=\"942\" alt=\"image_1.png\">\n",
    "</p>\n",
    "\n",
    "Aquí encontraremos la manera de instalarlo. Lo más sencillo es copiar la instrucción `pkg install \"https://....\"` indicada en el recuadro y pegarla y ejecutarla en la línea de comandos de OCTAVE, lo que automáticamente instalará el paquete. A continuación, instalamos la versión 3.2.1 de symbolic:\n"
   ]
  },
  {
   "cell_type": "code",
   "execution_count": null,
   "metadata": {},
   "outputs": [],
   "source": [
    "pkg install \"https://downloads.sourceforge.net/project/octave/Octave%20Forge%20Packages/Individual%20Package%20Releases/symbolic-3.2.1.tar.gz\""
   ]
  },
  {
   "cell_type": "markdown",
   "metadata": {},
   "source": [
    "Una vez instalado, hay que cargar la librería para que sus funciones se encuentren disponibles al usuario:"
   ]
  },
  {
   "cell_type": "code",
   "execution_count": null,
   "metadata": {},
   "outputs": [],
   "source": [
    "pkg load symbolic"
   ]
  },
  {
   "cell_type": "markdown",
   "metadata": {},
   "source": [
    "\n",
    "Para crear una variable simbólica se utiliza el comando `syms`:\n",
    "\n",
    "<pre>\n",
    "syms x  % defino la variable x como simbolica\n",
    "</pre>\n",
    "\n",
    "Una vez definida, podemos crear expresiones simbólicas que dependen de <samp>x</samp>. Por ejemplo:"
   ]
  },
  {
   "cell_type": "code",
   "execution_count": null,
   "metadata": {},
   "outputs": [],
   "source": [
    "clearvars % limpiamos la memoria\n",
    "syms x\n",
    "eq = x^2 + 5;  % ecuacion que depende de x"
   ]
  },
  {
   "cell_type": "markdown",
   "metadata": {},
   "source": [
    "Prestamos atención al espacio de trabajo:\n",
    "\n",
    "<p style=\"text-align:left\">\n",
    "   <img src=\"../figs/workspace_sym.png\" width=\"505\" alt=\"image_2.png\">\n",
    "</p>\n",
    "\n",
    "\n",
    "ni <samp>x</samp> ni <samp>eq</samp> tienen valores numéricos asignados. La forma de obligar a que una variable simbólica tome un determinado valor es mediante el comando `subs`:\n",
    "\n",
    "<pre>\n",
    "snew = subs(expresion, old, new) % sustituye en expresion todas las ocurrencias de old por new.\n",
    "</pre>\n",
    "\n",
    "Por ejemplo, asignamos el valor de 3 a la variable simbólica `x`"
   ]
  },
  {
   "cell_type": "code",
   "execution_count": null,
   "metadata": {},
   "outputs": [],
   "source": [
    "v = subs(eq, x, 3)  % forzamos a que x tome el valor 3 en la expresion 'eq'"
   ]
  },
  {
   "cell_type": "markdown",
   "metadata": {},
   "source": [
    "\n",
    "Aunque <samp>v</samp> puede parecer un número, en realidad es una variable simbólica a la que se le ha asignado un valor numérico.\n"
   ]
  },
  {
   "cell_type": "code",
   "execution_count": null,
   "metadata": {},
   "outputs": [],
   "source": [
    "class(v)"
   ]
  },
  {
   "cell_type": "markdown",
   "metadata": {},
   "source": [
    "\n",
    "Para convertir una variable simbólica a un número real, se utiliza el comando <samp>double:</samp>\n"
   ]
  },
  {
   "cell_type": "code",
   "execution_count": null,
   "metadata": {},
   "outputs": [],
   "source": [
    "v_num = double(v)"
   ]
  },
  {
   "cell_type": "markdown",
   "metadata": {},
   "source": [
    "\n",
    "Ahora en el espacio de trabajo tenemos:\n",
    "\n",
    "<p style=\"text-align:left\">\n",
    "   <img src=\"../figs/workspace_sym2.png\" width=\"505\" alt=\"image_3.png\">\n",
    "</p>\n",
    "\n",
    "\n",
    "La variable `v_num` tiene un valor (14), es un número (class=double) para OCTAVE.\n",
    "\n",
    "<a name=\"H_2B2BD059\"></a>\n",
    "\n",
    "### Series numéricas\n",
    "\n",
    "\n",
    "*** \n",
    "<a name=\"H_B7B36911\"></a>\n",
    "\n",
    "#### Sumas (parciales y totales)\n",
    "\n",
    "*** \n",
    "\n",
    "Hemos visto que, salvo para el caso de series geométricas y telescópicas, el cálculo de la suma de cualquier otro tipo de serie suele resultar una tarea poco menos que imposible. En cambio, con OCTAVE resulta muy fácil calcular tanto cualquier suma parcial de una serie como su suma total. Para ello se utiliza el comando `symsum`, que opera sobre expresiones simbólicas:\n",
    "\n",
    "<pre>\n",
    "F = symsum(f,n,a,b) % suma de la serie f, desde n = a hasta n = b\n",
    "</pre>\n",
    "\n",
    "\n",
    "\n",
    "**Ejemplo:** Consideramos la serie armónica $\\displaystyle{\\sum_{n=1}^{\\infty } \\frac{1}{n}}$. Calculamos su suma parcial 56\\-ésima:\n",
    "\n"
   ]
  },
  {
   "cell_type": "code",
   "execution_count": null,
   "metadata": {},
   "outputs": [],
   "source": [
    "syms n integer  % defino 'n' como variable simbolica (entera)\n",
    "a_n = 1/n;  % termino general de la serie\n",
    "S_56 = double(symsum(a_n, n, 1, 56) ) % suma parcial 56-esima (valor numérico)"
   ]
  },
  {
   "cell_type": "markdown",
   "metadata": {},
   "source": [
    "\n",
    " Calcula su suma total (hasta el infinito):\n"
   ]
  },
  {
   "cell_type": "code",
   "execution_count": null,
   "metadata": {},
   "outputs": [],
   "source": [
    "S = symsum(a_n, n, 1, inf)  % suma total"
   ]
  },
  {
   "cell_type": "markdown",
   "metadata": {},
   "source": [
    "\n",
    "Como la suma total es $\\infty$ , la serie es divergente.\n",
    "\n",
    "\n",
    "Como ya sabíamos, la serie armónica $~\\displaystyle{\\sum_{n=1}^{\\infty } \\frac{1}{n}}$ es divergente (serie armónica generalizada con $p=1$ ).\n",
    "\n",
    "\n",
    "Fíjate en que resulta muy fácil analizar el carácter (convergente o divergente) de cualquier serie con OCTAVE.\n",
    "\n",
    "\n",
    "**Ejercicio:** Analiza el carácter de la siguientes series:\n",
    "\n",
    "-  $\\displaystyle {\\sum_{n=1}^{\\infty } \\frac{1}{n(n+1)}}$"
   ]
  },
  {
   "cell_type": "code",
   "execution_count": null,
   "metadata": {},
   "outputs": [],
   "source": [
    "% escribe aquí el código:\n",
    "\n",
    "\n"
   ]
  },
  {
   "cell_type": "markdown",
   "metadata": {},
   "source": [
    "\n",
    "Solución:\n"
   ]
  },
  {
   "cell_type": "code",
   "execution_count": null,
   "metadata": {},
   "outputs": [],
   "source": [
    "clearvars % borramos variables guardadas en memoria\n",
    "syms n integer % definimos 'n' como variable simbólica entera\n",
    "a_n = 1/(n*(n+1));  % termino general de la sucesión\n",
    "S = double(symsum(a_n, 1, inf))  % convergente (su suma es 1)"
   ]
  },
  {
   "cell_type": "markdown",
   "metadata": {},
   "source": [
    "\n",
    "-  $\\displaystyle {\\sum_{n=1}^{\\infty } \\frac{2^n +1}{5^n +1}}$"
   ]
  },
  {
   "cell_type": "code",
   "execution_count": null,
   "metadata": {},
   "outputs": [],
   "source": [
    "% escribe aquí el código:\n",
    "\n"
   ]
  },
  {
   "cell_type": "markdown",
   "metadata": {},
   "source": [
    "\n",
    "Solución:\n"
   ]
  },
  {
   "cell_type": "code",
   "execution_count": null,
   "metadata": {},
   "outputs": [],
   "source": [
    "a_n = (2^n + 1)/(5^n + 1);\n",
    "S = double(symsum(a_n, 1, inf))  % convergente (su suma es 0.8084)"
   ]
  },
  {
   "cell_type": "markdown",
   "metadata": {},
   "source": [
    "\n",
    "-   $\\displaystyle {\\sum_{n=1}^{\\infty } \\frac{3n-1}{(\\sqrt{2})^n }}\\;$ (por el criterio del cociente es convergente)"
   ]
  },
  {
   "cell_type": "code",
   "execution_count": null,
   "metadata": {},
   "outputs": [],
   "source": [
    "% escribe aquí el código:\n",
    "\n"
   ]
  },
  {
   "cell_type": "markdown",
   "metadata": {},
   "source": [
    "\n",
    "Solución:\n"
   ]
  },
  {
   "cell_type": "code",
   "execution_count": null,
   "metadata": {},
   "outputs": [],
   "source": [
    "a_n = (3*n - 1)/(sqrt(2)^n);  % termino general\n",
    "S = double(symsum(a_n, 1, inf))  % convergente (su suma es 22.3137)"
   ]
  },
  {
   "cell_type": "markdown",
   "metadata": {},
   "source": [
    "\n",
    "-   $\\displaystyle {\\sum_{n=1}^{\\infty } \\frac{(2n)!}{(n!)^2 }}$ (por el criterio del cociente es divergente)"
   ]
  },
  {
   "cell_type": "code",
   "execution_count": null,
   "metadata": {},
   "outputs": [],
   "source": [
    "% escribe aquí el código:\n",
    "\n"
   ]
  },
  {
   "cell_type": "markdown",
   "metadata": {},
   "source": [
    "\n",
    "Solución:\n"
   ]
  },
  {
   "cell_type": "code",
   "execution_count": null,
   "metadata": {},
   "outputs": [],
   "source": [
    "a_n = factorial(2*n)/(factorial(n))^2;  % termino general\n",
    "S = symsum(a_n, 1, inf)   % divergente \n",
    "Snum = double(S) % OCTAVE devuelve NaN/Inf al convertir el infinito simbólico a numérico"
   ]
  },
  {
   "cell_type": "markdown",
   "metadata": {},
   "source": [
    "***\n",
    "<a name=\"H_15F814DD\"></a>\n",
    "\n",
    "#### Término general\n",
    "\n",
    "***\n",
    "\n",
    "Otra cosa que resulta prácticamente inmediata con OCTAVE es calcular el término general de una serie, $a_n$ , conocida la expresión de su suma parcial enésima ( $\\displaystyle a_n =S_n -S_{n-1}$ ).\n",
    "\n",
    "\n",
    "**Ejemplo:** Calculamos el término general de la serie cuya suma parcial enésima es $\\displaystyle S_n =\\frac{n+1}{n+10}$\n",
    "\n",
    "\n",
    "1.  Definimos la suma parcial enésima:\n"
   ]
  },
  {
   "cell_type": "code",
   "execution_count": null,
   "metadata": {},
   "outputs": [],
   "source": [
    "clearvars\n",
    "syms n integer\n",
    "S_n = (n+1)/(n+10)  % suma parcial enesima"
   ]
  },
  {
   "cell_type": "markdown",
   "metadata": {},
   "source": [
    "\n",
    "2. Calculamos $S_{n-1}$ utilizando el comando <samp>subs</samp>:\n"
   ]
  },
  {
   "cell_type": "code",
   "execution_count": null,
   "metadata": {},
   "outputs": [],
   "source": [
    "S_nmenos1 = subs(S_n, n, n-1)  % suma parcial (n-1)-esima"
   ]
  },
  {
   "cell_type": "markdown",
   "metadata": {},
   "source": [
    "\n",
    "3. Calculamos el término general $a_n =S_n -S_{n-1}$ :\n"
   ]
  },
  {
   "cell_type": "code",
   "execution_count": null,
   "metadata": {},
   "outputs": [],
   "source": [
    "a_n = simplify(S_n - S_nmenos1)  % termino general"
   ]
  },
  {
   "cell_type": "markdown",
   "metadata": {},
   "source": [
    "\n",
    "¿Esta serie es convergente o divergente? Por el criterio de comparación es convergente. Comprobamos calculando la suma total:\n"
   ]
  },
  {
   "cell_type": "code",
   "execution_count": null,
   "metadata": {},
   "outputs": [],
   "source": [
    "S = symsum(a_n,n,0,inf)"
   ]
  },
  {
   "cell_type": "markdown",
   "metadata": {},
   "source": [
    "\n",
    "<a name=\"H_D5059269\"></a>\n",
    "\n",
    "### Ejercicios propuestos\n",
    "\n",
    "1. Halla el término general y el carácter de las series cuya suma parcial enésima es:\n",
    "\n",
    "-  $\\displaystyle S_n =\\frac{3^{n+1} -1}{2}\\textrm{,}\\;n\\in \\mathbb{N}\\;$\n",
    "-  $\\displaystyle S_n =\\frac{2^n -1}{2\\cdot 3^n }\\textrm{,}\\;n\\in \\mathbb{N}\\;\\textrm{    }$"
   ]
  },
  {
   "cell_type": "code",
   "execution_count": null,
   "metadata": {},
   "outputs": [],
   "source": [
    "% escribe aquí el código:\n"
   ]
  },
  {
   "cell_type": "markdown",
   "metadata": {},
   "source": [
    "\n",
    "Solución:\n",
    "(para ver las soluciones, debe ejecutarse primero la función `soluciones` al final del notebook)\n"
   ]
  },
  {
   "cell_type": "code",
   "execution_count": null,
   "metadata": {},
   "outputs": [],
   "source": [
    "soluciones(1)"
   ]
  },
  {
   "cell_type": "markdown",
   "metadata": {},
   "source": [
    "\n",
    "2. Analiza la convergencia y halla la suma total de la  serie: $\\displaystyle {\\sum_{n=1}^{\\infty } \\frac{2^{n-1} }{4^{2n+1} }}$ .\n",
    "\n"
   ]
  },
  {
   "cell_type": "code",
   "execution_count": null,
   "metadata": {},
   "outputs": [],
   "source": [
    "% escribe aquí el código:\n",
    "\n",
    "\n"
   ]
  },
  {
   "cell_type": "markdown",
   "metadata": {},
   "source": [
    "\n",
    "Solución:\n"
   ]
  },
  {
   "cell_type": "code",
   "execution_count": null,
   "metadata": {},
   "outputs": [],
   "source": [
    "soluciones(2)"
   ]
  },
  {
   "cell_type": "markdown",
   "metadata": {},
   "source": [
    "\n",
    "<a name=\"H_DF9B7CFB\"></a>\n",
    "\n",
    "### Resumen\n",
    "\n",
    "**Definir variable simbólica**:\n",
    "\n",
    "<pre>\n",
    "syms x real\n",
    "</pre>\n",
    "-   <samp>subs:</samp> Sustituir en expresión\n",
    "-   <samp>double:</samp> Convertir variable simbólica a valor numérico\n",
    "\n",
    "**Sumas Parciales y Totales**\n",
    "\n",
    "Se incluyen algunos enlaces a la documentación online de los comandos en MatLab, que son equivalentes:\n",
    "\n",
    "-  [**<samp>symsum</samp>:**](https://es.mathworks.com/help/symbolic/sym.symsum.html) Este comando calcula la suma parcial o total de una serie. Puede operar sobre expresiones simbólicas para obtener tanto la suma de un número finito de términos como la suma infinita de la serie.\n",
    "-  **<samp>symsum(f, n, a, b)</samp>:** Calcula la suma de la serie <samp>f</samp> desde <samp>n = a</samp> hasta <samp>n = b</samp>.\n",
    "-  **<samp>symsum(f, n, a, inf)</samp>:** Calcula la suma total de la serie desde <samp>n = a</samp> hasta el infinito.\n",
    "-  Si el resultado es $\\infty$ o `NaN`, la serie es divergente. En otro caso es convergente.\n",
    "\n",
    "**Término General**\n",
    "\n",
    "-  **Término General de la Serie** ($a_n$): Es el término individual de la serie, que se puede obtener a partir de la diferencia entre sumas parciales consecutivas: $a_n =S_n -S_{n-1}$\n",
    "\n",
    "<a name=\"H_AC6B0A09\"></a>\n",
    "\n",
    "### Soluciones"
   ]
  },
  {
   "cell_type": "code",
   "execution_count": null,
   "metadata": {},
   "outputs": [],
   "source": [
    "function [] = soluciones(n)\n",
    "switch n\n",
    "    case 1\n",
    "        % Ejercicio 1:\n",
    "        fprintf(\"Ejercicio 1:\\n\");\n",
    "        syms n integer\n",
    "        S_n = (3^(n+1)-1)/2\n",
    "        S_nmenos1 = subs(S_n, n, n-1);  % suma parcial (n-1)-esima\n",
    "        a_n = simplify(S_n - S_nmenos1)  % termino general\n",
    "        S = limit(S_n,n,inf)\n",
    "        fprintf(\"Como la suma total es inf, la serie es divergente.\\n\")\n",
    "        S_n = (2^n-1)/(2*3^n)\n",
    "        S_nmenos1 = subs(S_n, n, n-1);  % suma parcial (n-1)-esima\n",
    "        a_n = simplify(S_n - S_nmenos1)  % termino general\n",
    "        S = limit(S_n,n,inf)\n",
    "        fprintf(\"Como la suma total es 0, la serie es convergente.\\n\")\n",
    "    case 2\n",
    "        % Ejercicio 2:\n",
    "        fprintf(\"Ejercicio 2:\\n\");\n",
    "        close all\n",
    "        syms n N integer\n",
    "        a_n = 2^(n-1)/4^(2*n+1);\n",
    "        S_N = symsum(a_n,n,1,N);\n",
    "        S = limit(S_N,N, inf);\n",
    "        fprintf(\"Como S  = %f, la serie es convergente\\n\",double(S))\n",
    "        x = 1:50;\n",
    "        an = double(subs(a_n, n,x));\n",
    "        Sn =  double(subs(S_N, N,x));\n",
    "end\n",
    "end"
   ]
  }
 ],
 "metadata": {
  "kernelspec": {
   "display_name": "Octave",
   "language": "octave",
   "name": "octave"
  },
  "language_info": {
   "file_extension": ".m",
   "help_links": [
    {
     "text": "GNU Octave",
     "url": "https://www.gnu.org/software/octave/support.html"
    },
    {
     "text": "Octave Kernel",
     "url": "https://github.com/Calysto/octave_kernel"
    },
    {
     "text": "MetaKernel Magics",
     "url": "https://metakernel.readthedocs.io/en/latest/source/README.html"
    }
   ],
   "mimetype": "text/x-octave",
   "name": "octave",
   "version": "7.1.0"
  }
 },
 "nbformat": 4,
 "nbformat_minor": 4
}
