{
 "cells": [
  {
   "cell_type": "markdown",
   "id": "2fc4f16a",
   "metadata": {},
   "source": [
    "<img src=\"../figs/logoIC.png\" width=\"585\" alt=\"image_0.png\">\n",
    "\n",
    "# Cálculo (G1953) - Grado en Ingeniería Civil\n",
    "\n",
    "#### Joaquín Bedia* (<bediaj@unican.es>)\n",
    "\n",
    "##### *Universidad de Cantabria, Dpto. Matemática Aplicada y Ciencias de la Computación)\n",
    "\n",
    "<!--\n",
    "<a name=\"T_55FB4C11\"></a>\n",
    "-->\n",
    "\n",
    "***\n",
    "\n",
    "# <span style=\"color:rgb(213,80,0)\">**Breve tutorial de representacion gráfica de funciones con Octave**</span>\n",
    "\n",
    "<p style=\"text-align:left\">\n",
    "   <img src=\"https://upload.wikimedia.org/wikipedia/commons/thumb/6/6a/Gnu-octave-logo.svg/240px-Gnu-octave-logo.svg.png\" width=\"75\">\n",
    "</p>\n",
    "\n",
    "***\n",
    "<a name=\"beginToc\"></a>\n",
    "\n",
    "\n",
    "## Índice\n",
    "\n",
    "&emsp;[Ejemplo Básico](#H1)\n",
    "\n",
    "&emsp;[Opciones del gráfico](#H2)\n",
    "\n",
    "&emsp;&emsp;[Tipos de líneas, puntos y colores](#H21)\n",
    "\n",
    "&emsp;&emsp;[Etiquetas, leyendas y títulos](#H22)\n",
    "\n",
    "&emsp;[Múltiples gráficas en la misma ventana](#H3)\n",
    "\n",
    "&emsp;[ Gráficas con `ezplot`](#H4)\n",
    "\n",
    "&emsp;[Ejercicios](#H5)\n",
    "\n",
    "&emsp;[Resumen](#H6)\n",
    "\n",
    "\n",
    "<a name=\"endToc\"></a>\n",
    "\n",
    "***\n"
   ]
  },
  {
   "cell_type": "markdown",
   "id": "b58e63fa",
   "metadata": {},
   "source": [
    "Octave dispone de potentes funciones para trazar gráficos, utilizando el programa de código abierto [GNUPLOT](http://www.gnuplot.info/). El comando básico es `plot(x, y)`, donde `x` e `y` son las coordenadas. Si se proporciona solo un par de números, se dibuja un punto.\n",
    "\n",
    "Sin embargo, normalmente se pasan vectores `x` e `y`, y se trazan todos los puntos dados por los dos vectores, uniéndolos con líneas rectas. Dependiendo de la densidad de puntos y el tipo de línea elegido, podemos obtener gráficos con apariencia de *continuidad* en el caso de funciones continuas. Veamos a continuación algunos ejemplos:"
   ]
  },
  {
   "cell_type": "markdown",
   "id": "ee4ef020",
   "metadata": {},
   "source": [
    "<a name=#H1></a>\n",
    "\n",
    "## Ejemplo Básico"
   ]
  },
  {
   "cell_type": "markdown",
   "id": "bf1a223e",
   "metadata": {},
   "source": [
    "Vamos a comenzar representando la parábola $f(x)=x^2$ en el intervalo $[0,1]$. Para ello, generamos primero las coordenadas en X. Una función muy útil para esto es `linspace`:"
   ]
  },
  {
   "cell_type": "code",
   "execution_count": null,
   "id": "0ad6ed7d",
   "metadata": {},
   "outputs": [],
   "source": [
    "x=linspace(0,1,11)"
   ]
  },
  {
   "cell_type": "markdown",
   "id": "f416cdc9",
   "metadata": {},
   "source": [
    "El vector `x` que acabamos de crear representa una partición del intervalo $[0,1]$ en 10 subintervalos equiespaciados*. \n",
    "***\n",
    "***Nota**: Nos referimos a este vector como una _partición regular_\n",
    "***"
   ]
  },
  {
   "cell_type": "markdown",
   "id": "58a2ab87",
   "metadata": {},
   "source": [
    "Una alternativa es la definición del vector mediante la notación estándar de Octave/MatLab, indicando una secuencia desde $0$ hasta $1$ cada $0.1$. En este caso es muy sencillo, pero a menudo usar `linspace` nos dará más libertad para generar particiones regulares en cualquier intervalo:"
   ]
  },
  {
   "cell_type": "code",
   "execution_count": null,
   "id": "393f897d",
   "metadata": {},
   "outputs": [],
   "source": [
    "% Alternativa para generar la particion del intervalo [0,1]\n",
    "0:.1:1"
   ]
  },
  {
   "cell_type": "markdown",
   "id": "559051bd",
   "metadata": {},
   "source": [
    "Ahora evaluamos esos valores de $x$ con la función $f(x)=x^2$, y los guardamos en el vector `y`:"
   ]
  },
  {
   "cell_type": "code",
   "execution_count": null,
   "id": "c66543cc",
   "metadata": {},
   "outputs": [],
   "source": [
    "y=x.^2"
   ]
  },
  {
   "cell_type": "markdown",
   "id": "3865ce1e",
   "metadata": {},
   "source": [
    "***\n",
    "**Nota**: Nótese el uso del punto antes del símbolo del exponente `.^`. Esto indica a Octave que calcule cuadrado de cada valor individual del vector `x`. El comando `y=x.*x` también serviría, pero `x*x` dará un mensaje de error porque las dimensiones del vector `x` no permiten el producto matricial.\n",
    "***"
   ]
  },
  {
   "cell_type": "markdown",
   "id": "bf06c568",
   "metadata": {},
   "source": [
    "Ya podemos dibujar la gráfica:"
   ]
  },
  {
   "cell_type": "code",
   "execution_count": null,
   "id": "227ce482",
   "metadata": {},
   "outputs": [],
   "source": [
    "plot(x,y)"
   ]
  },
  {
   "cell_type": "markdown",
   "id": "d9af9a2a",
   "metadata": {},
   "source": [
    "Ahora ya tenemos una ventana que contiene la gráfica de $y = x^2$ desde $x = 0$ hasta $x = 1$, que utiliza una fina línea azul para conectar los puntos. Este es el estilo de trazo por defecto en Octave. Para cambiar la apariencia del gráfico, necesitamos añadir argumentos adicionales al comando `plot`.\n",
    "Por ejemplo, podemos cambiar el trazado para que aparezca como una línea roja:"
   ]
  },
  {
   "cell_type": "code",
   "execution_count": null,
   "id": "78a0328b",
   "metadata": {},
   "outputs": [],
   "source": [
    "plot(x,y,'r')"
   ]
  },
  {
   "cell_type": "markdown",
   "id": "a84a4203",
   "metadata": {},
   "source": [
    "O bien una línea verde que une los puntos mediante círculos:"
   ]
  },
  {
   "cell_type": "code",
   "execution_count": null,
   "id": "f93f1c78",
   "metadata": {},
   "outputs": [],
   "source": [
    "plot(x,y,'g-o')"
   ]
  },
  {
   "cell_type": "markdown",
   "id": "fca4098a",
   "metadata": {},
   "source": [
    "y un sinfín de opciones adicionales... que brevemente probamos a continuación:"
   ]
  },
  {
   "cell_type": "markdown",
   "id": "8725ca03",
   "metadata": {},
   "source": [
    "<a name=#H2></a>\n",
    "## Opciones del gráfico"
   ]
  },
  {
   "cell_type": "markdown",
   "id": "2f57049b",
   "metadata": {},
   "source": [
    "<a name=#H21></a>\n",
    "### Tipos de líneas, puntos y colores"
   ]
  },
  {
   "cell_type": "markdown",
   "id": "a6b42666",
   "metadata": {},
   "source": [
    "Se pueden cambiar diversos parámetros gráficos mediante la función `plot`, que tiene la siguiente implementación:"
   ]
  },
  {
   "cell_type": "markdown",
   "id": "d99aca15",
   "metadata": {},
   "source": [
    "`plot(x,t,'[colour][linestyle][marker]','linewidth', [n])`     donde:"
   ]
  },
  {
   "cell_type": "markdown",
   "id": "899d3c8b",
   "metadata": {},
   "source": [
    "* `[colour]`: color de la línea. Las opciones más básicas son `'b'`, `'r'`, `'k'` o `'g'` (azul, rojo, negro o verde), [aunque hay otras](https://docs.octave.org/latest/Colors.html)...\n",
    "* `[linestyle]`: Especifica el estilo de la línea que desea trazar. `'-'`, `'--'` o `' '`(espacio en blanco) son ejemplos comunes que corresponden a línea sólida, discontinua o sin línea, respectivamente. (**Nota**: la opción sin línea sólo funcionará si especifica un `marker` (tipo de punto)).\n",
    "* `[marker]`: Especifica el marcador (o tipo de punto). valores típicos son `' '`(espacio en blanco), `'*'` (asteriscos)  `'o'` (círculos).\n",
    "* `[n]`: Especifica el grosor de la línea (el valor por defecto es 0.5)"
   ]
  },
  {
   "cell_type": "markdown",
   "id": "83ee5d71",
   "metadata": {},
   "source": [
    "Se pueden elegir valores sólo para algunas de las opciones. Si en alguna opción no se indica nada, se usarán los valores por defecto. Por ejemplo:"
   ]
  },
  {
   "cell_type": "code",
   "execution_count": null,
   "id": "f1a04289",
   "metadata": {},
   "outputs": [],
   "source": [
    "## Opcion adecuada para representar gráficamente sucesiones:\n",
    "plot(x,y,'o')"
   ]
  },
  {
   "cell_type": "code",
   "execution_count": null,
   "id": "e8266172",
   "metadata": {},
   "outputs": [],
   "source": [
    "## Puntos rojos\n",
    "plot(x,y,'ro')"
   ]
  },
  {
   "cell_type": "code",
   "execution_count": null,
   "id": "d8d5cef1",
   "metadata": {},
   "outputs": [],
   "source": [
    "## Gráfica de xy como una línea azul, discontinua, de grosor de trazo 3:\n",
    "plot(x,y,'b--','linewidth',3)"
   ]
  },
  {
   "cell_type": "markdown",
   "id": "bb11eb0f",
   "metadata": {},
   "source": [
    "<a name=#H22></a>\n",
    "### Etiquetas, leyendas y títulos"
   ]
  },
  {
   "cell_type": "code",
   "execution_count": null,
   "id": "e2d8be2a",
   "metadata": {},
   "outputs": [],
   "source": [
    "plot(x,y,'b','linewidth', 2)\n",
    "grid on; # Rejilla\n",
    "xlabel('x'); # Titulo del eje X\n",
    "ylabel('y'); # Titulo del eje Y\n",
    "title('Ejemplo de gráfica: y=x^2 en el intervalo [0,1]'); # Título del gráfico\n",
    "legend('f(x)=x^2','location','northwest'); # Leyenda en la parte superior izquierda ('northwest')"
   ]
  },
  {
   "cell_type": "markdown",
   "id": "fc341e6a",
   "metadata": {},
   "source": [
    "<a name=#H3></a>\n",
    "## Múltiples gráficas en la misma ventana"
   ]
  },
  {
   "cell_type": "markdown",
   "id": "32a7fb72",
   "metadata": {},
   "source": [
    "En el siguiente ejemplo dibujamos la función $f(x)=cos(x)$ y $g(x)=sen(x)$ en el mismo gráfico, en el intervalo $[0,2\\pi]$.\n",
    "\n",
    "La clave para ello es el comando `hold on`, que al invocarse va añadiendo lo que dibujemos a la misma ventana previamente abierta. Una vez terminada la gráfica, se desactiva con `hold off`, tal y como se muestra en el siguiente ejemplo:"
   ]
  },
  {
   "cell_type": "code",
   "execution_count": null,
   "id": "37c3691c",
   "metadata": {},
   "outputs": [],
   "source": [
    "% Definir el rango de x\n",
    "x = linspace(0, 2*pi, 100);\n",
    "\n",
    "% Calcular las funciones\n",
    "y1 = sin(x);\n",
    "y2 = cos(x);\n",
    "\n",
    "% Graficar las funciones\n",
    "plot(x, y1, 'r', 'LineWidth', 2); % Seno en rojo\n",
    "hold on;\n",
    "plot(x, y2, 'b', 'LineWidth', 2); % Coseno en azul\n",
    "hold off;\n",
    "\n",
    "% Añadir etiquetas y título\n",
    "xlabel('x');\n",
    "ylabel('y');\n",
    "title('Gráficas de las funciones seno y coseno');\n",
    "legend('sin(x)', 'cos(x)');\n",
    "grid on;"
   ]
  },
  {
   "cell_type": "markdown",
   "id": "64767228",
   "metadata": {},
   "source": [
    "<a name=#H4></a>\n",
    "## Gráficas con `ezplot`"
   ]
  },
  {
   "cell_type": "markdown",
   "id": "afb458e2",
   "metadata": {},
   "source": [
    "En primer lugar, borramos el espacio de trabajo y las ventanas gráficas abiertas. Para ello, introducimos los siguientes comandos:"
   ]
  },
  {
   "cell_type": "code",
   "execution_count": 71,
   "id": "b425324d",
   "metadata": {},
   "outputs": [],
   "source": [
    "clear all; clf; %% Da error en binder al correr en la nube, porque no abre ventanas gráficas nuevas sino que dibuja \"inline\""
   ]
  },
  {
   "cell_type": "markdown",
   "id": "74ddd9e6",
   "metadata": {},
   "source": [
    "* El comando `clear all` borra todas las variables existentes y otros elementos del área de trabajo; también libera memoria del sistema.\n",
    "* El comando `clf` borra la ventana de la figura actual.\n",
    "Esta práctica de limpiar el espacio de trabajo es muy recomendable siempre que comencemos un nuevo conjunto de operaciones en Octave."
   ]
  },
  {
   "cell_type": "markdown",
   "id": "33b5d02e",
   "metadata": {},
   "source": [
    "Alternativamente, podemos utilizar la función [`ezplot`](https://octave.sourceforge.io/octave/function/ezplot.html), que funciona de una forma diferente a lo visto hasta ahora. La función ezplot en Octave se utiliza para trazar curvas 2D de manera sencilla. Puede manejar funciones de una o dos variables, y permite especificar el dominio de la gráfica. Es especialmente útil para representar funciones simbólicas o definidas mediante expresiones matemáticas.\n",
    "\n",
    "Por ejemplo, si antes representábamos la parábola $f(x)=x^2$ generando pares de valores en $x$ e $y$ dentro de un intervalo de X, con `ezplot` podemos definir $f(x)$ como una _función anónima_ de la siguiente forma:"
   ]
  },
  {
   "cell_type": "code",
   "execution_count": null,
   "id": "0e9a3cfc",
   "metadata": {},
   "outputs": [],
   "source": [
    "f = @(x) x.^2"
   ]
  },
  {
   "cell_type": "markdown",
   "id": "059dcecf",
   "metadata": {},
   "source": [
    "Lo que indica que $f$ es una función de x (indicado por la arroba) definida como $x^2$. \n",
    "\n",
    "***\n",
    "**Nota**: Las _funciones anónimas_ son útiles para definir funciones rápidas y sencillas sin necesidad de crear un archivo separado\n",
    "***\n",
    "\n",
    "Esto resulta ventajoso para graficar funciones en cualquier dominio que elijamos, directamente mediante la llamada a `ezplot`, sin preocuparnos de definir previamente ninguna partición en X:"
   ]
  },
  {
   "cell_type": "code",
   "execution_count": null,
   "id": "96579faf",
   "metadata": {},
   "outputs": [],
   "source": [
    "% Graficar la función usando ezplot\n",
    "ezplot(f, [0, 1]);"
   ]
  },
  {
   "cell_type": "markdown",
   "id": "0671208d",
   "metadata": {},
   "source": [
    "Para personalizar estos gráficos en cuanto a color, tipo y grosor de trazo etc., debemos actualizar el gráfico generado con la función `set`. Por ejemplo, para representar la función seno cardinal, $\\displaystyle f(x)=\\frac{\\sin(x)}{x}$\n"
   ]
  },
  {
   "cell_type": "code",
   "execution_count": null,
   "id": "b007af37",
   "metadata": {},
   "outputs": [],
   "source": [
    "f = @(x) sin(x) ./ x;\n",
    "h = ezplot(f, [-15, 15]); % Dibuja la función en el intervalo [0, 1]\n",
    "set(h, 'LineWidth', 2); % Ajusta el grosor de la línea\n",
    "set(h, 'Color', 'r'); % Cambia el color de la línea a rojo"
   ]
  },
  {
   "cell_type": "markdown",
   "id": "824f08b8",
   "metadata": {},
   "source": [
    "Podemos además añadir título, leyenda, rejilla etc. igual que antes:"
   ]
  },
  {
   "cell_type": "code",
   "execution_count": null,
   "id": "94a05204",
   "metadata": {},
   "outputs": [],
   "source": [
    "h = ezplot(f, [-15, 15]);\n",
    "% Añadir etiquetas y título\n",
    "xlabel('x');\n",
    "ylabel('y');\n",
    "title('Gráfica de la función seno cardinal');\n",
    "legend('sinc(x)');\n",
    "grid on;"
   ]
  },
  {
   "cell_type": "markdown",
   "id": "23a5fbc4",
   "metadata": {},
   "source": [
    "<a name=#H5></a>\n",
    "## Ejercicios"
   ]
  },
  {
   "cell_type": "markdown",
   "id": "65d0931b",
   "metadata": {},
   "source": [
    "* Dibujar la funcion $\\displaystyle f(x)=e^{-x^2}~,~~0\\leq x\\leq 1$. Emplear para ello 20 subintervalos del eje X. Representar la curva con una línea más gruesa quye el valor por defecto, de color negro. Añadir una rejilla de referencia y titular el gráfico \"Gaussiana\". \n",
    "* Repetir el ejercicio con la función `ezplot`\n",
    "\n",
    "**Nota**: Recuerda que puedes definir la función exponencial con la función `exp`"
   ]
  },
  {
   "cell_type": "markdown",
   "id": "aeef0934",
   "metadata": {},
   "source": [
    "<a name=#H6></a>\n",
    "## Resumen"
   ]
  },
  {
   "cell_type": "markdown",
   "id": "f9ef07b6",
   "metadata": {},
   "source": [
    "1. El comando básico de graficación en Octave es `plot(x,y)`, que tiene las siguientes opciones: `plot(x,t,'[colour][linestyle][marker]','linewidth', [n])`\n",
    "2. `legend`, `title`, `xlabel`, `ylabel` tambión son comandos utiles para modificar el aspecto por defecto del gráfico\n",
    "3. `grid on` añade una rejilla de referencia en el fondo del gráfico cuando se llama con una ventana gráfica abierta\n",
    "4. `hold on` añade nuevos elementos a la ventana activa, hasta que se llame a `hold off`, que libera el gráfico para evitar añadir más elementos accidentalmente\n",
    "5. Alternativamente, podemos utilizar la función [ezplot](https://octave.sourceforge.io/octave/function/ezplot.html). En este caso, no definimos vectores con pares de puntos x-y, sino que directamente definimos una _función anónima_ y la pintamos en un dominio determinado.\n",
    "6. Las ventanas gráficas pueden cerrarse con el comando `clf`"
   ]
  },
  {
   "cell_type": "code",
   "execution_count": null,
   "id": "8f465464",
   "metadata": {},
   "outputs": [],
   "source": []
  }
 ],
 "metadata": {
  "kernelspec": {
   "display_name": "Octave",
   "language": "octave",
   "name": "octave"
  },
  "language_info": {
   "file_extension": ".m",
   "help_links": [
    {
     "text": "GNU Octave",
     "url": "https://www.gnu.org/software/octave/support.html"
    },
    {
     "text": "Octave Kernel",
     "url": "https://github.com/Calysto/octave_kernel"
    },
    {
     "text": "MetaKernel Magics",
     "url": "https://metakernel.readthedocs.io/en/latest/source/README.html"
    }
   ],
   "mimetype": "text/x-octave",
   "name": "octave",
   "version": "7.1.0"
  }
 },
 "nbformat": 4,
 "nbformat_minor": 5
}
