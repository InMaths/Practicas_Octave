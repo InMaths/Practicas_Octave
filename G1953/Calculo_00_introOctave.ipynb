{
 "cells": [
  {
   "cell_type": "markdown",
   "metadata": {},
   "source": [
    "<img src=\"../figs/logoIC.png\" width=\"585\" alt=\"image_0.png\">\n",
    "\n",
    "# Cálculo (G1953) - Grado en Ingeniería Civil\n",
    "\n",
    "#### Guión original en MatLab de Vera Egorova* (<vera.egorova@unican.es>)\n",
    "#### Adaptado para Octave por Joaquín Bedia*  <a href=\"https://orcid.org/0000-0001-6219-4312\" target=\"orcid.widget\" rel=\"noopener noreferrer\" style=\"vertical-align:top;\"><img src=\"https://orcid.org/sites/default/files/images/orcid_16x16.png\" style=\"width:1em;margin-right:.5em;\" alt=\"ORCID iD\"></a> (<bediaj@unican.es>)\n",
    "\n",
    "##### *Universidad de Cantabria, Dpto. Matemática Aplicada y Ciencias de la Computación)\n",
    "\n",
    "<!--\n",
    "<a name=\"T_55FB4C11\"></a>\n",
    "-->\n",
    "\n",
    "***\n",
    "\n",
    "# <span style=\"color:rgb(213,80,0)\">**Introducción a OCTAVE**</span>\n",
    "\n",
    "<p style=\"text-align:left\">\n",
    "   <img src=\"https://upload.wikimedia.org/wikipedia/commons/thumb/6/6a/Gnu-octave-logo.svg/240px-Gnu-octave-logo.svg.png\" width=\"75\">\n",
    "</p>\n",
    "\n",
    "***\n"
   ]
  },
  {
   "cell_type": "markdown",
   "metadata": {},
   "source": [
    "## Contenido\n",
    "\n",
    "<a name=\"beginToc\"></a>\n",
    "\n",
    "&emsp;[¿Qué es OCTAVE?](#H_11636A56)\n",
    "\n",
    "&emsp;[Empezando a usar OCTAVE](#H_134FF586)\n",
    "\n",
    "&emsp;[Variables](#H_D10F85D2)\n",
    "\n",
    "&emsp;&emsp;[Tipos de datos](#H_230C9F48)\n",
    "\n",
    "&emsp;[Comandos básicos](#H_B1D664E6)\n",
    "\n",
    "&emsp;&emsp;[Cabecera de un programa](#H_C3E5E6CE)\n",
    "\n",
    "&emsp;&emsp;[Operaciones básicas](#H_F4823953)\n",
    "\n",
    "&emsp;&emsp;[Funciones matemáticas elementales](#H_7133A156)\n",
    "\n",
    "&emsp;&emsp;[Formatos](#H_A5416571)\n",
    "\n",
    "&emsp;[Matrices y vectores](#H_0C8E9485)\n",
    "\n",
    "&emsp;&emsp;[Crear y manipular matrices](#H_AD12C960)\n",
    "\n",
    "&emsp;&emsp;[Matrices especiales](#H_E94A2E5C)\n",
    "\n",
    "&emsp;&emsp;[Submatrices](#H_A56524CE)\n",
    "\n",
    "&emsp;&emsp;[Operaciones con matrices](#H_A84CB336)\n",
    "\n",
    "&emsp;&emsp;[Comandos sum y prod](#H_935550B0)\n",
    "\n",
    "&emsp;[Ejercicios resueltos](#H_703E17D1)\n",
    "\n",
    "&emsp;[Ejercicios propuestos](#H_A998F915)\n",
    "\n",
    "&emsp;[Resumen](#H_0B4541F7)\n",
    "\n",
    "&emsp;[Soluciones ](#H_AC6B0A09)\n",
    "\n",
    "<a name=\"endToc\"></a>\n",
    "<a name=\"H_0CC5F680\"></a>\n",
    "<a name=\"H_11636A56\"></a>\n",
    "\n",
    "***\n",
    "\n",
    "\n",
    "### ¿Qué es OCTAVE?\n",
    "\n",
    "[Octave](https://octave.org) es un lenguaje de programación específicamente diseñado para cálculo numérico con vectores y matrices. Constituye una inferfaz de alto nivel para un buen número de librerías estándar de cálculo numérico como LAPACK o BLAS.\n",
    "\n",
    "La sintaxis de Octave es similar a la de MatLab. En la gran mayoría de los casos (y probablemente en todas las prácticas de cálculo numérico que realizaréis durante el Grado), los programas escritos en Octave pueden ejecutarse sin ninguna modificación en MatLab. Dado que MatLab es un software comercial, éste posee un mayor número de funciones que Octave, así como paquetes especializados (*tool-boxes*) no disponibles en Octave, y en algunas ocasiones de indiscutible potencia.\n",
    "\n",
    "No obstante, la funcionalidad requerida para la mayoría de las prácticas del grado está disponible igualmente en Octave. Como contrapartida, Octave es [*software libre*](https://www.gnu.org/philosophy/free-sw.es.html), lo que quiere decir no sólo que es gratuíto, sino que, a diferencia de MatLab, otorga al usuario las llamadas 4 libertades sobre el programa que utiliza:\n",
    "\n",
    " * Libertad de usar el programa, con cualquier propósito.\n",
    " * Libertad de acceso al código fuente del programa.\n",
    " * Libertad de copiado y distribución.\n",
    " * Libertad de modificar y mejorar el programa.\n",
    "\n",
    "Existen gran cantidad de manuales de ayuda que permitirán al alumno progresar tanto como desee en sus habilidades como programador en Octave/MatLab. Como primera aproximación, se sugiere el [manual introductorio](http://math.jacobs-university.de/oliver/teaching/iub/resources/octave/octave-intro/octave-intro.html) de Hubert Selhofer *et al.*. Además, los alumnos cuentan con un [manual de Octave/Matlab](http://meteo.unican.es/work/juaco/G328_intro_Octave.pdf) adaptado a los requerimientos iniciales para esta asignatura.\n",
    "Por último, mencionar una breve guía para comenzar a usar OCTAVE incluída en la propia wiki del proyecto: [Using Octave](https://wiki.octave.org/Using_Octave).\n",
    "\n",
    "\n",
    "<a name=\"H_134FF586\"></a>\n",
    "\n",
    "### Empezando a usar OCTAVE\n",
    "\n",
    "La ventana de OCTAVE instalada en nuestro equipo presenta una interfaz gráfica que muestra un escritorio dividido en varias partes, entre ellas:\n",
    "\n",
    "-  Las órdenes a ejecutar se escriben en la ventana de comandos, <samp>Command Window</samp>.\n",
    "-  En el editor (ventana <samp>Editor</samp>) escribimos código que guardaremos en scripts con extensión <samp>.m</samp> y ejecutaremos en la ventana de comandos.\n",
    "-  La ventana <samp>Workspace</samp> proporciona información sobre las variables utilizadas.\n",
    "\n",
    "... si bien esta disposición es configurable por parte del usuario, por lo que puede presentarse en muy diversas formas\n",
    "\n",
    "<p style=\"text-align:left\">\n",
    "   <img src=\"../figs/octave_GUI_ES.png\" width=\"750\">\n",
    "</p>\n",
    "\n",
    "\n",
    "Aunque hay más, los tipos de datos básicos en OCTAVE para nosotros son los siguientes: números reales o complejos, booleanos (valores lógicos) y cadenas de caracteres (o <samp>strings</samp>). En cualquier caso, el objeto básico de trabajo en OCTAVE son las matrices. Los escalares y los vectores son considerados casos particulares de matrices.\n",
    "\n",
    "\n",
    "**Uso de la ventana de comandos**\n",
    "\n",
    "\n",
    "Las instrucciones que terminan por punto y coma no imprimen los resultados en la pantalla. Se pueden recuperar instrucciones anteriores, usando las teclas de flechas arriba y abajo, o bien acudiendo a la ventana con el historial de la sesión (también es posible guardar el historial y reabrirlo posteriormente, aunque generalmente preferimos utilizar un script y guardarlo antes de cerrar para poder volver a ejecutar nuestro programa en otra ocasión.).\n",
    "\n",
    "<a name=\"H_D10F85D2\"></a>\n",
    "\n",
    "### Variables\n",
    "\n",
    "Para crear una nueva variable con la que trabajar, se especifica el nombre que se le quiere dar a dicha variable, seguido del signo igual \" <samp>=\"</samp> (operador de asignación) y el valor que se le desea asignar.\n",
    "\n",
    "\n",
    "Hay ciertas **reglas para definir variables en OCTAVE**:\n",
    "\n",
    "-  No se pueden crear variables sin asignarles un valor.\n",
    "-  El nombre de una variable puede tener como máximo 63 caracteres que pueden ser letras, números y el guion de subrayar.\n",
    "-  El primer carácter tiene que ser una letra, `matriz2` es un nombre válido, pero no lo es `2matriz`.\n",
    "-  Las mayúsculas y las minúsculas tienen valor distintivo. La variable `Modulo` es distinta de la variable `modulo`.\n",
    "-  Dentro de un nombre de variable no puede haber espacios en blanco, `modulo1`  es un nombre de variable válido, pero `modulo 1` NO.\n",
    "-  Existen nombres que deben evitarse porque tienen significado propio en OCTAVE (son _variables reservadas_): `ans`, `pi`, `Inf`, `i`, por ejemplo... "
   ]
  },
  {
   "cell_type": "markdown",
   "metadata": {},
   "source": [
    "Introduce en la línea de comandos la siguiente instrucción, y presiona la tecla `Enter` para ejecutar el código:"
   ]
  },
  {
   "cell_type": "code",
   "execution_count": null,
   "metadata": {},
   "outputs": [],
   "source": [
    "Pi = pi"
   ]
  },
  {
   "cell_type": "markdown",
   "metadata": {},
   "source": [
    "Aparece el resultado: hemos creado una variable <samp>Pi</samp> que tiene el valor 3.1416. También la variable aparece en el espacio de trabajo (Workspace):\n",
    "\n",
    "<p style=\"text-align:left\">\n",
    "   <img src=\"../figs/workspace_Pi.png\" width=\"436\">\n",
    "</p>\n",
    "\n",
    "\n",
    "A tener en cuenta:\n",
    "\n",
    "-  Al abrir sesión seleccionaremos el **directorio de trabajo**, donde almacenaremos los scripts.\n",
    "-  Si se escribe <samp>;</samp> al final de una linea de código, <u>no se  muestra el resultado por pantalla</u>. Esta característica es la deseada cuando se trabaja con grandes conjuntos de datos:"
   ]
  },
  {
   "cell_type": "code",
   "execution_count": null,
   "metadata": {},
   "outputs": [],
   "source": [
    "a = 1; % Se crea una variable a con valor 1, pero no se imprime el resultado\n",
    "b = 2  % Se imprime el resultado (b = 2)"
   ]
  },
  {
   "cell_type": "markdown",
   "metadata": {},
   "source": [
    "-  **Obtener ayuda** en OCTAVE: El comando <samp>help</samp> es la orden  básica de ayuda con la cual consultar el uso de una  función, incluyendo los argumentos de entrada/salida, una breve  descripción de qué realiza y de su uso."
   ]
  },
  {
   "cell_type": "code",
   "execution_count": null,
   "metadata": {},
   "outputs": [],
   "source": [
    "help pi"
   ]
  },
  {
   "cell_type": "markdown",
   "metadata": {},
   "source": [
    "\n",
    "-  Se pueden incluir **comentarios** (aclaraciones que no se ejecutan) dentro de los programas añadiendo <samp>%</samp> delante de lo que se desea comentar."
   ]
  },
  {
   "cell_type": "code",
   "execution_count": null,
   "metadata": {},
   "outputs": [],
   "source": [
    "% ESTO ES UN COMENTARIO. A continuación muestro por pantalla el valor de pi:\n",
    "pi"
   ]
  },
  {
   "cell_type": "markdown",
   "metadata": {},
   "source": [
    "\n",
    "-  Se puede **ejecutar** un programa entero pulsando la tecla \"Run\", o bien una(s) línea(s) seleccionadas pulsando F9 o seleccionando \"Evaluate selection\" en el menú que sale al pinchar con el botón derecho del ratón.\n",
    "-  Es **esencial leer los errores** que obtenemos cuando algo no funciona, ya que contienen información acerca del error. Además, la(s) línea(s) afectada(s) tiene una señal roja a la derecha del editor."
   ]
  },
  {
   "cell_type": "code",
   "execution_count": null,
   "metadata": {},
   "outputs": [],
   "source": [
    "a1 = 1; % Ok\n",
    "% Descomenta la siguiente línea (Elimina el símbolo de comentario %) y observa qué sucede:\n",
    "% 1a = 1 % PARSE ERROR! Octave da la explicación (y a veces ofrece una solución). Observa el símbolo '^' que indica el punto en el que ha sucedido el error"
   ]
  },
  {
   "cell_type": "markdown",
   "metadata": {},
   "source": [
    "\n",
    "**Ejercicio:** Descomenta las siguentes líneas del código y corrige los errores:\n"
   ]
  },
  {
   "cell_type": "code",
   "execution_count": null,
   "metadata": {},
   "outputs": [],
   "source": [
    "% 1a = 1\n",
    "% valor 1 = pi\n",
    "% x = % 5"
   ]
  },
  {
   "cell_type": "markdown",
   "metadata": {},
   "source": [
    "<a name=\"H_230C9F48\"></a>\n",
    "\n",
    "#### Tipos de datos\n",
    "\n",
    "OCTAVE trabaja con los tipos básicos de datos (números, caracteres y  booleanos) a partir de los cuales se construyen vectores, matrices,  cadenas de caracteres, etc. Del mismo modo, a partir del tipo de datos se definen diferentes operaciones básicas (suma, producto, intersecciones, etc.) que permiten la construcción y definición por composición de operaciones complejas.\n",
    "\n",
    "\n",
    "Además de los tipos de datos básicos existen diferentes tipos de  variables que sirven de contenedores de datos, como son el tipo <samp>cell</samp>, <samp>struct</samp> o variables simbólicas (<samp>sym</samp>).\n",
    "\n",
    "\n",
    "Para saber qué variables están definidas y a que tipo de datos corresponde tenemos el comando <samp>whos:</samp>\n"
   ]
  },
  {
   "cell_type": "code",
   "execution_count": null,
   "metadata": {},
   "outputs": [],
   "source": [
    "whos"
   ]
  },
  {
   "cell_type": "markdown",
   "metadata": {},
   "source": [
    "\n",
    "Compara con el contenido de la ventana <samp>Workspace</samp>. Como mencionamos anteriormente, los escalares son un caso particular de matrices; tienen un tamaño de 1x1, lo que significa que son matrices con una fila y una columna.\n",
    "\n",
    "<a name=\"H_B1D664E6\"></a>\n",
    "\n",
    "### Comandos básicos\n",
    "<a name=\"H_C3E5E6CE\"></a>\n",
    "\n",
    "***\n",
    "#### Cabecera de un programa\n",
    "***"
   ]
  },
  {
   "cell_type": "code",
   "execution_count": null,
   "metadata": {},
   "outputs": [],
   "source": [
    "% Limpia el espacio de trabajo\n",
    "clear all % se recomienda usar 'clearvars' para borrar las variables\n",
    "% Limpia la ventana de comandos\n",
    "clc\n",
    "% Cierra las ventanas/figuras abiertas\n",
    "close all\n",
    "% Lista las variables definidas en el espacio de trabajo\n",
    "whos"
   ]
  },
  {
   "cell_type": "markdown",
   "metadata": {},
   "source": [
    "<a name=\"H_F4823953\"></a>\n",
    "\n",
    "***\n",
    "#### Operaciones básicas\n",
    "***\n",
    "\n",
    "La forma de representar números y de operar con OCTAVE es la misma que  la de una calculadora de bolsillo, usando los operadores `+`, `-`, `*`, `/`, `^`. Se recomienda **siempre asignar el resultado a una variable**. Si no asignas el resultado a una variable, OCTAVE lo almacena temporalmente en la variable predeterminada <samp>ans</samp>, pero esto puede llevar a errores y confusión, especialmente en scripts más complejos.\n"
   ]
  },
  {
   "cell_type": "code",
   "execution_count": null,
   "metadata": {},
   "outputs": [],
   "source": [
    "suma = 17+5 % Suma\n",
    "division = 17/5 % Division con decimales"
   ]
  },
  {
   "cell_type": "markdown",
   "metadata": {},
   "source": [
    "<a name=\"H_7133A156\"></a>\n",
    "\n",
    "***\n",
    "#### Funciones matemáticas elementales\n",
    "***\n",
    "\n",
    "-  <samp>exp(x)</samp>: exponencial de x\n",
    "-  <samp>log(x)</samp>: logaritmo natural o neperiano.\n",
    "-  <samp>log10(x)</samp>: logaritmo en base 10.\n",
    "-  <samp>sin(x)</samp>: seno de x.\n",
    "-  <samp>cos(x)</samp>: coseno de x.\n",
    "-  <samp>tan(x)</samp>: tangente de x.\n",
    "-  <samp>asin(x)</samp>: arco seno de x con imagen en el rango $[-\\pi /2,\\pi /2]$ .\n",
    "-  <samp>acos(x)</samp>: arco coseno de x con imagen en el rango $[-\\pi /2,\\pi /2]$ .\n",
    "-  <samp>atan(x)</samp>: arco tangente de x con imagen en el rango $[-\\pi /2,\\pi /2]$ .\n",
    "-  <samp>atan2(y,x)</samp>: arco tangente de y/x con imagen en el rango $[-\\pi ,\\pi ]$ .\n",
    "-  <samp>sinh(x)</samp>: seno hiperbólico de x.\n",
    "-  <samp>cosh(x)</samp>: coseno hiperbólico de x.\n",
    "-  <samp>tanh(x)</samp>: tangente hiperbólica de x.\n",
    "-  <samp>sum(x)</samp>: suma de los elementos del vector x.\n",
    "-  <samp>prod(x)</samp>: producto de los elementos del vector x.\n",
    "\n",
    " **Importante:** en estas funciones el ángulo viene en radianes:\n"
   ]
  },
  {
   "cell_type": "code",
   "execution_count": null,
   "metadata": {},
   "outputs": [],
   "source": [
    "c = cos(pi) % no 'cos(180)' para calcular el coseno de pi (de 180 grados)\n",
    "a = 4*atan(1) % atan: Funcion arcotangente con resultado en radianes.\n",
    "s = sin(pi/2) % Seno de pi/2\n",
    "l = log(exp(1)^5) % Función logaritmo natural"
   ]
  },
  {
   "cell_type": "markdown",
   "metadata": {},
   "source": [
    "\n",
    "Jerarquia de las operaciones: multiplicacion y division, suma y resta:\n"
   ]
  },
  {
   "cell_type": "code",
   "execution_count": null,
   "metadata": {},
   "outputs": [],
   "source": [
    "b1 = 1+2*3\n",
    "b2 = (1+2)*3 % Uso del parentesis"
   ]
  },
  {
   "cell_type": "markdown",
   "metadata": {},
   "source": [
    "<a name=\"H_A5416571\"></a>\n",
    "\n",
    "***\n",
    "#### Formatos\n",
    "***\n",
    "\n",
    "Podemos cambiar la forma en la que OCTAVE muestra por pantalla los números mediante el comando <samp>format</samp>:\n"
   ]
  },
  {
   "cell_type": "code",
   "execution_count": null,
   "metadata": {},
   "outputs": [],
   "source": [
    "format short, 1/3  % 4 decimales\n",
    "format long, 1/3  % 15 decimales\n",
    "format longe, 1/3  % Notación científica larga\n",
    "format rat, 1/3  % fraccion"
   ]
  },
  {
   "cell_type": "markdown",
   "metadata": {},
   "source": [
    "\n",
    "Sin embargo, hay que tener en cuenta que el cambio de formato sólo tiene efecto a nivel de visualización (el número con el que OCTAVE trabaja en memoria seguirá siendo siempre el mismo).\n"
   ]
  },
  {
   "cell_type": "code",
   "execution_count": null,
   "metadata": {},
   "outputs": [],
   "source": [
    "format short"
   ]
  },
  {
   "cell_type": "markdown",
   "metadata": {},
   "source": [
    "<a name=\"H_0C8E9485\"></a>\n",
    "### **Matrices y vectores**\n",
    "\n",
    "\n",
    "<a name=\"H_DDAE71AC\"></a>\n",
    "***\n",
    "#### Crear y manipular vectores\n",
    "***\n",
    "\n",
    "Hay varias maneras de construir vectores fila:\n"
   ]
  },
  {
   "cell_type": "code",
   "execution_count": null,
   "metadata": {},
   "outputs": [],
   "source": [
    "u=[-7,3,4,-2] % Corchetes y comas\n",
    "v=[-7 3 4 -2] % Corchetes sin comas\n",
    "t= 1:3:20 % para crear secuencias de números tomados de tres en tres,\n",
    "% tales que inicial:incremento:final\n",
    "z= linspace(1,2,9) % genera un vector fila de 9 elementos cuyo primer elemento\n",
    "% es 1 y el último 2, siendo todos sus elementos equidistantes:\n",
    "% linspace(inicial, final, n)"
   ]
  },
  {
   "cell_type": "markdown",
   "metadata": {},
   "source": [
    "\n",
    "Y vectores columna:\n"
   ]
  },
  {
   "cell_type": "code",
   "execution_count": null,
   "metadata": {},
   "outputs": [],
   "source": [
    "w=[-7;3;4;-2] % Vector vertical (uso de ';' como fin de línea)\n",
    "x= u' % Trasponiendo un vector fila"
   ]
  },
  {
   "cell_type": "markdown",
   "metadata": {},
   "source": [
    "\n",
    "Se puede comprobar el tamaño de los vectores y extraer elementos:\n"
   ]
  },
  {
   "cell_type": "code",
   "execution_count": null,
   "metadata": {},
   "outputs": [],
   "source": [
    "lu = length(u) % Numero de elementos del vector\n",
    "lw = length(w)\n",
    "su = size(u) % Numero de filas y columnas\n",
    "\n",
    "u(1) % Primer elemento del vector u\n",
    "w(4) % Cuarto elemento del vector w\n",
    "u(1)=-4 % Cambia el primer elemento del vector u, y lo reemplaza por el valor -4"
   ]
  },
  {
   "cell_type": "markdown",
   "metadata": {},
   "source": [
    "<a name=\"H_AD12C960\"></a>\n",
    "\n",
    "***\n",
    "#### Crear y manipular matrices\n",
    "***"
   ]
  },
  {
   "cell_type": "code",
   "execution_count": null,
   "metadata": {},
   "outputs": [],
   "source": [
    "A=[3,-7;2,5] %Corchetes y comas. Definida por filas\n",
    "B=[3 -7; 2 5] %Corchetes sin comas\n",
    "C=[6 0 -3 8 9; 5 1 7 -4 2; 3 1 -6 2 -1]\n",
    "C(2, 3) %Elemento de la fila 2 y columna 3 de la matriz c\n",
    "size(C) %Numero de filas y columnas de la matriz c\n",
    "length(C) %Numero de columnas de la matriz c\n",
    "C(1, 4)=11 %Cambio del elemento de la fila 1 y 4 columna de la matriz c"
   ]
  },
  {
   "cell_type": "markdown",
   "metadata": {},
   "source": [
    "<a name=\"H_E94A2E5C\"></a>\n",
    "\n",
    "***\n",
    "#### Matrices especiales\n",
    "***\n",
    "\n",
    "Son aquellas formadas por ceros, unos o la identidad.\n"
   ]
  },
  {
   "cell_type": "code",
   "execution_count": null,
   "metadata": {},
   "outputs": [],
   "source": [
    "zeros(3,5) %Nula de 3 filas y 5 columnas\n",
    "zeros(4) %Nula 4x4\n",
    "ones(2,4) %Unidad de 2 filas y 4 columnas\n",
    "ones(3) %Unidad 3x3\n",
    "eye(4) % Matriz identidad de orden 4 (i.e. diagonal de 1 4x4)\n",
    "A = diag([-7 2 4]) %Diagonal con los valores dados"
   ]
  },
  {
   "cell_type": "markdown",
   "metadata": {},
   "source": [
    "<a name=\"H_A56524CE\"></a>\n",
    "\n",
    "***\n",
    "#### Submatrices\n",
    "***\n",
    "\n",
    "Se pueden extraer submatrices de una matriz mayor indicando la fila o columna que se desea. <samp>:</samp> indica todos los elementos.\n"
   ]
  },
  {
   "cell_type": "code",
   "execution_count": null,
   "metadata": {},
   "outputs": [],
   "source": [
    "A=[6 0 -3 8 9; 5 1 7 -4 2; 3 1 -6 2 -1] %Define matriz\n",
    "A(2, :) %Fila 2 de la matriz a\n",
    "A(:, 5) %Columna 5 de la matriz a\n",
    "A(3, :)= -7 %Cambia todos los elementos de la fila 3 por -7"
   ]
  },
  {
   "cell_type": "markdown",
   "metadata": {},
   "source": [
    "<a name=\"H_A84CB336\"></a>\n",
    "\n",
    "***\n",
    "#### Operaciones con matrices\n",
    "***\n",
    "\n",
    "Cuando trabajamos con matriz, para operar elemento a elemento hay que usar los comandos: `.*, ./, .^` (es decir, los operadores aritméticos con un punto delante), ya que el producto de matrices como tal no está definido elemento a elemento.\n"
   ]
  },
  {
   "cell_type": "code",
   "execution_count": null,
   "metadata": {},
   "outputs": [],
   "source": [
    "A=[-3 7; 2 5] %Define matriz\n",
    "A+100 %Suma 100 a cada elemento de la matriz. % Igual para restas, multiplicaciones y divisiones\n",
    "A=[-3 4 2; 1 7 -5] %Define matriz\n",
    "B=[1 -2 -9; 4 2 6] %Define matriz\n",
    "C=A+B % guarda el resultado en la variable c\n",
    "A+B %Opera sin almacenar\n",
    "0.3*A %Multiplica todos los valores de a por 0.3\n",
    "C=A.*B %Multiplica matrices elemento a elemento"
   ]
  },
  {
   "cell_type": "markdown",
   "metadata": {},
   "source": [
    "<a name=\"H_935550B0\"></a>\n",
    "\n",
    "***\n",
    "#### Comandos sum y prod\n",
    "***\n",
    "\n",
    "-  El comando <samp>sum</samp>  se utiliza para calcular la suma de los elementos de un vector o matriz.\n",
    "-  El comando <samp>prod</samp> se utiliza para calcular el producto de los elementos de un vector o matriz.\n",
    "\n",
    "**Notas:**\n",
    "\n",
    "-  Los comandos <samp>sum</samp> y <samp>prod</samp> se pueden aplicar a matrices y vectores.\n",
    "-  Cuando se usa en una matriz sin especificar la dimensión,  los comandos operan por columnas.\n",
    "-  Para sumar los elementos de cada fila, usa <samp>sum(M, 2)</samp>.\n",
    "-  Para obtener el producto de los elementos de cada fila, usa <samp>prod(M, 2)</samp>."
   ]
  },
  {
   "cell_type": "code",
   "execution_count": null,
   "metadata": {},
   "outputs": [],
   "source": [
    "M = [1, 2, 3;\n",
    "     4, 5, 6;\n",
    "     7, 8, 9];\n",
    "suma_columnas = sum(M) % suma_columnas  [12, 15, 18]\n",
    "suma_filas = sum(M, 2) % Calcula la suma de los elementos en cada fila"
   ]
  },
  {
   "cell_type": "markdown",
   "metadata": {},
   "source": [
    "\n",
    "**Ejercicio**: Calcula suma de todos los elementos de la matriz M.\n"
   ]
  },
  {
   "cell_type": "code",
   "execution_count": null,
   "metadata": {},
   "outputs": [],
   "source": [
    "% Escribe aquí el código:\n"
   ]
  },
  {
   "cell_type": "markdown",
   "metadata": {},
   "source": [
    "<a name=\"H_703E17D1\"></a>\n",
    "\n",
    "### Ejercicios resueltos\n",
    "\n",
    "a) Calcula la suma de los primeros 100 números naturales.\n",
    "\n",
    "\n",
    "b) Calcula la suma de los cubos de los primeros 100 números naturales.\n",
    "\n",
    "\n",
    "c) Calcula la suma de todos los números pares de 3 cifras y la suma de sus cuadrados.\n",
    "\n",
    "\n",
    "d) Calcula el producto de las raíces cuadradas de los primeros 5 números naturales.\n",
    "\n",
    "\n",
    "e) Calcula $\\left(3^{\\cos \\;\\frac{\\pi }{4}} -2e^2 \\right)\\sqrt{\\ln \\;5}$\n"
   ]
  },
  {
   "cell_type": "markdown",
   "metadata": {},
   "source": [
    "a) Calcula la suma de los primeros 100 números naturales."
   ]
  },
  {
   "cell_type": "code",
   "execution_count": null,
   "metadata": {},
   "outputs": [],
   "source": [
    "k=1:100; % crea un vector con los números de 1 al 100.\n",
    "suma=sum(k) % suma los elementos de k y guarda el resultado en la variable suma."
   ]
  },
  {
   "cell_type": "markdown",
   "metadata": {},
   "source": [
    "\n",
    "b) Calcula la suma de los cubos de los primeros 100 números naturales.\n"
   ]
  },
  {
   "cell_type": "code",
   "execution_count": null,
   "metadata": {},
   "outputs": [],
   "source": [
    "k3=k.^3; % eleva al cubo cada elemento del vector k\n",
    "suma=sum(k3) % suma los elementos de k3"
   ]
  },
  {
   "cell_type": "markdown",
   "metadata": {},
   "source": [
    "\n",
    "c) Calcula la suma de todos los números pares de 3 cifras y la suma de sus cuadrados.\n"
   ]
  },
  {
   "cell_type": "code",
   "execution_count": null,
   "metadata": {},
   "outputs": [],
   "source": [
    "pares=100:2:998; % crea el vector de números pares de 3 cifras\n",
    "suma=sum(pares) % suma los elementos del vector pares\n",
    "suma_cuadrados=sum(pares.^2) % suma de los cuadrados de pares"
   ]
  },
  {
   "cell_type": "markdown",
   "metadata": {},
   "source": [
    "\n",
    "d) Calcula el producto de las raíces cuadradas de los primeros 5 números naturales.\n"
   ]
  },
  {
   "cell_type": "code",
   "execution_count": null,
   "metadata": {},
   "outputs": [],
   "source": [
    "a=1:5; % vector formado por los primeros 5 números naturales\n",
    "raiz=sqrt(a); % calcula la raíz cuadrada de los elementos de a\n",
    "producto=prod(raiz) % calcula la suma de las raíces cuadrada"
   ]
  },
  {
   "cell_type": "markdown",
   "metadata": {},
   "source": [
    "\n",
    "e) Calcula $\\left(3^{\\cos \\;\\frac{\\pi }{4}} -2e^2 \\right)\\sqrt{\\ln \\;5}$\n"
   ]
  },
  {
   "cell_type": "code",
   "execution_count": null,
   "metadata": {},
   "outputs": [],
   "source": [
    "% por partes:\n",
    "a1 = 3^(cos(pi/4))\n",
    "a2 = 2*exp(2)\n",
    "a3 = sqrt(log(5))\n",
    "res = (a1-a2)*a3\n",
    "\n",
    "% directamente en una línea:\n",
    "res = ( 3^(cos (pi/4) ) - 2*exp(2) )*sqrt( log(5) )"
   ]
  },
  {
   "cell_type": "markdown",
   "metadata": {},
   "source": [
    "<a name=\"H_A998F915\"></a>\n",
    "\n",
    "### Ejercicios propuestos\n",
    "1.  Calcula la suma de las raíces cúbicas de los primeros 50 números naturales.\n",
    "2. Calcula el producto de los cuadrados de todos los números impares de dos cifras.\n",
    "3. Calcula:\n",
    "\n",
    "$$\\begin{array}{l} a=\\left(\\sqrt{6}-3\\right)\\left(3+2^{1/2} \\cdot 3^{0.5} \\right)\\newline b=\\;\\cos (3\\pi )+12\\,sen\\,\\frac{3\\pi }{2}\\newline c=\\;e^{4-8^{2/3} }  \\end{array}$$"
   ]
  },
  {
   "cell_type": "code",
   "execution_count": null,
   "metadata": {},
   "outputs": [],
   "source": [
    "% Escribe aquí el código:\n",
    "\n",
    "\n",
    "\n"
   ]
  },
  {
   "cell_type": "markdown",
   "metadata": {},
   "source": [
    "Compara tus resultados con las soluciones al final del notebook"
   ]
  },
  {
   "cell_type": "markdown",
   "metadata": {},
   "source": [
    "<a name=\"H_0B4541F7\"></a>\n",
    "\n",
    "### Resumen\n",
    "\n",
    "**Ventana de OCTAVE**\n",
    "\n",
    "\n",
    "\\- <samp>Command Window</samp>: Donde se escriben y ejecutan las órdenes.\n",
    "\n",
    "\n",
    "\\- <samp>Editor</samp>: Donde se escribe y guarda el código en scripts `.m`.\n",
    "\n",
    "\n",
    "\\- <samp>Workspace</samp>: Muestra las variables utilizadas.\n",
    "\n",
    "\n",
    "**Variables y Tipos de Datos**\n",
    "\n",
    "\n",
    "\\- Crear variables: <samp>nombre = valor</samp>\n",
    "\n",
    "\n",
    "\\- Reglas para nombres de variables: Hasta 63 caracteres, comenzando con una letra, sin espacios, distinguibles entre mayúsculas y minúsculas.\n",
    "\n",
    "\n",
    "**Comandos Básicos**\n",
    "\n",
    "Se incluyen enlaces a la documentación online de los comandos en MatLab, que son equivalentes:\n",
    "\n",
    "\\-  [<samp>clear</samp>](https://es.mathworks.com/help/matlab/ref/clear.html) <samp>all/ clearvars</samp> : Limpia el espacio de trabajo.\n",
    "\n",
    "\n",
    "\\-[ <samp>clc</samp>](https://es.mathworks.com/help/matlab/ref/clc.html): Limpia la ventana de comandos.\n",
    "\n",
    "\n",
    "\\- [<samp>close</samp>](https://es.mathworks.com/help/matlab/ref/close.html) <samp>all</samp> : Cierra (todas) las figuras abiertas.\n",
    "\n",
    "\n",
    "\\- [<samp>whos</samp>](https://es.mathworks.com/help/matlab/ref/whos.html): Lista las variables definidas.\n",
    "\n",
    "\n",
    "\\- Operaciones básicas: Suma: `+`, Resta: `-`, Multiplicación: `*`, División: `/`, Potencia: `^`\n",
    "\n",
    "\n",
    "\\- [Funciones matemáticas elementales](https://es.mathworks.com/help/matlab/elementary-math.html):  <samp>exp(x), log(x), sin(x), cos(x), tan(x)</samp>, etc.\n",
    "\n",
    "\n",
    "\\- [<samp>format</samp>](https://es.mathworks.com/help/matlab/ref/format.html#btiwmh5-3) <samp>short</samp> : Muestra 4 decimales (long: Muestra 15 decimales; longe: Notación científica larga; rat: Muestra como fracción)\n",
    "\n",
    "\n",
    "**Matrices y Vectores**\n",
    "\n",
    "\n",
    "\\- Crear vectores:\n",
    "\n",
    "\n",
    "&nbsp;&nbsp;&nbsp;&nbsp;&nbsp;&nbsp; \\- Filas: <samp>u=[-7,3,4,-2]</samp> o <samp>v=[-7 3 4 -2]</samp>\n",
    "\n",
    "\n",
    "&nbsp;&nbsp;&nbsp;&nbsp;&nbsp;&nbsp; \\- Columnas: <samp>w=[-7;3;4;-2]</samp>\n",
    "\n",
    "\n",
    "&nbsp;&nbsp;&nbsp;&nbsp;&nbsp;&nbsp; \\- Secuencias: <samp>t=1:3:20</samp>, <samp>z=linspace(1,2,9)</samp>\n",
    "\n",
    "\n",
    "\\- Crear matrices: <samp>A=[3,-7;2,5]</samp>\n",
    "\n",
    "\n",
    "\\- [Operaciones con matrices](https://es.mathworks.com/help/matlab/matlab_prog/array-vs-matrix-operations.html?searchHighlight=suma%20resta&s_tid=srchtitle_support_results_2_suma%20resta) elemento a elemento: <samp>C=A+B</samp>, `C=A.\\B`, `C=A.*B`\n",
    "\n",
    "\n",
    "\\- [<samp>length(v)</samp>](https://es.mathworks.com/help/matlab/ref/length.html) <samp>:</samp> Longitud del vector\n",
    "\n",
    "\n",
    "\\- [<samp>size(A)</samp>](https://es.mathworks.com/help/matlab/ref/size.html) <samp>:</samp> Tamaño de la matriz\n",
    "\n",
    "\n",
    "\\- [<samp>sum(A)</samp>](https://es.mathworks.com/help/matlab/ref/sum.html) <samp>:</samp> Calcular la suma de los elementos en un vector o matriz\n",
    "\n",
    "\n",
    "\\- [<samp>prod(A)</samp>](https://es.mathworks.com/help/matlab/ref/prod.html) <samp>:</samp> Producto de los elementos en un vector o matriz\n",
    "\n",
    "\n",
    "\\- [Matrices especiales](https://es.mathworks.com/help/matlab/matlab_oop/class-support-for-array-creation-functions.html):  <samp>zeros(3,5), ones(2,4), eye(4), diag([-7 2 4])</samp>\n",
    "\n",
    "\n",
    "\\- Extraer filas/columnas: <samp>A(2,:), A(:,5)</samp>\n",
    "\n",
    "\n",
    "\\- Modificar elementos: <samp>A(3,:)= -7</samp>\n",
    "\n",
    "\n",
    "**Ayuda y Depuración**\n",
    "\n",
    "\n",
    "\\- Obtener ayuda: [<samp>help</samp>](https://es.mathworks.com/help/matlab/ref/help.html) <samp>function_name</samp>\n",
    "\n",
    "\n",
    "\\- Comentarios: Usar `%` para incluir comentarios en el código.\n",
    "\n",
    "\n",
    "\\- Ejecutar el código: \"Run\", \"F9\", o \"Run Section\".\n",
    "\n",
    "<a name=\"H_AC6B0A09\"></a>\n",
    "\n"
   ]
  },
  {
   "cell_type": "markdown",
   "metadata": {},
   "source": [
    "### Soluciones"
   ]
  },
  {
   "cell_type": "code",
   "execution_count": null,
   "metadata": {},
   "outputs": [],
   "source": [
    "function [] = soluciones()\n",
    "\n",
    "% Ejercicio 1:\n",
    "k=1:50;\n",
    "raices=k.^(1/3);\n",
    "s1=sum(raices);\n",
    "fprintf(\"Soluciones:\\nEjercicio 1:\\n S1 = %.4f\\n\",s1);\n",
    "\n",
    "% Ejercicio 2:\n",
    "k=11:2:99;\n",
    "cuadrados = k.^2;\n",
    "s2=prod(cuadrados);\n",
    "fprintf(\"Ejercicio 2:\\n S2 = %d\\n\",s2);\n",
    "\n",
    "% Ejercicio 3\n",
    "a = (sqrt(6) - 3)*(3 + 2^(1/2) * 3^(0.5));\n",
    "b = cos(3*pi) + 12*sin(3*pi/2);\n",
    "c = exp(4-8^(2/3));\n",
    "fprintf(\"Ejercicio 3:\\n a = %.0f\\n b = %0.f\\n c = %.0f\\n\",a,b,c);\n",
    "end"
   ]
  },
  {
   "cell_type": "markdown",
   "metadata": {},
   "source": [
    "Para ver las soluciones, ejecuta el comando (habiendo ejecutado previamente el bloque de código anterior)."
   ]
  },
  {
   "cell_type": "code",
   "execution_count": null,
   "metadata": {},
   "outputs": [],
   "source": [
    "soluciones()"
   ]
  }
 ],
 "metadata": {
  "kernelspec": {
   "display_name": "Octave",
   "language": "octave",
   "name": "octave"
  },
  "language_info": {
   "file_extension": ".m",
   "help_links": [
    {
     "text": "GNU Octave",
     "url": "https://www.gnu.org/software/octave/support.html"
    },
    {
     "text": "Octave Kernel",
     "url": "https://github.com/Calysto/octave_kernel"
    },
    {
     "text": "MetaKernel Magics",
     "url": "https://metakernel.readthedocs.io/en/latest/source/README.html"
    }
   ],
   "mimetype": "text/x-octave",
   "name": "octave",
   "version": "7.1.0"
  }
 },
 "nbformat": 4,
 "nbformat_minor": 4
}
