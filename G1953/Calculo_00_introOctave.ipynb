{
 "cells": [
  {
   "cell_type": "markdown",
   "metadata": {},
   "source": [
    "<img src=\"../figs/logoIC.png\" width=\"585\" alt=\"image_0.png\">\n",
    "\n",
    "# Cálculo (G1953) - Grado en Ingeniería Civil\n",
    "\n",
    "#### Guión original en MatLab de Vera Egorova <vera.egorova@unican.es>, adaptado para Octave por Joaquín Bedia <bediaj@unican.es>\n",
    "#### Dpto. Matemática Aplicada y Ciencias de la Computación\n",
    "\n",
    "<!--\n",
    "<a name=\"T_55FB4C11\"></a>\n",
    "-->\n",
    "\n",
    "***\n",
    "\n",
    "# <span style=\"color:rgb(213,80,0)\">**Introducción a OCTAVE**</span>\n",
    "\n",
    "<p style=\"text-align:left\">\n",
    "   <img src=\"https://upload.wikimedia.org/wikipedia/commons/thumb/6/6a/Gnu-octave-logo.svg/240px-Gnu-octave-logo.svg.png\" width=\"75\">\n",
    "</p>\n",
    "\n",
    "***\n"
   ]
  },
  {
   "cell_type": "markdown",
   "metadata": {},
   "source": [
    "## Contenido\n",
    "\n",
    "<a name=\"beginToc\"></a>\n",
    "\n",
    "&emsp;[¿Qué es OCTAVE?](#H_11636A56)\n",
    "\n",
    "&emsp;[Empezando a usar OCTAVE](#H_134FF586)\n",
    "\n",
    "&emsp;[Variables](#H_D10F85D2)\n",
    "\n",
    "&emsp;&emsp;[Tipos de datos](#H_230C9F48)\n",
    "\n",
    "&emsp;[Comandos básicos](#H_B1D664E6)\n",
    "\n",
    "&emsp;&emsp;[Cabecera de un programa](#H_C3E5E6CE)\n",
    "\n",
    "&emsp;&emsp;[Operaciones básicas](#H_F4823953)\n",
    "\n",
    "&emsp;&emsp;[Funciones matemáticas elementales](#H_7133A156)\n",
    "\n",
    "&emsp;&emsp;[Formatos](#H_A5416571)\n",
    "\n",
    "&emsp;[Matrices y vectores](#H_0C8E9485)\n",
    "\n",
    "&emsp;&emsp;[Crear y manipular matrices](#H_AD12C960)\n",
    "\n",
    "&emsp;&emsp;[Matrices especiales](#H_E94A2E5C)\n",
    "\n",
    "&emsp;&emsp;[Submatrices](#H_A56524CE)\n",
    "\n",
    "&emsp;&emsp;[Operaciones con matrices](#H_A84CB336)\n",
    "\n",
    "&emsp;&emsp;[Comandos sum y prod](#H_935550B0)\n",
    "\n",
    "&emsp;[Ejercicios resueltos](#H_703E17D1)\n",
    "\n",
    "&emsp;[Ejercicios propuestos](#H_A998F915)\n",
    "\n",
    "&emsp;[Resumen](#H_0B4541F7)\n",
    "\n",
    "&emsp;[Soluciones ](#H_AC6B0A09)\n",
    "\n",
    "<a name=\"endToc\"></a>\n",
    "<a name=\"H_0CC5F680\"></a>\n",
    "<a name=\"H_11636A56\"></a>\n",
    "\n",
    "***\n",
    "\n",
    "\n",
    "### ¿Qué es OCTAVE?\n",
    "\n",
    "[Octave](https://octave.org) es un lenguaje de programación específicamente diseñado para cálculo numérico con vectores y matrices. Constituye una inferfaz de alto nivel para un buen número de librerías estándar de cálculo numérico como LAPACK o BLAS.\n",
    "\n",
    "La sintaxis de Octave es similar a la de MatLab. En la gran mayoría de los casos (y probablemente en todas las prácticas de cálculo numérico que realizaréis durante el Grado), los programas escritos en Octave pueden ejecutarse sin ninguna modificación en MatLab. Dado que MatLab es un software comercial, éste posee un mayor número de funciones que Octave, así como paquetes especializados (*tool-boxes*) no disponibles en Octave, y en algunas ocasiones de indiscutible potencia.\n",
    "\n",
    "No obstante, la funcionalidad requerida para la mayoría de las prácticas del grado está disponible igualmente en Octave. Como contrapartida, Octave es [*software libre*](https://www.gnu.org/philosophy/free-sw.es.html), lo que quiere decir no sólo que es gratuíto, sino que, a diferencia de MatLab, otorga al usuario las llamadas 4 libertades sobre el programa que utiliza:\n",
    "\n",
    " * Libertad de usar el programa, con cualquier propósito.\n",
    " * Libertad de acceso al código fuente del programa.\n",
    " * Libertad de copiado y distribución.\n",
    " * Libertad de modificar y mejorar el programa.\n",
    "\n",
    "Existen gran cantidad de manuales de ayuda que permitirán al alumno progresar tanto como desee en sus habilidades como programador en Octave/MatLab. Como primera aproximación, se sugiere el [manual introductorio](http://math.jacobs-university.de/oliver/teaching/iub/resources/octave/octave-intro/octave-intro.html) de Hubert Selhofer *et al.*. Además, los alumnos cuentan con un [manual de Octave/Matlab](http://meteo.unican.es/work/juaco/G328_intro_Octave.pdf) adaptado a los requerimientos iniciales para esta asignatura.\n",
    "Por último, mencionar una breve guía para comenzar a usar OCTAVE incluída en la propia wiki del proyecto: [Using Octave](https://wiki.octave.org/Using_Octave).\n",
    "\n",
    "\n",
    "<a name=\"H_134FF586\"></a>\n",
    "\n",
    "### Empezando a usar OCTAVE\n",
    "\n",
    "La ventana de OCTAVE instalada en nuestro equipo presenta una interfaz gráfica que muestra un escritorio dividido en varias partes, entre ellas:\n",
    "\n",
    "-  Las órdenes a ejecutar se escriben en la ventana de comandos, <samp>Command Window</samp>.\n",
    "-  En el editor (ventana <samp>Editor</samp>) escribimos código que guardaremos en scripts con extensión <samp>.m</samp> y ejecutaremos en la ventana de comandos.\n",
    "-  La ventana <samp>Workspace</samp> proporciona información sobre las variables utilizadas.\n",
    "\n",
    "... si bien esta disposición es configurable por parte del usuario, por lo que puede presentarse en muy diversas formas\n",
    "\n",
    "<p style=\"text-align:left\">\n",
    "   <img src=\"../figs/octave_GUI_ES.png\" width=\"750\">\n",
    "</p>\n",
    "\n",
    "\n",
    "Aunque hay más, los tipos de datos básicos en OCTAVE para nosotros son los siguientes: números reales o complejos, booleanos (valores lógicos) y cadenas de caracteres (o <samp>strings</samp>). En cualquier caso, el objeto básico de trabajo en OCTAVE son las matrices. Los escalares y los vectores son considerados casos particulares de matrices.\n",
    "\n",
    "\n",
    "**Uso de la ventana de comandos**\n",
    "\n",
    "\n",
    "Las instrucciones que terminan por punto y coma no imprimen los resultados en la pantalla. Se pueden recuperar instrucciones anteriores, usando las teclas de flechas arriba y abajo, o bien acudiendo a la ventana con el historial de la sesión (también es posible guardar el historial y reabrirlo posteriormente, aunque generalmente preferimos utilizar un script y guardarlo antes de cerrar para poder volver a ejecutar nuestro programa en otra ocasión.).\n",
    "\n",
    "<a name=\"H_D10F85D2\"></a>\n",
    "\n",
    "### Variables\n",
    "\n",
    "Para crear una nueva variable con la que trabajar, se especifica el nombre que se le quiere dar a dicha variable, seguido del signo igual \" <samp>=\"</samp> (operador de asignación) y el valor que se le desea asignar.\n",
    "\n",
    "\n",
    "Hay ciertas **reglas para definir variables en OCTAVE**:\n",
    "\n",
    "-  No se pueden crear variables sin asignarles un valor.\n",
    "-  El nombre de una variable puede tener como máximo 63 caracteres que pueden ser letras, números y el guion de subrayar.\n",
    "-  El primer carácter tiene que ser una letra, `matriz2` es un nombre válido, pero no lo es `2matriz`.\n",
    "-  Las mayúsculas y las minúsculas tienen valor distintivo. La variable `Modulo` es distinta de la variable `modulo`.\n",
    "-  Dentro de un nombre de variable no puede haber espacios en blanco, `modulo1`  es un nombre de variable válido, pero `modulo 1` NO.\n",
    "-  Existen nombres que deben evitarse porque tienen significado propio en OCTAVE (son _variables reservadas_): `ans`, `pi`, `Inf`, `i`, por ejemplo... "
   ]
  },
  {
   "cell_type": "markdown",
   "metadata": {},
   "source": [
    "Introduce en la línea de comandos la siguiente instrucción, y presiona la tecla `Enter` para ejecutar el código:"
   ]
  },
  {
   "cell_type": "code",
   "execution_count": 38,
   "metadata": {},
   "outputs": [
    {
     "name": "stdout",
     "output_type": "stream",
     "text": [
      "Pi = 3.1416\n"
     ]
    }
   ],
   "source": [
    "Pi = pi"
   ]
  },
  {
   "cell_type": "markdown",
   "metadata": {},
   "source": [
    "Aparece el resultado: hemos creado una variable <samp>Pi</samp> que tiene el valor 3.1416. También la variable aparece en el espacio de trabajo (Workspace):\n",
    "\n",
    "<p style=\"text-align:left\">\n",
    "   <img src=\"../figs/workspace_Pi.png\" width=\"436\">\n",
    "</p>\n",
    "\n",
    "\n",
    "A tener en cuenta:\n",
    "\n",
    "-  Al abrir sesión seleccionaremos el **directorio de trabajo**, donde almacenaremos los scripts.\n",
    "-  Si se escribe <samp>;</samp> al final de una linea de código, <u>no se  muestra el resultado por pantalla</u>. Esta característica es la deseada cuando se trabaja con grandes conjuntos de datos:"
   ]
  },
  {
   "cell_type": "code",
   "execution_count": 39,
   "metadata": {},
   "outputs": [
    {
     "name": "stdout",
     "output_type": "stream",
     "text": [
      "b = 2\n"
     ]
    }
   ],
   "source": [
    "a = 1; % Se crea una variable a con valor 1, pero no se imprime el resultado\n",
    "b = 2  % Se imprime el resultado (b = 2)"
   ]
  },
  {
   "cell_type": "markdown",
   "metadata": {},
   "source": [
    "-  **Obtener ayuda** en OCTAVE: El comando <samp>help</samp> es la orden  básica de ayuda con la cual consultar el uso de una  función, incluyendo los argumentos de entrada/salida, una breve  descripción de qué realiza y de su uso."
   ]
  },
  {
   "cell_type": "code",
   "execution_count": 40,
   "metadata": {},
   "outputs": [
    {
     "name": "stdout",
     "output_type": "stream",
     "text": [
      "'pi' is a built-in function from the file libinterp/corefcn/data.cc\n",
      "\n",
      " -- pi\n",
      " -- pi (N)\n",
      " -- pi (N, M)\n",
      " -- pi (N, M, K, ...)\n",
      " -- pi (..., CLASS)\n",
      "     Return a scalar, matrix, or N-dimensional array whose elements are\n",
      "     all equal to the ratio of the circumference of a circle to its\n",
      "     diameter.\n",
      "\n",
      "     Internally, 'pi' is computed as '4.0 * atan (1.0)'.\n",
      "\n",
      "     When called with no arguments, return a scalar with the value of\n",
      "     pi.\n",
      "\n",
      "     When called with a single argument, return a square matrix with the\n",
      "     dimension specified.\n",
      "\n",
      "     When called with more than one scalar argument the first two\n",
      "     arguments are taken as the number of rows and columns and any\n",
      "     further arguments specify additional matrix dimensions.\n",
      "\n",
      "     The optional argument CLASS specifies the return type and may be\n",
      "     either \"double\" or \"single\".\n",
      "\n",
      "     See also: e, I.\n",
      "\n",
      "Additional help for built-in functions and operators is\n",
      "available in the online version of the manual.  Use the command\n",
      "'doc <topic>' to search the manual index.\n",
      "\n",
      "Help and information about Octave is also available on the WWW\n",
      "at https://www.octave.org and via the help@octave.org\n",
      "mailing list.\n"
     ]
    }
   ],
   "source": [
    "help pi"
   ]
  },
  {
   "cell_type": "markdown",
   "metadata": {},
   "source": [
    "\n",
    "-  Se pueden incluir **comentarios** (aclaraciones que no se ejecutan) dentro de los programas añadiendo <samp>%</samp> delante de lo que se desea comentar."
   ]
  },
  {
   "cell_type": "code",
   "execution_count": 41,
   "metadata": {},
   "outputs": [
    {
     "name": "stdout",
     "output_type": "stream",
     "text": [
      "ans = 3.1416\n"
     ]
    }
   ],
   "source": [
    "% ESTO ES UN COMENTARIO. A continuación muestro por pantalla el valor de pi:\n",
    "pi"
   ]
  },
  {
   "cell_type": "markdown",
   "metadata": {},
   "source": [
    "\n",
    "-  Se puede **ejecutar** un programa entero pulsando la tecla \"Run\", o bien una(s) línea(s) seleccionadas pulsando F9 o seleccionando \"Evaluate selection\" en el menú que sale al pinchar con el botón derecho del ratón.\n",
    "-  Es **esencial leer los errores** que obtenemos cuando algo no funciona, ya que contienen información acerca del error. Además, la(s) línea(s) afectada(s) tiene una señal roja a la derecha del editor."
   ]
  },
  {
   "cell_type": "code",
   "execution_count": 42,
   "metadata": {},
   "outputs": [],
   "source": [
    "a1 = 1; % Ok\n",
    "% Descomenta la siguiente línea (Elimina el símbolo de comentario %) y observa qué sucede:\n",
    "% 1a = 1 % PARSE ERROR! Octave da la explicación (y a veces ofrece una solución). Observa el símbolo '^' que indica el punto en el que ha sucedido el error"
   ]
  },
  {
   "cell_type": "markdown",
   "metadata": {},
   "source": [
    "\n",
    "**Ejercicio:** Descomenta las siguentes líneas del código y corrige los errores:\n"
   ]
  },
  {
   "cell_type": "code",
   "execution_count": 43,
   "metadata": {},
   "outputs": [],
   "source": [
    "% 1a = 1\n",
    "% valor 1 = pi\n",
    "% x = % 5"
   ]
  },
  {
   "cell_type": "markdown",
   "metadata": {},
   "source": [
    "<a name=\"H_230C9F48\"></a>\n",
    "\n",
    "#### Tipos de datos\n",
    "\n",
    "OCTAVE trabaja con los tipos básicos de datos (números, caracteres y  booleanos) a partir de los cuales se construyen vectores, matrices,  cadenas de caracteres, etc. Del mismo modo, a partir del tipo de datos se definen diferentes operaciones básicas (suma, producto, intersecciones, etc.) que permiten la construcción y definición por composición de operaciones complejas.\n",
    "\n",
    "\n",
    "Además de los tipos de datos básicos existen diferentes tipos de  variables que sirven de contenedores de datos, como son el tipo <samp>cell</samp>, <samp>struct</samp> o variables simbólicas (<samp>sym</samp>).\n",
    "\n",
    "\n",
    "Para saber qué variables están definidas y a que tipo de datos corresponde tenemos el comando <samp>whos:</samp>\n"
   ]
  },
  {
   "cell_type": "code",
   "execution_count": 44,
   "metadata": {},
   "outputs": [
    {
     "name": "stdout",
     "output_type": "stream",
     "text": [
      "Variables visible from the current scope:\n",
      "\n",
      "variables in scope: top scope\n",
      "\n",
      "  Attr   Name               Size                     Bytes  Class\n",
      "  ====   ====               ====                     =====  ===== \n",
      "         A                  2x3                         48  double\n",
      "         B                  2x3                         48  double\n",
      "         C                  2x3                         48  double\n",
      "         M                  3x3                         72  double\n",
      "         Pi                 1x1                          8  double\n",
      "         a                  1x1                          8  double\n",
      "         a1                 1x1                          8  double\n",
      "         ans                1x1                          8  double\n",
      "         b                  1x1                          8  double\n",
      "         b1                 1x1                          8  double\n",
      "         b2                 1x1                          8  double\n",
      "         c                  1x1                          8  double\n",
      "         division           1x1                          8  double\n",
      "         l                  1x1                          8  double\n",
      "         producto           1x1                          8  double\n",
      "         raiz               1x5                         40  double\n",
      "         s                  1x1                          8  double\n",
      "         suma               1x1                          8  double\n",
      "         suma_columnas      1x3                         24  double\n",
      "         suma_filas         3x1                         24  double\n",
      "         t                  1x7                         24  double\n",
      "         u                  1x4                         32  double\n",
      "         v                  1x4                         32  double\n",
      "         w                  4x1                         32  double\n",
      "         x                  4x1                         32  double\n",
      "         z                  1x9                         72  double\n",
      "\n",
      "Total is 83 elements using 632 bytes\n",
      "\n"
     ]
    }
   ],
   "source": [
    "whos"
   ]
  },
  {
   "cell_type": "markdown",
   "metadata": {},
   "source": [
    "\n",
    "Compara con el contenido de la ventana <samp>Workspace</samp>. Como mencionamos anteriormente, los escalares son un caso particular de matrices; tienen un tamaño de 1x1, lo que significa que son matrices con una fila y una columna.\n",
    "\n",
    "<a name=\"H_B1D664E6\"></a>\n",
    "\n",
    "### Comandos básicos\n",
    "<a name=\"H_C3E5E6CE\"></a>\n",
    "\n",
    "***\n",
    "#### Cabecera de un programa\n",
    "***"
   ]
  },
  {
   "cell_type": "code",
   "execution_count": 45,
   "metadata": {},
   "outputs": [
    {
     "name": "stdout",
     "output_type": "stream",
     "text": [
      "\u001b[H\u001b[2J"
     ]
    }
   ],
   "source": [
    "% Limpia el espacio de trabajo\n",
    "clear all % se recomienda usar 'clearvars' para borrar las variables\n",
    "% Limpia la ventana de comandos\n",
    "clc\n",
    "% Cierra las ventanas/figuras abiertas\n",
    "close all\n",
    "% Lista las variables definidas en el espacio de trabajo\n",
    "whos"
   ]
  },
  {
   "cell_type": "markdown",
   "metadata": {},
   "source": [
    "<a name=\"H_F4823953\"></a>\n",
    "\n",
    "***\n",
    "#### Operaciones básicas\n",
    "***\n",
    "\n",
    "La forma de representar números y de operar con OCTAVE es la misma que  la de una calculadora de bolsillo, usando las operaciones \\texttt{+, \\-, \\*, /, ^}. Se recomienda **siempre asignar el resultado a una variable**. Si no asignas el resultado a una variable, OCTAVE lo almacena temporalmente en la variable predeterminada <samp>ans</samp>, pero esto puede llevar a errores y confusión, especialmente en scripts más complejos.\n"
   ]
  },
  {
   "cell_type": "code",
   "execution_count": 46,
   "metadata": {},
   "outputs": [
    {
     "name": "stdout",
     "output_type": "stream",
     "text": [
      "suma = 22\n",
      "division = 3.4000\n"
     ]
    }
   ],
   "source": [
    "suma = 17+5 % Suma\n",
    "division = 17/5 % Division con decimales"
   ]
  },
  {
   "cell_type": "markdown",
   "metadata": {},
   "source": [
    "<a name=\"H_7133A156\"></a>\n",
    "\n",
    "***\n",
    "#### Funciones matemáticas elementales\n",
    "***\n",
    "\n",
    "-  <samp>exp(x)</samp>: exponencial de x\n",
    "-  <samp>log(x)</samp>: logaritmo natural o neperiano.\n",
    "-  <samp>log10(x)</samp>: logaritmo en base 10.\n",
    "-  <samp>sin(x)</samp>: seno de x.\n",
    "-  <samp>cos(x)</samp>: coseno de x.\n",
    "-  <samp>tan(x)</samp>: tangente de x.\n",
    "-  <samp>asin(x)</samp>: arco seno de x con imagen en el rango $[-\\pi /2,\\pi /2]$ .\n",
    "-  <samp>acos(x)</samp>: arco coseno de x con imagen en el rango $[-\\pi /2,\\pi /2]$ .\n",
    "-  <samp>atan(x)</samp>: arco tangente de x con imagen en el rango $[-\\pi /2,\\pi /2]$ .\n",
    "-  <samp>atan2(y,x)</samp>: arco tangente de y/x con imagen en el rango $[-\\pi ,\\pi ]$ .\n",
    "-  <samp>sinh(x)</samp>: seno hiperbólico de x.\n",
    "-  <samp>cosh(x)</samp>: coseno hiperbólico de x.\n",
    "-  <samp>tanh(x)</samp>: tangente hiperbólica de x.\n",
    "-  <samp>sum(x)</samp>: suma de los elementos del vector x.\n",
    "-  <samp>prod(x)</samp>: producto de los elementos del vector x.\n",
    "\n",
    " **Importante:** en estas funciones el ángulo viene en radianes:\n"
   ]
  },
  {
   "cell_type": "code",
   "execution_count": 47,
   "metadata": {},
   "outputs": [
    {
     "name": "stdout",
     "output_type": "stream",
     "text": [
      "c = -1\n",
      "a = 3.1416\n",
      "s = 1\n",
      "l = 5\n"
     ]
    }
   ],
   "source": [
    "c = cos(pi) % no 'cos(180)' para calcular el coseno de pi (de 180 grados)\n",
    "a = 4*atan(1) % atan: Funcion arcotangente con resultado en radianes.\n",
    "s = sin(pi/2) % Seno de pi/2\n",
    "l = log(exp(1)^5) % Función logaritmo natural"
   ]
  },
  {
   "cell_type": "markdown",
   "metadata": {},
   "source": [
    "\n",
    "Jerarquia de las operaciones: multiplicacion y division, suma y resta:\n"
   ]
  },
  {
   "cell_type": "code",
   "execution_count": 48,
   "metadata": {},
   "outputs": [
    {
     "name": "stdout",
     "output_type": "stream",
     "text": [
      "b1 = 7\n",
      "b2 = 9\n"
     ]
    }
   ],
   "source": [
    "b1 = 1+2*3\n",
    "b2 = (1+2)*3 % Uso del parentesis"
   ]
  },
  {
   "cell_type": "markdown",
   "metadata": {},
   "source": [
    "<a name=\"H_A5416571\"></a>\n",
    "\n",
    "***\n",
    "#### Formatos\n",
    "***\n",
    "\n",
    "Podemos cambiar la forma en la que OCTAVE muestra por pantalla los números mediante el comando <samp>format</samp>:\n"
   ]
  },
  {
   "cell_type": "code",
   "execution_count": 49,
   "metadata": {},
   "outputs": [
    {
     "name": "stdout",
     "output_type": "stream",
     "text": [
      "ans = 0.3333\n",
      "ans = 0.333333333333333\n",
      "ans = 3.333333333333333e-01\n",
      "ans = 1/3\n"
     ]
    }
   ],
   "source": [
    "format short, 1/3  % 4 decimales\n",
    "format long, 1/3  % 15 decimales\n",
    "format longe, 1/3  % Notación científica larga\n",
    "format rat, 1/3  % fraccion"
   ]
  },
  {
   "cell_type": "markdown",
   "metadata": {},
   "source": [
    "\n",
    "Sin embargo, hay que tener en cuenta que el cambio de formato sólo tiene efecto a nivel de visualización (el número con el que OCTAVE trabaja en memoria seguirá siendo siempre el mismo).\n"
   ]
  },
  {
   "cell_type": "code",
   "execution_count": 50,
   "metadata": {},
   "outputs": [],
   "source": [
    "format short"
   ]
  },
  {
   "cell_type": "markdown",
   "metadata": {},
   "source": [
    "<a name=\"H_0C8E9485\"></a>\n",
    "### **Matrices y vectores**\n",
    "\n",
    "\n",
    "<a name=\"H_DDAE71AC\"></a>\n",
    "***\n",
    "#### Crear y manipular vectores\n",
    "***\n",
    "\n",
    "Hay varias maneras de construir vectores fila:\n"
   ]
  },
  {
   "cell_type": "code",
   "execution_count": 51,
   "metadata": {},
   "outputs": [
    {
     "name": "stdout",
     "output_type": "stream",
     "text": [
      "u =\n",
      "\n",
      "  -7   3   4  -2\n",
      "\n",
      "v =\n",
      "\n",
      "  -7   3   4  -2\n",
      "\n",
      "t =\n",
      "\n",
      "    1    4    7   10   13   16   19\n",
      "\n",
      "z =\n",
      "\n",
      " Columns 1 through 8:\n",
      "\n",
      "   1.0000   1.1250   1.2500   1.3750   1.5000   1.6250   1.7500   1.8750\n",
      "\n",
      " Column 9:\n",
      "\n",
      "   2.0000\n",
      "\n"
     ]
    }
   ],
   "source": [
    "u=[-7,3,4,-2] % Corchetes y comas\n",
    "v=[-7 3 4 -2] % Corchetes sin comas\n",
    "t= 1:3:20 % para crear secuencias de números tomados de tres en tres,\n",
    "% tales que inicial:incremento:final\n",
    "z= linspace(1,2,9) % genera un vector fila de 9 elementos cuyo primer elemento\n",
    "% es 1 y el último 2, siendo todos sus elementos equidistantes:\n",
    "% linspace(inicial, final, n)"
   ]
  },
  {
   "cell_type": "markdown",
   "metadata": {},
   "source": [
    "\n",
    "Y vectores columna:\n"
   ]
  },
  {
   "cell_type": "code",
   "execution_count": 52,
   "metadata": {},
   "outputs": [
    {
     "name": "stdout",
     "output_type": "stream",
     "text": [
      "w =\n",
      "\n",
      "  -7\n",
      "   3\n",
      "   4\n",
      "  -2\n",
      "\n",
      "x =\n",
      "\n",
      "  -7\n",
      "   3\n",
      "   4\n",
      "  -2\n",
      "\n"
     ]
    }
   ],
   "source": [
    "w=[-7;3;4;-2] % Vector vertical (uso de ';' como fin de línea)\n",
    "x= u' % Trasponiendo un vector fila"
   ]
  },
  {
   "cell_type": "markdown",
   "metadata": {},
   "source": [
    "\n",
    "Se puede comprobar el tamaño de los vectores y extraer elementos:\n"
   ]
  },
  {
   "cell_type": "code",
   "execution_count": 53,
   "metadata": {},
   "outputs": [
    {
     "name": "stdout",
     "output_type": "stream",
     "text": [
      "lu = 4\n",
      "lw = 4\n",
      "su =\n",
      "\n",
      "   1   4\n",
      "\n",
      "ans = -7\n",
      "ans = -2\n",
      "u =\n",
      "\n",
      "  -4   3   4  -2\n",
      "\n"
     ]
    }
   ],
   "source": [
    "lu = length(u) % Numero de elementos del vector\n",
    "lw = length(w)\n",
    "su = size(u) % Numero de filas y columnas\n",
    "\n",
    "u(1) % Primer elemento del vector u\n",
    "w(4) % Cuarto elemento del vector w\n",
    "u(1)=-4 % Cambia el primer elemento del vector u, y lo reemplaza por el valor -4"
   ]
  },
  {
   "cell_type": "markdown",
   "metadata": {},
   "source": [
    "<a name=\"H_AD12C960\"></a>\n",
    "\n",
    "***\n",
    "#### Crear y manipular matrices\n",
    "***"
   ]
  },
  {
   "cell_type": "code",
   "execution_count": 54,
   "metadata": {},
   "outputs": [
    {
     "name": "stdout",
     "output_type": "stream",
     "text": [
      "A =\n",
      "\n",
      "   3  -7\n",
      "   2   5\n",
      "\n",
      "B =\n",
      "\n",
      "   3  -7\n",
      "   2   5\n",
      "\n",
      "C =\n",
      "\n",
      "   6   0  -3   8   9\n",
      "   5   1   7  -4   2\n",
      "   3   1  -6   2  -1\n",
      "\n",
      "ans = 7\n",
      "ans =\n",
      "\n",
      "   3   5\n",
      "\n",
      "ans = 5\n",
      "C =\n",
      "\n",
      "    6    0   -3   11    9\n",
      "    5    1    7   -4    2\n",
      "    3    1   -6    2   -1\n",
      "\n"
     ]
    }
   ],
   "source": [
    "A=[3,-7;2,5] %Corchetes y comas. Definida por filas\n",
    "B=[3 -7; 2 5] %Corchetes sin comas\n",
    "C=[6 0 -3 8 9; 5 1 7 -4 2; 3 1 -6 2 -1]\n",
    "C(2, 3) %Elemento de la fila 2 y columna 3 de la matriz c\n",
    "size(C) %Numero de filas y columnas de la matriz c\n",
    "length(C) %Numero de columnas de la matriz c\n",
    "C(1, 4)=11 %Cambio del elemento de la fila 1 y 4 columna de la matriz c"
   ]
  },
  {
   "cell_type": "markdown",
   "metadata": {},
   "source": [
    "<a name=\"H_E94A2E5C\"></a>\n",
    "\n",
    "***\n",
    "#### Matrices especiales\n",
    "***\n",
    "\n",
    "Son aquellas formadas por ceros, unos o la identidad.\n"
   ]
  },
  {
   "cell_type": "code",
   "execution_count": 55,
   "metadata": {},
   "outputs": [
    {
     "name": "stdout",
     "output_type": "stream",
     "text": [
      "ans =\n",
      "\n",
      "   0   0   0   0   0\n",
      "   0   0   0   0   0\n",
      "   0   0   0   0   0\n",
      "\n",
      "ans =\n",
      "\n",
      "   0   0   0   0\n",
      "   0   0   0   0\n",
      "   0   0   0   0\n",
      "   0   0   0   0\n",
      "\n",
      "ans =\n",
      "\n",
      "   1   1   1   1\n",
      "   1   1   1   1\n",
      "\n",
      "ans =\n",
      "\n",
      "   1   1   1\n",
      "   1   1   1\n",
      "   1   1   1\n",
      "\n",
      "ans =\n",
      "\n",
      "Diagonal Matrix\n",
      "\n",
      "   1   0   0   0\n",
      "   0   1   0   0\n",
      "   0   0   1   0\n",
      "   0   0   0   1\n",
      "\n",
      "A =\n",
      "\n",
      "Diagonal Matrix\n",
      "\n",
      "  -7   0   0\n",
      "   0   2   0\n",
      "   0   0   4\n",
      "\n"
     ]
    }
   ],
   "source": [
    "zeros(3,5) %Nula de 3 filas y 5 columnas\n",
    "zeros(4) %Nula 4x4\n",
    "ones(2,4) %Unidad de 2 filas y 4 columnas\n",
    "ones(3) %Unidad 3x3\n",
    "eye(4) % Matriz identidad de orden 4 (i.e. diagonal de 1 4x4)\n",
    "A = diag([-7 2 4]) %Diagonal con los valores dados"
   ]
  },
  {
   "cell_type": "markdown",
   "metadata": {},
   "source": [
    "<a name=\"H_A56524CE\"></a>\n",
    "\n",
    "***\n",
    "#### Submatrices\n",
    "***\n",
    "\n",
    "Se pueden extraer submatrices de una matriz mayor indicando la fila o columna que se desea. <samp>:</samp> indica todos los elementos.\n"
   ]
  },
  {
   "cell_type": "code",
   "execution_count": 56,
   "metadata": {},
   "outputs": [
    {
     "name": "stdout",
     "output_type": "stream",
     "text": [
      "A =\n",
      "\n",
      "   6   0  -3   8   9\n",
      "   5   1   7  -4   2\n",
      "   3   1  -6   2  -1\n",
      "\n",
      "ans =\n",
      "\n",
      "   5   1   7  -4   2\n",
      "\n",
      "ans =\n",
      "\n",
      "   9\n",
      "   2\n",
      "  -1\n",
      "\n",
      "A =\n",
      "\n",
      "   6   0  -3   8   9\n",
      "   5   1   7  -4   2\n",
      "  -7  -7  -7  -7  -7\n",
      "\n"
     ]
    }
   ],
   "source": [
    "A=[6 0 -3 8 9; 5 1 7 -4 2; 3 1 -6 2 -1] %Define matriz\n",
    "A(2, :) %Fila 2 de la matriz a\n",
    "A(:, 5) %Columna 5 de la matriz a\n",
    "A(3, :)= -7 %Cambia todos los elementos de la fila 3 por -7"
   ]
  },
  {
   "cell_type": "markdown",
   "metadata": {},
   "source": [
    "<a name=\"H_A84CB336\"></a>\n",
    "\n",
    "***\n",
    "#### Operaciones con matrices\n",
    "***\n",
    "\n",
    "Cuando trabajamos con matriz, para operar elemento a elemento hay que usar los comandos: `.*, ./, .^` (es decir, los operadores aritméticos con un punto delante), ya que el producto de matrices como tal no está definido elemento a elemento.\n"
   ]
  },
  {
   "cell_type": "code",
   "execution_count": 57,
   "metadata": {},
   "outputs": [
    {
     "name": "stdout",
     "output_type": "stream",
     "text": [
      "A =\n",
      "\n",
      "  -3   7\n",
      "   2   5\n",
      "\n",
      "ans =\n",
      "\n",
      "    97   107\n",
      "   102   105\n",
      "\n",
      "A =\n",
      "\n",
      "  -3   4   2\n",
      "   1   7  -5\n",
      "\n",
      "B =\n",
      "\n",
      "   1  -2  -9\n",
      "   4   2   6\n",
      "\n",
      "C =\n",
      "\n",
      "  -2   2  -7\n",
      "   5   9   1\n",
      "\n",
      "ans =\n",
      "\n",
      "  -2   2  -7\n",
      "   5   9   1\n",
      "\n",
      "ans =\n",
      "\n",
      "  -0.9000   1.2000   0.6000\n",
      "   0.3000   2.1000  -1.5000\n",
      "\n",
      "C =\n",
      "\n",
      "   -3   -8  -18\n",
      "    4   14  -30\n",
      "\n"
     ]
    }
   ],
   "source": [
    "A=[-3 7; 2 5] %Define matriz\n",
    "A+100 %Suma 100 a cada elemento de la matriz. % Igual para restas, multiplicaciones y divisiones\n",
    "A=[-3 4 2; 1 7 -5] %Define matriz\n",
    "B=[1 -2 -9; 4 2 6] %Define matriz\n",
    "C=A+B % guarda el resultado en la variable c\n",
    "A+B %Opera sin almacenar\n",
    "0.3*A %Multiplica todos los valores de a por 0.3\n",
    "C=A.*B %Multiplica matrices elemento a elemento"
   ]
  },
  {
   "cell_type": "markdown",
   "metadata": {},
   "source": [
    "<a name=\"H_935550B0\"></a>\n",
    "\n",
    "***\n",
    "#### Comandos sum y prod\n",
    "***\n",
    "\n",
    "-  El comando <samp>sum</samp>  se utiliza para calcular la suma de los elementos de un vector o matriz.\n",
    "-  El comando <samp>prod</samp> se utiliza para calcular el producto de los elementos de un vector o matriz.\n",
    "\n",
    "**Notas:**\n",
    "\n",
    "-  Los comandos <samp>sum</samp> y <samp>prod</samp> se pueden aplicar a matrices y vectores.\n",
    "-  Cuando se usa en una matriz sin especificar la dimensión,  los comandos operan por columnas.\n",
    "-  Para sumar los elementos de cada fila, usa <samp>sum(M, 2)</samp>.\n",
    "-  Para obtener el producto de los elementos de cada fila, usa <samp>prod(M, 2)</samp>."
   ]
  },
  {
   "cell_type": "code",
   "execution_count": 58,
   "metadata": {},
   "outputs": [
    {
     "name": "stdout",
     "output_type": "stream",
     "text": [
      "suma_columnas =\n",
      "\n",
      "   12   15   18\n",
      "\n",
      "suma_filas =\n",
      "\n",
      "    6\n",
      "   15\n",
      "   24\n",
      "\n"
     ]
    }
   ],
   "source": [
    "M = [1, 2, 3;\n",
    "     4, 5, 6;\n",
    "     7, 8, 9];\n",
    "suma_columnas = sum(M) % suma_columnas  [12, 15, 18]\n",
    "suma_filas = sum(M, 2) % Calcula la suma de los elementos en cada fila"
   ]
  },
  {
   "cell_type": "markdown",
   "metadata": {},
   "source": [
    "\n",
    "**Ejercicio**: Calcula suma de todos los elementos de la matriz M.\n"
   ]
  },
  {
   "cell_type": "code",
   "execution_count": 59,
   "metadata": {},
   "outputs": [],
   "source": [
    "% Escribe aquí el código:\n"
   ]
  },
  {
   "cell_type": "markdown",
   "metadata": {},
   "source": [
    "<a name=\"H_703E17D1\"></a>\n",
    "\n",
    "### Ejercicios resueltos\n",
    "\n",
    "a) Calcula la suma de los primeros 100 números naturales.\n",
    "\n",
    "\n",
    "b) Calcula la suma de los cubos de los primeros 100 números naturales.\n",
    "\n",
    "\n",
    "c) Calcula la suma de todos los números pares de 3 cifras y la suma de sus cuadrados.\n",
    "\n",
    "\n",
    "d) Calcula el producto de las raíces cuadradas de los primeros 5 números naturales.\n",
    "\n",
    "\n",
    "e) Calcula $\\left(3^{\\cos \\;\\frac{\\pi }{4}} -2e^2 \\right)\\sqrt{\\ln \\;5}$\n",
    "\n",
    "\n",
    "a) Calcula la suma de los primeros 100 números naturales.\n"
   ]
  },
  {
   "cell_type": "code",
   "execution_count": 60,
   "metadata": {},
   "outputs": [
    {
     "name": "stdout",
     "output_type": "stream",
     "text": [
      "suma = 5050\n"
     ]
    }
   ],
   "source": [
    "k=1:100; % crea un vector con los números de 1 al 100.\n",
    "suma=sum(k) % suma los elementos de k y guarda el resultado en la variable suma."
   ]
  },
  {
   "cell_type": "markdown",
   "metadata": {},
   "source": [
    "\n",
    "b) Calcula la suma de los cubos de los primeros 100 números naturales.\n"
   ]
  },
  {
   "cell_type": "code",
   "execution_count": 61,
   "metadata": {},
   "outputs": [
    {
     "name": "stdout",
     "output_type": "stream",
     "text": [
      "suma = 2.5502e+07\n"
     ]
    }
   ],
   "source": [
    "k3=k.^3; % eleva al cubo cada elemento del vector k\n",
    "suma=sum(k3) % suma los elementos de k3"
   ]
  },
  {
   "cell_type": "markdown",
   "metadata": {},
   "source": [
    "\n",
    "c) Calcula la suma de todos los números pares de 3 cifras y la suma de sus cuadrados.\n"
   ]
  },
  {
   "cell_type": "code",
   "execution_count": 62,
   "metadata": {},
   "outputs": [
    {
     "name": "stdout",
     "output_type": "stream",
     "text": [
      "suma = 247050\n",
      "suma_cuadrados = 1.6601e+08\n"
     ]
    }
   ],
   "source": [
    "pares=100:2:998; % crea el vector de números pares de 3 cifras\n",
    "suma=sum(pares) % suma los elementos del vector pares\n",
    "suma_cuadrados=sum(pares.^2) % suma de los cuadrados de pares"
   ]
  },
  {
   "cell_type": "markdown",
   "metadata": {},
   "source": [
    "\n",
    "d) Calcula el producto de las raíces cuadradas de los primeros 5 números naturales.\n"
   ]
  },
  {
   "cell_type": "code",
   "execution_count": 63,
   "metadata": {},
   "outputs": [
    {
     "name": "stdout",
     "output_type": "stream",
     "text": [
      "producto = 10.954\n"
     ]
    }
   ],
   "source": [
    "a=1:5; % vector formado por los primeros 5 números naturales\n",
    "raiz=sqrt(a); % calcula la raíz cuadrada de los elementos de a\n",
    "producto=prod(raiz) % calcula la suma de las raíces cuadrada"
   ]
  },
  {
   "cell_type": "markdown",
   "metadata": {},
   "source": [
    "\n",
    "e) Calcula $\\left(3^{\\cos \\;\\frac{\\pi }{4}} -2e^2 \\right)\\sqrt{\\ln \\;5}$\n"
   ]
  },
  {
   "cell_type": "code",
   "execution_count": 64,
   "metadata": {},
   "outputs": [
    {
     "name": "stdout",
     "output_type": "stream",
     "text": [
      "a1 = 2.1746\n",
      "a2 = 14.778\n",
      "a3 = 1.2686\n",
      "res = -15.989\n",
      "res = -15.989\n"
     ]
    }
   ],
   "source": [
    "% por partes:\n",
    "a1 = 3^(cos(pi/4))\n",
    "a2 = 2*exp(2)\n",
    "a3 = sqrt(log(5))\n",
    "res = (a1-a2)*a3\n",
    "\n",
    "% directamente en una línea:\n",
    "res = ( 3^(cos (pi/4) ) - 2*exp(2) )*sqrt( log(5) )"
   ]
  },
  {
   "cell_type": "markdown",
   "metadata": {},
   "source": [
    "<a name=\"H_A998F915\"></a>\n",
    "\n",
    "### Ejercicios propuestos\n",
    "1.  Calcula la suma de las raíces cúbicas de los primeros 50 números naturales.\n",
    "2. Calcula el producto de los cuadrados de todos los números impares de dos cifras.\n",
    "3. Calcula:\n",
    "\n",
    "$$\\begin{array}{l} a=\\left(\\sqrt{6}-3\\right)\\left(3+2^{1/2} \\cdot 3^{0.5} \\right)\\newline b=\\;\\cos (3\\pi )+12\\,sen\\,\\frac{3\\pi }{2}\\newline c=\\;e^{4-8^{2/3} }  \\end{array}$$"
   ]
  },
  {
   "cell_type": "code",
   "execution_count": 65,
   "metadata": {},
   "outputs": [],
   "source": [
    "% Escribe aquí el código:\n",
    "\n",
    "\n",
    "\n"
   ]
  },
  {
   "cell_type": "markdown",
   "metadata": {},
   "source": [
    "Compara tus resultados con las soluciones al final del notebook"
   ]
  },
  {
   "cell_type": "markdown",
   "metadata": {},
   "source": [
    "<a name=\"H_0B4541F7\"></a>\n",
    "\n",
    "### Resumen\n",
    "\n",
    "**Ventana de OCTAVE**\n",
    "\n",
    "\n",
    "\\- <samp>Command Window</samp>: Donde se escriben y ejecutan las órdenes.\n",
    "\n",
    "\n",
    "\\- <samp>Editor</samp>: Donde se escribe y guarda el código en scripts `.m`.\n",
    "\n",
    "\n",
    "\\- <samp>Workspace</samp>: Muestra las variables utilizadas.\n",
    "\n",
    "\n",
    "**Variables y Tipos de Datos**\n",
    "\n",
    "\n",
    "\\- Crear variables: <samp>nombre = valor</samp>\n",
    "\n",
    "\n",
    "\\- Reglas para nombres de variables: Hasta 63 caracteres, comenzando con una letra, sin espacios, distinguibles entre mayúsculas y minúsculas.\n",
    "\n",
    "\n",
    "**Comandos Básicos**\n",
    "\n",
    "Se incluyen enlaces a la documentación online de los comandos en MatLab, que son equivalentes:\n",
    "\n",
    "\\-  [<samp>clear</samp>](https://es.mathworks.com/help/matlab/ref/clear.html) <samp>all/ clearvars</samp> : Limpia el espacio de trabajo.\n",
    "\n",
    "\n",
    "\\-[ <samp>clc</samp>](https://es.mathworks.com/help/matlab/ref/clc.html): Limpia la ventana de comandos.\n",
    "\n",
    "\n",
    "\\- [<samp>close</samp>](https://es.mathworks.com/help/matlab/ref/close.html) <samp>all</samp> : Cierra (todas) las figuras abiertas.\n",
    "\n",
    "\n",
    "\\- [<samp>whos</samp>](https://es.mathworks.com/help/matlab/ref/whos.html): Lista las variables definidas.\n",
    "\n",
    "\n",
    "\\- Operaciones básicas: Suma: `+`, Resta: `-`, Multiplicación: `*`, División: `/`, Potencia: `^`\n",
    "\n",
    "\n",
    "\\- [Funciones matemáticas elementales](https://es.mathworks.com/help/matlab/elementary-math.html):  <samp>exp(x), log(x), sin(x), cos(x), tan(x)</samp>, etc.\n",
    "\n",
    "\n",
    "\\- [<samp>format</samp>](https://es.mathworks.com/help/matlab/ref/format.html#btiwmh5-3) <samp>short</samp> : Muestra 4 decimales (long: Muestra 15 decimales; longe: Notación científica larga; rat: Muestra como fracción)\n",
    "\n",
    "\n",
    "**Matrices y Vectores**\n",
    "\n",
    "\n",
    "\\- Crear vectores:\n",
    "\n",
    "\n",
    "&nbsp;&nbsp;&nbsp;&nbsp;&nbsp;&nbsp; \\- Filas: <samp>u=[-7,3,4,-2]</samp> o <samp>v=[-7 3 4 -2]</samp>\n",
    "\n",
    "\n",
    "&nbsp;&nbsp;&nbsp;&nbsp;&nbsp;&nbsp; \\- Columnas: <samp>w=[-7;3;4;-2]</samp>\n",
    "\n",
    "\n",
    "&nbsp;&nbsp;&nbsp;&nbsp;&nbsp;&nbsp; \\- Secuencias: <samp>t=1:3:20</samp>, <samp>z=linspace(1,2,9)</samp>\n",
    "\n",
    "\n",
    "\\- Crear matrices: <samp>A=[3,-7;2,5]</samp>\n",
    "\n",
    "\n",
    "\\- [Operaciones con matrices](https://es.mathworks.com/help/matlab/matlab_prog/array-vs-matrix-operations.html?searchHighlight=suma%20resta&s_tid=srchtitle_support_results_2_suma%20resta) elemento a elemento: <samp>C=A+B</samp>, `C=A.\\B`, `C=A.*B`\n",
    "\n",
    "\n",
    "\\- [<samp>length(v)</samp>](https://es.mathworks.com/help/matlab/ref/length.html) <samp>:</samp> Longitud del vector\n",
    "\n",
    "\n",
    "\\- [<samp>size(A)</samp>](https://es.mathworks.com/help/matlab/ref/size.html) <samp>:</samp> Tamaño de la matriz\n",
    "\n",
    "\n",
    "\\- [<samp>sum(A)</samp>](https://es.mathworks.com/help/matlab/ref/sum.html) <samp>:</samp> Calcular la suma de los elementos en un vector o matriz\n",
    "\n",
    "\n",
    "\\- [<samp>prod(A)</samp>](https://es.mathworks.com/help/matlab/ref/prod.html) <samp>:</samp> Producto de los elementos en un vector o matriz\n",
    "\n",
    "\n",
    "\\- [Matrices especiales](https://es.mathworks.com/help/matlab/matlab_oop/class-support-for-array-creation-functions.html):  <samp>zeros(3,5), ones(2,4), eye(4), diag([-7 2 4])</samp>\n",
    "\n",
    "\n",
    "\\- Extraer filas/columnas: <samp>A(2,:), A(:,5)</samp>\n",
    "\n",
    "\n",
    "\\- Modificar elementos: <samp>A(3,:)= -7</samp>\n",
    "\n",
    "\n",
    "**Ayuda y Depuración**\n",
    "\n",
    "\n",
    "\\- Obtener ayuda: [<samp>help</samp>](https://es.mathworks.com/help/matlab/ref/help.html) <samp>function_name</samp>\n",
    "\n",
    "\n",
    "\\- Comentarios: Usar `%` para incluir comentarios en el código.\n",
    "\n",
    "\n",
    "\\- Ejecutar el código: \"Run\", \"F9\", o \"Run Section\".\n",
    "\n",
    "<a name=\"H_AC6B0A09\"></a>\n",
    "\n"
   ]
  },
  {
   "cell_type": "markdown",
   "metadata": {},
   "source": [
    "### Soluciones"
   ]
  },
  {
   "cell_type": "code",
   "execution_count": 66,
   "metadata": {},
   "outputs": [],
   "source": [
    "function [] = soluciones()\n",
    "\n",
    "% Ejercicio 1:\n",
    "k=1:50;\n",
    "raices=k.^(1/3);\n",
    "s1=sum(raices);\n",
    "fprintf(\"Soluciones:\\nEjercicio 1:\\n S1 = %.4f\\n\",s1);\n",
    "\n",
    "% Ejercicio 2:\n",
    "k=11:2:99;\n",
    "cuadrados = k.^2;\n",
    "s2=prod(cuadrados);\n",
    "fprintf(\"Ejercicio 2:\\n S2 = %d\\n\",s2);\n",
    "\n",
    "% Ejercicio 3\n",
    "a = (sqrt(6) - 3)*(3 + 2^(1/2) * 3^(0.5));\n",
    "b = cos(3*pi) + 12*sin(3*pi/2);\n",
    "c = exp(4-8^(2/3));\n",
    "fprintf(\"Ejercicio 3:\\n a = %.0f\\n b = %0.f\\n c = %.0f\\n\",a,b,c);\n",
    "end"
   ]
  },
  {
   "cell_type": "markdown",
   "metadata": {},
   "source": [
    "Para ver las soluciones, ejecuta el comando"
   ]
  },
  {
   "cell_type": "code",
   "execution_count": 67,
   "metadata": {},
   "outputs": [
    {
     "name": "stdout",
     "output_type": "stream",
     "text": [
      "Soluciones:\n",
      "Ejercicio 1:\n",
      " S1 = 139.7179\n",
      "Ejercicio 2:\n",
      " S2 = 8.31753e+150\n",
      "Ejercicio 3:\n",
      " a = -3\n",
      " b = -13\n",
      " c = 1\n"
     ]
    }
   ],
   "source": [
    "soluciones()"
   ]
  },
  {
   "cell_type": "code",
   "execution_count": null,
   "metadata": {},
   "outputs": [],
   "source": []
  }
 ],
 "metadata": {
  "kernelspec": {
   "display_name": "Octave",
   "language": "octave",
   "name": "octave"
  },
  "language_info": {
   "file_extension": ".m",
   "help_links": [
    {
     "text": "GNU Octave",
     "url": "https://www.gnu.org/software/octave/support.html"
    },
    {
     "text": "Octave Kernel",
     "url": "https://github.com/Calysto/octave_kernel"
    },
    {
     "text": "MetaKernel Magics",
     "url": "https://metakernel.readthedocs.io/en/latest/source/README.html"
    }
   ],
   "mimetype": "text/x-octave",
   "name": "octave",
   "version": "7.1.0"
  }
 },
 "nbformat": 4,
 "nbformat_minor": 4
}
