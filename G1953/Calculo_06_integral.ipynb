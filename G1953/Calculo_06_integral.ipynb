{
 "cells": [
  {
   "cell_type": "markdown",
   "metadata": {},
   "source": [
    "<img src=\"../figs/logoIC.png\" width=\"585\" alt=\"image_0.png\">\n",
    "\n",
    "# Cálculo (G1953) - Grado en Ingeniería Civil\n",
    "\n",
    "#### Guión original en MatLab de Vera Egorova* (<vera.egorova@unican.es>)\n",
    "#### Adaptado para Octave por Joaquín Bedia*  <a href=\"https://orcid.org/0000-0001-6219-4312\" target=\"orcid.widget\" rel=\"noopener noreferrer\" style=\"vertical-align:top;\"><img src=\"https://orcid.org/sites/default/files/images/orcid_16x16.png\" style=\"width:1em;margin-right:.5em;\" alt=\"ORCID iD\"></a> (<bediaj@unican.es>)\n",
    "\n",
    "##### *Universidad de Cantabria, Dpto. Matemática Aplicada y Ciencias de la Computación)\n",
    "\n",
    "\n",
    "***\n",
    "\n",
    "# <span style=\"color:rgb(213,80,0)\"><b>Cálculo integral</b></span>\n",
    "\n",
    "<p style=\"text-align:left\">\n",
    "   <img src=\"https://upload.wikimedia.org/wikipedia/commons/thumb/6/6a/Gnu-octave-logo.svg/240px-Gnu-octave-logo.svg.png\" width=\"75\">\n",
    "</p>\n",
    "\n",
    "***\n",
    "\n",
    "<a name=\"beginToc\"></a>\n",
    "\n",
    "\n",
    "## Contenido\n",
    "&emsp;&emsp;[Cálculo de integrales indefinidas](#cálculo-de-integrales-indefinidas)\n",
    "\n",
    "&emsp;&emsp;[Cálculo de integrales definidas](#cálculo-de-integrales-definidas)\n",
    "\n",
    "&emsp;&emsp;&emsp;[Regla de Barrow](#regla-de-barrow)\n",
    "\n",
    "&emsp;&emsp;&emsp;[Áreas](#áreas)\n",
    "\n",
    "&emsp;&emsp;[Ejercicios propuestos](#-textbf-ejercicios-propuestos-)\n",
    "\n",
    "&emsp;&emsp;[Resumen](#resumen)\n",
    "\n",
    "&emsp;&emsp;[Soluciones](#soluciones)\n",
    "\n",
    "<a name=\"endToc\"></a>\n",
    "\n",
    "***"
   ]
  },
  {
   "cell_type": "markdown",
   "metadata": {},
   "source": [
    "En este notebooks hacemos uso del paquete [`symbolic`](https://gnu-octave.github.io/packages/symbolic/) para el manejo de primitivas como expresiones simbólicas. Es por lo tanto necesario tener previamente instalado dicho paquete antes de comenzar. Si no está disponible, puede instalarse fácilmente con esta llamada (o similar, dependiendo de la última versión estable del paquete disponible; para más detalles, ver enlace anterior):"
   ]
  },
  {
   "cell_type": "code",
   "execution_count": null,
   "metadata": {},
   "outputs": [],
   "source": [
    "pkg install \"https://downloads.sourceforge.net/project/octave/Octave%20Forge%20Packages/Individual%20Package%20Releases/symbolic-3.2.1.tar.gz\""
   ]
  },
  {
   "cell_type": "code",
   "execution_count": null,
   "metadata": {},
   "outputs": [],
   "source": [
    "pkg load symbolic"
   ]
  },
  {
   "cell_type": "markdown",
   "metadata": {},
   "source": [
    "### Cálculo de integrales indefinidas\n",
    "\n",
    "La función `int`  del paquete symbolic de OCTAVE permite calcular directamente integrales indefinidas en las que el integrando sea una expresión simbólica:\n",
    "\n",
    "<pre>\n",
    "F = int (f)\n",
    "</pre>\n",
    "\n",
    "\n",
    "**Nota**: la salida de la función no incluye la constante de integración"
   ]
  },
  {
   "cell_type": "markdown",
   "metadata": {},
   "source": [
    "***\n",
    "\n",
    "**Ejemplo**: Calculamos las siguientes integrales:\n",
    "\n",
    "\n",
    "$$\\int \\cos^2 \\left(\\frac{x}{2}\\right)dx\\;$$"
   ]
  },
  {
   "cell_type": "code",
   "execution_count": null,
   "metadata": {},
   "outputs": [],
   "source": [
    "syms x real   % defino 'x' como variable simbolica real\n",
    "f1(x) = cos(x/2)^2;  % funcion a integrar\n",
    "F1(x) = int(f1)  % primitiva (sin constante de integracion)"
   ]
  },
  {
   "cell_type": "markdown",
   "metadata": {},
   "source": [
    "***\n",
    "\n",
    "**Ejercicio:** $\\displaystyle\\int \\frac{1}{1+\\sqrt{x}}dx\\;$\n",
    "\n",
    "\n",
    "Esta integral es semi-inmediata. También se puede resolver utilizando el cambio de variable $t=\\sqrt{x}$\n"
   ]
  },
  {
   "cell_type": "code",
   "execution_count": null,
   "metadata": {},
   "outputs": [],
   "source": [
    "% escribe aquí el código\n",
    "\n"
   ]
  },
  {
   "cell_type": "markdown",
   "metadata": {},
   "source": [
    "\n",
    "Solución:\n"
   ]
  },
  {
   "cell_type": "code",
   "execution_count": null,
   "metadata": {},
   "outputs": [],
   "source": [
    "f2(x) = 1/(1+sqrt(x));  % funcion a integrar\n",
    "F2(x) = int(f2)  % primitiva (sin constante de integracion)"
   ]
  },
  {
   "cell_type": "markdown",
   "metadata": {},
   "source": [
    "***\n",
    "\n",
    "**Ejercicio:** $\\displaystyle\\int xe^x dx$\n",
    "\n",
    "\n",
    "Esta integral se resuelve fácilmente por partes ( $u=x\\textrm{,}\\;dv=e^x dx$ )\n"
   ]
  },
  {
   "cell_type": "code",
   "execution_count": null,
   "metadata": {},
   "outputs": [],
   "source": [
    "% escribe aquí el código\n",
    "\n"
   ]
  },
  {
   "cell_type": "markdown",
   "metadata": {},
   "source": [
    "\n",
    "Solución:\n"
   ]
  },
  {
   "cell_type": "code",
   "execution_count": null,
   "metadata": {},
   "outputs": [],
   "source": [
    "f3(x) = x*exp(x);  % funcion a integrar\n",
    "F3(x) = int(f3)  % primitiva (sin constante de integracion)"
   ]
  },
  {
   "cell_type": "markdown",
   "metadata": {},
   "source": [
    "\n",
    "\n",
    "Podemos comprobar fácilmente que las primitivas que hemos obtenido son correctas. Para ello, bastaría con ver que su derivada coincide con el integrando:\n",
    "\n"
   ]
  },
  {
   "cell_type": "code",
   "execution_count": null,
   "metadata": {},
   "outputs": [],
   "source": [
    "%% diferencia entre la derivada de la primitiva y el integrando\n",
    "diff(F1)-f1"
   ]
  },
  {
   "cell_type": "markdown",
   "metadata": {},
   "source": [
    "¿Qué ha sucedido? Debería ser una constante que no depende de `x`. Debemos acordarnos de **simplificar** este resultado, con la función `simplify`:"
   ]
  },
  {
   "cell_type": "code",
   "execution_count": null,
   "metadata": {},
   "outputs": [],
   "source": [
    "simplify(diff(F1) - f1)  % F1 es una primitiva correcta\n"
   ]
  },
  {
   "cell_type": "code",
   "execution_count": null,
   "metadata": {},
   "outputs": [],
   "source": [
    "% Los otros resultados:\n",
    "simplify(diff(F2) - f2)  % F2 es una primitiva correcta\n",
    "simplify(diff(F3) - f3)  % F3 es una primitiva correcta"
   ]
  },
  {
   "cell_type": "markdown",
   "metadata": {},
   "source": [
    "\n",
    "Aquí, hemos empleado el comando `simplify` que se utiliza para simplificar expresiones simbólicas, es decir, reducirlas a una forma más compacta o sencilla, eliminando términos redundantes o combinando términos semejantes.\n",
    "\n",
    "\n",
    "Evidentemente, si sumamos cualquier constante de integración a las primitivas que hemos obtenido, éstas seguirán siendo igual de válidas:\n",
    "\n"
   ]
  },
  {
   "cell_type": "code",
   "execution_count": null,
   "metadata": {},
   "outputs": [],
   "source": [
    "warning('off') % suprimimos avisos por pantalla\n",
    "simplify(diff(F1 + 5) - f1)  % F1+5 es una primitiva correcta\n",
    "simplify(diff(F2 - pi) - f2)  % F2-pi es una primitiva correcta\n",
    "simplify(diff(F3 + sqrt(2)) - f3)  % F3+sqrt(2) es una primitiva correcta"
   ]
  },
  {
   "cell_type": "markdown",
   "metadata": {},
   "source": [
    "***\n",
    "\n",
    "### Cálculo de integrales definidas\n",
    "\n",
    "El comando `int`  también permite calcular integrales definidas. Para ello, sólo tendremos que especificar mediante argumentos de entrada los límites del intervalo de integración de interés, por ejemplo, para especificar $~~\\displaystyle I=\\int_a^bf(x)dx$:\n",
    "\n",
    "<pre>\n",
    "I = int(f, a, b)\n",
    "</pre>\n",
    "\n",
    "\n",
    "**Nota**: Al ser `I` un valor numérico, utilizaremos normalmente el comando `double` para trabajar con él posteriormente, en lugar de como un 'símbolo'.\n",
    "\n"
   ]
  },
  {
   "cell_type": "markdown",
   "metadata": {},
   "source": [
    "***\n",
    "\n",
    "**Ejercicio:** Calcula las siguientes integrales (continuación del ejemplo anterior):\n",
    "\n",
    "\n",
    "$$\\int_{-2}^{\\frac{\\pi }{2}} \\cos^2 \\left(\\frac{x}{2}\\right)dx$$"
   ]
  },
  {
   "cell_type": "code",
   "execution_count": null,
   "metadata": {},
   "outputs": [],
   "source": [
    "% escribe aquí el código\n",
    "\n"
   ]
  },
  {
   "cell_type": "markdown",
   "metadata": {},
   "source": [
    "\n",
    "Solución:\n"
   ]
  },
  {
   "cell_type": "code",
   "execution_count": null,
   "metadata": {},
   "outputs": [],
   "source": [
    "f1_def = double(int(f1, -2, pi/2))  % valor (numerico) de la integral definida"
   ]
  },
  {
   "cell_type": "markdown",
   "metadata": {},
   "source": [
    "\n",
    "$$\\int_0^1 \\frac{1}{1+\\sqrt{x}}dx\\;$$"
   ]
  },
  {
   "cell_type": "code",
   "execution_count": null,
   "metadata": {},
   "outputs": [],
   "source": [
    "% escribe aquí el código\n",
    "\n"
   ]
  },
  {
   "cell_type": "markdown",
   "metadata": {},
   "source": [
    "\n",
    "Solución:\n"
   ]
  },
  {
   "cell_type": "code",
   "execution_count": null,
   "metadata": {},
   "outputs": [],
   "source": [
    "f2_def = double(int(f2, 0, 1))  % valor (numerico) de la integral definida"
   ]
  },
  {
   "cell_type": "markdown",
   "metadata": {},
   "source": [
    "\n",
    "$$\\int_0^e xe^x dx$$"
   ]
  },
  {
   "cell_type": "code",
   "execution_count": null,
   "metadata": {},
   "outputs": [],
   "source": [
    "% escribe aquí el código\n",
    "\n"
   ]
  },
  {
   "cell_type": "markdown",
   "metadata": {},
   "source": [
    "\n",
    "Solución:\n",
    "\n"
   ]
  },
  {
   "cell_type": "code",
   "execution_count": null,
   "metadata": {},
   "outputs": [],
   "source": [
    "f3_def = double(int(f3, 0, exp(1)))  % valor (numerico) de la integral definida"
   ]
  },
  {
   "cell_type": "markdown",
   "metadata": {},
   "source": [
    "***\n",
    "\n",
    "#### Regla de Barrow\n",
    "\n",
    "Podríamos recurrir a la regla de Barrow\n",
    "\n",
    "\n",
    "$$\\int_a^b f(x)dx=F(b)-F(a)$$\n",
    "\n",
    "\n",
    " para comprobar que los resultados que acabamos de obtener son correctos. Basta evaluar la primitiva en los extremos del intervalo de integración y restar:\n",
    "\n"
   ]
  },
  {
   "cell_type": "code",
   "execution_count": null,
   "metadata": {},
   "outputs": [],
   "source": [
    "f1_def_rb = double(F1(pi/2) - F1(-2))\n",
    "f2_def_rb = double(F2(1) - F2(0))\n",
    "f3_def_rb = double(F3(exp(1)) - F3(0))  % comprobacion: regla de Barrow"
   ]
  },
  {
   "cell_type": "markdown",
   "metadata": {},
   "source": [
    "***\n",
    "\n",
    "#### Áreas\n",
    "\n",
    " Como sabemos, el valor de una integral definida se corresponde con el área encerrada entre la curva definida por el integrando y el eje $X$ , confinada lateralmente por los extremos del intervalo de integración (hay que tener en cuenta que las porciones que queden por debajo del eje $X$ serían negativas).\n",
    "\n",
    "\n",
    "La función  `area` de OCTAVE permite dibujar dicho área, por lo que resulta útil en la interpretación gráfica de los resultados obtenidos al calcular integrales definidas. Ten en cuenta que esta función **sólo acepta valores numéricos** (nunca expresiones simbólicas) como argumentos de entrada.\n",
    "\n",
    "***\n",
    "\n",
    "**Ejemplo:** Representamos gráficamente la función $f(x)=x^2 +1$ en el intervalo $[1,3]\\;$ y sombrea, en rojo, la región del plano cuya área viene dada por $\\displaystyle I=\\int_1^3 \\left(x^2 +1\\right)dx$ :\n",
    "\n",
    "\n",
    "1. Creamos dos vectores: `x`, para abscicas, y calculamos la imagen de $f(x)$ en esos puntos, $y=f(x)$:\n",
    "\n"
   ]
  },
  {
   "cell_type": "code",
   "execution_count": null,
   "metadata": {},
   "outputs": [],
   "source": [
    "clearvars\n",
    "x = linspace(1, 3);  % secuencia de 100 numeros (equiespaciados) entre el 1 y el 3\n",
    "y = x.^2+1;  % valor (numerico) de la funcion 'f' en esos 100 puntos"
   ]
  },
  {
   "cell_type": "markdown",
   "metadata": {},
   "source": [
    "\n",
    "2. Representamos gráficamente la función:\n",
    "\n"
   ]
  },
  {
   "cell_type": "code",
   "execution_count": null,
   "metadata": {},
   "outputs": [],
   "source": [
    "plot(x,y,'k','LineWidth',2)\n",
    "grid on\n",
    "xlabel('x')\n",
    "ylabel('y')"
   ]
  },
  {
   "cell_type": "markdown",
   "metadata": {},
   "source": [
    "\n",
    "3. Sombreamos el area encerrada entre 'f' y el eje 'X' en rojo:\n"
   ]
  },
  {
   "cell_type": "code",
   "execution_count": null,
   "metadata": {},
   "outputs": [],
   "source": [
    "hold on\n",
    "area(x, y, 'FaceColor','r')  % (por defecto se utiliza el color azul)\n",
    "title('f(x)=x^2+1')\n",
    "hold off"
   ]
  },
  {
   "cell_type": "markdown",
   "metadata": {},
   "source": [
    "\n",
    "Cuando se trabaja con intervalos de integración simétricos respecto al origen, es decir, centrados en 0 y con la misma extensión hacia la derecha y hacia la izquierda, resulta especialmente útil analizar la paridad del integrando. Esto se debe a que, si la función que se está integrando (el integrando) es par o impar, se pueden simplificar considerablemente los cálculos:\n",
    "\n",
    "-  **Funciones pares (** $f(x)=f(-x)$ **):** La integral en un intervalo simétrico se puede calcular simplemente como el doble de la integral desde 0 hasta el extremo positivo del intervalo.\n",
    "-  **Funciones impares (** $f(x)=-f(-x)$ **):** La integral en un intervalo simétrico alrededor de 0 es siempre 0, debido a la cancelación de las áreas bajo la curva a la derecha y a la izquierda del origen.\n",
    "\n",
    "**Ejemplo:** Calculamos\n",
    "\n",
    "\n",
    "-  $\\displaystyle \\int_{\\frac{-\\pi }{2}}^{\\frac{\\pi }{2}} \\sin^2 (x)\\cos (x)dx$ (¿el integrando es par o impar?)\n",
    "\n",
    "1. Definimos  la función y representamos el área:\n",
    "\n"
   ]
  },
  {
   "cell_type": "code",
   "execution_count": null,
   "metadata": {},
   "outputs": [],
   "source": [
    "clearvars\n",
    "syms x real\n",
    "f(x) = sin(x)^2*cos(x);  % integrando\n",
    "warning('off') % evita avisos por pantalla no deseados\n",
    "X = linspace(-pi/2,pi/2);\n",
    "Y = double(f(X));\n",
    "area(X,Y,'FaceAlpha',0.5) % Nota la transparencia del área, indicada con 'FaceAlpha'\n",
    "grid on"
   ]
  },
  {
   "cell_type": "markdown",
   "metadata": {},
   "source": [
    "\n",
    "2. Visualmente, la función parece par; comprobamos:\n"
   ]
  },
  {
   "cell_type": "code",
   "execution_count": null,
   "metadata": {},
   "outputs": [],
   "source": [
    "f1 = subs(f,x,-x) % calculamos f(-x)"
   ]
  },
  {
   "cell_type": "code",
   "execution_count": null,
   "metadata": {},
   "outputs": [],
   "source": [
    "f1==f"
   ]
  },
  {
   "cell_type": "markdown",
   "metadata": {},
   "source": [
    "\n",
    "Podemos ver que $f(-x)=f(x)$ , es decir, el integrando es par. Esto es lo esperable, ya que la función coseno es par, y la función seno, es impar, pero al estar al cuadrado (impar $\\times$ impar) se hace par. Por lo tanto, tenemos un producto de dos funciones pares (par $\\times$ par), es decir, función par.\n",
    "\n",
    "\n",
    "3. Como el integrando es par, podemos calcular la integral como: $~~~~\\displaystyle 2\\int_0^{\\frac{\\pi }{2}} \\sin^2 (x)\\cos (x)dx$\n"
   ]
  },
  {
   "cell_type": "code",
   "execution_count": null,
   "metadata": {},
   "outputs": [],
   "source": [
    "I = 2*int(f, 0, pi/2)"
   ]
  },
  {
   "cell_type": "markdown",
   "metadata": {},
   "source": [
    "\n",
    "4. Comprobamos que es exactamente $\\displaystyle I=\\int_{\\frac{-\\pi }{2}}^{\\frac{\\pi }{2}} \\sin^2 (x)\\cos (x)dx$ :\n"
   ]
  },
  {
   "cell_type": "code",
   "execution_count": null,
   "metadata": {},
   "outputs": [],
   "source": [
    "I = int(f, -pi/2, pi/2)"
   ]
  },
  {
   "cell_type": "markdown",
   "metadata": {},
   "source": [
    "***\n",
    "\n",
    "**Ejercicio:** Calcula $\\displaystyle\\int_{-2}^2 x(x^2 +1)^3 dx\\;$ usando simetrías.\n"
   ]
  },
  {
   "cell_type": "code",
   "execution_count": null,
   "metadata": {},
   "outputs": [],
   "source": [
    "% escribe aquí el código\n",
    "\n"
   ]
  },
  {
   "cell_type": "markdown",
   "metadata": {},
   "source": [
    "\n",
    "Solución:\n",
    "\n"
   ]
  },
  {
   "cell_type": "code",
   "execution_count": null,
   "metadata": {},
   "outputs": [],
   "source": [
    "f(x) = x*(x^2+1)^3;  % integrando\n",
    "% opción 1:\n",
    "I=int(f, -2, 2)  % calculo la integral definida pedida\n",
    "% opción 2:\n",
    "f1 = subs(f,x,-x) % calculamos f(-x) que es igual a -f(x), entonces, f(x) es impar, I = 0.\n",
    "I = 0;\n",
    "% visualizacion %\n",
    "x = linspace(-2, 2);  % secuencia de 100 numeros (equiespaciados) entre -2 y 2\n",
    "y = double(f(x));  % valores (numericos) que toma el integrando para esa secuencia de 'x'\n",
    "area(x, y)   % area encerrada entre la grafica definida por el integrando y el eje X\n",
    "grid on"
   ]
  },
  {
   "cell_type": "markdown",
   "metadata": {},
   "source": [
    "<!--\n",
    "clearvars\n",
    "syms x real  % defino 'x' como variable simbolica\n",
    "rsums(x^2+1, 1, 3)  % aproximacion de la integral pedida con 10 rectangulos (valor por defecto que usa 'rsums')"
   ]
  },
  {
   "cell_type": "markdown",
   "metadata": {},
   "source": [
    "\n",
    "### **Ejercicios propuestos**\n",
    "\n",
    "1. Dada la función $\\displaystyle f(x)=\\log^2 (x)$ , ¿cuánto valdría $\\displaystyle F(\\sqrt{\\pi })$ , siendo $F\\;$ una primitiva de $f$ con constante de integración igual a $5$ ?\n"
   ]
  },
  {
   "cell_type": "code",
   "execution_count": null,
   "metadata": {},
   "outputs": [],
   "source": [
    "% escribe aquí el código\n",
    "\n"
   ]
  },
  {
   "cell_type": "markdown",
   "metadata": {},
   "source": [
    "\n",
    "Solución:\n"
   ]
  },
  {
   "cell_type": "code",
   "execution_count": null,
   "metadata": {},
   "outputs": [],
   "source": [
    "soluciones(1)"
   ]
  },
  {
   "cell_type": "markdown",
   "metadata": {},
   "source": [
    "\n",
    "2. Representa en una misma figura las funciones $\\displaystyle  f(x)=(x-1)^2$ y $\\displaystyle g(x)=\\sqrt{\\frac{\\pi }{3}}x$ y halla el área que queda encerrada entre ambas.\n"
   ]
  },
  {
   "cell_type": "code",
   "execution_count": null,
   "metadata": {},
   "outputs": [],
   "source": [
    "% escribe aquí el código\n",
    "\n"
   ]
  },
  {
   "cell_type": "markdown",
   "metadata": {},
   "source": [
    "\n",
    "Solución:\n"
   ]
  },
  {
   "cell_type": "code",
   "execution_count": null,
   "metadata": {},
   "outputs": [],
   "source": [
    "soluciones(2)"
   ]
  },
  {
   "cell_type": "markdown",
   "metadata": {},
   "source": [
    "\n",
    "\n",
    "4. Comprueba, estudiando su paridad, que la integral  $\\displaystyle \\int_{-1}^1 \\left(\\tan x-x^3\\right) dx=0$ . A continuación, ratifica tus resultados gráficamente utilizando la función <samp>area</samp> .\n"
   ]
  },
  {
   "cell_type": "code",
   "execution_count": null,
   "metadata": {},
   "outputs": [],
   "source": [
    "% escribe aquí el código\n",
    "\n",
    "\n"
   ]
  },
  {
   "cell_type": "markdown",
   "metadata": {},
   "source": [
    "\n",
    "Solución:\n"
   ]
  },
  {
   "cell_type": "code",
   "execution_count": null,
   "metadata": {},
   "outputs": [],
   "source": [
    "soluciones(3)"
   ]
  },
  {
   "cell_type": "markdown",
   "metadata": {},
   "source": [
    "***\n",
    "\n",
    "### Resumen\n",
    "\n",
    "**Cálculo de integrales**\n",
    "\n",
    "-  [**<samp>int(f)</samp>**](https://es.mathworks.com/help/symbolic/sym.int.html)**:** Calcula la integral indefinida de una función simbólica. Retorna la primitiva de la función, excluyendo la constante de integración.\n",
    "-  [**<samp>int(f, a, b)</samp>**](https://es.mathworks.com/help/symbolic/sym.int.html)**:** Calcula la integral definida de la función simbólica <samp>f</samp> desde el límite inferior <samp>a</samp> hasta el límite superior <samp>b</samp>. Retorna el valor numérico de la integral definida.\n",
    "<!--\n",
    "-  [**<samp>rsums(f,a,b)</samp>**](https://es.mathworks.com/help/symbolic/rsums.html)**:** Aproxima el valor de una integral definida usando sumas de Riemann. Permite ajustar el número de rectángulos en la aproximación y abre una ventana gráfica para visualizar la integración.\n",
    "-->\n"
   ]
  },
  {
   "cell_type": "markdown",
   "metadata": {},
   "source": [
    "**Áreas**\n",
    "\n",
    "-  [**<samp>area(x,y)</samp>**](https://es.mathworks.com/help/matlab/ref/area.html)**:** <u>**Dibuja**</u> el área bajo la curva de una función sobre un intervalo específico. Acepta vectores numéricos para las coordenadas <samp>x</samp> e <samp>y</samp>, y sombrea el área encerrada entre la función y el eje <samp>x</samp>.\n",
    "\n",
    "**Otras funciones útiles**\n",
    "\n",
    "-  [**<samp>simplify(expr)</samp>**](https://es.mathworks.com/help/symbolic/simplify.html)**:** Simplifica expresiones simbólicas, reduciéndolas a una forma más compacta o más sencilla, eliminando términos redundantes o combinando términos semejantes.\n",
    "\n"
   ]
  },
  {
   "cell_type": "markdown",
   "metadata": {},
   "source": [
    "***\n",
    "\n",
    "### Soluciones"
   ]
  },
  {
   "cell_type": "code",
   "execution_count": null,
   "metadata": {},
   "outputs": [],
   "source": [
    "function [] = soluciones(n)\n",
    "switch n\n",
    "    case 1\n",
    "        % Ejercicio 1:\n",
    "        fprintf(\"Ejercicio 1:\\n\");\n",
    "        syms x real\n",
    "        f(x) = log(x)^2;\n",
    "        C = 5;\n",
    "        F(x) = int(f) + C % añadimos C = 5 (constante de integración)\n",
    "        I = double(F(sqrt(pi)))\n",
    "    case 2\n",
    "        % Ejercicio 2:\n",
    "        fprintf(\"Ejercicio 2:\\n\");\n",
    "        close all\n",
    "        syms x real\n",
    "        f(x) = (x-1)^2;\n",
    "        g(x) = sqrt(pi/3)*x;\n",
    "        warning('off')\n",
    "        fplot(f,[0, 3],'r')\n",
    "        hold on\n",
    "        fplot(g,[0, 3],'b')\n",
    "        legend('f(x)', 'g(x)');\n",
    "        grid on\n",
    "        hold off\n",
    "        pc = sort(double(solve(f-g))); % puntos de corte\n",
    "        A = double(int(g-f,pc(1),pc(2))); % area encerrada\n",
    "        fprintf('Puntos de corte: a = %f, b = %f, Area: %f\\n', pc(1), pc(2), A);\n",
    "    case 3\n",
    "        % Ejercicio 3:\n",
    "        fprintf(\"Ejercicio 3:\\n\");\n",
    "        syms x real\n",
    "        f(x) = tan(x) - x^3;\n",
    "        warning('off')\n",
    "        % paridad:\n",
    "        f1(x) = subs(f,x,-x);\n",
    "        I = double(int(f,-1,1));\n",
    "        fprintf(\"f(-x) = %s; -f(x) = %s, entonces f(x) es impar, I = 0.\\nCalculamos la integral: I = %f\", char(f1), char(-f), I)\n",
    "        x = linspace(-1,1);\n",
    "        y = double(f(x));\n",
    "        area(x,y,'FaceAlpha',0.5)\n",
    "        grid on\n",
    "\n",
    "    end\n",
    "end"
   ]
  },
  {
   "cell_type": "code",
   "execution_count": null,
   "metadata": {},
   "outputs": [],
   "source": []
  }
 ],
 "metadata": {
  "kernelspec": {
   "display_name": "Octave",
   "language": "octave",
   "name": "octave"
  },
  "language_info": {
   "file_extension": ".m",
   "help_links": [
    {
     "text": "GNU Octave",
     "url": "https://www.gnu.org/software/octave/support.html"
    },
    {
     "text": "Octave Kernel",
     "url": "https://github.com/Calysto/octave_kernel"
    },
    {
     "text": "MetaKernel Magics",
     "url": "https://metakernel.readthedocs.io/en/latest/source/README.html"
    }
   ],
   "mimetype": "text/x-octave",
   "name": "octave",
   "version": "7.1.0"
  }
 },
 "nbformat": 4,
 "nbformat_minor": 4
}
