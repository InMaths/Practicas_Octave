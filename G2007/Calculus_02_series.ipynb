{
 "cells": [
  {
   "cell_type": "markdown",
   "metadata": {},
   "source": [
    "<img src=\"../figs/logoIC.png\" width=\"585\" alt=\"image_0.png\">\n",
    "\n",
    "# Cálculo (G2007) - Civil Engineering\n",
    "\n",
    "#### Original notebook in MatLab by Vera Egorova* (<vera.egorova@unican.es>)\n",
    "#### Adapted to Octave by Joaquín Bedia* (<bediaj@unican.es>)\n",
    "\n",
    "##### *Universidad de Cantabria, Dept. of Applied Mathematics and Computing Sciences)\n",
    "\n",
    "<!--\n",
    "<a name=\"T_55FB4C11\"></a>\n",
    "-->\n",
    "\n",
    "***\n",
    "\n",
    "# <span style=\"color:rgb(213,80,0)\">**Numerical series**</span>\n",
    "<p style=\"text-align:left\">\n",
    "   <img src=\"https://upload.wikimedia.org/wikipedia/commons/thumb/6/6a/Gnu-octave-logo.svg/240px-Gnu-octave-logo.svg.png\" width=\"75\">\n",
    "</p>\n",
    "\n",
    "***\n",
    "\n",
    "<a name=\"beginToc\"></a>\n",
    "\n",
    "## Contents\n",
    "\n",
    "&emsp;[Symbolic variables (`symbolic` package installation)](#H_2B2BD077)\n",
    "\n",
    "&emsp;[Numerical series](#H_2B2BD059)\n",
    "\n",
    "&emsp;&emsp;[Sums (partial and total)](#H_B7B36911)\n",
    "\n",
    "&emsp;&emsp;[General term](#H_15F814DD)\n",
    "\n",
    "&emsp;[Exercises](#H_D5059269)\n",
    "\n",
    "&emsp;[Summary](#H_DF9B7CFB)\n",
    "\n",
    "&emsp;[Solutions ](#H_AC6B0A09)\n",
    "\n",
    "<a name=\"endToc\"></a>\n",
    "\n",
    "\n",
    "***\n"
   ]
  },
  {
   "cell_type": "markdown",
   "metadata": {},
   "source": [
    "\n",
    "<a name=#H_2B2BD077></a>\n",
    "\n",
    "### Symbolic variables (`symbolic` package installation)\n",
    "\n",
    "OCTAVE allows you to work with symbolic variables, i.e. generic variables that, in principle, do not have to take a specific value (think of the unknowns in any equation). To do this, we need to have the \"Symbolic\" package installed. To install it locally, just go to the [OCTAVE central package repository](https://gnu-octave.github.io/packages/), where you can find the latest versions of the different packages created in OCTAVE, and search for the [symbolic](https://gnu-octave.github.io/packages/symbolic/) package.\n",
    "\n",
    "<p style=\"text-align:left\">\n",
    "   <img src=\"../figs/symbolic_pkg.png\" width=\"942\" alt=\"image_1.png\">\n",
    "</p>\n",
    "\n",
    "Here is how to install it. The easiest way is to copy the `pkg install ‘https://....’` instruction indicated in the box and paste it and run it on the OCTAVE command line, which will automatically install the package. Next, we install symbolic version 3.2.1:"
   ]
  },
  {
   "cell_type": "code",
   "execution_count": null,
   "metadata": {},
   "outputs": [],
   "source": [
    "pkg install \"https://downloads.sourceforge.net/project/octave/Octave%20Forge%20Packages/Individual%20Package%20Releases/symbolic-3.2.1.tar.gz\""
   ]
  },
  {
   "cell_type": "markdown",
   "metadata": {},
   "source": [
    "Once installed, the library must be loaded to make its functions available to the user:"
   ]
  },
  {
   "cell_type": "code",
   "execution_count": null,
   "metadata": {},
   "outputs": [],
   "source": [
    "pkg load symbolic"
   ]
  },
  {
   "cell_type": "markdown",
   "metadata": {},
   "source": [
    "\n",
    "To create a symbolic variable use the command `syms`:\n",
    "\n",
    "<pre>\n",
    "syms x  % x is defined as a symbolic variable\n",
    "</pre>\n",
    "\n",
    "Once defined, we can create symbolic expressions that depend on <samp>x</samp>. For instance:"
   ]
  },
  {
   "cell_type": "code",
   "execution_count": null,
   "metadata": {},
   "outputs": [],
   "source": [
    "clearvars % clean memory\n",
    "syms x\n",
    "eq = x^2 + 5;  % equation that depends on x"
   ]
  },
  {
   "cell_type": "markdown",
   "metadata": {},
   "source": [
    "We pay attention to the workspace window:\n",
    "\n",
    "<p style=\"text-align:left\">\n",
    "   <img src=\"../figs/workspace_sym.png\" width=\"505\" alt=\"image_2.png\">\n",
    "</p>\n",
    "\n",
    "neither <samp>x</samp> nor <samp>eq</samp> have numerical values assigned to them. The way to force a symbolic variable to take a certain value is to use the `subs` command:\n",
    "\n",
    "<pre>\n",
    "snew = subs(expression, old, new) % replaces in expression all occurrences of 'old' with 'new'.\n",
    "</pre>\n",
    "\n",
    "For example, we assign the value of 3 to the symbolic variable `x`:"
   ]
  },
  {
   "cell_type": "code",
   "execution_count": null,
   "metadata": {},
   "outputs": [],
   "source": [
    "v = subs(eq, x, 3)  % force x to take the value 3 in the expression 'eq'."
   ]
  },
  {
   "cell_type": "markdown",
   "metadata": {},
   "source": [
    "\n",
    "Although <samp>v</samp> may look like a number, it is actually a symbolic variable that has been assigned a numeric value.\n"
   ]
  },
  {
   "cell_type": "code",
   "execution_count": null,
   "metadata": {},
   "outputs": [],
   "source": [
    "class(v)"
   ]
  },
  {
   "cell_type": "markdown",
   "metadata": {},
   "source": [
    "\n",
    "To convert a symbolic variable to a real number, use the <samp>double</samp> command:\n"
   ]
  },
  {
   "cell_type": "code",
   "execution_count": null,
   "metadata": {},
   "outputs": [],
   "source": [
    "v_num = double(v)"
   ]
  },
  {
   "cell_type": "markdown",
   "metadata": {},
   "source": [
    "\n",
    "Now in the workspace we have:\n",
    "\n",
    "<p style=\"text-align:left\">\n",
    "   <img src=\"../figs/workspace_sym2.png\" width=\"505\" alt=\"image_3.png\">\n",
    "</p>\n",
    "\n",
    "\n",
    "The variable `v_num` has a value (14), it is a number (class=double) for OCTAVE.\n",
    "\n",
    "<a name=\"H_2B2BD059\"></a>\n"
   ]
  },
  {
   "cell_type": "markdown",
   "metadata": {},
   "source": [
    "### Numerical series\n",
    "\n",
    "*** \n",
    "<a name=\"H_B7B36911\"></a>\n",
    "\n",
    "#### Sums (partial and total)\n",
    "\n",
    "*** \n",
    "\n",
    "We have seen that, except in the case of geometric and telescopic series, calculating the sum of any other type of series is often an almost impossible task. With OCTAVE, on the other hand, it is very easy to calculate both any partial sum of a series and its total sum. This is done using the `symsum` command, which operates on symbolic expressions:\n",
    "\n",
    "<pre>\n",
    "F = symsum(f,n,a,b) % sum of the series f, from n = a to n = b\n",
    "</pre>\n",
    "\n",
    "\n",
    "**Example:** Let us consider the harmonic series $\\displaystyle{\\sum_{n=1}^{\\infty } \\frac{1}{n}}$. We calculate its 56th partial sum:"
   ]
  },
  {
   "cell_type": "code",
   "execution_count": null,
   "metadata": {},
   "outputs": [],
   "source": [
    "syms n integer  % I define 'n' as a symbolic (integer) variable\n",
    "a_n = 1/n;  % general term of the series\n",
    "S_56 = double(symsum(a_n, n, 1, 56) ) % 56th partial sum (numerical value)"
   ]
  },
  {
   "cell_type": "markdown",
   "metadata": {},
   "source": [
    "\n",
    " Calculate their total sum (to infinity):\n"
   ]
  },
  {
   "cell_type": "code",
   "execution_count": null,
   "metadata": {},
   "outputs": [],
   "source": [
    "S = symsum(a_n, n, 1, inf)  % total sum"
   ]
  },
  {
   "cell_type": "markdown",
   "metadata": {},
   "source": [
    "\n",
    "As the total sum is $\\infty$ , the series is divergent.\n",
    "\n",
    "As we already knew, the harmonic series $~~\\displaystyle{\\sum_{n=1}^{\\infty }} \\frac{1}{n}~$ is divergent (generalised harmonic series with $p=1$ ).\n",
    "\n",
    "Note that it is very easy to analyse the character (convergent or divergent) of any series with OCTAVE.\n",
    "\n",
    "\n",
    "**Exercise:** Analyse the character of the following series:\n",
    "\n",
    "-  $\\displaystyle {\\sum_{n=1}^{\\infty } \\frac{1}{n(n+1)}}$"
   ]
  },
  {
   "cell_type": "code",
   "execution_count": null,
   "metadata": {},
   "outputs": [],
   "source": [
    "% write your code here:\n",
    "\n",
    "\n"
   ]
  },
  {
   "cell_type": "markdown",
   "metadata": {},
   "source": [
    "\n",
    "Solution:\n"
   ]
  },
  {
   "cell_type": "code",
   "execution_count": null,
   "metadata": {},
   "outputs": [],
   "source": [
    "clearvars % we clear the variables stored in memory\n",
    "syms n integer % we define 'n' as a symbolic integer variable\n",
    "a_n = 1/(n*(n+1));  % general term of the sequence\n",
    "S = double(symsum(a_n, 1, inf))  % convergent (its total sum is 1)"
   ]
  },
  {
   "cell_type": "markdown",
   "metadata": {},
   "source": [
    "\n",
    "-  $\\displaystyle {\\sum_{n=1}^{\\infty } \\frac{2^n +1}{5^n +1}}$"
   ]
  },
  {
   "cell_type": "code",
   "execution_count": null,
   "metadata": {},
   "outputs": [],
   "source": [
    "% write your code here:\n",
    "\n"
   ]
  },
  {
   "cell_type": "markdown",
   "metadata": {},
   "source": [
    "\n",
    "Solution:\n"
   ]
  },
  {
   "cell_type": "code",
   "execution_count": null,
   "metadata": {},
   "outputs": [],
   "source": [
    "a_n = (2^n + 1)/(5^n + 1);\n",
    "S = double(symsum(a_n, 1, inf))  % convergent (sum=0.8084)"
   ]
  },
  {
   "cell_type": "markdown",
   "metadata": {},
   "source": [
    "\n",
    "-   $\\displaystyle {\\sum_{n=1}^{\\infty } \\frac{3n-1}{(\\sqrt{2})^n }}\\;$ (it is convergent according to quotient's criterion)"
   ]
  },
  {
   "cell_type": "code",
   "execution_count": null,
   "metadata": {},
   "outputs": [],
   "source": [
    "% write your code here:\n",
    "\n"
   ]
  },
  {
   "cell_type": "markdown",
   "metadata": {},
   "source": [
    "\n",
    "Solution:\n"
   ]
  },
  {
   "cell_type": "code",
   "execution_count": null,
   "metadata": {},
   "outputs": [],
   "source": [
    "a_n = (3*n - 1)/(sqrt(2)^n);  % general term\n",
    "S = double(symsum(a_n, 1, inf))  % convergent (sum=22.3137)"
   ]
  },
  {
   "cell_type": "markdown",
   "metadata": {},
   "source": [
    "\n",
    "-   $\\displaystyle {\\sum_{n=1}^{\\infty } \\frac{(2n)!}{(n!)^2 }}$ (it is divergent according to quotient's criterion)"
   ]
  },
  {
   "cell_type": "code",
   "execution_count": null,
   "metadata": {},
   "outputs": [],
   "source": [
    "% write your code here:\n",
    "\n"
   ]
  },
  {
   "cell_type": "markdown",
   "metadata": {},
   "source": [
    "\n",
    "Solution:\n"
   ]
  },
  {
   "cell_type": "code",
   "execution_count": null,
   "metadata": {},
   "outputs": [],
   "source": [
    "a_n = factorial(2*n)/(factorial(n))^2;  % general term\n",
    "S = symsum(a_n, 1, inf)   % divergent \n",
    "Snum = double(S) % OCTAVE returns NaN/Inf when converting symbolic infinity to numeric"
   ]
  },
  {
   "cell_type": "markdown",
   "metadata": {},
   "source": [
    "***\n",
    "<a name=\"H_15F814DD\"></a>\n",
    "\n",
    "#### General term\n",
    "\n",
    "***\n",
    "\n",
    "Another thing that is almost immediate with OCTAVE is to calculate the general term of a series, $a_n$ , knowing the expression of its nth partial sum. ( $\\displaystyle a_n =S_n -S_{n-1}$ ).\n",
    "\n",
    "\n",
    "**Example:** We calculate the general term of the series whose n-th partial sum is $\\displaystyle S_n =\\frac{n+1}{n+10}$\n",
    "\n",
    "\n",
    "1.  Define the n-th partial sum:\n"
   ]
  },
  {
   "cell_type": "code",
   "execution_count": null,
   "metadata": {},
   "outputs": [],
   "source": [
    "clearvars\n",
    "syms n integer\n",
    "S_n = (n+1)/(n+10)  % n-th partial sum"
   ]
  },
  {
   "cell_type": "markdown",
   "metadata": {},
   "source": [
    "\n",
    "2. We calculate $S_{n-1}$ using the command <samp>subs</samp>:\n"
   ]
  },
  {
   "cell_type": "code",
   "execution_count": null,
   "metadata": {},
   "outputs": [],
   "source": [
    "S_nminus1 = subs(S_n, n, n-1)  % partial (n-1)-th sum"
   ]
  },
  {
   "cell_type": "markdown",
   "metadata": {},
   "source": [
    "\n",
    "3. We calculate the general term $a_n =S_n -S_{n-1}$ :\n"
   ]
  },
  {
   "cell_type": "code",
   "execution_count": null,
   "metadata": {},
   "outputs": [],
   "source": [
    "a_n = simplify(S_n - S_nminus1)  % general term"
   ]
  },
  {
   "cell_type": "markdown",
   "metadata": {},
   "source": [
    "\n",
    "Is this series convergent or divergent? By the criterion of comparison it is convergent. We check by calculating the sum total:\n"
   ]
  },
  {
   "cell_type": "code",
   "execution_count": null,
   "metadata": {},
   "outputs": [],
   "source": [
    "S = symsum(a_n,n,0,inf)"
   ]
  },
  {
   "cell_type": "markdown",
   "metadata": {},
   "source": [
    "\n",
    "<a name=\"H_D5059269\"></a>\n",
    "\n",
    "### Exercises\n",
    "\n",
    "1. Find the general term and character of the series whose n-th partial sum is:\n",
    "\n",
    "-  $\\displaystyle S_n =\\frac{3^{n+1} -1}{2}\\textrm{,}\\;n\\in \\mathbb{N}\\;$\n",
    "-  $\\displaystyle S_n =\\frac{2^n -1}{2\\cdot 3^n }\\textrm{,}\\;n\\in \\mathbb{N}\\;\\textrm{    }$"
   ]
  },
  {
   "cell_type": "code",
   "execution_count": null,
   "metadata": {},
   "outputs": [],
   "source": [
    "% write your code here:\n"
   ]
  },
  {
   "cell_type": "markdown",
   "metadata": {},
   "source": [
    "\n",
    "Solution:\n",
    "(to see the solutions, you must first run the `solutions` function at the end of the notebook).\n"
   ]
  },
  {
   "cell_type": "code",
   "execution_count": null,
   "metadata": {},
   "outputs": [],
   "source": [
    "solutions(1)"
   ]
  },
  {
   "cell_type": "markdown",
   "metadata": {},
   "source": [
    "\n",
    "2. Analyse the convergence and find the sum total of the series: $\\displaystyle {\\sum_{n=1}^{\\infty } \\frac{2^{n-1} }{4^{2n+1} }}$ .\n",
    "\n"
   ]
  },
  {
   "cell_type": "code",
   "execution_count": null,
   "metadata": {},
   "outputs": [],
   "source": [
    "% write your code here:\n",
    "\n",
    "\n"
   ]
  },
  {
   "cell_type": "markdown",
   "metadata": {},
   "source": [
    "\n",
    "Solution:\n"
   ]
  },
  {
   "cell_type": "code",
   "execution_count": null,
   "metadata": {},
   "outputs": [],
   "source": [
    "solutions(2)"
   ]
  },
  {
   "cell_type": "markdown",
   "metadata": {},
   "source": [
    "\n",
    "<a name=\"H_DF9B7CFB\"></a>\n",
    "\n",
    "### Summary\n",
    "\n",
    "**Define a symbolic variable**:\n",
    "\n",
    "<pre>\n",
    "syms x real\n",
    "</pre>\n",
    "-   <samp>subs:</samp> Replace value in expression\n",
    "-   <samp>double:</samp> Convert symbolic variable to numerical value\n",
    "\n",
    "**Partial and total sums**\n",
    "\n",
    "Some links to online documentation of the commands in MatLab, which are equivalent, are included:\n",
    "\n",
    "-  [**<samp>symsum</samp>:**](https://es.mathworks.com/help/symbolic/sym.symsum.html) This command calculates the partial or total sum of a series. It can operate on symbolic expressions to obtain either the sum of a finite number of terms or the infinite sum of the series.\n",
    "-  **<samp>symsum(f, n, a, b)</samp>:** Calculate the sum of the series <samp>f</samp> from <samp>n = a</samp> to <samp>n = b</samp>.\n",
    "-  **<samp>symsum(f, n, a, inf)</samp>:** Calculate the total sum of the series from <samp>n = a</samp> to infinity.\n",
    "-  Is the result is $\\infty$ or `NaN`, the series is divergent. Otherwise it is convergent.\n",
    "\n",
    "**General Term**\n",
    "\n",
    "-  **General term of the series** ($a_n$): It is the individual term of the series, which can be obtained from the difference between consecutive partial sums: $a_n =S_n -S_{n-1}$\n",
    "\n",
    "<a name=\"H_AC6B0A09\"></a>\n",
    "\n",
    "### Solutions"
   ]
  },
  {
   "cell_type": "code",
   "execution_count": null,
   "metadata": {},
   "outputs": [],
   "source": [
    "function [] = solutions(n)\n",
    "switch n\n",
    "    case 1\n",
    "        % Exercise 1:\n",
    "        fprintf(\"Exercise 1:\\n\");\n",
    "        syms n integer\n",
    "        S_n = (3^(n+1)-1)/2\n",
    "        S_nmenos1 = subs(S_n, n, n-1);  % (n-1)-th partial sum\n",
    "        a_n = simplify(S_n - S_nmenos1)  % general term\n",
    "        S = limit(S_n,n,inf)\n",
    "        fprintf(\"As the sum total is inf, the series is divergent.\\n\")\n",
    "        S_n = (2^n-1)/(2*3^n)\n",
    "        S_nmenos1 = subs(S_n, n, n-1);  % (n-1)-th partial sum\n",
    "        a_n = simplify(S_n - S_nmenos1) % general term\n",
    "        S = limit(S_n,n,inf)\n",
    "        fprintf(\"As the sum total is 0, the series is convergent.\\n\")\n",
    "    case 2\n",
    "        % Exercise:\n",
    "        fprintf(\"Exercise 2:\\n\");\n",
    "        close all\n",
    "        syms n N integer\n",
    "        a_n = 2^(n-1)/4^(2*n+1);\n",
    "        S_N = symsum(a_n,n,1,N);\n",
    "        S = limit(S_N,N, inf);\n",
    "        fprintf(\"As S  = %f, the series is convergent\\n\",double(S))\n",
    "        x = 1:50;\n",
    "        an = double(subs(a_n, n,x));\n",
    "        Sn =  double(subs(S_N, N,x));\n",
    "end\n",
    "end"
   ]
  },
  {
   "cell_type": "code",
   "execution_count": null,
   "metadata": {},
   "outputs": [],
   "source": []
  }
 ],
 "metadata": {
  "kernelspec": {
   "display_name": "Octave",
   "language": "octave",
   "name": "octave"
  },
  "language_info": {
   "file_extension": ".m",
   "help_links": [
    {
     "text": "GNU Octave",
     "url": "https://www.gnu.org/software/octave/support.html"
    },
    {
     "text": "Octave Kernel",
     "url": "https://github.com/Calysto/octave_kernel"
    },
    {
     "text": "MetaKernel Magics",
     "url": "https://metakernel.readthedocs.io/en/latest/source/README.html"
    }
   ],
   "mimetype": "text/x-octave",
   "name": "octave",
   "version": "7.1.0"
  }
 },
 "nbformat": 4,
 "nbformat_minor": 4
}
