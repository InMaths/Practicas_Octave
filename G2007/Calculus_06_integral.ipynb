{
 "cells": [
  {
   "cell_type": "markdown",
   "metadata": {},
   "source": [
    "<img src=\"../figs/logoIC.png\" width=\"585\" alt=\"image_0.png\">\n",
    "\n",
    "# Calculus (2007) - Civil Engineering\n",
    "\n",
    "#### Original notebook in MatLab by Vera Egorova* (<vera.egorova@unican.es>)\n",
    "#### Adapted to Octave by Joaquín Bedia*  <a href=\"https://orcid.org/0000-0001-6219-4312\" target=\"orcid.widget\" rel=\"noopener noreferrer\" style=\"vertical-align:top;\"><img src=\"https://orcid.org/sites/default/files/images/orcid_16x16.png\" style=\"width:1em;margin-right:.5em;\" alt=\"ORCID iD\"></a> (<bediaj@unican.es>)\n",
    "\n",
    "##### *Universidad de Cantabria, Dpto. Matemática Aplicada y Ciencias de la Computación)\n",
    "\n",
    "\n",
    "***\n",
    "\n",
    "# <span style=\"color:rgb(213,80,0)\"><b>Integral calculus</b></span>\n",
    "\n",
    "<p style=\"text-align:left\">\n",
    "   <img src=\"https://upload.wikimedia.org/wikipedia/commons/thumb/6/6a/Gnu-octave-logo.svg/240px-Gnu-octave-logo.svg.png\" width=\"75\">\n",
    "</p>\n",
    "\n",
    "***\n",
    "\n",
    "<a name=\"beginToc\"></a>\n",
    "\n",
    "\n",
    "## Contents\n",
    "&emsp;&emsp;[Indefinite integrals](#cálculo-de-integrales-indefinidas)\n",
    "\n",
    "&emsp;&emsp;[Definite integrals](#cálculo-de-integrales-definidas)\n",
    "\n",
    "&emsp;&emsp;&emsp;[Barrow's rule](#regla-de-barrow)\n",
    "\n",
    "&emsp;&emsp;&emsp;[Areas](#áreas)\n",
    "\n",
    "&emsp;&emsp;[Exercises](#-textbf-ejercicios-propuestos-)\n",
    "\n",
    "&emsp;&emsp;[Summary](#resumen)\n",
    "\n",
    "&emsp;&emsp;[Solutions](#soluciones)\n",
    "\n",
    "<a name=\"endToc\"></a>\n",
    "\n",
    "***"
   ]
  },
  {
   "cell_type": "markdown",
   "metadata": {},
   "source": [
    "In this notebooks we make use of the [`symbolic`](https://gnu-octave.github.io/packages/symbolic/) package for handling primitives as symbolic expressions. It is therefore necessary to have this package installed before starting. If it is not available, it can be easily installed with this call (or similar, depending on the latest stable version of the package available; for more details, see link above):"
   ]
  },
  {
   "cell_type": "code",
   "execution_count": null,
   "metadata": {},
   "outputs": [],
   "source": [
    "pkg install \"https://downloads.sourceforge.net/project/octave/Octave%20Forge%20Packages/Individual%20Package%20Releases/symbolic-3.2.1.tar.gz\""
   ]
  },
  {
   "cell_type": "code",
   "execution_count": null,
   "metadata": {},
   "outputs": [],
   "source": [
    "pkg load symbolic"
   ]
  },
  {
   "cell_type": "markdown",
   "metadata": {},
   "source": [
    "## Indefinite integrals\n",
    "\n",
    "The `int` function of the OCTAVE symbolic package allows to directly calculate indefinite integrals where the integrand is a symbolic expression:\n",
    "\n",
    "<pre>\n",
    "F = int (f)\n",
    "</pre>\n",
    "\n",
    "\n",
    "**Note**: the output of the function does not include the integration constant"
   ]
  },
  {
   "cell_type": "markdown",
   "metadata": {},
   "source": [
    "***\n",
    "\n",
    "**Example**: We calculate the following primitives:\n",
    "\n",
    "\n",
    "$$\\int \\cos^2 \\left(\\frac{x}{2}\\right)dx\\;$$"
   ]
  },
  {
   "cell_type": "code",
   "execution_count": null,
   "metadata": {},
   "outputs": [],
   "source": [
    "syms x real   % 'x' is defined as a real\n",
    "f1(x) = cos(x/2)^2;  % integrand\n",
    "F1(x) = int(f1)  % primitive (no integration constant is added in the output)"
   ]
  },
  {
   "cell_type": "markdown",
   "metadata": {},
   "source": [
    "***\n",
    "\n",
    "**Exercise:** $\\displaystyle\\int \\frac{1}{1+\\sqrt{x}}dx\\;$\n",
    "\n",
    "\n",
    "This integral is semi-immediate. It can also be solved using the change of variable $t=\\sqrt{x}$\n"
   ]
  },
  {
   "cell_type": "code",
   "execution_count": null,
   "metadata": {},
   "outputs": [],
   "source": [
    "% write your code here\n",
    "\n"
   ]
  },
  {
   "cell_type": "markdown",
   "metadata": {},
   "source": [
    "\n",
    "Solution:\n"
   ]
  },
  {
   "cell_type": "code",
   "execution_count": null,
   "metadata": {},
   "outputs": [],
   "source": [
    "f2(x) = 1/(1+sqrt(x));  % Integrand\n",
    "F2(x) = int(f2)  % primitive (without the integration constant)"
   ]
  },
  {
   "cell_type": "markdown",
   "metadata": {},
   "source": [
    "***\n",
    "\n",
    "**Exercise:** $\\displaystyle\\int xe^x dx$\n",
    "\n",
    "This integral is easily solved by parts ( $u=x\\textrm{,}\\;dv=e^x dx$ )\n"
   ]
  },
  {
   "cell_type": "code",
   "execution_count": null,
   "metadata": {},
   "outputs": [],
   "source": [
    "% write your code here\n",
    "\n"
   ]
  },
  {
   "cell_type": "markdown",
   "metadata": {},
   "source": [
    "\n",
    "Solution:\n"
   ]
  },
  {
   "cell_type": "code",
   "execution_count": null,
   "metadata": {},
   "outputs": [],
   "source": [
    "f3(x) = x*exp(x);  % integrand\n",
    "F3(x) = int(f3)  % primitive (without the integration constant)"
   ]
  },
  {
   "cell_type": "markdown",
   "metadata": {},
   "source": [
    "\n",
    "\n",
    "We can easily check that the primitives we have obtained are correct. To do so, it would be enough to see that their derivative coincides with the integrand:\n",
    "\n"
   ]
  },
  {
   "cell_type": "code",
   "execution_count": null,
   "metadata": {},
   "outputs": [],
   "source": [
    "%% difference between the derivative of the primitive and the integrand\n",
    "diff(F1)-f1"
   ]
  },
  {
   "cell_type": "markdown",
   "metadata": {},
   "source": [
    "What has happened? It should be a constant that does not depend on `x`. We must remember to **simplify** this result, with the `simplify` function:"
   ]
  },
  {
   "cell_type": "code",
   "execution_count": null,
   "metadata": {},
   "outputs": [],
   "source": [
    "simplify(diff(F1) - f1)  % F1 is a correct primitive"
   ]
  },
  {
   "cell_type": "code",
   "execution_count": null,
   "metadata": {},
   "outputs": [],
   "source": [
    "% The remaining results from the examples above:\n",
    "simplify(diff(F2) - f2)  % F2 is a correct primitive\n",
    "simplify(diff(F3) - f3)  % F3 is a correct primitive"
   ]
  },
  {
   "cell_type": "markdown",
   "metadata": {},
   "source": [
    "\n",
    "Here, we have employed the `simplify` command which is used to simplify symbolic expressions, i.e. reduce them to a more compact or simpler form by eliminating redundant terms or combining similar terms.\n",
    "\n",
    "\n",
    "Obviously, if we add any integration constants to the primitives we have obtained, they will still be equally valid:\n",
    "\n"
   ]
  },
  {
   "cell_type": "code",
   "execution_count": null,
   "metadata": {},
   "outputs": [],
   "source": [
    "warning('off') % we suppress screen alerts\n",
    "simplify(diff(F1 + 5) - f1)  % F1+5 is a correct primitive\n",
    "simplify(diff(F2 - pi) - f2)  % F2-pi is a correct primitive\n",
    "simplify(diff(F3 + sqrt(2)) - f3)  % F3+sqrt(2) is a correct primitive"
   ]
  },
  {
   "cell_type": "markdown",
   "metadata": {},
   "source": [
    "***\n",
    "\n",
    "## Definite integrals\n",
    "\n",
    "The `int` command can also be used to calculate definite integrals. To do this, we only have to specify the limits of the integration interval, for example, to specify $~~\\displaystyle I=\\int_a^bf(x)dx$:\n",
    "\n",
    "<pre>\n",
    "I = int(f, a, b)\n",
    "</pre>\n",
    "\n",
    "\n",
    "**Note**: As `I` is a numeric value, we will normally use the `double` command to work with it later as a 'number', rather than as a 'symbol'.\n",
    "\n"
   ]
  },
  {
   "cell_type": "markdown",
   "metadata": {},
   "source": [
    "***\n",
    "\n",
    "**Exercise:** Calculate the following integrals (continuation of the previous example):\n",
    "\n",
    "\n",
    "$$\\int_{-2}^{\\frac{\\pi }{2}} \\cos^2 \\left(\\frac{x}{2}\\right)dx$$"
   ]
  },
  {
   "cell_type": "code",
   "execution_count": null,
   "metadata": {},
   "outputs": [],
   "source": [
    "% write your code here\n",
    "\n"
   ]
  },
  {
   "cell_type": "markdown",
   "metadata": {},
   "source": [
    "\n",
    "Solution:\n"
   ]
  },
  {
   "cell_type": "code",
   "execution_count": null,
   "metadata": {},
   "outputs": [],
   "source": [
    "f1_def = double(int(f1, -2, pi/2))  % (numerical) value of the definite integral"
   ]
  },
  {
   "cell_type": "markdown",
   "metadata": {},
   "source": [
    "\n",
    "$$\\int_0^1 \\frac{1}{1+\\sqrt{x}}dx\\;$$"
   ]
  },
  {
   "cell_type": "code",
   "execution_count": null,
   "metadata": {},
   "outputs": [],
   "source": [
    "% write your code here\n"
   ]
  },
  {
   "cell_type": "markdown",
   "metadata": {},
   "source": [
    "\n",
    "Solution:\n"
   ]
  },
  {
   "cell_type": "code",
   "execution_count": null,
   "metadata": {},
   "outputs": [],
   "source": [
    "f2_def = double(int(f2, 0, 1))  % (numerical) value of the definite integral"
   ]
  },
  {
   "cell_type": "markdown",
   "metadata": {},
   "source": [
    "\n",
    "$$\\int_0^e xe^x dx$$"
   ]
  },
  {
   "cell_type": "code",
   "execution_count": null,
   "metadata": {},
   "outputs": [],
   "source": [
    "% write your code here\n",
    "\n"
   ]
  },
  {
   "cell_type": "markdown",
   "metadata": {},
   "source": [
    "\n",
    "Solution:\n",
    "\n"
   ]
  },
  {
   "cell_type": "code",
   "execution_count": null,
   "metadata": {},
   "outputs": [],
   "source": [
    "f3_def = double(int(f3, 0, exp(1)))  % (numerical) value of the definite integral"
   ]
  },
  {
   "cell_type": "markdown",
   "metadata": {},
   "source": [
    "***\n",
    "\n",
    "### Barrow's rule\n",
    "\n",
    "We may use Barrow's rule\n",
    "\n",
    "\n",
    "$$\\int_a^b f(x)dx=F(b)-F(a)$$\n",
    "\n",
    "\n",
    "to check that the results we have just obtained are correct. It is enough to evaluate the primitive at the extremes of the integration interval and subtract:\n",
    "\n"
   ]
  },
  {
   "cell_type": "code",
   "execution_count": null,
   "metadata": {},
   "outputs": [],
   "source": [
    "% Barrow's rule application (check of previous results)\n",
    "f1_def_rb = double(F1(pi/2) - F1(-2))\n",
    "f2_def_rb = double(F2(1) - F2(0))\n",
    "f3_def_rb = double(F3(exp(1)) - F3(0))  "
   ]
  },
  {
   "cell_type": "markdown",
   "metadata": {},
   "source": [
    "***\n",
    "\n",
    "### Areas\n",
    "\n",
    "As we know, the value of a definite integral corresponds to the area enclosed between the curve defined by the integrand and the $X$-axis, confined laterally by the ends of the integration interval (it must be taken into account that the portions below the $X$-axis would be negative).\n",
    "\n",
    "OCTAVE's `area` function allows this area to be drawn, so it is useful in the graphical interpretation of the results obtained when calculating definite integrals. Note that this function **only accepts numeric values** (never symbolic expressions) as input arguments.\n",
    "\n",
    "***\n",
    "\n",
    "**Example:** We graph the function $f(x)=x^2 +1$ on the interval $[1,3]$ and shade, in red, the region of the plane whose area is given by $\\displaystyle I=\\int_1^3 \\left(x^2 +1\\right)dx$ :\n",
    "\n",
    "\n",
    "1. We create two vectors: `x`, for abscissa, and calculate the image of $f(x)$ at these points, $y=f(x)$:\n",
    "\n"
   ]
  },
  {
   "cell_type": "code",
   "execution_count": null,
   "metadata": {},
   "outputs": [],
   "source": [
    "clearvars\n",
    "x = linspace(1, 3);  % sequence of 100 numbers (equi-spaced) between 1 and 3\n",
    "y = x.^2+1;  % (numerical) value of the function ‘f’ at these 100 points"
   ]
  },
  {
   "cell_type": "markdown",
   "metadata": {},
   "source": [
    "\n",
    "2. We represent the function graphically:\n",
    "\n"
   ]
  },
  {
   "cell_type": "code",
   "execution_count": null,
   "metadata": {},
   "outputs": [],
   "source": [
    "plot(x,y,'k','LineWidth',2)\n",
    "grid on\n",
    "xlabel('x')\n",
    "ylabel('y')"
   ]
  },
  {
   "cell_type": "markdown",
   "metadata": {},
   "source": [
    "\n",
    "3. We shade the area enclosed between ‘f’ and the ‘X’ axis in red:\n"
   ]
  },
  {
   "cell_type": "code",
   "execution_count": null,
   "metadata": {},
   "outputs": [],
   "source": [
    "hold on\n",
    "area(x, y, 'FaceColor','r')  % (blue is used by default)\n",
    "title('f(x)=x^2+1')\n",
    "hold off"
   ]
  },
  {
   "cell_type": "markdown",
   "metadata": {},
   "source": [
    "\n",
    "When working with integration intervals that are symmetric with respect to the origin, i.e. centred at 0 and with the same extension to the right and to the left, it is particularly useful to analyse the symmetry of the integrand. This is because, if the integrand is either odd or even, the calculations can be considerably simplified:\n",
    "\n",
    "-  **Even functions (** $f(x)=f(-x)$ **):** The integral on a symmetric interval can be calculated simply as twice the integral from 0 to the positive end of the interval.\n",
    "-  **Odd functions (** $f(x)=-f(-x)$ **):** The integral on a symmetric interval around 0 is always 0, due to the cancellation of the areas under the curve to the right and left of the origin.\n",
    "\n",
    "**Example:** We calculate\n",
    "\n",
    "\n",
    "-  $\\displaystyle \\int_{\\frac{-\\pi }{2}}^{\\frac{\\pi }{2}} \\sin^2 (x)\\cos (x)dx~~~~~$ (is the integrand odd or even?)\n",
    "\n",
    "1. We define the function and represent the area:\n",
    "\n"
   ]
  },
  {
   "cell_type": "code",
   "execution_count": null,
   "metadata": {},
   "outputs": [],
   "source": [
    "clearvars\n",
    "syms x real\n",
    "f(x) = sin(x)^2*cos(x);  % integrand\n",
    "warning('off') % avoid on-screen warnings\n",
    "X = linspace(-pi/2,pi/2);\n",
    "Y = double(f(X));\n",
    "area(X,Y,'FaceAlpha',0.5) % Note the transparency of the area, indicated by 'FaceAlpha'\n",
    "grid on"
   ]
  },
  {
   "cell_type": "markdown",
   "metadata": {},
   "source": [
    "\n",
    "2. Visually, the function looks even; we check it:\n"
   ]
  },
  {
   "cell_type": "code",
   "execution_count": null,
   "metadata": {},
   "outputs": [],
   "source": [
    "f1 = subs(f,x,-x) % calculate f(-x)"
   ]
  },
  {
   "cell_type": "code",
   "execution_count": null,
   "metadata": {},
   "outputs": [],
   "source": [
    "f1==f"
   ]
  },
  {
   "cell_type": "markdown",
   "metadata": {},
   "source": [
    "\n",
    "We can see that $f(-x)=f(x)$ , that is, the integrand is even. This is to be expected, since the cosine function is even, and the sine function is odd, but since it is squared (odd $times$ odd) it becomes even. Therefore, we have a product of two even functions (even $times$ even), that is, an even function.\n",
    "\n",
    "\n",
    "3. Since the integrand is even, we can calculate the integral as: $~~~~\\displaystyle 2\\int_0^{\\frac{\\pi }{2}} \\sin^2 (x)\\cos (x)dx$\n"
   ]
  },
  {
   "cell_type": "code",
   "execution_count": null,
   "metadata": {},
   "outputs": [],
   "source": [
    "I = 2*int(f, 0, pi/2)"
   ]
  },
  {
   "cell_type": "markdown",
   "metadata": {},
   "source": [
    "\n",
    "4. We check that it is exactly $\\displaystyle I=\\int_{\\frac{-\\pi }{2}}^{\\frac{\\pi }{2}} \\sin^2 (x)\\cos (x)dx$ :\n"
   ]
  },
  {
   "cell_type": "code",
   "execution_count": null,
   "metadata": {},
   "outputs": [],
   "source": [
    "I = int(f, -pi/2, pi/2)"
   ]
  },
  {
   "cell_type": "markdown",
   "metadata": {},
   "source": [
    "***\n",
    "\n",
    "**Exercise:** Calculate $\\displaystyle\\int_{-2}^2 x(x^2 +1)^3 dx\\;$ using symmetries.\n"
   ]
  },
  {
   "cell_type": "code",
   "execution_count": null,
   "metadata": {},
   "outputs": [],
   "source": [
    "% write your code here\n",
    "\n"
   ]
  },
  {
   "cell_type": "markdown",
   "metadata": {},
   "source": [
    "\n",
    "Solution:\n",
    "\n"
   ]
  },
  {
   "cell_type": "code",
   "execution_count": null,
   "metadata": {},
   "outputs": [],
   "source": [
    "f(x) = x*(x^2+1)^3;  % integrand\n",
    "% option 1:\n",
    "I=int(f, -2, 2)  % calculate the original definite integral\n",
    "% option 2:\n",
    "f1 = subs(f,x,-x) % calculate f(-x), equal to  -f(x), then, f(x) is odd; thus, I = 0.\n",
    "I = 0;\n",
    "% visualization %\n",
    "x = linspace(-2, 2);  % sequence of 100 numbers (equispaced) between -2 and 2\n",
    "y = double(f(x));  % (numerical) values taken by the integrand for that sequence of ‘x’\n",
    "area(x, y)   % area enclosed between the graph defined by the integrand and the X-axis\n",
    "grid on"
   ]
  },
  {
   "cell_type": "markdown",
   "metadata": {},
   "source": [
    "<!--\n",
    "clearvars\n",
    "syms x real  % defino 'x' como variable simbolica\n",
    "rsums(x^2+1, 1, 3)  % aproximacion de la integral pedida con 10 rectangulos (valor por defecto que usa 'rsums')"
   ]
  },
  {
   "cell_type": "markdown",
   "metadata": {},
   "source": [
    "\n",
    "## Exercises\n",
    "\n",
    "1. Given the function $\\displaystyle f(x)=\\log^2 (x)$ , what is the value of $\\displaystyle F(\\sqrt{\\pi })$ , where $F\\;$ is a primitive of $f$ with a constant of integration $C=5$?\n"
   ]
  },
  {
   "cell_type": "code",
   "execution_count": null,
   "metadata": {},
   "outputs": [],
   "source": [
    "% write your code here\n",
    "\n"
   ]
  },
  {
   "cell_type": "markdown",
   "metadata": {},
   "source": [
    "\n",
    "Solution:\n"
   ]
  },
  {
   "cell_type": "code",
   "execution_count": null,
   "metadata": {},
   "outputs": [],
   "source": [
    "solutions(1)"
   ]
  },
  {
   "cell_type": "markdown",
   "metadata": {},
   "source": [
    "\n",
    "2. Draw in the same figure the functions $\\displaystyle  f(x)=(x-1)^2$ and $\\displaystyle g(x)=\\sqrt{\\frac{\\pi }{3}}x$ and find the area enclosed between the two.\n"
   ]
  },
  {
   "cell_type": "code",
   "execution_count": null,
   "metadata": {},
   "outputs": [],
   "source": [
    "% write your code here\n",
    "\n"
   ]
  },
  {
   "cell_type": "markdown",
   "metadata": {},
   "source": [
    "\n",
    "Solution:\n"
   ]
  },
  {
   "cell_type": "code",
   "execution_count": null,
   "metadata": {},
   "outputs": [],
   "source": [
    "solutions(2)"
   ]
  },
  {
   "cell_type": "markdown",
   "metadata": {},
   "source": [
    "\n",
    "\n",
    "4. Verify, by studying its symmetry, that the integral $\\displaystyle \\int_{-1}^1 \\left(\\tan x-x^3\\right) dx=0$ . Then verify your results graphically using the function <samp>area</samp> .\n"
   ]
  },
  {
   "cell_type": "code",
   "execution_count": null,
   "metadata": {},
   "outputs": [],
   "source": [
    "% write your code here\n",
    "\n",
    "\n"
   ]
  },
  {
   "cell_type": "markdown",
   "metadata": {},
   "source": [
    "\n",
    "Solution:\n"
   ]
  },
  {
   "cell_type": "code",
   "execution_count": null,
   "metadata": {},
   "outputs": [],
   "source": [
    "solutions(3)"
   ]
  },
  {
   "cell_type": "markdown",
   "metadata": {},
   "source": [
    "***\n",
    "\n",
    "## Summary\n",
    "\n",
    "**Calculation of Integrals**\n",
    "\n",
    "-  [**<samp>int(f)</samp>**](https://octave.sourceforge.io/symbolic/function/@sym/int.html)**:** Calculates the indefinite integral of a symbolic function. Returns the primitive of the function, excluding the constant of integration.\n",
    "-  [**<samp>int(f, a, b)</samp>**](https://octave.sourceforge.io/symbolic/function/@sym/int.html)**:** Calculates the definite integral of the symbolic function <samp>f</samp> from the lower boundary <samp>a</samp> to the upper boundary <samp>b</samp>. Return the numerical value of the definite integral.\n",
    "<!--\n",
    "-  [**<samp>rsums(f,a,b)</samp>**](https://es.mathworks.com/help/symbolic/rsums.html)**:** Aproxima el valor de una integral definida usando sumas de Riemann. Permite ajustar el número de rectángulos en la aproximación y abre una ventana gráfica para visualizar la integración.\n",
    "-->\n"
   ]
  },
  {
   "cell_type": "markdown",
   "metadata": {},
   "source": [
    "**Areas**\n",
    "\n",
    "-  [**<samp>area(x,y)</samp>**](https://octave.sourceforge.io/octave/function/area.html)**:** <u>**Draw**</u> the area under the curve of a function over a specified interval. It accepts numeric vectors for the coordinates <samp>x</samp> and <samp>y</samp>, and shades the area enclosed between the function and the <samp>x</samp> axis.\n",
    "\n",
    "**Other useful functions**\n",
    "\n",
    "-  [**<samp>simplify(expr)</samp>**](https://octave.sourceforge.io/symbolic/function/@sym/simplify.html)**:** Simplifies symbolic expressions, reducing them to a more compact or simpler form, eliminating redundant terms or combining similar terms.\n",
    "\n"
   ]
  },
  {
   "cell_type": "markdown",
   "metadata": {},
   "source": [
    "***\n",
    "\n",
    "## Solutions"
   ]
  },
  {
   "cell_type": "code",
   "execution_count": null,
   "metadata": {},
   "outputs": [],
   "source": [
    "function [] = solutions(n)\n",
    "switch n\n",
    "    case 1\n",
    "        % Exercise 1:\n",
    "        fprintf(\"Exercise 1:\\n\");\n",
    "        syms x real\n",
    "        f(x) = log(x)^2;\n",
    "        C = 5;\n",
    "        F(x) = int(f) + C % we add C = 5 (integration constant)\n",
    "        I = double(F(sqrt(pi)))\n",
    "    case 2\n",
    "        % Exercise 2:\n",
    "        fprintf(\"Exercise 2:\\n\");\n",
    "        close all\n",
    "        syms x real\n",
    "        f(x) = (x-1)^2;\n",
    "        g(x) = sqrt(pi/3)*x;\n",
    "        warning('off')\n",
    "        fplot(f,[0, 3],'r')\n",
    "        hold on\n",
    "        fplot(g,[0, 3],'b')\n",
    "        legend('f(x)', 'g(x)');\n",
    "        grid on\n",
    "        hold off\n",
    "        pc = sort(double(solve(f-g))); % cut-off points\n",
    "        A = double(int(g-f,pc(1),pc(2))); % enclosed area\n",
    "        fprintf('Cut-off points: a = %f, b = %f, Area: %f\\n', pc(1), pc(2), A);\n",
    "    case 3\n",
    "        % Exercise 3:\n",
    "        fprintf(\"Exercise 3:\\n\");\n",
    "        syms x real\n",
    "        f(x) = tan(x) - x^3;\n",
    "        warning('off')\n",
    "        % symmetry:\n",
    "        f1(x) = subs(f,x,-x);\n",
    "        I = double(int(f,-1,1));\n",
    "        fprintf(\"f(-x) = %s; -f(x) = %s, then f(x) is odd, I = 0.\\nWe calculate the integral: I = %f\", char(f1), char(-f), I)\n",
    "        x = linspace(-1,1);\n",
    "        y = double(f(x));\n",
    "        area(x,y,'FaceAlpha',0.5)\n",
    "        grid on\n",
    "\n",
    "    end\n",
    "end"
   ]
  },
  {
   "cell_type": "code",
   "execution_count": null,
   "metadata": {},
   "outputs": [],
   "source": []
  }
 ],
 "metadata": {
  "kernelspec": {
   "display_name": "Octave",
   "language": "octave",
   "name": "octave"
  },
  "language_info": {
   "file_extension": ".m",
   "help_links": [
    {
     "text": "GNU Octave",
     "url": "https://www.gnu.org/software/octave/support.html"
    },
    {
     "text": "Octave Kernel",
     "url": "https://github.com/Calysto/octave_kernel"
    },
    {
     "text": "MetaKernel Magics",
     "url": "https://metakernel.readthedocs.io/en/latest/source/README.html"
    }
   ],
   "mimetype": "text/x-octave",
   "name": "octave",
   "version": "7.1.0"
  }
 },
 "nbformat": 4,
 "nbformat_minor": 4
}
