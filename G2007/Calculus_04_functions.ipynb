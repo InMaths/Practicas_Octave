{
 "cells": [
  {
   "cell_type": "markdown",
   "metadata": {},
   "source": [
    "<img src=\"../figs/logoIC.png\" width=\"585\" alt=\"image_0.png\">\n",
    "\n",
    "# Calculus (2007) - Civil Engineering\n",
    "\n",
    "#### Original notebook in MatLab by Vera Egorova* (<vera.egorova@unican.es>)\n",
    "#### Adapted to Octave by Joaquín Bedia*  <a href=\"https://orcid.org/0000-0001-6219-4312\" target=\"orcid.widget\" rel=\"noopener noreferrer\" style=\"vertical-align:top;\"><img src=\"https://orcid.org/sites/default/files/images/orcid_16x16.png\" style=\"width:1em;margin-right:.5em;\" alt=\"ORCID iD\"></a> (<bediaj@unican.es>)\n",
    "\n",
    "##### *Universidad de Cantabria, Dpto. Matemática Aplicada y Ciencias de la Computación)\n",
    "\n",
    "<!--\n",
    "<a name=\"T_55FB4C11\"></a>\n",
    "-->\n",
    "\n",
    "***\n",
    "\n",
    "# <span style=\"color:rgb(213,80,0)\"><b>Univariate real functions</b></span>\n",
    "\n",
    "<p style=\"text-align:left\">\n",
    "   <img src=\"https://upload.wikimedia.org/wikipedia/commons/thumb/6/6a/Gnu-octave-logo.svg/240px-Gnu-octave-logo.svg.png\" width=\"75\">\n",
    "</p>\n",
    "\n",
    "***\n",
    "\n",
    "\n",
    "<a name=\"beginToc\"></a>\n",
    "\n",
    "# Contents\n",
    "&emsp;&emsp;[**Functions**](#funciones)\n",
    "\n",
    "&emsp;&emsp;[**Plots**](#gráficos)\n",
    "\n",
    "&emsp;&emsp;[**SymbolicvVariables and functions**](#sym)\n",
    "\n",
    "&emsp;&emsp;&emsp;[Symbolic variables](#symvars)\n",
    "\n",
    "&emsp;&emsp;&emsp;[Symbolic functions](#symfuncs)\n",
    "\n",
    "&emsp;&emsp;&emsp;[Implicit functions](#implicit)\n",
    "\n",
    "&emsp;&emsp;[**Exercises**](#ejercicios)\n",
    "\n",
    "&emsp;&emsp;[**Summary**](#resumen)\n",
    "\n",
    "&emsp;&emsp;[**Solutions**](#soluciones)\n",
    "\n",
    "<a name=\"endToc\"></a>\n",
    "\n",
    "***\n"
   ]
  },
  {
   "cell_type": "markdown",
   "metadata": {},
   "source": [
    "\n",
    "<a name=#funciones></a>\n",
    "\n",
    "# Functions\n",
    "\n",
    "A **function** is a program with a communication interface to the outside via input and output arguments. Functions must be stored in a file with the same name as the function itself and extension <samp>.m</samp>. Functions in OCTAVE have the following structure:\n",
    "\n",
    "<pre>\n",
    "function [output args] = name_of_the_fun(input_args)\n",
    "% comments\n",
    "instructions\n",
    "end\n",
    "</pre>\n",
    "\n",
    "To create a new function: File \\-> New \\-> New Function\n",
    "\n",
    "\n",
    "***\n",
    "**Example**: Function to compute the area ( $A$ ) of a circumference:\n",
    "\n",
    "<pre>\n",
    "function [A] = area_circ(r)\n",
    "    A = pi*r^2;\n",
    "end\n",
    "</pre>\n",
    "***\n",
    "\n",
    "In order for Octave to recognise the function we have just created, we have two options:\n",
    "\n",
    "* Place yourself in the same path (directory) in which you have saved the function. This option will only be valid as long as we remain in the same directory.\n",
    "\n",
    "* Use the command <samp>addpath</samp> to include in memory the path (directory) in which the function has been saved.\n",
    "\n",
    "<pre>\n",
    "addpath directory_where_you_saved_the_function\n",
    "</pre>\n",
    "\n",
    "* Once this is done, we can move freely through the directory tree of the computer again.\n",
    "\n",
    "From now on, we can call the function from the command line:\n",
    "\n",
    "<pre>\n",
    "area_circ(5)  % area of a circumference of radius = 5 units\n",
    "</pre>\n",
    " \n",
    " * As we have seen before, simple functions like the one we have just created (which return the result of a single command) are defined directly on the command line or even in the middle of a script (**anonymous functions** or **<samp>function handle</samp>**). These are defined as follows:\n",
    "\n",
    "<pre>\n",
    "function_name = @(input arguments) instruction\n",
    "</pre>\n",
    "\n",
    "**Example:** A function that squares a given number:"
   ]
  },
  {
   "cell_type": "code",
   "execution_count": 1,
   "metadata": {},
   "outputs": [
    {
     "name": "stdout",
     "output_type": "stream",
     "text": [
      "ans = function_handle\n",
      "x = 16\n"
     ]
    }
   ],
   "source": [
    "parabol = @(x)  x^2;  % anonymous function def\n",
    "class(parabol)  % function of the type 'handle'\n",
    "x = parabol(4)  % calculate 4 squared\n"
   ]
  },
  {
   "cell_type": "markdown",
   "metadata": {},
   "source": [
    "\n",
    "From now on we can easily define functions of a real variable in OCTAVE as _anonymous functions_.\n",
    "\n",
    "\n",
    "\n",
    "**Exercise**: Define the function $f(x)=x^2 +2$ as an anonymous function:"
   ]
  },
  {
   "cell_type": "code",
   "execution_count": 2,
   "metadata": {},
   "outputs": [],
   "source": [
    "% write here your code:\n",
    "\n"
   ]
  },
  {
   "cell_type": "markdown",
   "metadata": {},
   "source": [
    "\n",
    "Solution:\n"
   ]
  },
  {
   "cell_type": "code",
   "execution_count": null,
   "metadata": {},
   "outputs": [],
   "source": [
    "f = @(x)  x^2 + 2;"
   ]
  },
  {
   "cell_type": "markdown",
   "metadata": {},
   "source": [
    "\n",
    "To evaluate this function at a given $x$ we only have to give the desired value to the input argument $x$ . For example, to evaluate $f$ at the point $x=-\\pi /2$ we would only have to do the following:\n"
   ]
  },
  {
   "cell_type": "code",
   "execution_count": 3,
   "metadata": {},
   "outputs": [
    {
     "name": "stdout",
     "output_type": "stream",
     "text": [
      "error: 'f' undefined near line 1, column 1\n"
     ]
    }
   ],
   "source": [
    "f(-pi/2)"
   ]
  },
  {
   "cell_type": "markdown",
   "metadata": {},
   "source": [
    "\n",
    "If we wanted to evaluate $f$ at several points at the same time, it would be enough to use a vector as an input argument (instead of a single number). However, note that in order to be able to operate with vectors, we must first slightly modify the function $f$:"
   ]
  },
  {
   "cell_type": "code",
   "execution_count": null,
   "metadata": {},
   "outputs": [],
   "source": [
    "f_vec = @(x)  x.^2 + 2;     % I redefine the function to operate on vectors ('elementwise operators preceded by '.').\n",
    "f_vec(-10:10)               % I evaluate the function at {-10,-9,-8,...,8,9,10}"
   ]
  },
  {
   "cell_type": "markdown",
   "metadata": {},
   "source": [
    "***\n",
    "\n",
    "<a name=#graficos></a>\n",
    "# Plots\n",
    "\n",
    "At this point we can now **plot** functions of a real variable. The basic drawing function in OCTAVE is **<samp>plot</samp>**, which allows us to plot $(x,y)$ pairs of points as we have already seen in the [graphics notebook](https://github.com/InMaths/Practicas_Octave/blob/master/G2007/Calculus_03_graphs.ipynb).\n"
   ]
  },
  {
   "cell_type": "code",
   "execution_count": 5,
   "metadata": {},
   "outputs": [],
   "source": [
    "x = -10:10;\n",
    "y = x;\n",
    "plot(x, y)  % line y=x at interval x=[-10,10]"
   ]
  },
  {
   "cell_type": "markdown",
   "metadata": {},
   "source": [
    "\n",
    "If we pass a single input argument, the <samp>plot</samp> function understands that we refer to the ordinate axis, and assigns natural values (starting at 1) to the abscissa axis.\n"
   ]
  },
  {
   "cell_type": "code",
   "execution_count": 6,
   "metadata": {},
   "outputs": [],
   "source": [
    "plot(y)"
   ]
  },
  {
   "cell_type": "markdown",
   "metadata": {},
   "source": [
    "\n",
    "Para etiquetar los ejes se utilizan los comandos `xlabel` ('Eje x') y `ylabel` ('Eje y'). Para agregar un título a la figura, se usa el comando <samp>title('Título')</samp>. Para mostrar la cuadrícula en la gráfica, se emplea el comando <samp>grid on</samp>.\n",
    "\n",
    "<pre>\n",
    "plot(x,y)\n",
    "xlabel('x')\n",
    "ylabel('y')\n",
    "title('Title')\n",
    "grid on\n",
    "</pre>\n",
    "\n",
    "**Exercise**: Represent in red the parabola $f(x)=x^2 -50$ on the interval $[-20,15]$ . Label the x-axis as ‘x’, the y-axis as ‘y’ and give the graph a title. Draw a grid in the background.\n"
   ]
  },
  {
   "cell_type": "code",
   "execution_count": 7,
   "metadata": {},
   "outputs": [],
   "source": [
    "% write your code here:\n"
   ]
  },
  {
   "cell_type": "markdown",
   "metadata": {},
   "source": [
    "\n",
    "Solution:\n"
   ]
  },
  {
   "cell_type": "code",
   "execution_count": 8,
   "metadata": {},
   "outputs": [],
   "source": [
    "f = @(x)  x.^2 -50;\n",
    "plot(-20:15, f(-20:15), 'r')\n",
    "xlabel('x')  % title axis x\n",
    "ylabel('y')  % title axis y\n",
    "title('Parabola')  % plot title \n",
    "grid on  % background grid"
   ]
  },
  {
   "cell_type": "markdown",
   "metadata": {},
   "source": [
    "\n",
    "As we have already seen, `hold on` is used to continue drawing in the last active graph window. This will allow us to superimpose the graph of two or more functions on a single figure. With the `legend` command we can also add a legend, which is always very useful.\n",
    "\n",
    "<pre>\n",
    "plot(x1,y1,'b')\n",
    "xlabel('x')\n",
    "ylabel('y')\n",
    "title('Title')\n",
    "grid on\n",
    "hold on\n",
    "plot(x2,y2,'r')\n",
    "legend('y_1(x)', 'y_2(x)')\n",
    "</pre>\n",
    "\n",
    "**Example**: Represent in blue the function $f(x)=\\frac{x^2 }{4}$ and in red the function $g(x)=\\sqrt{|x^3|}$ on the interval $[-10,10]$ . Draw a legend that properly identifies both functions. Label the axes and give the graph a title. Finally, draw a grid in the background.\n"
   ]
  },
  {
   "cell_type": "code",
   "execution_count": 10,
   "metadata": {},
   "outputs": [],
   "source": [
    "f = @(x)  x.^2/4;  \n",
    "g = @(x)  sqrt(abs(x.^3));  \n",
    "\n",
    "x = -10:10;  % \n",
    "\n",
    "plot(x, f(x), 'b')\n",
    "hold on  % keep plotting on the same graphical window\n",
    "plot(x, g(x), 'r')\n",
    "\n",
    "legend('y=x^2/4', 'y=sqrt(|x^3|)', 'Location', 'north')  % \n",
    "\n",
    "xlabel('x axis'), ylabel('y axis'), title('Two functions')\n",
    "grid on  % background grid\n",
    "hold off"
   ]
  },
  {
   "cell_type": "markdown",
   "metadata": {},
   "source": [
    "***\n",
    "\n",
    "<a name=#sym></a>\n",
    "\n",
    "# Symbolic variables and functions\n",
    "\n",
    "<a name=#symvars></a>\n",
    "\n",
    "## Symbolic variables\n",
    "\n",
    "OCTAVE allows you to work with symbolic variables, i.e. generic variables that, in principle, do not have to take a specific value (think of the unknowns in any equation). As we have already seen in the notebook on Successions and Numerical Series, we must install the `symbolic` package of Octave. Details about this package and its installation can be found in the [sequences and numerical series notebook](https://github.com/InMaths/Practicas_Octave/blob/master/G2007/Calculus_02_series.ipynb).\n",
    "\n",
    "The `syms` command is used to create a symbolic variable:\n",
    "\n",
    "<pre>\n",
    "syms x  % x is defined as a symbolic variable\n",
    "</pre>\n",
    "\n",
    "Once defined, we can create symbolic expressions that depend on <samp>x</samp>.\n",
    "\n",
    "The first thing to do is to install the `symbolic` package **if you haven't already installed it** (otherwise you don't need to do it again).\n"
   ]
  },
  {
   "cell_type": "code",
   "execution_count": null,
   "metadata": {},
   "outputs": [],
   "source": [
    "pkg install \"https://downloads.sourceforge.net/project/octave/Octave%20Forge%20Packages/Individual%20Package%20Releases/symbolic-3.2.1.tar.gz\""
   ]
  },
  {
   "cell_type": "code",
   "execution_count": 11,
   "metadata": {},
   "outputs": [
    {
     "name": "stdout",
     "output_type": "stream",
     "text": [
      "Symbolic pkg v3.2.1: Python communication link active, SymPy v1.5.1.\n"
     ]
    }
   ],
   "source": [
    "clearvars % clean memory\n",
    "pkg load symbolic % load symbolic package\n",
    "syms x\n",
    "eq = x^2 + 5;  % equation that depends on x"
   ]
  },
  {
   "cell_type": "markdown",
   "metadata": {},
   "source": [
    "We inspect the defined variables (we can also see them in the ‘Workspace’ panel of the Octave GUI):\n"
   ]
  },
  {
   "cell_type": "code",
   "execution_count": null,
   "metadata": {},
   "outputs": [],
   "source": [
    "whos"
   ]
  },
  {
   "cell_type": "markdown",
   "metadata": {},
   "source": [
    "\n",
    "neither `x` nor `eq` have numerical values assigned to them. The way to force a symbolic variable to take a certain value is as follows:\n",
    "\n",
    "<pre>\n",
    "snew = subs(expresion, old, new) % replaces in expression all occurrences of 'old' with 'new'.\n",
    "</pre>\n"
   ]
  },
  {
   "cell_type": "code",
   "execution_count": null,
   "metadata": {},
   "outputs": [],
   "source": [
    "v = subs(eq, x, 3)  % force x to take the value 3 in the expression ‘eq’."
   ]
  },
  {
   "cell_type": "markdown",
   "metadata": {},
   "source": [
    "\n",
    "Although <samp>v</samp> may look like a number, it is actually a symbolic variable that has been assigned a numeric value:\n"
   ]
  },
  {
   "cell_type": "code",
   "execution_count": null,
   "metadata": {},
   "outputs": [],
   "source": [
    "class(v)"
   ]
  },
  {
   "cell_type": "markdown",
   "metadata": {},
   "source": [
    "\n",
    "To convert a symbolic variable to a real number, use the <samp>double</samp> command:\n"
   ]
  },
  {
   "cell_type": "code",
   "execution_count": null,
   "metadata": {},
   "outputs": [],
   "source": [
    "v_num = double(v)"
   ]
  },
  {
   "cell_type": "markdown",
   "metadata": {},
   "source": [
    "Now in the workspace we have:\n",
    "\n"
   ]
  },
  {
   "cell_type": "code",
   "execution_count": null,
   "metadata": {},
   "outputs": [],
   "source": [
    "whos"
   ]
  },
  {
   "cell_type": "markdown",
   "metadata": {},
   "source": [
    "\n",
    "The variable `v_num` has a value (14); it is a number (Class double) for OCTAVE.\n",
    "\n",
    "<a name=#symfuncs></a>\n",
    "\n",
    "\n",
    "## Symbolic functions\n",
    "\n",
    "To define a symbolic variable function:\n",
    "\n",
    "<pre>\n",
    "syms f(x)  % we define f(x) as a symbolic function (x is already defined as such)\n",
    "</pre>"
   ]
  },
  {
   "cell_type": "code",
   "execution_count": 13,
   "metadata": {},
   "outputs": [
    {
     "name": "stdout",
     "output_type": "stream",
     "text": [
      "ans = symfun\n"
     ]
    }
   ],
   "source": [
    "clearvars % clean memory\n",
    "syms x\n",
    "f(x) =  x^2+5; % f(x) is defined\n",
    "class(f)"
   ]
  },
  {
   "cell_type": "markdown",
   "metadata": {},
   "source": [
    "We have defined $f(x)$ as a symbolic function, <samp>symfun</samp>. This allows us to evaluate the function at any point directly, without the need to use the <samp>subs</samp> command.\n"
   ]
  },
  {
   "cell_type": "code",
   "execution_count": 14,
   "metadata": {},
   "outputs": [
    {
     "name": "stdout",
     "output_type": "stream",
     "text": [
      "ans = (sym) 14\n",
      "ans = (sym) [6  9  14  21  30  41  54  69  86  105]  (1×10 matrix)\n"
     ]
    }
   ],
   "source": [
    "f(3) % valor de la funcion f en x=3\n",
    "f(1:10) % vector de valores simbólicos"
   ]
  },
  {
   "cell_type": "markdown",
   "metadata": {},
   "source": [
    "\n",
    "You can define several symbolic variables at the same time, as well as the exact type of variable you want to work with:\n",
    "\n",
    "<pre>\n",
    "syms x y real  % we force that x and y can only take real values\n",
    "</pre>\n",
    "\n",
    "This makes it very easy to define functions of a real variable in OCTAVE in symbolic mode. The **<samp>fplot</samp>** command can be used to graph such functions.\n",
    "<pre>\n",
    "fplot(f,[x_start, x_end])\n",
    "</pre>\n",
    "\n",
    "**Example**: Represent the function $f(x)=\\sin(x)+3x+3x+\\dfrac{8}{x+1}$ on the interval $[-4,4]$ .\n"
   ]
  },
  {
   "cell_type": "code",
   "execution_count": 15,
   "metadata": {},
   "outputs": [],
   "source": [
    "syms x real  % define 'x' as a symbolic real variable\n",
    "fx = sin(x) + 3*x + 8/(x+1) ; % define f(x)\n",
    "fplot(fx, [-4, 4], 'r')  % represento f(x) en [-4, 4]\n",
    "grid on"
   ]
  },
  {
   "cell_type": "markdown",
   "metadata": {},
   "source": [
    "***\n",
    "\n",
    "<a name=#implicit></a>\n",
    "\n",
    "# Implicit functions \n",
    "\n",
    "An **implicit function** describes a relationship between variables that is not explicitly solved for one of the variables. For example, the equation of a circle $x^2 +y^2 -1=0$ defines an implicit relationship between $x$ and $y$ (although, as we have seen in class, it is not a function properly speaking).\n",
    "\n",
    "OCTAVE allows implicit functions to be plotted using the `ezplot` function."
   ]
  },
  {
   "cell_type": "markdown",
   "metadata": {},
   "source": [
    "We define the implicit equation as an anonymous function:\n"
   ]
  },
  {
   "cell_type": "code",
   "execution_count": 17,
   "metadata": {},
   "outputs": [],
   "source": [
    "equation = @(x,y) x.^2 + y.^2 - 1;"
   ]
  },
  {
   "cell_type": "markdown",
   "metadata": {},
   "source": [
    "\n",
    "We use `ezplot` to plot the implicit equation:\n"
   ]
  },
  {
   "cell_type": "code",
   "execution_count": 18,
   "metadata": {},
   "outputs": [],
   "source": [
    "ezplot(equation, [-2,2]); grid on\n",
    "title('Circle of radius 1')\n",
    "xlabel('x')\n",
    "ylabel('y')\n",
    "grid on\n",
    "axis equal  % To equalise the aspect ratio of the axes"
   ]
  },
  {
   "cell_type": "markdown",
   "metadata": {},
   "source": [
    "***\n",
    "<a name=#ejercicios></a>\n",
    "\n",
    "# Exercises\n",
    "\n",
    "1. Define the following functions (as symbolic functions) of one variable and find the (numerical) value at the point $x=\\pi$ .\n",
    "\n",
    "-  $\\displaystyle f(x)=\\frac{x}{1+|x|}$\n",
    "-  $\\displaystyle f(x)=\\frac{e^x +e^{-x} }{2}\\;$\n",
    "-  $\\displaystyle f(x)=\\sinh(x)$\n",
    "-  $\\displaystyle \\;g_1 (x)=f_1 (f_2 (x))\\;\\textrm{y}\\;\\;g_2 (x)=f_2 (f_1 (x))\\textrm{,}\\;\\textrm{con}\\;f_1 (x)=x^2 +1\\;\\textrm{y}\\;\\;f_2 (x)=\\frac{2}{x}$"
   ]
  },
  {
   "cell_type": "code",
   "execution_count": null,
   "metadata": {},
   "outputs": [],
   "source": [
    "% write your code here:\n",
    "\n"
   ]
  },
  {
   "cell_type": "markdown",
   "metadata": {},
   "source": [
    "\n",
    "Solution:\n"
   ]
  },
  {
   "cell_type": "code",
   "execution_count": null,
   "metadata": {},
   "outputs": [],
   "source": [
    "solutions(1)"
   ]
  },
  {
   "cell_type": "markdown",
   "metadata": {},
   "source": [
    "\n",
    "\n",
    "2. Find, graphically, the point where the functions $f(x)=\\dfrac{2}{x}$ and $g(x)=\\sqrt{x^2 -3}$ intersect. To do this, represent $f$ (in black) and $g$ (in red) in a single figure. Choose the appropriate interval. Give a legend identifying each curve and a title to the figure.\n"
   ]
  },
  {
   "cell_type": "code",
   "execution_count": null,
   "metadata": {},
   "outputs": [],
   "source": [
    "% write your code here:\n",
    "\n"
   ]
  },
  {
   "cell_type": "markdown",
   "metadata": {},
   "source": [
    "\n",
    "Solution:\n"
   ]
  },
  {
   "cell_type": "code",
   "execution_count": null,
   "metadata": {},
   "outputs": [],
   "source": [
    "solutions(2)"
   ]
  },
  {
   "cell_type": "markdown",
   "metadata": {},
   "source": [
    "\n",
    "3. Draw, on the same graph and in blue, the circles $x^2 +y^2 -4x=1$ (with a solid line) and $x^2 +y^2 +2y=9$ (with a dashed line). Add a suitable legend.\n"
   ]
  },
  {
   "cell_type": "code",
   "execution_count": null,
   "metadata": {},
   "outputs": [],
   "source": [
    "% write your code here:\n"
   ]
  },
  {
   "cell_type": "markdown",
   "metadata": {},
   "source": [
    "\n",
    "Solution:\n"
   ]
  },
  {
   "cell_type": "code",
   "execution_count": 19,
   "metadata": {},
   "outputs": [
    {
     "name": "stdout",
     "output_type": "stream",
     "text": [
      "error: 'solutions' undefined near line 1, column 1\n"
     ]
    }
   ],
   "source": [
    "solutions(3)"
   ]
  },
  {
   "cell_type": "markdown",
   "metadata": {},
   "source": [
    "4. From the necessary graphs, study the domain, image and symmetry of the following functions:\n",
    "\n",
    "-  $\\displaystyle \\cos (x^2 )$\n",
    "-  $\\displaystyle \\cos^2 (x)$\n",
    "-  $\\displaystyle \\cos^2 (x^2 )$\n",
    "-  $\\displaystyle \\sqrt{x^3 }\\;$"
   ]
  },
  {
   "cell_type": "code",
   "execution_count": null,
   "metadata": {},
   "outputs": [],
   "source": [
    "% write your code here:\n",
    "\n"
   ]
  },
  {
   "cell_type": "markdown",
   "metadata": {},
   "source": [
    "\n",
    "Solution:\n"
   ]
  },
  {
   "cell_type": "code",
   "execution_count": null,
   "metadata": {},
   "outputs": [],
   "source": [
    "solutions(4)"
   ]
  },
  {
   "cell_type": "markdown",
   "metadata": {},
   "source": [
    "\n",
    "<a name=#resumen></a>\n",
    "\n",
    "# Summary\n",
    "\n",
    "- Defining a function (M\\-function)**.\n",
    "\n",
    "<pre>\n",
    "function [output] = function_name(input)\n",
    "% comments\n",
    "instructions\n",
    "end\n",
    "</pre>\n",
    "\n",
    "- **anonymous function**:\n",
    "\n",
    "<pre>\n",
    "function_name = @(input) instruction\n",
    "</pre>\n",
    "\n",
    "- **Define symbolic variable**:\n",
    "\n",
    "<pre>\n",
    "syms x real\n",
    "</pre>\n",
    "\n",
    "- <samp>subs:</samp> Substitute in expression\n",
    "\n",
    "- <samp>double:</samp> Convert symbolic variable to real number\n",
    "\n",
    "- **Define symbolic function**:\n",
    "\n",
    "<pre>\n",
    "syms x\n",
    "f(x) = expression;\n",
    "result = f(value); % Evaluate symbolic function\n",
    "</pre>\n",
    "\n",
    "**Plots**\n",
    "\n",
    "-   <samp>plot(x, y):</samp> plot y(x), where 'x' and 'y' are vectors\n",
    "-   <samp>fplot(f(x),[x1 x2])</samp>: plot $f(x)$ at interval \\[x1, x2\\], where $f(x)$ is either a symbolic or anonymous function.\n",
    "-   <samp>ezplot(f):</samp> plot $f(x,y)=0$ (implicit function)\n",
    "-   <samp>xlabel('x axis'), ylabel('y axis'):</samp> label axes.\n",
    "-   <samp>title('Title'):</samp> add title\n",
    "-   <samp>grid on:</samp> add background grid\n",
    "-   <samp>legend('Description 1', 'Description 2'):</samp> add legend\n",
    "-   <samp>axis equal:</samp> Set the same length for the units of each axis.\n",
    "\n"
   ]
  },
  {
   "cell_type": "markdown",
   "metadata": {},
   "source": [
    "<a name=#soluciones></a>\n",
    "# Solutions"
   ]
  },
  {
   "cell_type": "code",
   "execution_count": null,
   "metadata": {},
   "outputs": [],
   "source": [
    "function [] = solutions(n)\n",
    "switch n\n",
    "    case 1\n",
    "        % Exercise 1:\n",
    "        fprintf(\"Exercise 1:\\n \");\n",
    "        syms x real\n",
    "        f(x) = x/(1+abs(x))\n",
    "        f1 = double(f(pi))\n",
    "        f(x) = (exp(x) + exp(-x))/2\n",
    "        f2 = double(f(pi))\n",
    "        f(x) = sinh(x)\n",
    "        f3 = double(f(pi))\n",
    "        f_1(x) = x^2+1;\n",
    "        f_2(x) = 2/x;\n",
    "        g_1(x) = f_1(  f_2 (x) )\n",
    "        g1 = double(g_1(pi))\n",
    "        g_2(x) = f_2(  f_1 (x) )\n",
    "        g2 = double(g_2(pi))\n",
    "\n",
    "    case 2\n",
    "        % Exercise 2:\n",
    "        fprintf(\"Exercise 2:\\n\");\n",
    "        syms x real\n",
    "        f(x) = 2/x\n",
    "        g(x) = sqrt(x^2-3)\n",
    "        fplot(f,[1.5,3],'k')\n",
    "        hold on\n",
    "        fplot(g,[1.5,3],'r')\n",
    "        grid on\n",
    "        hold off\n",
    "        legend('f(x)','g(x)')\n",
    "        title('Exercise 2')\n",
    "        fprintf(\"Looking at the figure, we conclude that the cut-off point is (2, 1)\");\n",
    "    case 3\n",
    "        % Exercise 3:\n",
    "        fprintf(\"Exercise 3:\\n\");\n",
    "        syms x y real\n",
    "        eq1 = (x - 2)^2 + (y - 3)^2 - 4;\n",
    "        eq2 = (x - 5)^2 + (y - 1)^2 - 9;\n",
    "        h1 = ezplot(eq1, [-2,8]);\n",
    "        hold on\n",
    "        set(h1, 'Color', 'b');\n",
    "        h2 = ezplot(eq2, [-2,8]);\n",
    "        set(h2, 'Color', 'b', 'linestyle','--');\n",
    "        xlabel('x');\n",
    "        ylabel('y');\n",
    "        title('Exercise 3');\n",
    "        legend('Circumference 1', 'Circumference 2');\n",
    "        axis equal;\n",
    "        grid on;\n",
    "        hold off;\n",
    "    case 4\n",
    "        % Exercise 4:\n",
    "        fprintf(\"Exercise 4:\\n\");\n",
    "        clearvars\n",
    "        close all\n",
    "        pkg load symbolic\n",
    "        syms x real\n",
    "        f1(x) = cos(x^2)\n",
    "        fplot(f1,'b-')\n",
    "        fprintf(\"Domain: R; Image: [-1, 1]; Simmetry: even\\n------------------------------\\n\");\n",
    "        f2(x) = cos(x)^2\n",
    "        figure,\n",
    "        fplot(f2,'r-')\n",
    "        fprintf(\"Domain: R; Image: [0, 1]; Simmetry: even\\n------------------------------\\n\");\n",
    "        f3(x) = cos(x^2)^2\n",
    "        figure,\n",
    "        fplot(f3,'g-')\n",
    "        fprintf(\"Domain: R; Image: [0, 1]; Simmetry: even\\n------------------------------\\n\");\n",
    "        f4(x) = sqrt(x^3)\n",
    "        figure,\n",
    "        fplot(f4,'k-')\n",
    "        fprintf(\"Domain: [0, Inf); Image: [0, Inf]; Simmetry: none\\n\");\n",
    "    end\n",
    "end"
   ]
  },
  {
   "cell_type": "code",
   "execution_count": null,
   "metadata": {},
   "outputs": [],
   "source": []
  }
 ],
 "metadata": {
  "kernelspec": {
   "display_name": "Octave",
   "language": "octave",
   "name": "octave"
  },
  "language_info": {
   "file_extension": ".m",
   "help_links": [
    {
     "text": "GNU Octave",
     "url": "https://www.gnu.org/software/octave/support.html"
    },
    {
     "text": "Octave Kernel",
     "url": "https://github.com/Calysto/octave_kernel"
    },
    {
     "text": "MetaKernel Magics",
     "url": "https://metakernel.readthedocs.io/en/latest/source/README.html"
    }
   ],
   "mimetype": "text/x-octave",
   "name": "octave",
   "version": "7.1.0"
  }
 },
 "nbformat": 4,
 "nbformat_minor": 4
}
