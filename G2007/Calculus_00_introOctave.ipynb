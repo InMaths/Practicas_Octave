{
 "cells": [
  {
   "cell_type": "markdown",
   "metadata": {},
   "source": [
    "<img src=\"../figs/logoIC.png\" width=\"585\" alt=\"image_0.png\">\n",
    "\n",
    "# Calculus (G2007) - Civil Engineering\n",
    "\n",
    "#### Original notebook in MatLab by Vera Egorova* (<vera.egorova@unican.es>)\n",
    "#### Adapted to Octave by Joaquín Bedia* (<bediaj@unican.es>)\n",
    "\n",
    "##### *Universidad de Cantabria, Dpto. Matemática Aplicada y Ciencias de la Computación)\n",
    "\n",
    "<!--\n",
    "<a name=\"T_55FB4C11\"></a>\n",
    "-->\n",
    "\n",
    "***\n",
    "\n",
    "# <span style=\"color:rgb(213,80,0)\">**Introducción a OCTAVE**</span>\n",
    "\n",
    "<p style=\"text-align:left\">\n",
    "   <img src=\"https://upload.wikimedia.org/wikipedia/commons/thumb/6/6a/Gnu-octave-logo.svg/240px-Gnu-octave-logo.svg.png\" width=\"75\">\n",
    "</p>\n",
    "\n",
    "***\n"
   ]
  },
  {
   "cell_type": "markdown",
   "metadata": {},
   "source": [
    "## Contents\n",
    "\n",
    "<a name=\"beginToc\"></a>\n",
    "\n",
    "&emsp;[What is OCTAVE?](#H_11636A56)\n",
    "\n",
    "&emsp;[Getting started with OCTAVE](#H_134FF586)\n",
    "\n",
    "&emsp;[Variables](#H_D10F85D2)\n",
    "\n",
    "&emsp;&emsp;[Types of data](#H_230C9F48)\n",
    "\n",
    "&emsp;[Basic Commands](#H_B1D664E6)\n",
    "\n",
    "&emsp;&emsp;[Program header](#H_C3E5E6CE)\n",
    "\n",
    "&emsp;&emsp;[Basic operations](#H_F4823953)\n",
    "\n",
    "&emsp;&emsp;[Elementary mathematical functions](#H_7133A156)\n",
    "\n",
    "&emsp;&emsp;[Formats](#H_A5416571)\n",
    "\n",
    "&emsp;[Matrices and vectors](#H_0C8E9485)\n",
    "\n",
    "&emsp;&emsp;[Creation and manipulation of matrices](#H_AD12C960)\n",
    "\n",
    "&emsp;&emsp;[Special Matrices](#H_E94A2E5C)\n",
    "\n",
    "&emsp;&emsp;[Submatrices](#H_A56524CE)\n",
    "\n",
    "&emsp;&emsp;[Operations with matrices](#H_A84CB336)\n",
    "\n",
    "&emsp;&emsp;[Commands sum and prod](#H_935550B0)\n",
    "\n",
    "&emsp;[Solved Exercises](#H_703E17D1)\n",
    "\n",
    "&emsp;[Proposed Exercises](#H_A998F915)\n",
    "\n",
    "&emsp;[Summary](#H_0B4541F7)\n",
    "\n",
    "&emsp;[Solutions](#H_AC6B0A09)\n",
    "\n",
    "<a name=\"endToc\"></a>\n",
    "<a name=\"H_0CC5F680\"></a>\n",
    "<a name=\"H_11636A56\"></a>\n",
    "\n",
    "***\n",
    "\n",
    "\n",
    "### What is OCTAVE?\n",
    "\n",
    "[Octave](https://octave.org) is a programming language specifically designed for numerical computation with vectors and matrices. It is a high-level interface to a number of standard numerical libraries such as LAPACK or BLAS.\n",
    "\n",
    "Octave's syntax is similar to that of MatLab. In the vast majority of cases (and probably in all numerical computation practices you will do during the Degree), programs written in Octave can be run without any modification in MatLab. Since MatLab is a commercial software, it has a larger number of functions than Octave, as well as specialized packages (*tool-boxes*) not available in Octave, and sometimes of indisputable power.\n",
    "\n",
    "However, the functionality required for most of the grade level practices is also available in Octave. On the other hand, Octave is [*free software*](https://www.gnu.org/philosophy/free-sw.es.html), which means not only that it is free, but also that, unlike MatLab, it gives the user the so-called 4 freedoms over the program he uses:\n",
    "\n",
    " * Freedom to use the program, for any purpose.\n",
    " * Freedom of access to the source code of the program.\n",
    " * Freedom to copy and distribute.\n",
    " * Freedom to modify and improve the program.\n",
    "\n",
    "There are a large number of help manuals that will allow the student to progress as much as he wishes in his skills as an Octave/MatLab programmer. As a first approach, the [introductory manual](http://math.jacobs-university.de/oliver/teaching/iub/resources/octave/octave-intro/octave-intro.html) by Hubert Selhofer *et al.* is suggested. In addition, students are provided with an [Octave/Matlab manual](http://meteo.unican.es/work/juaco/G328_intro_Octave.pdf) adapted to the initial requirements for this subject.\n",
    "Finally, a brief guide to start using OCTAVE is included in the project wiki: [Using Octave](https://wiki.octave.org/Using_Octave).\n",
    "\n",
    "\n",
    "<a name=\"H_134FF586\"></a>\n",
    "\n",
    "### Getting started with OCTAVE\n",
    "\n",
    "The OCTAVE window installed on our computer presents a graphical interface that shows a desktop divided into several parts, including:\n",
    "\n",
    "-  The commands to be executed are typed in the command window, <samp>Command Window</samp>.\n",
    "-  In the editor (<samp>Editor</samp> window) we write code that we will save in scripts with extension <samp>.m</samp> and execute in the command window.\n",
    "-  The <samp>Workspace</samp> window provides information on the variables used.\n",
    "\n",
    "... although this layout is user-configurable, so it can be presented in a wide variety of forms\n",
    "\n",
    "<p style=\"text-align:left\">\n",
    "   <img src=\"../figs/octave_GUI_EN.png\" width=\"750\">\n",
    "</p>\n",
    "\n",
    "\n",
    "Although there are more, the basic data types in OCTAVE for us are the following: real or complex numbers, Booleans (logical values) and character strings (or <samp>strings</samp>). In any case, the basic object of work in OCTAVE are matrices. Scalars and vectors are considered particular cases of matrices.\n",
    "\n",
    "\n",
    "**Command window usage**\n",
    "\n",
    "\n",
    "Instructions ending with a semicolon do not print the results on the screen. Previous instructions can be recalled by using the up and down arrow keys, or by going to the session history window (it is also possible to save the history and reopen it later, although we generally prefer to use a script and save it before closing so that we can run our program again at a later time).\n",
    "\n",
    "<a name=\"H_D10F85D2\"></a>\n",
    "\n",
    "### Variables\n",
    "\n",
    "To create a new variable to work with, specify the name you want to give to the variable, followed by the equal sign \"<samp>=\"</samp> (assignment operator) and the value you want to assign to it.\n",
    "\n",
    "\n",
    "There are certain **rules for defining variables in OCTAVE**:Enter the following command in the command line, and press the `Enter` key to execute the code:\n",
    "\n",
    "- You cannot create variables without assigning a value to them.\n",
    "- The name of a variable can have a maximum of 63 characters, which can be letters, numbers and the underscore.\n",
    "- The first character must be a letter, `array2` is a valid name, but `2array` is NOT.\n",
    "- Uppercase and lowercase letters have a case-sensitive value. The variable `module` is distinct from the variable `module`.\n",
    "- Inside a variable name there cannot be blank spaces, `modulo1` is a valid variable name, but `modulo 1` is NOT.\n",
    "- There are names that should be avoided because they have their own meaning in OCTAVE (they are _reserved variables_): `ans`, `pi`, `Inf`, `i`, for example... "
   ]
  },
  {
   "cell_type": "markdown",
   "metadata": {},
   "source": [
    "Enter the following command in the command line, and press the `Enter` key to execute the code:"
   ]
  },
  {
   "cell_type": "code",
   "execution_count": null,
   "metadata": {},
   "outputs": [],
   "source": [
    "Pi = pi"
   ]
  },
  {
   "cell_type": "markdown",
   "metadata": {},
   "source": [
    "The result appears: we have created a variable <samp>Pi</samp> which has the value 3.1416. The variable also appears in the workspace:\n",
    "\n",
    "<p style=\"text-align:left\">\n",
    "   <img src=\"../figs/workspace_Pi.png\" width=\"436\">\n",
    "</p>\n",
    "\n",
    "To be considered\n",
    "\n",
    "- When opening the session we will select the **working directory**, where we will store the scrip\n",
    "- If you type <samp>;</samp> at the end of a line of code, <u>the result is not displayed on the screen</u>. This feature is preferred when working with large objects."
   ]
  },
  {
   "cell_type": "code",
   "execution_count": null,
   "metadata": {},
   "outputs": [],
   "source": [
    "a = 1; % A variable a is created with value 1, but the result is not printed.\n",
    "b = 2  % The result is printed (b = 2"
   ]
  },
  {
   "cell_type": "markdown",
   "metadata": {},
   "source": [
    " - **Get help** in OCTAVE: The <samp>help</samp> command is the basic help command with which to query the use of a function, including input/output arguments, a brief description of what it does and how it is used."
   ]
  },
  {
   "cell_type": "code",
   "execution_count": null,
   "metadata": {},
   "outputs": [],
   "source": [
    "help pi"
   ]
  },
  {
   "cell_type": "markdown",
   "metadata": {},
   "source": [
    "\n",
    "-  You can include **comments** (clarifications that are not executed) within programs by adding <samp>%</samp> in front of what you want to comment)"
   ]
  },
  {
   "cell_type": "code",
   "execution_count": null,
   "metadata": {},
   "outputs": [],
   "source": [
    "% THIS IS A COMMENT. Below I show the value of pi on the screen:\n",
    "pi"
   ]
  },
  {
   "cell_type": "markdown",
   "metadata": {},
   "source": [
    "\n",
    "- You can **run** an entire program by pressing the \"Run\" key, or you can run a selected line(s) by pressing F9 or by selecting \"Evaluate selection\" from the right-click menu.\n",
    "- It is **essential to read the errors** we get when something does not work, as they contain information about the error. In addition, the affected line(s) have a red signal on the right side of the editor."
   ]
  },
  {
   "cell_type": "code",
   "execution_count": null,
   "metadata": {},
   "outputs": [],
   "source": [
    "a1 = 1; % Ok\n",
    "% Uncomment the following line (Remove the comment symbol %) and see what happens:\n",
    "% 1a = 1 % PARSE ERROR! Octave gives the explanation (and sometimes offers a solution). Note the '^' symbol indicating the point at which the error occurred"
   ]
  },
  {
   "cell_type": "markdown",
   "metadata": {},
   "source": [
    "\n",
    "**Exercise:** Uncomment the following lines of code and correct the errors\n"
   ]
  },
  {
   "cell_type": "code",
   "execution_count": null,
   "metadata": {},
   "outputs": [],
   "source": [
    "% 1a = 1\n",
    "% valor 1 = pi\n",
    "% x = % 5"
   ]
  },
  {
   "cell_type": "markdown",
   "metadata": {},
   "source": [
    "<a name=\"H_230C9F48\"></a>\n",
    "\n",
    "#### Types of data\n",
    "\n",
    "OCTAVE works with basic data types (numbers, characters and Booleans) from which vectors, matrices, character strings, etc. are constructed. Similarly, different basic operations (addition, product, intersections, etc.) are defined from the data type, allowing the construction and definition by composition of complex operations.\n",
    "\n",
    "In addition to the basic data types, there are different types of variables that serve as data containers, such as the type<samp>cell</samp>, <samp>struct</samp> or symbolic variables (<samp>sym</samp>).\n",
    "\n",
    "To find out which variables are defined and what type of data they correspond to, we have the command <samp>whos:</samp>\n"
   ]
  },
  {
   "cell_type": "code",
   "execution_count": null,
   "metadata": {},
   "outputs": [],
   "source": [
    "whos"
   ]
  },
  {
   "cell_type": "markdown",
   "metadata": {},
   "source": [
    "\n",
    "Compare with the contents of the <samp>Workspace</samp> window. As mentioned above, scalars are a particular case of matrices; they have a size of 1x1, which means they are matrices with one row and one column. \n",
    "\n",
    "<a name=\"H_B1D664E6\"></a>\n",
    "\n",
    "### Basic Commands\n",
    "<a name=\"H_C3E5E6CE\"></a>\n",
    "\n",
    "***\n",
    "#### Program header\n",
    "***"
   ]
  },
  {
   "cell_type": "code",
   "execution_count": null,
   "metadata": {},
   "outputs": [],
   "source": [
    "% Clean the workspace\n",
    "clear all % it is recommended to use ‘clearvars’ to clear the variables\n",
    "% Clean the command window\n",
    "clc\n",
    "% Close (all) open windows/figures\n",
    "close all\n",
    "% Lists the variables defined in the workspace\n",
    "whos"
   ]
  },
  {
   "cell_type": "markdown",
   "metadata": {},
   "source": [
    "<a name=\"H_F4823953\"></a>\n",
    "\n",
    "***\n",
    "#### Basic Operations\n",
    "***\n",
    "\n",
    "The way to represent numbers and operate with OCTAVE is the same as with a pocket calculator, using the operators `+`, `-`, `*`, `/`, `^`. It is recommended to **always assign the result to a variable**. If you do not assign the result to a variable, OCTAVE stores it temporarily in the default variable  `ans` but this can lead to errors and confusion, especially in more complex scripts.\n"
   ]
  },
  {
   "cell_type": "code",
   "execution_count": null,
   "metadata": {},
   "outputs": [],
   "source": [
    "suma = 17+5 % Sum\n",
    "division = 17/5 % Division with decimals"
   ]
  },
  {
   "cell_type": "markdown",
   "metadata": {},
   "source": [
    "<a name=\"H_7133A156\"></a>\n",
    "\n",
    "***\n",
    "#### Elementary mathematical functions\n",
    "***\n",
    "\n",
    "-  <samp>exp(x)</samp>: exponential de x\n",
    "-  <samp>log(x)</samp>: natural (naperian) logarithm\n",
    "-  <samp>log10(x)</samp>: logarithm (base 10)\n",
    "-  <samp>sin(x)</samp>: sine of x.\n",
    "-  <samp>cos(x)</samp>: cosine of x.\n",
    "-  <samp>tan(x)</samp>: tangent of x.\n",
    "-  <samp>asin(x)</samp>: arcsine of x with image within the range $[-\\pi /2,\\pi /2]$ .\n",
    "-  <samp>acos(x)</samp>: arccosine of x with image within the range $[-\\pi /2,\\pi /2]$ .\n",
    "-  <samp>atan(x)</samp>: arctangent of x with image within the range $[-\\pi /2,\\pi /2]$ .\n",
    "-  <samp>atan2(y,x)</samp>: arcotangent of y/x with image within the range  $[-\\pi ,\\pi ]$ .\n",
    "-  <samp>sinh(x)</samp>: hyperbolic sine of x.\n",
    "-  <samp>cosh(x)</samp>: hyperbolic cosine of x.\n",
    "-  <samp>tanh(x)</samp>: hyperbolic tangent of x.\n",
    "-  <samp>sum(x)</samp>: sum of the elements of vector x.\n",
    "-  <samp>prod(x)</samp>: product of the elements of vector x.\n",
    "\n",
    " **Important:** in these functions angles are always indicated in radians\n"
   ]
  },
  {
   "cell_type": "code",
   "execution_count": null,
   "metadata": {},
   "outputs": [],
   "source": [
    "c = cos(pi) % not 'cos(180)' for the cosine of pi (180 deg)\n",
    "a = 4*atan(1) % atan: arctangent function, output in radians.\n",
    "s = sin(pi/2) % Sine of pi/2\n",
    "l = log(exp(1)^5) % natural logarithm (base e)"
   ]
  },
  {
   "cell_type": "markdown",
   "metadata": {},
   "source": [
    "\n",
    "Hierarchy of operations: multiplication and division, addition and subtraction.\n"
   ]
  },
  {
   "cell_type": "code",
   "execution_count": null,
   "metadata": {},
   "outputs": [],
   "source": [
    "b1 = 1+2*3\n",
    "b2 = (1+2)*3 % Use of parenthesis"
   ]
  },
  {
   "cell_type": "markdown",
   "metadata": {},
   "source": [
    "<a name=\"H_A5416571\"></a>\n",
    "\n",
    "***\n",
    "#### Formats\n",
    "***\n",
    "\n",
    "We can change the way OCTAVE displays the numbers on the screen by using the command <samp>format</samp>:\n"
   ]
  },
  {
   "cell_type": "code",
   "execution_count": null,
   "metadata": {},
   "outputs": [],
   "source": [
    "format short, 1/3  % 4 decimals\n",
    "format long, 1/3  % 15 decimals\n",
    "format longe, 1/3  % Long scientific notation\n",
    "format rat, 1/3  % fraction"
   ]
  },
  {
   "cell_type": "markdown",
   "metadata": {},
   "source": [
    "\n",
    "However, it should be noted that the format change only has an effect at the display level (the number OCTAVE works with internally will always remain the same)."
   ]
  },
  {
   "cell_type": "code",
   "execution_count": null,
   "metadata": {},
   "outputs": [],
   "source": [
    "format short"
   ]
  },
  {
   "cell_type": "markdown",
   "metadata": {},
   "source": [
    "<a name=\"H_0C8E9485\"></a>\n",
    "### **Matrices and vectors**\n",
    "\n",
    "\n",
    "<a name=\"H_DDAE71AC\"></a>\n",
    "***\n",
    "#### Create and manipulate vectors\n",
    "***\n",
    "\n",
    "There are several ways to construct row vectors:\n"
   ]
  },
  {
   "cell_type": "code",
   "execution_count": null,
   "metadata": {},
   "outputs": [],
   "source": [
    "u=[-7,3,4,-2] % square brackets and commas\n",
    "v=[-7 3 4 -2] % square brackets without comas\n",
    "t= 1:3:20 % to create sequences of numbers taken three at a time, such that start:increment:end\n",
    "z= linspace(1,2,9) % generates a row vector of 9 elements whose first element is 1 and last element is 2, being all its elements equidistant\n",
    "% linspace(inicial, final, n)"
   ]
  },
  {
   "cell_type": "markdown",
   "metadata": {},
   "source": [
    "\n",
    "And column vectors:\n"
   ]
  },
  {
   "cell_type": "code",
   "execution_count": null,
   "metadata": {},
   "outputs": [],
   "source": [
    "w=[-7;3;4;-2] % Vertical vector (use of ';' as line ending)\n",
    "x=u' % Trasposing a row vector"
   ]
  },
  {
   "cell_type": "markdown",
   "metadata": {},
   "source": [
    "\n",
    "You can check the size of vectors and extract elements:\n"
   ]
  },
  {
   "cell_type": "code",
   "execution_count": null,
   "metadata": {},
   "outputs": [],
   "source": [
    "lu = length(u) % Number of elements of the vector\n",
    "lw = length(w)\n",
    "su = size(u) % Number of rows and columns\n",
    "\n",
    "u(1) % First element of vector u\n",
    "w(4) % Fourth element of vector w\n",
    "u(1)=-4 % Changes the first element of the vector u, and replaces it by the value -4"
   ]
  },
  {
   "cell_type": "markdown",
   "metadata": {},
   "source": [
    "<a name=\"H_AD12C960\"></a>\n",
    "\n",
    "***\n",
    "#### Create and manipulate matrices\n",
    "***"
   ]
  },
  {
   "cell_type": "code",
   "execution_count": null,
   "metadata": {},
   "outputs": [],
   "source": [
    "A=[3,-7;2,5] % square brackets and commas. Defined by rows\n",
    "B=[3 -7; 2 5] % square brackets without commas\n",
    "C=[6 0 -3 8 9; 5 1 7 -4 2; 3 1 -6 2 -1]\n",
    "C(2, 3) % Element of row 2 and column 3 of matrix c\n",
    "size(C) % Number of rows and columns of the matrix c\n",
    "length(C) % Number of columns of the matrix c\n",
    "C(1, 4)=11 % Change of the element of row 1 and 4 column of the matrix c"
   ]
  },
  {
   "cell_type": "markdown",
   "metadata": {},
   "source": [
    "<a name=\"H_E94A2E5C\"></a>\n",
    "\n",
    "***\n",
    "#### Special Matrices\n",
    "***\n",
    "\n",
    "They are those formed by zeros, ones or the identity.\n"
   ]
  },
  {
   "cell_type": "code",
   "execution_count": null,
   "metadata": {},
   "outputs": [],
   "source": [
    "zeros(3,5) % Null of 3 rows and 5 columns\n",
    "zeros(4) % Null 4x4\n",
    "ones(2,4) % Unitary matrix of 2 rows and 4 columns\n",
    "ones(3) % Unitary matrix 3x3\n",
    "eye(4) % Identity matrix order 4 (i.e. diagonal of 1s, 4x4)\n",
    "A = diag([-7 2 4]) % Diagonal with specified values"
   ]
  },
  {
   "cell_type": "markdown",
   "metadata": {},
   "source": [
    "<a name=\"H_A56524CE\"></a>\n",
    "\n",
    "***\n",
    "#### Submatrices\n",
    "***\n",
    "\n",
    "You can extract submatrices from a larger matrix by indicating the desired row or column. <samp>:</samp> indicates all elements.\n"
   ]
  },
  {
   "cell_type": "code",
   "execution_count": null,
   "metadata": {},
   "outputs": [],
   "source": [
    "A=[6 0 -3 8 9; 5 1 7 -4 2; 3 1 -6 2 -1] % Define matriz\n",
    "A(2, :) % Fila 2 de la matriz a\n",
    "A(:, 5) % Columna 5 de la matriz a\n",
    "A(3, :)= -7 % Cambia todos los elementos de la fila 3 por -7"
   ]
  },
  {
   "cell_type": "markdown",
   "metadata": {},
   "source": [
    "<a name=\"H_A84CB336\"></a>\n",
    "\n",
    "***\n",
    "#### Operaciones con matrices\n",
    "***\n",
    "\n",
    "Cuando trabajamos con matriz, para operar elemento a elemento hay que usar los comandos: `.*, ./, .^` (es decir, los operadores aritméticos con un punto delante), ya que el producto de matrices como tal no está definido elemento a elemento.\n"
   ]
  },
  {
   "cell_type": "code",
   "execution_count": null,
   "metadata": {},
   "outputs": [],
   "source": [
    "A=[-3 7; 2 5] % Define matrix\n",
    "A+100 % Sum 100 to each matrix element. Same for subtraction, product and quotient\n",
    "A=[-3 4 2; 1 7 -5] % Define matrix\n",
    "B=[1 -2 -9; 4 2 6] % Define matrix\n",
    "C=A+B % store output in variable c\n",
    "A+B % Operate without storing\n",
    "0.3*A % Multiply all values of a by 0.3\n",
    "C=A.*B % Element-wise matrix product"
   ]
  },
  {
   "cell_type": "markdown",
   "metadata": {},
   "source": [
    "<a name=\"H_935550B0\"></a>\n",
    "\n",
    "***\n",
    "#### Commands sum and prod\n",
    "***\n",
    "\n",
    "-  The command <samp>sum</samp>  is used to calculate the sum of the elements of a vector or matrix.\n",
    "-  The command <samp>prod</samp> is used to calculate the product of the elements of a vector or matrix.\n",
    "\n",
    "**Notes:**\n",
    "\n",
    "-  The commands <samp>sum</samp> and <samp>prod</samp> can be used with matrices and vectors.\n",
    "-  When used in a matrix without specifying the dimension, the commands operate by columns.\n",
    "-  To sum the elements of each row, use <samp>sum(M, 2)</samp>.\n",
    "-  To get the product of the elements in each row, use <samp>prod(M, 2)</samp>."
   ]
  },
  {
   "cell_type": "code",
   "execution_count": null,
   "metadata": {},
   "outputs": [],
   "source": [
    "M = [1, 2, 3;\n",
    "     4, 5, 6;\n",
    "     7, 8, 9];\n",
    "suma_columnas = sum(M) % sum columns  [12, 15, 18]\n",
    "suma_filas = sum(M, 2) % Calculates the sum of the elements in each row"
   ]
  },
  {
   "cell_type": "markdown",
   "metadata": {},
   "source": [
    "\n",
    "**Exercise**: Calculates sum of all the elements of the matrix M.\n"
   ]
  },
  {
   "cell_type": "code",
   "execution_count": null,
   "metadata": {},
   "outputs": [],
   "source": [
    "% Write here your code:\n",
    "\n"
   ]
  },
  {
   "cell_type": "markdown",
   "metadata": {},
   "source": [
    "<a name=\"H_703E17D1\"></a>\n",
    "\n",
    "### Solved exercises\n",
    "\n",
    "a) Calculate the sum of the first 100 natural numbers.\n",
    "\n",
    "\n",
    "b) Calculate the sum of the cubes of the first 100 natural numbers.\n",
    "\n",
    "\n",
    "c) Calculate the sum of all even 3-digit numbers and the sum of their squares.\n",
    "\n",
    "\n",
    "d) Calculate the product of the square roots of the first 5 natural numbers.\n",
    "\n",
    "\n",
    "e) Calculate $\\left(3^{\\cos \\;\\frac{\\pi }{4}} -2e^2 \\right)\\sqrt{\\ln \\;5}$\n",
    "\n"
   ]
  },
  {
   "cell_type": "markdown",
   "metadata": {},
   "source": [
    "a) Calculate the sum of the first 100 natural numbers."
   ]
  },
  {
   "cell_type": "code",
   "execution_count": null,
   "metadata": {},
   "outputs": [],
   "source": [
    "k=1:100; % creates a vector with natural numbers from 1 to 100\n",
    "suma=sum(k) % sums the elements of k and stores the result in the variable sum."
   ]
  },
  {
   "cell_type": "markdown",
   "metadata": {},
   "source": [
    "\n",
    "b) Calculate the sum of the cubes of the first 100 natural numbers.\n"
   ]
  },
  {
   "cell_type": "code",
   "execution_count": null,
   "metadata": {},
   "outputs": [],
   "source": [
    "k3=k.^3; % cubes each element of the vector k\n",
    "suma=sum(k3) % sum the elements of k3"
   ]
  },
  {
   "cell_type": "markdown",
   "metadata": {},
   "source": [
    "\n",
    "c) Calculate the sum of all even 3-digit numbers and the sum of their squares.\n"
   ]
  },
  {
   "cell_type": "code",
   "execution_count": null,
   "metadata": {},
   "outputs": [],
   "source": [
    "evens=100:2:998; % creates the vector of even 3-digit numbers\n",
    "suma=sum(evens) % sum the elements of the even vector\n",
    "squares_sum=sum(evens.^2) % sum of squares of even numbers"
   ]
  },
  {
   "cell_type": "markdown",
   "metadata": {},
   "source": [
    "\n",
    "d) Calculate the product of the square roots of the first 5 natural numbers."
   ]
  },
  {
   "cell_type": "code",
   "execution_count": null,
   "metadata": {},
   "outputs": [],
   "source": [
    "a=1:5; % vector formed by the first 5 natural numbers\n",
    "raiz=sqrt(a); % calculates the square root of the elements of a\n",
    "producto=prod(raiz) % calculates the sum of the square roots"
   ]
  },
  {
   "cell_type": "markdown",
   "metadata": {},
   "source": [
    "\n",
    "e) Calculate $\\left(3^{\\cos \\;\\frac{\\pi }{4}} -2e^2 \\right)\\sqrt{\\ln \\;5}$\n"
   ]
  },
  {
   "cell_type": "code",
   "execution_count": null,
   "metadata": {},
   "outputs": [],
   "source": [
    "% by steps:\n",
    "a1 = 3^(cos(pi/4))\n",
    "a2 = 2*exp(2)\n",
    "a3 = sqrt(log(5))\n",
    "res = (a1-a2)*a3\n",
    "\n",
    "% in a single command line:\n",
    "res = ( 3^(cos (pi/4) ) - 2*exp(2) )*sqrt( log(5) )"
   ]
  },
  {
   "cell_type": "markdown",
   "metadata": {},
   "source": [
    "<a name=\"H_A998F915\"></a>\n",
    "\n",
    "### Proposed exercises\n",
    "1. Calculate the sum of the cube roots of the first 50 natural numbers.\n",
    "2. Calculate the product of the squares of all odd two-digit numbers.\n",
    "3. Calculate:\n",
    "\n",
    "$$\\begin{array}{l} a=\\left(\\sqrt{6}-3\\right)\\left(3+2^{1/2} \\cdot 3^{0.5} \\right)\\newline b=\\;\\cos (3\\pi )+12\\,\\text{sin}\\,\\frac{3\\pi }{2}\\newline c=\\;e^{4-8^{2/3} }  \\end{array}$$"
   ]
  },
  {
   "cell_type": "code",
   "execution_count": null,
   "metadata": {},
   "outputs": [],
   "source": [
    "% Write here your code:\n",
    "\n",
    "\n",
    "\n"
   ]
  },
  {
   "cell_type": "markdown",
   "metadata": {},
   "source": [
    "Compare your results with the solutions at the end of the notebook."
   ]
  },
  {
   "cell_type": "markdown",
   "metadata": {},
   "source": [
    "<a name=\"H_0B4541F7\"></a>\n",
    "\n",
    "### Summary\n",
    "\n",
    "**OCTAVE GUI Windows**\n",
    "\n",
    "\n",
    "\\- <samp>Command Window</samp>: Where commands are written and executed.\n",
    "\n",
    "\n",
    "\\- <samp>Editor</samp>: Where the code is written and saved in scripts `.m`.\n",
    "\n",
    "\n",
    "\\- <samp>Workspace</samp>: Shows the variables used.\n",
    "\n",
    "\n",
    "**Variables and data types**\n",
    "\n",
    "\n",
    "\\- Define variables: <samp>nombre = valor</samp>\n",
    "\n",
    "\n",
    "\\- Rules for variable names: Up to 63 characters, starting with a letter, no spaces, case-sensitive.\n",
    "\n",
    "\n",
    "**Basic commands**\n",
    "\n",
    "\n",
    "Links to online documentation of the commands in MatLab, which are equivalent, are included:\n",
    "\n",
    "\\-  [<samp>clear</samp>](https://es.mathworks.com/help/matlab/ref/clear.html) <samp>all/ clearvars</samp> : Clean the workspace.\n",
    "\n",
    "\n",
    "\\-[ <samp>clc</samp>](https://es.mathworks.com/help/matlab/ref/clc.html): Clears the command window.\n",
    "\n",
    "\n",
    "\\- [<samp>close</samp>](https://es.mathworks.com/help/matlab/ref/close.html) <samp>all</samp> : Closes (all) open figures.\n",
    "\n",
    "\n",
    "\\- [<samp>whos</samp>](https://es.mathworks.com/help/matlab/ref/whos.html): Lists the defined variables.\n",
    "\n",
    "\n",
    "\\- Basic Operations: Sum: `+`, Subtraction: `-`, Product: `*`, Quotient: `/`, Power: `^`\n",
    "\n",
    "\n",
    "\\- [Elementary mathematical functions](https://es.mathworks.com/help/matlab/elementary-math.html):  <samp>exp(x), log(x), sin(x), cos(x), tan(x)</samp>, etc.\n",
    "\n",
    "\n",
    "\\- [<samp>format</samp>](https://es.mathworks.com/help/matlab/ref/format.html#btiwmh5-3) <samp>short</samp> : Show 4 decimals (long: Show 15 decimals; longe: long scientific notation; rat: display as fraction)\n",
    "\n",
    "\n",
    "**Matrices and Vectors**\n",
    "\n",
    "\n",
    "\\- Create vectors:\n",
    "\n",
    "\n",
    "&nbsp;&nbsp;&nbsp;&nbsp;&nbsp;&nbsp; \\- Rows: <samp>u=[-7,3,4,-2]</samp> o <samp>v=[-7 3 4 -2]</samp>\n",
    "\n",
    "\n",
    "&nbsp;&nbsp;&nbsp;&nbsp;&nbsp;&nbsp; \\- Columns: <samp>w=[-7;3;4;-2]</samp>\n",
    "\n",
    "\n",
    "&nbsp;&nbsp;&nbsp;&nbsp;&nbsp;&nbsp; \\- Sequences: <samp>t=1:3:20</samp>, <samp>z=linspace(1,2,9)</samp>\n",
    "\n",
    "\n",
    "\\- Create matrices: <samp>A=[3,-7;2,5]</samp>\n",
    "\n",
    "\n",
    "\\- [Element-wise Operations with matrices](https://es.mathworks.com/help/matlab/matlab_prog/array-vs-matrix-operations.html?searchHighlight=suma%20resta&s_tid=srchtitle_support_results_2_suma%20resta): <samp>C=A+B</samp>, `C=A.\\B`, `C=A.*B`\n",
    "\n",
    "\n",
    "\\- [<samp>length(v)</samp>](https://es.mathworks.com/help/matlab/ref/length.html) <samp>:</samp> Length of vector\n",
    "\n",
    "\n",
    "\\- [<samp>size(A)</samp>](https://es.mathworks.com/help/matlab/ref/size.html) <samp>:</samp> Size of matrix\n",
    "\n",
    "\n",
    "\\- [<samp>sum(A)</samp>](https://es.mathworks.com/help/matlab/ref/sum.html) <samp>:</samp> Calculating the sum of the elements in a vector or matrix\n",
    "\n",
    "\n",
    "\\- [<samp>prod(A)</samp>](https://es.mathworks.com/help/matlab/ref/prod.html) <samp>:</samp> Product of the elements in a vector or matrix\n",
    "\n",
    "\n",
    "\\- [Special Matrices](https://es.mathworks.com/help/matlab/matlab_oop/class-support-for-array-creation-functions.html):  <samp>zeros(3,5), ones(2,4), eye(4), diag([-7 2 4])</samp>\n",
    "\n",
    "\n",
    "\\- Extract rows/columns: <samp>A(2,:), A(:,5)</samp>\n",
    "\n",
    "\n",
    "\\- Modify elements: <samp>A(3,:)= -7</samp>\n",
    "\n",
    "\n",
    "**Help and Debugging**\n",
    "\n",
    "\n",
    "\\- Getting help: [<samp>help</samp>](https://es.mathworks.com/help/matlab/ref/help.html) <samp>function_name</samp>\n",
    "\n",
    "\n",
    "\\- Comments: Usar `%` para incluir comentarios en el código.\n",
    "\n",
    "\n",
    "\\- Execute code: \"Run\", \"F9\", o \"Run Section\".\n",
    "\n",
    "<a name=\"H_AC6B0A09\"></a>\n",
    "\n"
   ]
  },
  {
   "cell_type": "markdown",
   "metadata": {},
   "source": [
    "### Solutions"
   ]
  },
  {
   "cell_type": "code",
   "execution_count": null,
   "metadata": {},
   "outputs": [],
   "source": [
    "function [] = soluciones()\n",
    "\n",
    "% Exercise 1:\n",
    "k=1:50;\n",
    "raices=k.^(1/3);\n",
    "s1=sum(raices);\n",
    "fprintf(\"Solutions:\\n Exercise 1:\\n S1 = %.4f\\n\",s1);\n",
    "\n",
    "% Exercise 2:\n",
    "k=11:2:99;\n",
    "cuadrados = k.^2;\n",
    "s2=prod(cuadrados);\n",
    "fprintf(\"Exercise 2:\\n S2 = %d\\n\",s2);\n",
    "\n",
    "% Exercise 3\n",
    "a = (sqrt(6) - 3)*(3 + 2^(1/2) * 3^(0.5));\n",
    "b = cos(3*pi) + 12*sin(3*pi/2);\n",
    "c = exp(4-8^(2/3));\n",
    "fprintf(\"Exercise 3:\\n a = %.0f\\n b = %0.f\\n c = %.0f\\n\",a,b,c);\n",
    "end"
   ]
  },
  {
   "cell_type": "markdown",
   "metadata": {},
   "source": [
    "To see the solutions, execute the command (having previously executed the code block above)."
   ]
  },
  {
   "cell_type": "code",
   "execution_count": null,
   "metadata": {},
   "outputs": [],
   "source": [
    "soluciones()"
   ]
  }
 ],
 "metadata": {
  "kernelspec": {
   "display_name": "Octave",
   "language": "octave",
   "name": "octave"
  },
  "language_info": {
   "file_extension": ".m",
   "help_links": [
    {
     "text": "GNU Octave",
     "url": "https://www.gnu.org/software/octave/support.html"
    },
    {
     "text": "Octave Kernel",
     "url": "https://github.com/Calysto/octave_kernel"
    },
    {
     "text": "MetaKernel Magics",
     "url": "https://metakernel.readthedocs.io/en/latest/source/README.html"
    }
   ],
   "mimetype": "text/x-octave",
   "name": "octave",
   "version": "7.1.0"
  }
 },
 "nbformat": 4,
 "nbformat_minor": 4
}
