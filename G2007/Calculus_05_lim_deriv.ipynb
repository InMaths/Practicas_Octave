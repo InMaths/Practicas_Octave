{
 "cells": [
  {
   "cell_type": "markdown",
   "metadata": {},
   "source": [
    "<img src=\"../figs/logoIC.png\" width=\"585\" alt=\"image_0.png\">\n",
    "\n",
    "# Calculus (2007) - Civil Engineering\n",
    "\n",
    "#### Original notebook in MatLab by Vera Egorova* (<vera.egorova@unican.es>)\n",
    "#### Adapted to Octave by Joaquín Bedia*  <a href=\"https://orcid.org/0000-0001-6219-4312\" target=\"orcid.widget\" rel=\"noopener noreferrer\" style=\"vertical-align:top;\"><img src=\"https://orcid.org/sites/default/files/images/orcid_16x16.png\" style=\"width:1em;margin-right:.5em;\" alt=\"ORCID iD\"></a> (<bediaj@unican.es>)\n",
    "\n",
    "##### *Universidad de Cantabria, Dpto. Matemática Aplicada y Ciencias de la Computación)\n",
    "\n",
    "<!--\n",
    "<a name=\"T_55FB4C11\"></a>\n",
    "-->\n",
    "\n",
    "***\n",
    "\n",
    "# <span style=\"color:rgb(213,80,0)\"><b>Limits and derivatives</b></span>\n",
    "\n",
    "<p style=\"text-align:left\">\n",
    "   <img src=\"https://upload.wikimedia.org/wikipedia/commons/thumb/6/6a/Gnu-octave-logo.svg/240px-Gnu-octave-logo.svg.png\" width=\"75\">\n",
    "</p>\n",
    "\n",
    "***\n",
    "\n",
    "<a name=\"beginToc\"></a>\n",
    "\n",
    "## Contents\n",
    "&emsp;[**Límits**](#limite)\n",
    "\n",
    "&emsp;&emsp;[Sided limits](#limites_laterales)\n",
    "\n",
    "&emsp;&emsp;[Continuity](#continuidad)\n",
    "\n",
    "&emsp;[**Differentiation**](#derivacion)\n",
    "\n",
    "&emsp;&emsp;[Definition](#definicion)\n",
    "\n",
    "&emsp;&emsp;[Command <samp>diff</samp>](#comando-texttt-diff-)\n",
    "\n",
    "&emsp;&emsp;[Higher order derivatives](#derivadas-de-orden-superior)\n",
    "\n",
    "&emsp;&emsp;[Tangent line](#recta-tangente)\n",
    "\n",
    "&emsp;[**Exercises**](#ejercicios-propuestos)\n",
    "\n",
    "&emsp;[**Summary**](#resumen)\n",
    "\n",
    "&emsp;[**Solutions**](#soluciones)\n",
    "\n",
    "<a name=\"endToc\"></a>\n",
    "\n",
    "***\n"
   ]
  },
  {
   "cell_type": "markdown",
   "metadata": {},
   "source": [
    "As with previous notebooks, the `symbolic` package will be used. If you are running this code locally and already have it installed, there is no need to repeat this installation step:"
   ]
  },
  {
   "cell_type": "code",
   "execution_count": null,
   "metadata": {},
   "outputs": [],
   "source": [
    "pkg install \"https://downloads.sourceforge.net/project/octave/Octave%20Forge%20Packages/Individual%20Package%20Releases/symbolic-3.2.1.tar.gz\""
   ]
  },
  {
   "cell_type": "markdown",
   "metadata": {},
   "source": [
    "\n",
    "<a name=#limite></a>\n",
    "# Limit\n",
    "\n",
    "The **`limit`** command allows calculating the limit of a function, whether anonymous or symbolic:\n",
    "\n",
    "<pre>\n",
    "limit(f, var, a)             % limit of f when var -> a\n",
    "</pre>\n",
    "\n",
    "**Example:** We calculate the following limits:\n",
    "\n",
    "\n",
    "a) $\\displaystyle\\lim_{x\\to \\infty } \\dfrac{x^4 -x^3 +5}{3x^4 +x^2 -4x}$\n"
   ]
  },
  {
   "cell_type": "code",
   "execution_count": null,
   "metadata": {},
   "outputs": [],
   "source": [
    "pkg load symbolic\n",
    "clearvars\n",
    "syms x real                                       % define x as a symbolic var\n",
    "f = @(x)  (x^4 - x^3 + 5) / (3*x^4 + x^2 - 4*x);  % anonymous function\n",
    "L = limit(f(x), x, inf)"
   ]
  },
  {
   "cell_type": "markdown",
   "metadata": {},
   "source": [
    "\n",
    "To convert to decimal format we use the command <samp>double</samp>:"
   ]
  },
  {
   "cell_type": "code",
   "execution_count": null,
   "metadata": {},
   "outputs": [],
   "source": [
    "Lnum = double(L)"
   ]
  },
  {
   "cell_type": "markdown",
   "metadata": {},
   "source": [
    "\n",
    "b) $\\displaystyle\\lim_{x\\to 0} \\frac{(1-\\cos x)^2 }{2\\sin^4 x-\\sin^5 x}$\n",
    "\n",
    "\n",
    "Here we define $f(x)$ as an anonymous function:\n",
    "\n"
   ]
  },
  {
   "cell_type": "code",
   "execution_count": null,
   "metadata": {},
   "outputs": [],
   "source": [
    "f = @(x)  (1-cos(x))^2 / (2*sin(x)^4 - sin(x)^5);\n",
    "L = limit(f(x), x, 0)"
   ]
  },
  {
   "cell_type": "markdown",
   "metadata": {},
   "source": [
    "<a name=#limites_laterales></a>\n",
    "## One-sided limits\n",
    "\n",
    "The one-sided limits:\n",
    "\n",
    "- from the right: $\\displaystyle\\lim_{x\\to a+} f(x)=\\lim_{h\\to 0} f(a+h)\\textrm{,}\\;h>0$\n",
    "- from the left: $\\displaystyle\\lim_{x\\to a-} f(x)=\\lim_{h\\to 0} f(a-h)\\textrm{,}\\;h>0$\n",
    "\n",
    "Remember that **the limit of a function at a point exists if, and only if, the two side limits exist at that point and both coincide:**\n",
    "\n",
    "\n",
    "$$\\lim_{x\\to a} f(x)=\\ell \\Leftrightarrow \\lim_{x\\to a+} f(x)=\\lim_{x\\to a-} f(x)=\\ell$$\n",
    "<pre>\n",
    "limit(f, var, a, \"right\")    % one-sided limit from the right\n",
    "limit(f, var, a, \"left\")     % one-sided limit from the left\n",
    "</pre>\n",
    "\n",
    "\n",
    " **Example:** $\\displaystyle\\lim_{x\\to 0} \\frac{\\sin|x| }{x}$\n",
    "\n"
   ]
  },
  {
   "cell_type": "code",
   "execution_count": null,
   "metadata": {},
   "outputs": [],
   "source": [
    "clearvars\n",
    "syms x real\n",
    "f(x) = sin(abs(x)) / x;"
   ]
  },
  {
   "cell_type": "markdown",
   "metadata": {},
   "source": [
    "\n",
    "1. One-sided limit from the right:\n"
   ]
  },
  {
   "cell_type": "code",
   "execution_count": null,
   "metadata": {},
   "outputs": [],
   "source": [
    "L_der = limit(f(x), x, 0, 'right') "
   ]
  },
  {
   "cell_type": "markdown",
   "metadata": {},
   "source": [
    "\n",
    "2. One-sided limit from the left:"
   ]
  },
  {
   "cell_type": "code",
   "execution_count": null,
   "metadata": {},
   "outputs": [],
   "source": [
    "L_izq = limit(f, x, 0, 'left') ## limit(f(x), x, 0, 'left') is also accepted"
   ]
  },
  {
   "cell_type": "markdown",
   "metadata": {},
   "source": [
    "\n",
    "Both exist, but do not coincide. Therefore, the limit $\\displaystyle\\lim_{x\\to 0} \\frac{\\sin |x| }{x}$ does not exist:\n"
   ]
  },
  {
   "cell_type": "code",
   "execution_count": null,
   "metadata": {},
   "outputs": [],
   "source": [
    "L_der == L_izq"
   ]
  },
  {
   "cell_type": "markdown",
   "metadata": {},
   "source": [
    "***\n",
    "\n",
    "<a name=#continuidad></a>\n",
    "\n",
    "## Continuity\n",
    "\n",
    "From the calculation of limits we can study the continuity of a function. To do this, it is useful to know the command **`solve`**, which allows us to solve systems of equations. In the case of a single equation with a single unknown, its syntax is as follows:\n",
    "\n",
    "<pre>\n",
    "S = solve(eqn)\n",
    "</pre>\n",
    "\n",
    "\n",
    "***\n",
    " **Example:** We solve the equation $x^2 -5x-6=0$\n"
   ]
  },
  {
   "cell_type": "code",
   "execution_count": null,
   "metadata": {},
   "outputs": [],
   "source": [
    "syms x real\n",
    "raices1 = solve(x^2 - 5*x - 6 == 0)   % roots --> x = {-1,6}\n",
    "raices2 = solve(x^2 - 5*x - 6)        % the same as before (default call equals to zero)"
   ]
  },
  {
   "cell_type": "markdown",
   "metadata": {},
   "source": [
    "\n",
    "The <samp>solve</samp> command is designed to work with symbolic expressions. Therefore, in the case of anonymous functions, they should first be converted to symbolic type with the help of the <samp>sym</samp> command:"
   ]
  },
  {
   "cell_type": "code",
   "execution_count": null,
   "metadata": {},
   "outputs": [],
   "source": [
    "f = @(x)  x^2 - 5*x - 6;\n",
    "% roots = solve(f)       % not allowed --> yields error\n",
    "roots = solve(sym(f))    % allowed --> x = {0, 1/4}"
   ]
  },
  {
   "cell_type": "markdown",
   "metadata": {},
   "source": [
    "\n",
    "The result returned by `solve` is also a symbolic expression:\n",
    "\n"
   ]
  },
  {
   "cell_type": "code",
   "execution_count": null,
   "metadata": {},
   "outputs": [],
   "source": [
    "class(roots)"
   ]
  },
  {
   "cell_type": "markdown",
   "metadata": {},
   "source": [
    "To switch to decimal representation:"
   ]
  },
  {
   "cell_type": "code",
   "execution_count": null,
   "metadata": {},
   "outputs": [],
   "source": [
    "R = double(roots)  "
   ]
  },
  {
   "cell_type": "markdown",
   "metadata": {},
   "source": [
    "***\n",
    "\n",
    "**Example**: Study the continuity of the function $f(x)=\\frac{x}{x^2 -x}$\n",
    "\n",
    "\n",
    "1. Define the function:\n",
    "\n"
   ]
  },
  {
   "cell_type": "code",
   "execution_count": null,
   "metadata": {},
   "outputs": [],
   "source": [
    "clearvars\n",
    "syms x real\n",
    "f(x) =  x / (x^2 - x)"
   ]
  },
  {
   "cell_type": "markdown",
   "metadata": {},
   "source": [
    "\n",
    "2. We find the points of discontinuity: $f(x)$ is not defined at the points where the denominator cancels out:\n"
   ]
  },
  {
   "cell_type": "code",
   "execution_count": null,
   "metadata": {},
   "outputs": [],
   "source": [
    "discontinuities = double(solve(x^2 - x))"
   ]
  },
  {
   "cell_type": "markdown",
   "metadata": {},
   "source": [
    "\n",
    "\n",
    "3. To study whether the discontinuity is removable or not we calculate the limits:\n",
    "\n",
    "-  at $x=0:$\n"
   ]
  },
  {
   "cell_type": "code",
   "execution_count": null,
   "metadata": {},
   "outputs": [],
   "source": [
    "L1 = limit(f, x, discontinuities(1))"
   ]
  },
  {
   "cell_type": "markdown",
   "metadata": {},
   "source": [
    "\n",
    "The limit exists, so it is a removable discontinuity.\n",
    "\n",
    "-  at $x=1$ :\n"
   ]
  },
  {
   "cell_type": "code",
   "execution_count": null,
   "metadata": {},
   "outputs": [],
   "source": [
    "L2 = limit(f, x, discontinuities(2))"
   ]
  },
  {
   "cell_type": "markdown",
   "metadata": {},
   "source": [
    "\n",
    "The limit does not exist, so at $x=1$ the function has an infinite jump discontinuity. We can be more precise by analysing the one-sided limits:"
   ]
  },
  {
   "cell_type": "code",
   "execution_count": null,
   "metadata": {},
   "outputs": [],
   "source": [
    "L2_r = limit(f, x, discontinuities(2), 'right')"
   ]
  },
  {
   "cell_type": "code",
   "execution_count": null,
   "metadata": {},
   "outputs": [],
   "source": [
    "L2_l = limit(f, x, discontinuities(2), 'left')"
   ]
  },
  {
   "cell_type": "markdown",
   "metadata": {},
   "source": [
    "4. We plot the function and mark the point of removable discontinuity:"
   ]
  },
  {
   "cell_type": "code",
   "execution_count": null,
   "metadata": {},
   "outputs": [],
   "source": [
    "xvals = linspace(-3,5,100);\n",
    "yvals = xvals ./ (xvals .^ 2 - xvals);\n",
    "plot(xvals,yvals); hold on\n",
    "plot([1,1], [-30,30], 'r--'); ## Vertical asymptote (dashed red line)\n",
    "plot([-4,6], [0,0], 'k'); ## x axis\n",
    "plot(discontinuities(1), double(L1),'ro','markersize', 10) # Removable discontinuity point\n",
    "grid on\n",
    "hold off"
   ]
  },
  {
   "cell_type": "markdown",
   "metadata": {},
   "source": [
    "At the jump discontinuity point, there is a vertical asymptote."
   ]
  },
  {
   "cell_type": "markdown",
   "metadata": {},
   "source": [
    "\n",
    "\n",
    "***\n",
    "\n",
    "# Differentiation\n",
    "## Defininition\n",
    "\n",
    "The derivative of a function $f(x)$ at a point $a$ is given by the differential quotient:$~~\\displaystyle f^{\\prime } (a)=\\lim_{\\Delta x\\to 0} \\frac{f(a+\\Delta x)-f(a)}{\\Delta x}$\n",
    "\n",
    "Thus, we can calculate the derivative using its definition:\n",
    "\n",
    "<pre>\n",
    "syms x f(x) dx real\n",
    "df(x) = limit ((f(x+dx)-f(x))/dx, dx, 0)\n",
    "</pre>\n",
    "\n",
    "\n",
    "***\n",
    "\n",
    "## `diff` command\n",
    "\n",
    "But we can also use the <samp>diff</samp> function. Like <samp>limit, diff</samp> accepts both anonymous and symbolic functions:\n",
    "\n",
    "<pre>\n",
    "syms x f(x) dx real\n",
    "df(x) = diff(f,x)\n",
    "</pre>\n",
    "\n",
    "**Example**: Calculate $f^{\\prime } (x)\\;$ where $f(x)=x^4 -x^3 +5$ using both approaches:\n",
    "\n",
    "\n",
    "1. Define the function:\n",
    "\n"
   ]
  },
  {
   "cell_type": "code",
   "execution_count": null,
   "metadata": {},
   "outputs": [],
   "source": [
    "clearvars\n",
    "syms x real\n",
    "f(x) = (x^4 - x^3 + 5)   % symbolic function"
   ]
  },
  {
   "cell_type": "markdown",
   "metadata": {},
   "source": [
    "\n",
    "2. Derivative by its definition:\n"
   ]
  },
  {
   "cell_type": "code",
   "execution_count": null,
   "metadata": {},
   "outputs": [],
   "source": [
    "syms dx\n",
    "df1(x) = limit ((f(x+dx) - f(x))/dx, dx, 0)"
   ]
  },
  {
   "cell_type": "markdown",
   "metadata": {},
   "source": [
    "\n",
    "3. Derivative using command <samp>diff</samp>:\n"
   ]
  },
  {
   "cell_type": "code",
   "execution_count": null,
   "metadata": {},
   "outputs": [],
   "source": [
    "df2(x) = diff(f)"
   ]
  },
  {
   "cell_type": "markdown",
   "metadata": {},
   "source": [
    "Both options give the same result. To evaluate the derivative at a given point, for example $f'(a)$ at $a=4$:"
   ]
  },
  {
   "cell_type": "code",
   "execution_count": null,
   "metadata": {
    "tags": []
   },
   "outputs": [],
   "source": [
    "%% Evaluate f'(a):\n",
    "a=4;\n",
    "subs(df1(x),x,a)"
   ]
  },
  {
   "cell_type": "markdown",
   "metadata": {},
   "source": [
    "or:"
   ]
  },
  {
   "cell_type": "code",
   "execution_count": null,
   "metadata": {},
   "outputs": [],
   "source": [
    "df1(a)"
   ]
  },
  {
   "cell_type": "markdown",
   "metadata": {},
   "source": [
    "\n",
    "***\n",
    "\n",
    "## Higher order derivatives\n",
    "\n",
    "Higher order derivatives refer to the repeated derivative of a function. To calculate the higher order derivative:\n",
    "\n",
    "<pre>\n",
    "df(x) = diff (f, x, orden)\n",
    "</pre>\n",
    "\n",
    "For example, for the second derivative:\n"
   ]
  },
  {
   "cell_type": "code",
   "execution_count": null,
   "metadata": {},
   "outputs": [],
   "source": [
    "d2f(x) = diff(f, x, 2)"
   ]
  },
  {
   "cell_type": "markdown",
   "metadata": {},
   "source": [
    "\n",
    "**Exercise**: Calculate the derivatives of the function $f(x)=\\sin(x)$ up to fourth order. Prove that $f^{(4} (x)=f(x)$ .\n"
   ]
  },
  {
   "cell_type": "code",
   "execution_count": null,
   "metadata": {},
   "outputs": [],
   "source": [
    "% write your code here:\n",
    "\n"
   ]
  },
  {
   "cell_type": "markdown",
   "metadata": {},
   "source": [
    "\n",
    "\n",
    "Solution:\n"
   ]
  },
  {
   "cell_type": "code",
   "execution_count": null,
   "metadata": {},
   "outputs": [],
   "source": [
    "clearvars\n",
    "syms x real\n",
    "f(x) = sin(x);\n",
    "df(x) = diff(f)\n",
    "d2f(x) = diff(f, x, 2) \n",
    "d3f(x) = diff(f,x,3)\n",
    "d4f(x) = diff(f,x,4)"
   ]
  },
  {
   "cell_type": "markdown",
   "metadata": {},
   "source": [
    "\n",
    "\n",
    " **Example:** With $\\displaystyle f(x)=\\frac{\\sin(x)^4 }{x^2 +e^x }$ , calculate $f^{\\prime } (\\pi )$ and $f^{\\prime \\prime } (-4)$ :\n",
    "\n"
   ]
  },
  {
   "cell_type": "code",
   "execution_count": null,
   "metadata": {},
   "outputs": [],
   "source": [
    "clearvars\n",
    "syms x real\n",
    "\n",
    "f(x) =  sin(x)^4 / (x^2 + exp(x));  % symbolic function\n",
    "f_prima(x) = diff(f, x, 1);  % derivative order 1\n",
    "f_prima2(x) = diff(f, x, 2);  % derivative order 2\n",
    "\n",
    "f_prima_pi = double(f_prima(pi))  % f'(x=pi)\n",
    "f_prima2_4 = double(f_prima2(-4))  % f''(x=-4)"
   ]
  },
  {
   "cell_type": "markdown",
   "metadata": {},
   "source": [
    "***\n",
    "\n",
    "## Tangent and normal lines\n",
    "\n",
    "With what we have seen now we could calculate (and draw) the tangent and normal lines to a given curve.\n",
    "\n",
    "-  Tangent line: $\\displaystyle y-f(a)=f^{\\prime } (a)(x-a)$\n",
    "-  Normal line (perpendicular to the tangent line): $\\displaystyle y-f(a)=-\\frac{1}{f^{\\prime } (a)}(x-a)$\n",
    "\n",
    "***\n",
    "\n",
    "**Example:** Calculate the tangents to $f(x)=x^3 -3x$ that are parallel to the straight line $y=6x+10$ . Represent in the same figure $f(x)$ (in red) and the tangents found (with dashed line) in the domain $[-5,5]$ . Give a title and an appropriate legend.\n",
    "\n"
   ]
  },
  {
   "cell_type": "code",
   "execution_count": null,
   "metadata": {},
   "outputs": [],
   "source": [
    "clearvars\n",
    "syms x real\n",
    "f(x) = x^3 - 3*x;"
   ]
  },
  {
   "cell_type": "markdown",
   "metadata": {},
   "source": [
    "\n",
    "First order derivative:\n"
   ]
  },
  {
   "cell_type": "code",
   "execution_count": null,
   "metadata": {},
   "outputs": [],
   "source": [
    "df(x) = diff(f, x)  % order 1"
   ]
  },
  {
   "cell_type": "markdown",
   "metadata": {},
   "source": [
    "\n",
    "To find a tangent line to $f(x)$ that is parallel to the line $y=6x+10$ , we must find the point at which the derivative $f^{\\prime } (x)$ is equal to 6, since the slope of the tangent must coincide with the slope of the given line for them to be parallel.\n"
   ]
  },
  {
   "cell_type": "code",
   "execution_count": null,
   "metadata": {},
   "outputs": [],
   "source": [
    "a = double(solve(df == 6))"
   ]
  },
  {
   "cell_type": "markdown",
   "metadata": {},
   "source": [
    "\n",
    "There are two points. We find the tangent lines at each one:\n"
   ]
  },
  {
   "cell_type": "code",
   "execution_count": null,
   "metadata": {},
   "outputs": [],
   "source": [
    "rt1 = df(a(1))*(x-a(1)) + subs(f, a(1))  % eq. tangent line at x = a(1)\n",
    "rt2 = df(a(2))*(x-a(2)) + subs(f, a(2))  % eq. tangent line at x = a(1)\n",
    "fplot(f,[-5,5],'r');  hold on % plot f\n",
    "fplot(rt1,'k--');  % plot tangent at x = a(1)\n",
    "fplot(rt2,'b--');  % plot tangent at x = a(2)\n",
    "grid on\n",
    "legend('f(x)', 'TL1', 'TL2')\n",
    "xlabel('x axis'), ylabel('y axis')\n",
    "title('Tangent lines')\n",
    "hold off"
   ]
  },
  {
   "cell_type": "markdown",
   "metadata": {},
   "source": [
    "***\n",
    "\n",
    "# Exercises\n",
    "\n",
    "1. Use the expression $\\displaystyle \\frac{f(x+\\Delta x)-f(x)}{\\Delta x}$ to calculate an approximate value to $\\displaystyle \\frac{d}{dx}\\left(\\frac{\\ln (1+x^2 )}{\\sin^2 x}\\right)$ at $x_0 =1$ taking $\\Delta x=\\lbrace 0.1;0.05;0.0025\\rbrace \\textrm{.}$\n",
    "\n",
    "\n",
    "Then calculate the exact value of the derivative using the <samp>limit</samp> and <samp>diff</samp> commands. Compare the approximations obtained with the exact value in terms of percentage error. $\\displaystyle\\left(\\left|\\frac{value_{aprox} -value_{exact} }{value_{exact} }\\right|\\cdot 100\\%\\right)$ .\n"
   ]
  },
  {
   "cell_type": "code",
   "execution_count": null,
   "metadata": {},
   "outputs": [],
   "source": [
    "% write your code here:\n",
    "\n"
   ]
  },
  {
   "cell_type": "markdown",
   "metadata": {},
   "source": [
    "\n",
    "Solution:\n"
   ]
  },
  {
   "cell_type": "code",
   "execution_count": null,
   "metadata": {},
   "outputs": [],
   "source": [
    "solutions(1)"
   ]
  },
  {
   "cell_type": "markdown",
   "metadata": {},
   "source": [
    "\n",
    "2. Find the point $P$ where the functions $\\displaystyle f(x)=\\dfrac{2}{x}$ and $\\displaystyle g(x)=\\sqrt{x^2 -3}$ intersect. Represent in the same figure $f$ (in red) and $g(x)$ (in blue) in $[0,5]\\times [0,3]$ . Give a legend identifying each curve and a title. Find the equation of the tangent to each curve at $P$, draw both lines (in the same colour as the corresponding curve but in dashed line) and check that they are perpendicular.\n"
   ]
  },
  {
   "cell_type": "code",
   "execution_count": null,
   "metadata": {},
   "outputs": [],
   "source": [
    "% write your code here:\n",
    "\n"
   ]
  },
  {
   "cell_type": "markdown",
   "metadata": {},
   "source": [
    "\n",
    "Solution:\n"
   ]
  },
  {
   "cell_type": "code",
   "execution_count": null,
   "metadata": {},
   "outputs": [],
   "source": [
    "solutions(2)"
   ]
  },
  {
   "cell_type": "markdown",
   "metadata": {},
   "source": [
    "\n",
    "3. Represent the graph of the circle $x^2 +y^2 +2y=9$ in black and with a thick line. Find all the tangent and normal lines to the circle at the point $x_0 =2$ and represent them in dashed line in the domain $[-6,6]\\times [-8,8]$ . Give a title.\n"
   ]
  },
  {
   "cell_type": "code",
   "execution_count": null,
   "metadata": {},
   "outputs": [],
   "source": [
    "% write your code here:\n",
    "\n"
   ]
  },
  {
   "cell_type": "markdown",
   "metadata": {},
   "source": [
    "\n",
    "Solution:\n"
   ]
  },
  {
   "cell_type": "code",
   "execution_count": null,
   "metadata": {},
   "outputs": [],
   "source": [
    "solutions(3)"
   ]
  },
  {
   "cell_type": "markdown",
   "metadata": {},
   "source": [
    "***\n",
    "# Summary\n",
    "\n",
    "## Limit\n",
    "\n",
    "-  [**<samp>limit</samp>**](https://octave.sourceforge.io/symbolic/function/@sym/limit.html)**:** It is used to calculate the limit (and lateral limits) of a function, whether anonymous or symbolic.\n",
    "-  [**<samp>solve</samp>**](https://octave.sourceforge.io/symbolic/function/@sym/solve.html)**:** It is used to solve symbolic equations (e.g. to find points of discontinuity in the function).\n",
    "\n",
    "## Differentiation\n",
    "\n",
    "-  [**<samp>diff</samp>**](https://octave.sourceforge.io/symbolic/function/@sym/diff.html)**:** Calculates the derivative of a function symbolically. It also allows the calculation of higher order derivatives.\n",
    "\n",
    "\n",
    "***\n",
    "# Solutions"
   ]
  },
  {
   "cell_type": "code",
   "execution_count": null,
   "metadata": {},
   "outputs": [],
   "source": [
    "function [] = solutions(n)\n",
    "switch n\n",
    "    case 1\n",
    "        % Exercise 1:\n",
    "        fprintf(\"Exercise 1:\\n\");\n",
    "        syms x real\n",
    "        f(x) = log(1+x^2)/sin(x)^2;\n",
    "        x0 = 1;\n",
    "        df(x) = diff(f);\n",
    "        df_exacto = double(df(x0));\n",
    "        for dx = [0.1, 0.05, 0.0025]\n",
    "            df_aprox = double(( f(x0+dx) - f(x0))/dx);\n",
    "            error = abs( (df_aprox - df_exacto)/df_exacto)*100;\n",
    "            fprintf(\"dx = %.4f: df_aprox(1) = %.4f, error = %.2f %%\\n\",dx,df_aprox,error)\n",
    "        end\n",
    "    case 2\n",
    "        % Exercise 2:\n",
    "        fprintf(\"Exercise 2:\\n\");\n",
    "        syms x real\n",
    "        f(x) = 2/x;\n",
    "        g(x) = sqrt(x^2-3);\n",
    "        fplot(f,[0 5],'r')\n",
    "        hold on\n",
    "        fplot(g,[0,5],'b')\n",
    "\n",
    "        df(x) = diff(f);\n",
    "        dg(x) = diff(g);\n",
    "        P = solve(f-g);\n",
    "        rt1(x) = df(P)*(x-P) + f(P);\n",
    "        rt2(x) = dg(P)*(x-P) + g(P);\n",
    "\n",
    "        fplot(rt1,[0 5],'r--')\n",
    "        fplot(rt2,[0,5],'b--')\n",
    "\n",
    "        axis equal\n",
    "        ylim ([0 3])\n",
    "        grid on\n",
    "        legend('f(x)','g(x)','TL(f)','TL(g)')\n",
    "        hold off\n",
    "    case 3\n",
    "        syms x y\n",
    "        f(x,y) = x^2 + y^2 +2*y-9;\n",
    "        h = ezplot(f,[-6 6 -8 8]);\n",
    "        axis equal\n",
    "        grid on\n",
    "        hold on\n",
    "        y = solve(f,y); % we clear y\n",
    "        y1(x) = y(1);\n",
    "        y2(x) = y(2);\n",
    "        dy1 = diff(y1);\n",
    "        dy2 = diff(y2);\n",
    "        x0 = 2;\n",
    "        rt1(x) = dy1(x0)*(x-x0) + y1(x0);\n",
    "        rt2(x) = dy2(x0)*(x-x0) + y2(x0);\n",
    "        rn1(x) = -1/dy1(x0)*(x-x0) + y1(x0);\n",
    "        rn2(x) = -1/dy2(x0)*(x-x0) + y2(x0);\n",
    "        fplot(rt1,'r--')\n",
    "        fplot(rt2,'b--')\n",
    "        fplot(rn1,'r-')\n",
    "        fplot(rn2,'b-')\n",
    "        title('Exercise 3')\n",
    "        hold off\n",
    "    end\n",
    "end"
   ]
  },
  {
   "cell_type": "code",
   "execution_count": null,
   "metadata": {},
   "outputs": [],
   "source": []
  }
 ],
 "metadata": {
  "kernelspec": {
   "display_name": "Octave",
   "language": "octave",
   "name": "octave"
  },
  "language_info": {
   "file_extension": ".m",
   "help_links": [
    {
     "text": "GNU Octave",
     "url": "https://www.gnu.org/software/octave/support.html"
    },
    {
     "text": "Octave Kernel",
     "url": "https://github.com/Calysto/octave_kernel"
    },
    {
     "text": "MetaKernel Magics",
     "url": "https://metakernel.readthedocs.io/en/latest/source/README.html"
    }
   ],
   "mimetype": "text/x-octave",
   "name": "octave",
   "version": "7.1.0"
  }
 },
 "nbformat": 4,
 "nbformat_minor": 4
}
