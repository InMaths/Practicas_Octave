{
 "cells": [
  {
   "cell_type": "markdown",
   "id": "ec984c81",
   "metadata": {},
   "source": [
    "<img src=\"../figs/logoIC.png\" width=\"585\" alt=\"image_0.png\">\n",
    "\n",
    "# Calculus (G2007) - Civil Engineering\n",
    "\n",
    "#### Joaquín Bedia* (<bediaj@unican.es>)\n",
    "\n",
    "##### *Universidad de Cantabria, Dept. of Applied Mathematics and Computing Science\n",
    "\n",
    "<!--\n",
    "<a name=\"T_55FB4C11\"></a>\n",
    "-->\n",
    "\n",
    "***\n",
    "\n",
    "# <span style=\"color:rgb(213,80,0)\">**Quick tutorial: Plotting data in Octave**</span>\n",
    "\n",
    "<p style=\"text-align:left\">\n",
    "   <img src=\"https://upload.wikimedia.org/wikipedia/commons/thumb/6/6a/Gnu-octave-logo.svg/240px-Gnu-octave-logo.svg.png\" width=\"75\">\n",
    "</p>\n",
    "\n",
    "***\n",
    "<a name=\"beginToc\"></a>\n",
    "\n",
    "\n",
    "## Contents\n",
    "\n",
    "&emsp;[Basic example](#H1)\n",
    "\n",
    "&emsp;[Plot options](#H2)\n",
    "\n",
    "&emsp;&emsp;[Types of lines, points and colors](#H21)\n",
    "\n",
    "&emsp;&emsp;[Axes labels, legend and title](#H22)\n",
    "\n",
    "&emsp; [Plotting sequences and series](#H3)\n",
    "\n",
    "&emsp;&emsp; [Sequences](#H31)\n",
    "\n",
    "&emsp;&emsp; [Partial sums](#H32)\n",
    "\n",
    "&emsp;[Multiple plots in the same window](#H4)\n",
    "\n",
    "&emsp;[Plots using `ezplot`](#H5)\n",
    "\n",
    "&emsp;&emsp; [Anonymous functins](#H51)\n",
    "\n",
    "&emsp;[Exercises](#H6)\n",
    "\n",
    "&emsp;[Summary](#H7)\n",
    "\n",
    "\n",
    "<a name=\"endToc\"></a>\n",
    "\n",
    "***\n"
   ]
  },
  {
   "cell_type": "markdown",
   "id": "6e8daf53",
   "metadata": {},
   "source": [
    "Octave has powerful functions for plotting plots, using the open source [GNUPLOT](http://www.gnuplot.info/) program. The basic command is `plot(x, y)`, where `x` and `y` are the coordinates. If only a pair of numbers is given, a point is plotted.\n",
    "\n",
    "However, normally you pass `x` and `y` vectors, and plot all the points given by the two vectors, joining them with straight lines for continuous functions. Depending on the density of points and the type of line chosen, we can obtain graphs with the appearance of *continuity* in the case of continuous functions, or point plots for instance for plotting sequences and series. Here are some examples:"
   ]
  },
  {
   "cell_type": "markdown",
   "id": "9c30bb63",
   "metadata": {},
   "source": [
    "<a name=#H1></a>\n",
    "\n",
    "## Basic example"
   ]
  },
  {
   "cell_type": "markdown",
   "id": "9ee6cc06",
   "metadata": {},
   "source": [
    "Let's start by representing the parabola $f(x)=x^2$ in the interval $[0,1]$. To do this, we first generate the coordinates in x. A very useful function for this is `linspace`:"
   ]
  },
  {
   "cell_type": "code",
   "execution_count": 1,
   "id": "cfe1db76",
   "metadata": {},
   "outputs": [
    {
     "name": "stdout",
     "output_type": "stream",
     "text": [
      "x =\n",
      "\n",
      " Columns 1 through 8:\n",
      "\n",
      "        0   0.1000   0.2000   0.3000   0.4000   0.5000   0.6000   0.7000\n",
      "\n",
      " Columns 9 through 11:\n",
      "\n",
      "   0.8000   0.9000   1.0000\n",
      "\n"
     ]
    }
   ],
   "source": [
    "x=linspace(0,1,11)"
   ]
  },
  {
   "cell_type": "markdown",
   "id": "ec9aa626",
   "metadata": {},
   "source": [
    "The vector `x` just created represents a partition of the interval $[0,1]$ into 10 equispaced subintervals*. \n",
    "***\n",
    "***Note**: We refer to this vector as a _regular partition_.\n",
    "***\n",
    "\n",
    "An alternative is to define the vector using standard Octave/MatLab notation, indicating a sequence from $0$ to $1$ every $0.1$. In this case it is very simple, but more often using `linspace` will give us more freedom to generate regular partitions in any interval:"
   ]
  },
  {
   "cell_type": "code",
   "execution_count": 2,
   "id": "d4377770",
   "metadata": {},
   "outputs": [
    {
     "name": "stdout",
     "output_type": "stream",
     "text": [
      "ans =\n",
      "\n",
      " Columns 1 through 8:\n",
      "\n",
      "         0    0.1000    0.2000    0.3000    0.4000    0.5000    0.6000    0.7000\n",
      "\n",
      " Columns 9 through 11:\n",
      "\n",
      "    0.8000    0.9000    1.0000\n",
      "\n"
     ]
    }
   ],
   "source": [
    "% Alternative to generate the partition of the interval [0,1].\n",
    "0:.1:1"
   ]
  },
  {
   "cell_type": "markdown",
   "id": "f43b591b",
   "metadata": {},
   "source": [
    "Now we evaluate these values of $x$ with the function $f(x)=x^2$, and store them in the vector `y`:"
   ]
  },
  {
   "cell_type": "code",
   "execution_count": 3,
   "id": "72d4629e",
   "metadata": {},
   "outputs": [
    {
     "name": "stdout",
     "output_type": "stream",
     "text": [
      "y =\n",
      "\n",
      " Columns 1 through 8:\n",
      "\n",
      "        0   0.0100   0.0400   0.0900   0.1600   0.2500   0.3600   0.4900\n",
      "\n",
      " Columns 9 through 11:\n",
      "\n",
      "   0.6400   0.8100   1.0000\n",
      "\n"
     ]
    }
   ],
   "source": [
    "y=x.^2"
   ]
  },
  {
   "cell_type": "markdown",
   "id": "d693ab40",
   "metadata": {},
   "source": [
    "***\n",
    "**Note**: Note the use of the dot before the exponent symbol `.^`. This tells Octave to calculate the square of each individual value of the vector `x`. The command `y=x.*x` would also work, but `x*x` will give an error message because the dimensions of the vector `x` do not allow the matrix product.\n",
    "***"
   ]
  },
  {
   "cell_type": "markdown",
   "id": "677b8b54",
   "metadata": {},
   "source": [
    "We can now plot the graph:"
   ]
  },
  {
   "cell_type": "code",
   "execution_count": 4,
   "id": "3a098f3e",
   "metadata": {},
   "outputs": [],
   "source": [
    "plot(x,y)"
   ]
  },
  {
   "cell_type": "markdown",
   "id": "16cb4f8e",
   "metadata": {},
   "source": [
    "We now have a window containing the graph of $y = x^2$ from $x = 0$ to $x = 1$, which uses a thin blue line to connect the points. This is the default plot style in Octave. To change the appearance of the plot, we need to add additional arguments to the `plot` command.\n",
    "For example, we can change the plot to appear as a red line:"
   ]
  },
  {
   "cell_type": "code",
   "execution_count": null,
   "id": "a7f879ce",
   "metadata": {},
   "outputs": [],
   "source": [
    "plot(x,y,'r')"
   ]
  },
  {
   "cell_type": "markdown",
   "id": "b2ebe2f7",
   "metadata": {},
   "source": [
    "Or a green line connecting the points by circles:"
   ]
  },
  {
   "cell_type": "code",
   "execution_count": null,
   "id": "70137b2e",
   "metadata": {},
   "outputs": [],
   "source": [
    "plot(x,y,'g-o')"
   ]
  },
  {
   "cell_type": "markdown",
   "id": "70c1ca46",
   "metadata": {},
   "source": [
    "and many other additional options... we briefly describe some of them below:"
   ]
  },
  {
   "cell_type": "markdown",
   "id": "85d78603",
   "metadata": {},
   "source": [
    "<a name=#H2></a>\n",
    "## Plot options"
   ]
  },
  {
   "cell_type": "markdown",
   "id": "828b0fa4",
   "metadata": {},
   "source": [
    "<a name=#H21></a>\n",
    "### Types of lines, dots and colors"
   ]
  },
  {
   "cell_type": "markdown",
   "id": "20d68916",
   "metadata": {},
   "source": [
    "Various graphical parameters can be changed using the `plot` function, which has the following implementation:\n",
    "\n",
    "`plot(x,t,'[colour][linestyle][marker]','linewidth', [n])`     where:\n",
    "\n",
    "* `[colour]`: Line color. Basic options are `'b'`, `'r'`, `'k'` or `'g'` (blue, red, black or green), [although there are many others](https://docs.octave.org/latest/Colors.html)...\n",
    "* `[linestyle]`: Specifies the line style. `'-'`, `'--'` or `' '`(blank space) are examples of solid line, dashed line or no line respectively. (**Note**: the no line option will only work if a `marker` is specified (i.e. point type).\n",
    "* `[marker]`: Specify marker (type of point). Usual values are `' '`(blank space), `'*'` (asterisks)  `'o'` (circles).\n",
    "* `[n]`: Specify the line width (default to 0.5)."
   ]
  },
  {
   "cell_type": "markdown",
   "id": "dee430c9",
   "metadata": {},
   "source": [
    "Values can be chosen only for some of the options. If nothing is indicated for any option, the default values shall be used. For example:"
   ]
  },
  {
   "cell_type": "code",
   "execution_count": null,
   "id": "c579e9a8",
   "metadata": {},
   "outputs": [],
   "source": [
    "## Suitable option for graphing sequences:\n",
    "plot(x,y,'o')"
   ]
  },
  {
   "cell_type": "code",
   "execution_count": null,
   "id": "0dad395e",
   "metadata": {},
   "outputs": [],
   "source": [
    "## Red points\n",
    "plot(x,y,'ro')"
   ]
  },
  {
   "cell_type": "code",
   "execution_count": null,
   "id": "9cdd1ecb",
   "metadata": {},
   "outputs": [],
   "source": [
    "## Graph of xy as a blue (b), dashed line (--) of thickness 3:\n",
    "plot(x,y,'b--','linewidth',3)"
   ]
  },
  {
   "cell_type": "markdown",
   "id": "242f3fa3",
   "metadata": {},
   "source": [
    "<a name=#H22></a>\n",
    "### Axes labels, legend and title"
   ]
  },
  {
   "cell_type": "code",
   "execution_count": null,
   "id": "a799c560",
   "metadata": {},
   "outputs": [],
   "source": [
    "plot(x,y,'b','linewidth', 2)\n",
    "grid on; # reference grid on plot backgroud\n",
    "xlabel('x'); # Title of X-axis\n",
    "ylabel('y'); # Title of Y-axis\n",
    "title('Graph example: y=x^2 in the interval [0,1]'); # Title of the plot\n",
    "legend('f(x)=x^2','location','northwest'); # Legend of top left corner ('northwest')"
   ]
  },
  {
   "cell_type": "markdown",
   "id": "05c89bbd",
   "metadata": {},
   "source": [
    "<a name=#H3></a>\n",
    "## Plotting sequences and series"
   ]
  },
  {
   "cell_type": "markdown",
   "id": "d6ad0b32",
   "metadata": {},
   "source": [
    "<a name=#H31></a>\n",
    "### Sequences"
   ]
  },
  {
   "cell_type": "code",
   "execution_count": null,
   "id": "23ad2341",
   "metadata": {},
   "outputs": [],
   "source": [
    "n = 1:1:20"
   ]
  },
  {
   "cell_type": "markdown",
   "id": "37a4f6fd",
   "metadata": {},
   "source": [
    "Dot plots are particularly suitable for graphing sequences or series. This would be the graphical representation of the first 20 terms of the alternating sequence \n",
    "$$a_n=\\displaystyle (-1)^n\\frac{1}{n}$$\n",
    "\n",
    "We represent the points (`'o'`) in blue color (`'b'`):"
   ]
  },
  {
   "cell_type": "code",
   "execution_count": null,
   "id": "2a8f183f",
   "metadata": {},
   "outputs": [],
   "source": [
    "an = (-1).^n .* (1./n);\n",
    "plot(n,an,'bo')"
   ]
  },
  {
   "cell_type": "markdown",
   "id": "a1e37086",
   "metadata": {},
   "source": [
    "We can appreciate from the graph the convergent nature of this sequence, since as we know its limit is zero; remember that according to the absolute value theorem:\n",
    "\n",
    "$$\\lim\\limits_{n\\rightarrow\\infty}\\left|(-1)^n\\frac{1}{n}\\right|=0~~\\Rightarrow~~\\lim\\limits_{n\\rightarrow\\infty}(-1)^n\\frac{1}{n} = 0$$\n"
   ]
  },
  {
   "cell_type": "markdown",
   "id": "0c33d533",
   "metadata": {},
   "source": [
    "<a name=#H32></a>\n",
    "### Partial sums"
   ]
  },
  {
   "cell_type": "markdown",
   "id": "baef4050",
   "metadata": {},
   "source": [
    "The `cumsum` function performs a cumulative sum of the previous terms, which allows the calculation and representation of partial sums immediately. For example, this would be the 50-th partial sum originating from the above sequence:\n",
    "$$\n",
    "\\sum_{n=1}^{50}(-1)^n\\frac{1}{n}\n",
    "$$\n",
    "We can calculate the 50-th partial sum with `sum`:"
   ]
  },
  {
   "cell_type": "code",
   "execution_count": null,
   "id": "8e97fb6a",
   "metadata": {},
   "outputs": [],
   "source": [
    "n = 1:1:50; % naturals from 1 to 50\n",
    "an = (-1).^n .* (1./n); % sum of the first 50 terms\n",
    "sum(an)"
   ]
  },
  {
   "cell_type": "markdown",
   "id": "6fd865bb",
   "metadata": {},
   "source": [
    "We next represent the partial sum from the first to the 50th term with `cumsum`:"
   ]
  },
  {
   "cell_type": "code",
   "execution_count": null,
   "id": "1b94d69c",
   "metadata": {},
   "outputs": [],
   "source": [
    "sum_an = cumsum(an); % cumulative sum\n",
    "plot(n, sum_an, 'b-o')"
   ]
  },
  {
   "cell_type": "markdown",
   "id": "f8984c10",
   "metadata": {},
   "source": [
    "The graph allows us to intuit the convergence of the infinite sum. This is the alternating harmonic series, which is convergent as we know from theory (it can be verified through Leibniz's Theorem). The convergence value tends to a value close to -0.7, as can be seen in the graph (this value is exactly $-log(2)$)."
   ]
  },
  {
   "cell_type": "markdown",
   "id": "252b1f50",
   "metadata": {},
   "source": [
    "<a name=#H4></a>\n",
    "## Multiple plots in the same window"
   ]
  },
  {
   "cell_type": "markdown",
   "id": "61a4b5f1",
   "metadata": {},
   "source": [
    "In the following example we plot the functions $f(x)=cos(x)$ and $g(x)=sin(x)$ on the same graph, in the interval $[0,2\\pi]$.\n",
    "\n",
    "The key is the `hold on` command, which adds whatever we plot to the currently active window. Once the plot is finished, it is deactivated with `hold off`, as shown in the following example:"
   ]
  },
  {
   "cell_type": "code",
   "execution_count": null,
   "id": "1d1fbb37",
   "metadata": {},
   "outputs": [],
   "source": [
    "% Define x range [0, 2pi]\n",
    "x = linspace(0, 2*pi, 100);\n",
    "\n",
    "% Calculate function y values\n",
    "y1 = sin(x);\n",
    "y2 = cos(x);\n",
    "\n",
    "% Plot functions\n",
    "plot(x, y1, 'r', 'LineWidth', 2); % Sine in red\n",
    "hold on;\n",
    "plot(x, y2, 'b', 'LineWidth', 2); % Cosine in blue\n",
    "hold off;\n",
    "\n",
    "% Add labels and title\n",
    "xlabel('x');\n",
    "ylabel('y');\n",
    "title('Graphs of the functions sine and cosine [0, 2pi]');\n",
    "legend('sin(x)', 'cos(x)');\n",
    "grid on;"
   ]
  },
  {
   "cell_type": "markdown",
   "id": "ca7356ff",
   "metadata": {},
   "source": [
    "<a name=#H5></a>\n",
    "## Plots with `ezplot`"
   ]
  },
  {
   "cell_type": "markdown",
   "id": "aa92fdd6",
   "metadata": {},
   "source": [
    "First of all, we delete the workspace and the open graphic windows. To do this, we enter the following commands:"
   ]
  },
  {
   "cell_type": "code",
   "execution_count": null,
   "id": "818ad58b",
   "metadata": {},
   "outputs": [],
   "source": [
    "clear all; clf; %% 'clf' yields error in Binder, because it does not open new graphic windows but draws ‘inline’."
   ]
  },
  {
   "cell_type": "markdown",
   "id": "20626aa4",
   "metadata": {},
   "source": [
    "* The `clear all` command clears all existing variables and other items from the work area; it also frees system memory.\n",
    "* The `clf` command clears the current figure window.\n",
    "This practice of clearing the workspace is highly recommended whenever we start a new set of operations in Octave.\n",
    "\n",
    "Alternatively, we can use the [`ezplot`](https://octave.sourceforge.io/octave/function/ezplot.html) function, which works in a different way from what we have seen so far. The `ezplot` function in Octave is used to plot 2D curves in a simple way. It can handle functions of one or two variables, and allows to specify the domain of the plot. It is especially useful for representing symbolic functions or functions defined by mathematical expressions."
   ]
  },
  {
   "cell_type": "markdown",
   "id": "45c181ae",
   "metadata": {},
   "source": [
    "<a name=#H51></a>\n",
    "### Anonymous functions"
   ]
  },
  {
   "cell_type": "markdown",
   "id": "2694ef01",
   "metadata": {},
   "source": [
    "For example, if before we represented the parabola $f(x)=x^2$ by generating pairs of values in $x$ and $y$ within an interval of X, with `ezplot` we can define $f(x)$ as an _anonymous function_ as follows:"
   ]
  },
  {
   "cell_type": "code",
   "execution_count": null,
   "id": "af87486a",
   "metadata": {},
   "outputs": [],
   "source": [
    "f = @(x) x.^2"
   ]
  },
  {
   "cell_type": "markdown",
   "id": "61803048",
   "metadata": {},
   "source": [
    "Which indicates that $f$ is a function of x (denoted by the `@` sign) defined as $x^2$. Thus, the function can be evaluated directly for a given set of values:"
   ]
  },
  {
   "cell_type": "code",
   "execution_count": null,
   "id": "6ba6b90a",
   "metadata": {},
   "outputs": [],
   "source": [
    "f(4) % Evaluates the function for x=4"
   ]
  },
  {
   "cell_type": "code",
   "execution_count": null,
   "id": "6dd6c544",
   "metadata": {},
   "outputs": [],
   "source": [
    "f(linspace(-10,10,100)); % Evaluates the function in 100 equispaced points within the interval [-10,10]."
   ]
  },
  {
   "cell_type": "markdown",
   "id": "779efad5",
   "metadata": {},
   "source": [
    "***\n",
    "**Note**: The _anonymous functions_ are useful for quickly and easily defining functions without the need to create a separate file.\n",
    "***\n",
    "\n",
    "The definition of anonymous functions is advantageous for plotting functions in any domain of your choice, directly by calling `ezplot`, without worrying about defining any partition in X beforehand:"
   ]
  },
  {
   "cell_type": "code",
   "execution_count": null,
   "id": "d027724e",
   "metadata": {},
   "outputs": [],
   "source": [
    "% Plot the function using ezplot\n",
    "ezplot(f, [0, 1]);"
   ]
  },
  {
   "cell_type": "markdown",
   "id": "5beff577",
   "metadata": {},
   "source": [
    "To customise these graphs in terms of colour, stroke type and thickness etc., we must update the generated graph with the `set` function. For example, to represent the _cardinal sine function_ $\\displaystyle f(x)=\\frac{\\sin(x)}{x}$\n"
   ]
  },
  {
   "cell_type": "code",
   "execution_count": null,
   "id": "259abee3",
   "metadata": {},
   "outputs": [],
   "source": [
    "f = @(x) sin(x) ./ x;\n",
    "h = ezplot(f, [-15, 15]); % Plot the function within the interval [-15,15]\n",
    "set(h, 'LineWidth', 2); % Adjust line width\n",
    "set(h, 'Color', 'r'); % Change line color to red "
   ]
  },
  {
   "cell_type": "markdown",
   "id": "f317b9ae",
   "metadata": {},
   "source": [
    "We can also add title, caption, grid etc. as before:"
   ]
  },
  {
   "cell_type": "code",
   "execution_count": null,
   "id": "c3d98b7b",
   "metadata": {},
   "outputs": [],
   "source": [
    "h = ezplot(f, [-15, 15]);\n",
    "% Add axis labels and title\n",
    "xlabel('x');\n",
    "ylabel('y');\n",
    "title('Gráfica de la función seno cardinal');\n",
    "% Add legend\n",
    "legend('sinc(x)');\n",
    "% Add reference grid\n",
    "grid on;"
   ]
  },
  {
   "cell_type": "markdown",
   "id": "57aabaee",
   "metadata": {},
   "source": [
    "<a name=#H6></a>\n",
    "## Exercises"
   ]
  },
  {
   "cell_type": "markdown",
   "id": "e6dd3744",
   "metadata": {},
   "source": [
    "* Draw the function $\\displaystyle f(x)=e^{-x^2}~,~~0\\leq x\\leq 1$. Use 20 subintervals of the x-axis. Represent the curve with a black line thicker than the default value. Add a reference grid and title the graph ‘Gaussian’. \n",
    "* Repeat the exercise with the `ezplot` function.\n",
    "\n",
    "***\n",
    "**Note**: Remember that you can define the exponential function with the `exp` function.\n",
    "***"
   ]
  },
  {
   "cell_type": "markdown",
   "id": "86313b83",
   "metadata": {},
   "source": [
    "<a name=#H7></a>\n",
    "## Summary"
   ]
  },
  {
   "cell_type": "markdown",
   "id": "24b849de",
   "metadata": {},
   "source": [
    "1. The basic plotting command in Octave is `plot(x,y)`, which has the following options: `plot(x,t,‘[colour][linestyle][marker]’,‘linewidth’, [n])`.\n",
    "2. `legend`, `title`, `xlabel`, `ylabel` are also useful commands to modify the default appearance of the chart.\n",
    "3. `grid on` adds a reference grid at the bottom of the chart when called with an open chart window.\n",
    "4. `hold on` adds new elements to the active window, until `hold off` is called, which frees the chart to avoid adding more elements accidentally.\n",
    "5. Alternatively, we can use the [ezplot](https://octave.sourceforge.io/octave/function/ezplot.html) function. In this case, we do not define vectors with x-y point pairs, but directly define an **anonymous function** and draw it on a given domain.\n",
    "6. Graphical windows can be closed with the command `clf`."
   ]
  }
 ],
 "metadata": {
  "kernelspec": {
   "display_name": "Octave",
   "language": "octave",
   "name": "octave"
  },
  "language_info": {
   "file_extension": ".m",
   "help_links": [
    {
     "text": "GNU Octave",
     "url": "https://www.gnu.org/software/octave/support.html"
    },
    {
     "text": "Octave Kernel",
     "url": "https://github.com/Calysto/octave_kernel"
    },
    {
     "text": "MetaKernel Magics",
     "url": "https://metakernel.readthedocs.io/en/latest/source/README.html"
    }
   ],
   "mimetype": "text/x-octave",
   "name": "octave",
   "version": "7.1.0"
  }
 },
 "nbformat": 4,
 "nbformat_minor": 5
}
